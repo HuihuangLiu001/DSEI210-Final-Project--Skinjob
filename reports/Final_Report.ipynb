{
  "cells": [
    {
      "cell_type": "markdown",
      "metadata": {
        "id": "GML0uNJJC3Qr"
      },
      "source": [
        "#**Final Report**"
      ]
    },
    {
      "cell_type": "markdown",
      "metadata": {
        "id": "FwicSKrEC_Xr"
      },
      "source": [
        "## Title: New Era Of Data Model Pathology"
      ]
    },
    {
      "cell_type": "markdown",
      "metadata": {
        "id": "9PECsHfGDDOn"
      },
      "source": [
        "## Abstract\n",
        "Skin cancer misdiagnosis by dermatologists is not uncommon. 25-33% of the skin cancers are incorrectly diagnosed as eczema or another less serious disease. Ultimately, the problem would lead us to ask whether machine learning models can be designed and implemented and to the extent which model can effectively classify if a patient developed skin cancer based on photographs of skin lesions on dermatologic slides. Early skin maligicancy is important because screening for earlier skin cancer detection remains limited, which leads to late diagnoses in most cases. Accurate skin cancer detection at earlier stage in patients show improved survival, clinical outcomes, and quality of life. \n",
        "Discoveries: 2-3\n",
        "Linear -logistics\n",
        "SVM\n",
        "DNN/CNN"
      ]
    },
    {
      "cell_type": "markdown",
      "metadata": {
        "id": "mia0pbMlDG1E"
      },
      "source": [
        "## Introduction"
      ]
    },
    {
      "cell_type": "markdown",
      "metadata": {
        "id": "gMgIG72EJDgo"
      },
      "source": [
        "The research question for this project is: can machine learning models be designed and implemented to effectively classify if a patient developed skin cancer based on photographs of skin lesions on dermatologic slides. To the extent which model serves the best in classifying skin leisions as benign and malignant using series of metrics. Early skin maligicancy is important because screening for earlier skin cancer detection remains limited, which leads to late diagnoses in most cases. Accurate skin cancer detection at earlier stage in patients by dermatologists and pathologists show improved survival, clinical outcomes, and quality of life. Research plan includes initial exploratory data analysis to investigate data patterns,anomalies, and to test hypothesis and to check assumptions with the help of summary statistics and graphical representations. We will develop basic linear and logistic models, SVM, DNN, CNN models. We did not achieve high linear and logistic model accuracy, CNN accuracy was higher than the DNN. SVM - still attempting. Data cleaning includes fill in missing age column with the average for the age column, we also detected that the data labels are imbalanced due to the fact that skin cancers are rare occurence relative to the overal general population. Therefore, initial data cleaning and preparation allows us to develop approches in combating data imblance, such as resampling techniques. \n",
        "\n",
        "The dataset we use is \"Skin Cancer MNIST: Ham10000\". Skin Cancer MNIST: HAM10000 is a dataset collected dermatoscopic images acquired from different populations. The dataset contains 10015 dermatoscopic image including a representative collection of all important diagnotic categories in the realm of pigmented lesions. We want to know if we can build an application that can distinguish the different skin condition utilizing machine learning."
      ]
    },
    {
      "cell_type": "markdown",
      "metadata": {
        "id": "TF9p6HZaDKsK"
      },
      "source": [
        "## Background\n",
        "\n",
        "Dermatoscopy is the predominant gold standard diagnostic technique that helps in the diagnosis of benign and malignant skin lesions in comparison to examination with the unaided eye(1). In one prior research work on the classification of skin tumors into malignant or benign using machine learning and deep learning models. Machine learning algorithms include logistic regression, linear discriminant analysis, k-nearest neighbors classifier, decision tree classifier and Gaussian naive Bayes, while deep learning models employed are either based on a custom Convolutional Neural Network model or leverage transfer learning via the use of pre-trained models (VGG16, Xception and ResNet50). Results showed that deep learning models, with accuracies up to 0.88, all outperform machine learning models. Ensemble learning of the machine learning models exhibit accuracies up to 0.75. Subsequently, they further assess the performance of machine learning and deep learning models by testing on a larger and more imbalanced dataset and metrics of 0.70 and 0.88 are obtained, respectively (2).\n",
        "\n",
        "Dermatoscopic images are great available source to train artificial neural networks to categorize the skin lesions automatically. Binder and his colleagues have long demonstrated such technique to differentiate melanomas from melanocytic nevi, dating back to 1994 (3). Interestingly, the study suffered from small sample size but managed to obtain promising results. Recent advancement in the complexity of neural networks in machine learning techniques is bringing hope that automated diagnostic systems will one day work synchronously or asynchronously with expertise skills to improve the diagnosis accuracy (4). Training of neural-network based diagnostic algorithms is functionally dependent on the number of annotated images, but the quantity of high quality and reliable dermatoscopic slides are limited or restricted to only a few classes of diseases (5). The ISIC archive is a collection of multiple databases. Because of permissive licensing, well-structured availability, and large size. ISIC archive is currently the standard source for dermatoscopic image analysis research. Note however, it tends to be biased towards melanocytic lesions. The HAM10000 dataset released was originally from ISIC archive (6). Because there are limitation of available datasets, biased research analysis toward melanocytic lesions and disregarded non-melanocytic lesions were prevalent in the past. The mismatch between the small diversity of available training data and the variety of real life data resulted in a moderate performance of automated diagnostic systems in the clinical setting even though excellent performance in experimental settings were observed (7,8) Building a classifier for multiple diseases are relatively more challenging compare to that of the binary classification (9). Currently, reliable multi-class predictions are only available for clinical images of skin diseases but not yet available for dermatoscopic images (10,11)."
      ]
    },
    {
      "cell_type": "markdown",
      "metadata": {
        "id": "iiXcECVnDNmL"
      },
      "source": [
        "## Data"
      ]
    },
    {
      "cell_type": "markdown",
      "metadata": {
        "id": "hlKeHx0Zn1xG"
      },
      "source": [
        "### The Dataset\n",
        "\n",
        "The dataset utilizaed in this project is HAM10000 (“Human Against Machine with 10000 training images”), it consists of 10015 dermatoscopic images. Seven diagnostic categories AKIEC, BCC, BKL, DF, MEL,NV, VASC and a metadata file with variables lesion_id, image_id, dx,dx_type, age and localization can be obtained from the following link: https://www.kaggle.com/datasets/surajghuwalewala/ham1000-segmentation-and-classification. \n",
        "\n",
        "Actinic keratoses and intraepithelial carcinoma / Bowen's disease (AKIEC)\n",
        "Common non-invasive, variants of squamous cell carcinoma that can be treated locally without surgery. Actinic keratoses are more common on the face and Bowen’s disease is more common on other body sites. Induced by UV-light or human papilloma virus infection.\n",
        "\n",
        "Basal cell carcinoma (BCC)\n",
        "Common variant of epithelial skin cancer that rarely metastasizes but grows destructively if untreated. \n",
        "\n",
        "Benign keratosis-like lesions (solar lentigines / seborrheic keratoses and lichen-planus like keratoses, BKL)\n",
        "\"Benign keratosis\" is a generic class that include three subgroups, may look different dermatoscopically, they are similar biologically and often reported under the same generic term histopathologically. \n",
        "\n",
        "\n",
        "Dermatofibroma (DF)\n",
        "Benign skin lesion regarded as either a benign proliferation or an inflammatory reaction to minimal trauma.\n",
        "\n",
        "Melanocytic nevi (NV)\n",
        "Benign neoplasms of melanocytes \n",
        "\n",
        "Melanoma (MEL)\n",
        "Malignant neoplasm derived from melanocytes that may appear in different variants. If excised in an early stage it can be cured by simple surgical excision.\n",
        "\n",
        "Vascular lesions (angiomas, angiokeratomas, pyogenic granulomas and hemorrhage, VASC).\n",
        "Vascular skin lesions: cherry angiomas, angiokeratomas and pyogenic granulomas, hemorrhage.\n",
        "\n",
        "\n",
        "<br>HAM10000 dataset (\"Human Against Machine with 10000 training images\") is a collection of dermatoscopic images of pigmented lesions from various source.\n",
        "\n",
        "<br>The dataset contains 10015 dermatoscopic images including a representative collection of all important diagnotic categories in the realm of pigment lesions.\n",
        "\n",
        "<br>There are 7 different types of skin conditions:\n",
        "- Melanocytic nevi (nv)\n",
        "- Melanoma (mel)\n",
        "- Benign keratosis-like lesions (bkl)\n",
        "- Basal cell carcinoma (bcc)\n",
        "- Actinic keratoses (akiec)\n",
        "- Vascular lesions (vasc)\n",
        "- Dermatofibroma (df)\n",
        "\n",
        "<br>HAM10000 dataset (\"Human Against Machine with 10000 training images\") is a collection of dermatoscopic images of pigmented lesions from various source.\n",
        "\n",
        "<br>The dataset contains 10015 dermatoscopic images including a representative collection of all important diagnotic categories in the realm of pigment lesions.\n",
        "\n",
        "<br>There are 7 different types of skin conditions:\n",
        "- Melanocytic nevi (nv)\n",
        "- Melanoma (mel)\n",
        "- Benign keratosis-like lesions (bkl)\n",
        "- Basal cell carcinoma (bcc)\n",
        "- Actinic keratoses (akiec)\n",
        "- Vascular lesions (vasc)\n",
        "- Dermatofibroma (df)"
      ]
    },
    {
      "cell_type": "markdown",
      "metadata": {
        "id": "NbCmSjw4ix4L"
      },
      "source": [
        "The main csv file, HAM10000_metadata.csv, includes the following information for all the image data.\n",
        "- Lesion_id\n",
        "- Image_id\n",
        "- Dx\n",
        "- Dx_type\n",
        "- Age\n",
        "- Sex\n",
        "- Localization"
      ]
    },
    {
      "cell_type": "markdown",
      "metadata": {
        "id": "dSiUHP37D9VW"
      },
      "source": [
        "## Methods"
      ]
    },
    {
      "cell_type": "markdown",
      "source": [
        "The workflow for our pipeline started with extracting data from the database. Then we will perform EDA and data cleaning on the raw data. Afterward, we will go through a series of data preprocessing procedures. The data preprocessing procedures contain undersampling, normalize/rescale, train test split, data augmentation and weight calculation. Next, we will conduct test runs on multiple machine learning models and select the best performing model to proceed further. Later we will tune the hyperparameter for the model and train the model. At last, we will evaluate the model and decide if we are going to go back previous steps or save the trained model.\n",
        "\n",
        "From the above EDA section, we can mention that one of the bigger issues with our data set is that it is imbalanced with the type of labels it has. About 67% of the data belong to “nv” and only about 11.1% and 5.1% to “mel” and “bcc”, the two cancer cells we are interested in. This will cause a problem for us. With this data set our model will favor the majority in training due to its high frequent appearance and cause less resources to be allocated to two cancer cells that we want to focus on.\n",
        "\n",
        "To accommodate this issue, we incorporated undersample, data augmentation and weight calculation into data preprocessing. Undersample will decrease the amount of sample for majority that use in model training. Data augmentation will generate new images for targeted images through rotation and translation. Weight calculation will generate a dictionary that each skin lesion label is corresponding to a number that represents the weight that each particular label will contribute in loss calculation during model training. The fundamental logic behind these techniques is to balance the loss calculation in model training for labels through either balancing the data set by changing  the proportion of each label or enhancing the weight of labels with smaller sample size. These techniques were quite effective in our experiment especially undersampling the majority size. For example, mel’s F1 score increased from 0.53 to 0.67 when we decreased the size for nv from 6000 to 1500.\n"
      ],
      "metadata": {
        "id": "j0odSw51D4HX"
      }
    },
    {
      "cell_type": "markdown",
      "metadata": {
        "id": "W15I-ipREA7Q"
      },
      "source": [
        "## Evaluation"
      ]
    },
    {
      "cell_type": "markdown",
      "source": [
        "In this project we do early test runs on multiple models and evaluate their validation accuracy, mel’s F1 score, bcc’s F1 score and the difference between training accuracy and validation accuracy. The validation accuracy is to measure the general performance. Mel’s and bcc’s scores are used to measure the model’s performance on distinguishing these two cancer cells. The difference between training accuracy and validation accuracy is to measure the degree of overfitting of the model after training. The higher the difference the more overfit the model is. The models that we included in the test runs are the ridge classifier, logistic classifier, support vector classifier, random forest classifier, dense neural network(DNN), convolutional neural network(CNN) and CNN with EfficientNet.\n",
        "\n",
        "All the models are tested on the same data set. Per the result of the test runs, we found that CNN with EfficientNet is having the best performance. It has the highest validation accuracy, mel’s F1 score and bcc’s F1 score. Although, it has the second difference for training accuracy and validation accuracy, but its F1 score for the two cancer skin cell suggest its potential for being the best model. Therefore, we picked the EfficientNet model to be our model for further tuning and training.\n",
        "\n",
        "After tuning and series of training, we will give a detailed evaluation for our final model. From the Learning Curve - Accuracy graph we noticed that the validation accuracy topped around 20 epochs and the gap between validation accuracy and training accuracy started widening after 5 epochs. The huge difference between validation accuracy and training accuracy indicated overfitting in our model. The Learning Curve - Loss told the same story as the gap between two curves started widening around 5 epochs and continued to remain a gap between the curves. The confusion matrix showed that our model got 512 correct out of 722 total labels. It is about 71% accuracy, which is significantly lower than our early test run on the model during model selection. This is because the undersample of the majority, data augmentation of the cancer cells and the weight application on model had made the model to allocate more resources to other labels than the majority. As the labels were evenly distributed in the data set, it became harder for the model to achieve high accuracy with just doing well on distinguishing single labels. On the other hand, the performance on other labels were all improved due to the balance of the data set. The F1 score for mel and bcc had improved from 0.55 and 0.62 to 0.65 and 0.70 respectively. This demonstrated that our strategies in data preprocessing procedures had worked as we expected. The goal for this project was to build a model that matches or beats the human benchmark on diagnosing skin cancers. The F1 score for the two cancer cells told us that our model fell within the lower range of the human benchmark using 90 x 90 pixel images."
      ],
      "metadata": {
        "id": "TtAGw2B4Dnz4"
      }
    },
    {
      "cell_type": "markdown",
      "metadata": {
        "id": "c-JCM5WQEJIj"
      },
      "source": [
        "## Conclusion"
      ]
    },
    {
      "cell_type": "markdown",
      "metadata": {
        "id": "0nla5RmBELYF"
      },
      "source": [
        "## Attribution"
      ]
    },
    {
      "cell_type": "markdown",
      "metadata": {
        "id": "zv8Y3nzNENl6"
      },
      "source": [
        "## Bibliography\n",
        "1. Rosendahl, C., Tschandl, P., Cameron, A. & Kittler, H. Diagnostic accuracy of dermatoscopy for melanocytic and nonmelanocytic pigmented lesions. J Am Acad Dermatol 64, 1068–1073 (2011).\n",
        "\n",
        "2. Bechelli S, Delhommelle J. Machine Learning and Deep Learning Algorithms for Skin Cancer Classification from Dermoscopic Images. Bioengineering (Basel). 2022;9(3):97. Published 2022 Feb 27.\n",
        "\n",
        "3. Binder, M. et al. Application of an artificial neural network in epiluminescence microscopy pattern analysis of pigmented skin lesions: a pilot study. Br J Dermatol 130, 460–465 (1994).\n",
        "\n",
        "4. Codella, N. C. F. et al. Skin Lesion Analysis Toward Melanoma Detection: A Challenge at the 2017 International Symposium on Biomedical Imaging (ISBI), Hosted by the International Skin Imaging Collaboration (ISIC). Preprint at https://arxiv.org/abs/1710.05006 (2017).\n",
        "\n",
        "5. Deng, J. et al. ImageNet: A large-scale hierarchical image database, 2009 IEEE Conference on Computer Vision and Pattern Recognition, Miami, FL, 2009, pp. 248–255 (2009).\n",
        "\n",
        "6. Tschandl, P., Rosendahl, C. & Kittler, H. The HAM10000 dataset, a large collection of multi-source dermatoscopic images of common pigmented skin lesions. Sci Data 5, 180161 (2018). \n",
        "\n",
        "7. Dreiseitl, S., Binder, M., Hable, K. & Kittler, H. Computer versus human diagnosis of melanoma: evaluation of the feasibility of an automated diagnostic system in a prospective clinical trial. Melanoma Res 19, 180–184 (2009).\n",
        "\n",
        "8. Kharazmi, P., Kalia, S., Lui, H., Wang, Z. J. & Lee, T. K. A feature fusion system for basal cell carcinoma detection through data-driven feature learning and patient profile. Skin Res Technol 24, 256–264 (2017).\n",
        "\n",
        "9. Sinz, C. et al. Accuracy of dermatoscopy for the diagnosis of nonpigmented cancers of the skin. J Am Acad Dermatol 77, 1100–1109 (2017).\n",
        "\n",
        "10. Esteva, A. et al. Dermatologist-level classification of skin cancer with deep neural networks. Nature 542, 115–118 (2017).\n",
        "\n",
        "11. Han, S. S. et al. Classification of the clinical images for benign and malignant cutaneous tumors using a deep learning algorithm. J Invest Dermatol, Preprint at https://doi.org/10.1016/j.jid.2018.01.028 (2018)."
      ]
    },
    {
      "cell_type": "markdown",
      "metadata": {
        "id": "bCiq2HXwEPsH"
      },
      "source": [
        "## Appendix"
      ]
    },
    {
      "cell_type": "markdown",
      "metadata": {
        "id": "SYqapfKhERjm"
      },
      "source": [
        ""
      ]
    }
  ],
  "metadata": {
    "colab": {
      "collapsed_sections": [],
      "name": "draft_Final_Report.ipynb",
      "provenance": []
    },
    "kernelspec": {
      "display_name": "Python 3",
      "language": "python",
      "name": "python3"
    },
    "language_info": {
      "codemirror_mode": {
        "name": "ipython",
        "version": 3
      },
      "file_extension": ".py",
      "mimetype": "text/x-python",
      "name": "python",
      "nbconvert_exporter": "python",
      "pygments_lexer": "ipython3",
      "version": "3.7.6"
    }
  },
  "nbformat": 4,
  "nbformat_minor": 0
}