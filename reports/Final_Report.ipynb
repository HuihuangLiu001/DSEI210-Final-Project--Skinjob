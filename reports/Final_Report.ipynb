{
  "nbformat": 4,
  "nbformat_minor": 0,
  "metadata": {
    "colab": {
      "name": "Final Report.ipynb",
      "provenance": [],
      "collapsed_sections": []
    },
    "kernelspec": {
      "name": "python3",
      "display_name": "Python 3"
    },
    "language_info": {
      "name": "python"
    }
  },
  "cells": [
    {
      "cell_type": "markdown",
      "source": [
        "#Final Report"
      ],
      "metadata": {
        "id": "GML0uNJJC3Qr"
      }
    },
    {
      "cell_type": "markdown",
      "source": [
        "# Title"
      ],
      "metadata": {
        "id": "FwicSKrEC_Xr"
      }
    },
    {
      "cell_type": "markdown",
      "source": [
        "# Abstract"
      ],
      "metadata": {
        "id": "9PECsHfGDDOn"
      }
    },
    {
      "cell_type": "markdown",
      "source": [
        "# Introduction"
      ],
      "metadata": {
        "id": "mia0pbMlDG1E"
      }
    },
    {
      "cell_type": "markdown",
      "source": [
        "The dataset we use is \"Skin Cancer MNIST: Ham10000\". Skin Cancer MNIST: HAM10000 is a dataset collected dermatoscopic images acquired from different populations. The dataset contains 10015 dermatoscopic image including a representative collection of all important diagnotic categories in the realm of pigmented lesions. We want to know if we can build an application that can distinguish the different skin condition utilizing machine learning."
      ],
      "metadata": {
        "id": "gMgIG72EJDgo"
      }
    },
    {
      "cell_type": "markdown",
      "source": [
        ""
      ],
      "metadata": {
        "id": "39x8gPXQLM6V"
      }
    },
    {
      "cell_type": "markdown",
      "source": [
        "# Background"
      ],
      "metadata": {
        "id": "TF9p6HZaDKsK"
      }
    },
    {
      "cell_type": "markdown",
      "source": [
        "# Data"
      ],
      "metadata": {
        "id": "iiXcECVnDNmL"
      }
    },
    {
      "cell_type": "markdown",
      "source": [
        ""
      ],
      "metadata": {
        "id": "IpBoTp97OlFd"
      }
    },
    {
      "cell_type": "markdown",
      "source": [
        "# Methods"
      ],
      "metadata": {
        "id": "dSiUHP37D9VW"
      }
    },
    {
      "cell_type": "markdown",
      "source": [
        "# Evaluation"
      ],
      "metadata": {
        "id": "W15I-ipREA7Q"
      }
    },
    {
      "cell_type": "markdown",
      "source": [
        "# Conclusion"
      ],
      "metadata": {
        "id": "c-JCM5WQEJIj"
      }
    },
    {
      "cell_type": "markdown",
      "source": [
        "# Attribution"
      ],
      "metadata": {
        "id": "0nla5RmBELYF"
      }
    },
    {
      "cell_type": "markdown",
      "source": [
        "# Bibliography"
      ],
      "metadata": {
        "id": "zv8Y3nzNENl6"
      }
    },
    {
      "cell_type": "markdown",
      "source": [
        "# Appendix"
      ],
      "metadata": {
        "id": "bCiq2HXwEPsH"
      }
    },
    {
      "cell_type": "markdown",
      "source": [
        ""
      ],
      "metadata": {
        "id": "SYqapfKhERjm"
      }
    }
  ]
}