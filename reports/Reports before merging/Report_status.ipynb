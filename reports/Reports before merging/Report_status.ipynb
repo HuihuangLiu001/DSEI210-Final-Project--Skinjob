{
 "cells": [
  {
   "cell_type": "markdown",
   "metadata": {
    "id": "nJJsTWN6FtuX"
   },
   "source": [
    "# New Era Of Data Model Pathology"
   ]
  },
  {
   "cell_type": "markdown",
   "metadata": {
    "id": "ktDHhg5TFuaa"
   },
   "source": [
    "Abstract:\n",
    "\n",
    "Skin cancer misdiagnosis by dermatologists is not uncommon. 25-33% of the skin cancers are incorrectly diagnosed as eczema or another less serious disease. Ultimately, the problem would lead us to ask whether machine learning models can be designed and implemented and to the extent which model can effectively classify if a patient developed skin cancer based on photographs of skin lesions on dermatologic slides. Early skin maligicancy is important because screening for earlier skin cancer detection remains limited, which leads to late diagnoses in most cases. Accurate skin cancer detection at earlier stage in patients show improved survival, clinical outcomes, and quality of life. \n",
    "Discoveries: 2-3\n",
    "Linear -logistics\n",
    "SVM\n",
    "DNN/CNN\n",
    "\n",
    "\n",
    "Introduction:\n",
    "\n",
    "The research question for this project is: can machine learning models be designed and implemented to effectively classify if a patient developed skin cancer based on photographs of skin lesions on dermatologic slides. To the extent which model serves the best in classifying skin leisions as benign and malignant using series of metrics. Early skin maligicancy is important because screening for earlier skin cancer detection remains limited, which leads to late diagnoses in most cases. Accurate skin cancer detection at earlier stage in patients by dermatologists and pathologists show improved survival, clinical outcomes, and quality of life. Research plan includes initial exploratory data analysis to investigate data patterns,anomalies, and to test hypothesis and to check assumptions with the help of summary statistics and graphical representations. We will develop basic linear and logistic models, SVM, DNN, CNN models. We did not achieve high linear and logistic model accuracy, CNN accuracy was higher than the DNN. SVM - still attempting. Data cleaning includes fill in missing age column with the average for the age column, we also detected that the data labels are imbalanced due to the fact that skin cancers are rare occurence relative to the overal general population. Therefore, initial data cleaning and preparation allows us to develop approches in combating data imblance, such as resampling techniques. \n",
    "\n",
    "\n",
    "\n",
    "Background:\n",
    "\n",
    "Dermatoscopy is the predominant gold standard diagnostic technique that helps in the diagnosis of benign and malignant skin lesions in comparison to examination with the unaided eye(1). In one prior research work on the classification of skin tumors into malignant or benign using machine learning and deep learning models. Machine learning algorithms include logistic regression, linear discriminant analysis, k-nearest neighbors classifier, decision tree classifier and Gaussian naive Bayes, while deep learning models employed are either based on a custom Convolutional Neural Network model or leverage transfer learning via the use of pre-trained models (VGG16, Xception and ResNet50). Results showed that deep learning models, with accuracies up to 0.88, all outperform machine learning models. Ensemble learning of the machine learning models exhibit accuracies up to 0.75. Subsequently, they further assess the performance of machine learning and deep learning models by testing on a larger and more imbalanced dataset and metrics of 0.70 and 0.88 are obtained, respectively (2).\n",
    "\n",
    "Dermatoscopic images are great available source to train artificial neural networks to categorize the skin lesions automatically. Binder and his colleagues have long demonstrated such technique to differentiate melanomas from melanocytic nevi, dating back to 1994 (3). Interestingly, the study suffered from small sample size but managed to obtain promising results. Recent advancement in the complexity of neural networks in machine learning techniques is bringing hope that automated diagnostic systems will one day work synchronously or asynchronously with expertise skills to improve the diagnosis accuracy (4). Training of neural-network based diagnostic algorithms is functionally dependent on the number of annotated images, but the quantity of high quality and reliable dermatoscopic slides are limited or restricted to only a few classes of diseases (5). The ISIC archive is a collection of multiple databases. Because of permissive licensing, well-structured availability, and large size. ISIC archive is currently the standard source for dermatoscopic image analysis research. Note however, it tends to be biased towards melanocytic lesions. The HAM10000 dataset released was originally from ISIC archive (6). Because there are limitation of available datasets, biased research analysis toward melanocytic lesions and disregarded non-melanocytic lesions were prevalent in the past. The mismatch between the small diversity of available training data and the variety of real life data resulted in a moderate performance of automated diagnostic systems in the clinical setting even though excellent performance in experimental settings were observed (7,8) Building a classifier for multiple diseases are relatively more challenging compare to that of the binary classification (9). Currently, reliable multi-class predictions are only available for clinical images of skin diseases but not yet available for dermatoscopic images (10,11).\n",
    "\n",
    "\n",
    "\n",
    "Data:\n",
    "\n",
    "The dataset utilizaed in this project is HAM10000 (“Human Against Machine with 10000 training images”), it consists of 10015 dermatoscopic images. Seven diagnostic categories AKIEC, BCC, BKL, DF, MEL,NV, VASC and a metadata file with variables lesion_id, image_id, dx,dx_type, age and localization can be obtained from the following link: https://www.kaggle.com/datasets/surajghuwalewala/ham1000-segmentation-and-classification. \n",
    "\n",
    "Actinic keratoses and intraepithelial carcinoma / Bowen's disease (AKIEC)\n",
    "Common non-invasive, variants of squamous cell carcinoma that can be treated locally without surgery. Actinic keratoses are more common on the face and Bowen’s disease is more common on other body sites. Induced by UV-light or human papilloma virus infection.\n",
    "\n",
    "Basal cell carcinoma (BCC)\n",
    "Common variant of epithelial skin cancer that rarely metastasizes but grows destructively if untreated. \n",
    "\n",
    "Benign keratosis-like lesions (solar lentigines / seborrheic keratoses and lichen-planus like keratoses, BKL)\n",
    "\"Benign keratosis\" is a generic class that include three subgroups, may look different dermatoscopically, they are similar biologically and often reported under the same generic term histopathologically. \n",
    "\n",
    "\n",
    "Dermatofibroma (DF)\n",
    "Benign skin lesion regarded as either a benign proliferation or an inflammatory reaction to minimal trauma.\n",
    "\n",
    "Melanocytic nevi (NV)\n",
    "Benign neoplasms of melanocytes \n",
    "\n",
    "Melanoma (MEL)\n",
    "Malignant neoplasm derived from melanocytes that may appear in different variants. If excised in an early stage it can be cured by simple surgical excision.\n",
    "\n",
    "Vascular lesions (angiomas, angiokeratomas, pyogenic granulomas and hemorrhage, VASC).\n",
    "Vascular skin lesions: cherry angiomas, angiokeratomas and pyogenic granulomas, hemorrhage.\n",
    "\n",
    "\n",
    "Methods:\n",
    "\n",
    "How did you take your data and set up the problem? Describe things like normalization, feature selection, the models you chose. In this section, you may have EDA and graphs showing the exploration of hyper-parameters. Note: Use graphs to illustrate interesting relationships that are important to your final analyses. DO NOT just show a bunch of graphs because you can. You should label and discuss every graph you include. There is no required number to include. The graphs should help us understand your analysis process and illuminate key features of the data.\n",
    "\n",
    "Evaluation:\n",
    "\n",
    "\n",
    "Here you are going to show your different models’ performance. It is particularly useful to show multiple metrics and things like ROC curves (for binary classifiers). Make sure it is clearly not just what the score is but for which instances in the data one has the largest errors (in a regression), or just sample examples miss-classified. Make an attempt to interpret the parameters of the model to understand what was useful about the input data. Method comparison and sensitivity analyses are absolutely CRUCIAL to good scientific work. To that end, you MUST compare at least 2 different methods from class in answering your scientific questions. It is important to report what you tried but do so SUCCINCTLY.\n",
    "\n",
    "Conclusion:\n",
    "\n",
    "\n",
    "How well did it work? Characterize how robust you think the results are (did you have enough data?) Interpret of what the model found (what variables were useful, what was not)? Try to avoid describing what you would do if you had more time. If you have to make a statement about “future work” limit it to one short statement.\n",
    "\n",
    "Attribution:\n",
    "\n",
    "\n",
    "Using the number and size of GitHub commits by the author (bar graph), and the git hub visualizations of when the commits occurred. Using these measures each person should self-report how many code-hours of their work are visible in the repo with 2-3 sentences listing their contribution. Do not report any code hours that cannot be traced to commits. If you spend hours on a 2-line change of code or side-reading you did, you cannot report. If you do searches or research for the project that does not result in code, you must create notes in a markdown file (eg. in the project wiki) and the notes should be commensurate with the amount of work reported. Notes cannot be simply copy-pasted from elsewhere (obviously).\n",
    "\n",
    "Bibliography:\n",
    "\n",
    "1. Rosendahl, C., Tschandl, P., Cameron, A. & Kittler, H. Diagnostic accuracy of dermatoscopy for melanocytic and nonmelanocytic pigmented lesions. J Am Acad Dermatol 64, 1068–1073 (2011).\n",
    "\n",
    "2. Bechelli S, Delhommelle J. Machine Learning and Deep Learning Algorithms for Skin Cancer Classification from Dermoscopic Images. Bioengineering (Basel). 2022;9(3):97. Published 2022 Feb 27.\n",
    "\n",
    "3. Binder, M. et al. Application of an artificial neural network in epiluminescence microscopy pattern analysis of pigmented skin lesions: a pilot study. Br J Dermatol 130, 460–465 (1994).\n",
    "\n",
    "4. Codella, N. C. F. et al. Skin Lesion Analysis Toward Melanoma Detection: A Challenge at the 2017 International Symposium on Biomedical Imaging (ISBI), Hosted by the International Skin Imaging Collaboration (ISIC). Preprint at https://arxiv.org/abs/1710.05006 (2017).\n",
    "\n",
    "5. Deng, J. et al. ImageNet: A large-scale hierarchical image database, 2009 IEEE Conference on Computer Vision and Pattern Recognition, Miami, FL, 2009, pp. 248–255 (2009).\n",
    "\n",
    "6. Tschandl, P., Rosendahl, C. & Kittler, H. The HAM10000 dataset, a large collection of multi-source dermatoscopic images of common pigmented skin lesions. Sci Data 5, 180161 (2018). \n",
    "\n",
    "7. Dreiseitl, S., Binder, M., Hable, K. & Kittler, H. Computer versus human diagnosis of melanoma: evaluation of the feasibility of an automated diagnostic system in a prospective clinical trial. Melanoma Res 19, 180–184 (2009).\n",
    "\n",
    "8. Kharazmi, P., Kalia, S., Lui, H., Wang, Z. J. & Lee, T. K. A feature fusion system for basal cell carcinoma detection through data-driven feature learning and patient profile. Skin Res Technol 24, 256–264 (2017).\n",
    "\n",
    "9. Sinz, C. et al. Accuracy of dermatoscopy for the diagnosis of nonpigmented cancers of the skin. J Am Acad Dermatol 77, 1100–1109 (2017).\n",
    "\n",
    "10. Esteva, A. et al. Dermatologist-level classification of skin cancer with deep neural networks. Nature 542, 115–118 (2017).\n",
    "\n",
    "11. Han, S. S. et al. Classification of the clinical images for benign and malignant cutaneous tumors using a deep learning algorithm. J Invest Dermatol, Preprint at https://doi.org/10.1016/j.jid.2018.01.028 (2018).\n"
   ]
  },
  {
   "cell_type": "code",
   "execution_count": null,
   "metadata": {},
   "outputs": [],
   "source": []
  }
 ],
 "metadata": {
  "colab": {
   "collapsed_sections": [],
   "name": "1Report.ipynb",
   "provenance": []
  },
  "kernelspec": {
   "display_name": "Python 3",
   "language": "python",
   "name": "python3"
  },
  "language_info": {
   "codemirror_mode": {
    "name": "ipython",
    "version": 3
   },
   "file_extension": ".py",
   "mimetype": "text/x-python",
   "name": "python",
   "nbconvert_exporter": "python",
   "pygments_lexer": "ipython3",
   "version": "3.7.6"
  }
 },
 "nbformat": 4,
 "nbformat_minor": 1
}
