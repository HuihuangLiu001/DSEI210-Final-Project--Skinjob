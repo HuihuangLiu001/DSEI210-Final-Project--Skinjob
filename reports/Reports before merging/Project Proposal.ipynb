{
 "cells": [
  {
   "cell_type": "markdown",
   "metadata": {},
   "source": [
    "## **Project Proposal**\n",
    "**Course: DSE 2100**\n",
    "**Professor: Michael Grossberg**\n",
    "**Project: Skin Cancer Application**\n",
    "**Member: Gong Qi Chen, Huihuang Liu**\n",
    "    \n",
    "    \n",
    "**Motivation:** Skin cancers are among the most frequent types of cancer. Studies have suggested that one in five individuals will develop\n",
    "some type of skin malignancy in their lifetime. Early diagnosis and treatment of skin cancer is the key to prevent proliferation of the tumor\n",
    "cells or late-stage metastasis. However, skin cancer misdiagnosis by dermatologists is not uncommon. In fact, 25-33% of the skin cancers are\n",
    "incorrectly diagnosed as eczema or another less serious disease. This project is intended to design and implement an application that can\n",
    "effectively classify whether a person has skin cancer or not from pictures with abnormal skin conditions. The application will run abnormal\n",
    "skin slides on a machine learning model and perform preliminary skin cancer checks to spot any abnormal lesion sites suspicious for skin\n",
    "malignancy, this will guide dermatologists to a focal point on the slide to allow for confirmatory diagnosis with greater confidence.\n",
    "\n",
    "\n",
    "**Method:** We want to use PCA and other dimension reduction techniques to reduce and select features to enhance model performance. This is\n",
    "because for images each pixel is treated as a feature and many of the pixels may not be useful to our model. We can save our computation power\n",
    "by reducing the features and selecting the most relevant ones. Our model will be a neural network and the intended neural network library we\n",
    "will use is TensorFlow. The neural network model has been one of the most successful machine learning models for image processing and there is\n",
    "much work and reach done in this area. We can utilize these resources to help us build our model.\n",
    "\n",
    "\n",
    "**Intended experiments:** There will be two experiments in this project. One of the experiments is to apply different subset of features into\n",
    "our model and find the best one. Another experiment is to apply different sets of hyper-parameters, such as number of nodes and number layers\n",
    "in our neural network model. We will utilize F1-score to evaluate our model. F1-score combines the precision and recall of a classifier into a\n",
    "single metric by taking their harmonic mean. F1-score is particularly meaningful for imbalanced datasets. Our dataset is imbalanced, over 67%\n",
    "of the records are benign. Therefore, F1-score is a suited evaluation for our project.\n",
    "\n",
    "\n",
    "**Relevant Dataset:** Skin cancer: HAM10000\n",
    "[https://www.kaggle.com/datasets/surajghuwalewala/ham1000-segmentation-and-classification](https://www.kaggle.com/datasets/surajghuwalewala\n",
    "/ham1000-segmentation-and-classification)\n",
    "Skin Cancer MNIST: HAM10000 is a dataset collected dermatoscopic images from different populations, acquired and stored by different\n",
    "modalities. The dataset contains 10015 dermatoscopic images which can serve as a training set for machine learning purposes. Cases include a\n",
    "representative collection of all important diagnostic categories in the realm of pigmented lesions: Actinic keratoses and intraepithelial\n",
    "carcinoma / Bowen&#39;s disease (akiec), basal cell carcinoma (bcc), benign keratosis-like lesions (solar lentigines / seborrheic keratoses\n",
    "and lichen-planus like keratoses, bkl), dermatofibroma (df), melanoma (mel), melanocytic nevi (nv) and vascular lesions (angiomas,\n",
    "angiokeratomas, pyogenic granulomas and hemorrhage, vasc).\n",
    "\n",
    "\n",
    "**Prior Research:**\n",
    "[https://www.ncbi.nlm.nih.gov/pmc/articles/PMC8945332/](https://www.ncbi.nlm.nih.gov/pmc/articles/PMC8945332/)\n",
    "Some prior research work was also done on classification of skin tumors (identify whether a tumor is malignant or benign) using machine\n",
    "learning and deep learning models. Machine learning algorithms include logistic regression, linear discriminant analysis, k-nearest neighbors\n",
    "classifier, decision tree classifier and Gaussian naive Bayes, while deep learning models employed are either based on a custom Convolutional\n",
    "Neural Network model. Results showed that deep learning models, with accuracies up to 0.88, all outperform machine learning models. Ensemble\n",
    "learning of the machine learning models exhibit accuracies up to 0.75. Subsequently, they further assess the performance of machine learning\n",
    "and deep learning models by testing on a larger and more imbalanced dataset and metrics of 0.70 and 0.88 are obtained, respectively."
   ]
  }
 ],
 "metadata": {
  "kernelspec": {
   "display_name": "Python 3",
   "language": "python",
   "name": "python3"
  },
  "language_info": {
   "codemirror_mode": {
    "name": "ipython",
    "version": 3
   },
   "file_extension": ".py",
   "mimetype": "text/x-python",
   "name": "python",
   "nbconvert_exporter": "python",
   "pygments_lexer": "ipython3",
   "version": "3.7.6"
  }
 },
 "nbformat": 4,
 "nbformat_minor": 4
}
