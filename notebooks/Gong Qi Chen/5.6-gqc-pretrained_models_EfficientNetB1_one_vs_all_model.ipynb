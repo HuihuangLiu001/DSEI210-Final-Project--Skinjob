{
  "nbformat": 4,
  "nbformat_minor": 0,
  "metadata": {
    "colab": {
      "name": "one_vs_all_model.ipynb",
      "provenance": [],
      "collapsed_sections": [],
      "machine_shape": "hm"
    },
    "kernelspec": {
      "name": "python3",
      "display_name": "Python 3"
    },
    "language_info": {
      "name": "python"
    },
    "accelerator": "GPU"
  },
  "cells": [
    {
      "cell_type": "code",
      "source": [
        "!pwd"
      ],
      "metadata": {
        "colab": {
          "base_uri": "https://localhost:8080/"
        },
        "id": "-9aLLCmfhWYr",
        "outputId": "76d33aa3-72c7-4fbb-f3aa-546fdbfd09c0"
      },
      "execution_count": 1,
      "outputs": [
        {
          "output_type": "stream",
          "name": "stdout",
          "text": [
            "/content\n"
          ]
        }
      ]
    },
    {
      "cell_type": "code",
      "source": [
        "import os\n",
        "os.environ['KAGGLE_CONFIG_DIR'] = \"/content\""
      ],
      "metadata": {
        "id": "Xbn9UU0UhWwd"
      },
      "execution_count": 2,
      "outputs": []
    },
    {
      "cell_type": "code",
      "source": [
        "!kaggle datasets download -d surajghuwalewala/ham1000-segmentation-and-classification\n",
        "!unzip /content/ham1000-segmentation-and-classification.zip"
      ],
      "metadata": {
        "id": "_TpI8ifahW2z"
      },
      "execution_count": null,
      "outputs": []
    },
    {
      "cell_type": "code",
      "execution_count": 4,
      "metadata": {
        "colab": {
          "base_uri": "https://localhost:8080/"
        },
        "id": "MUcW2QjaqDJh",
        "outputId": "9d936a5a-0220-41d9-bbd3-227c48c4c190"
      },
      "outputs": [
        {
          "output_type": "stream",
          "name": "stdout",
          "text": [
            "Looking in indexes: https://pypi.org/simple, https://us-python.pkg.dev/colab-wheels/public/simple/\n",
            "Collecting git+https://github.com/tensorflow/docs\n",
            "  Cloning https://github.com/tensorflow/docs to /tmp/pip-req-build-zsxjrg0n\n",
            "  Running command git clone -q https://github.com/tensorflow/docs /tmp/pip-req-build-zsxjrg0n\n",
            "Requirement already satisfied: astor in /usr/local/lib/python3.7/dist-packages (from tensorflow-docs==0.0.0.dev0) (0.8.1)\n",
            "Requirement already satisfied: absl-py in /usr/local/lib/python3.7/dist-packages (from tensorflow-docs==0.0.0.dev0) (1.0.0)\n",
            "Requirement already satisfied: jinja2 in /usr/local/lib/python3.7/dist-packages (from tensorflow-docs==0.0.0.dev0) (2.11.3)\n",
            "Requirement already satisfied: protobuf>=3.14 in /usr/local/lib/python3.7/dist-packages (from tensorflow-docs==0.0.0.dev0) (3.17.3)\n",
            "Requirement already satisfied: pyyaml in /usr/local/lib/python3.7/dist-packages (from tensorflow-docs==0.0.0.dev0) (3.13)\n",
            "Requirement already satisfied: six>=1.9 in /usr/local/lib/python3.7/dist-packages (from protobuf>=3.14->tensorflow-docs==0.0.0.dev0) (1.15.0)\n",
            "Requirement already satisfied: MarkupSafe>=0.23 in /usr/local/lib/python3.7/dist-packages (from jinja2->tensorflow-docs==0.0.0.dev0) (2.0.1)\n",
            "Building wheels for collected packages: tensorflow-docs\n",
            "  Building wheel for tensorflow-docs (setup.py) ... \u001b[?25l\u001b[?25hdone\n",
            "  Created wheel for tensorflow-docs: filename=tensorflow_docs-0.0.0.dev0-py3-none-any.whl size=179891 sha256=74ce8f58031f929e569d06bf447f45b8ac2e030b79f3025f677f8bc7fd6f0da0\n",
            "  Stored in directory: /tmp/pip-ephem-wheel-cache-5ra_bp7r/wheels/cc/c4/d8/5341e93b6376c5c929c49469fce21155eb69cef1a4da4ce32c\n",
            "Successfully built tensorflow-docs\n",
            "Installing collected packages: tensorflow-docs\n",
            "Successfully installed tensorflow-docs-0.0.0.dev0\n"
          ]
        }
      ],
      "source": [
        "!pip install git+https://github.com/tensorflow/docs"
      ]
    },
    {
      "cell_type": "code",
      "source": [
        "!pip install -q -U keras-tuner"
      ],
      "metadata": {
        "colab": {
          "base_uri": "https://localhost:8080/"
        },
        "id": "Nl3K5l1z2MPd",
        "outputId": "cfa1e44e-ab13-43f5-8d49-7ecf905feb81"
      },
      "execution_count": 7,
      "outputs": [
        {
          "output_type": "stream",
          "name": "stdout",
          "text": [
            "\u001b[?25l\r\u001b[K     |██▌                             | 10 kB 28.6 MB/s eta 0:00:01\r\u001b[K     |█████                           | 20 kB 8.0 MB/s eta 0:00:01\r\u001b[K     |███████▍                        | 30 kB 7.0 MB/s eta 0:00:01\r\u001b[K     |█████████▉                      | 40 kB 3.3 MB/s eta 0:00:01\r\u001b[K     |████████████▎                   | 51 kB 3.4 MB/s eta 0:00:01\r\u001b[K     |██████████████▊                 | 61 kB 4.0 MB/s eta 0:00:01\r\u001b[K     |█████████████████▏              | 71 kB 4.2 MB/s eta 0:00:01\r\u001b[K     |███████████████████▋            | 81 kB 4.2 MB/s eta 0:00:01\r\u001b[K     |██████████████████████          | 92 kB 4.7 MB/s eta 0:00:01\r\u001b[K     |████████████████████████▌       | 102 kB 4.0 MB/s eta 0:00:01\r\u001b[K     |███████████████████████████     | 112 kB 4.0 MB/s eta 0:00:01\r\u001b[K     |█████████████████████████████▍  | 122 kB 4.0 MB/s eta 0:00:01\r\u001b[K     |███████████████████████████████▉| 133 kB 4.0 MB/s eta 0:00:01\r\u001b[K     |████████████████████████████████| 133 kB 4.0 MB/s \n",
            "\u001b[?25h"
          ]
        }
      ]
    },
    {
      "cell_type": "code",
      "source": [
        "import numpy as np \n",
        "import pandas as pd\n",
        "import tensorflow as tf\n",
        "\n",
        "from PIL import Image\n",
        "\n",
        "from tensorflow import keras\n",
        "import tensorflow_docs as tfdocs\n",
        "import tensorflow_docs.modeling\n",
        "import tensorflow_docs.plots\n",
        "from tensorflow.keras import regularizers\n",
        "from tensorflow.keras.preprocessing.image import ImageDataGenerator\n",
        "from keras.utils.np_utils import to_categorical\n",
        "import matplotlib.pyplot as plt\n",
        "from sklearn.model_selection import train_test_split\n",
        "from sklearn.metrics import confusion_matrix, classification_report\n",
        "import seaborn as sns\n",
        "from matplotlib.pyplot import imshow"
      ],
      "metadata": {
        "id": "2OIZJX75q5ky"
      },
      "execution_count": 5,
      "outputs": []
    },
    {
      "cell_type": "code",
      "source": [
        "from helper import *"
      ],
      "metadata": {
        "id": "_cFXbDAm01MP"
      },
      "execution_count": 8,
      "outputs": []
    },
    {
      "cell_type": "code",
      "source": [
        "h = 90\n",
        "w = 90\n",
        "aug_targets = ['mel', 'bcc']\n",
        "aug_count = 50\n",
        "aug_size = 0\n",
        "\n",
        "train_set, test_set, class_weight, labels = prep_pipeline1(1500, h, w, aug_targets, aug_count, aug_size)"
      ],
      "metadata": {
        "id": "CL1itcmyM-Se"
      },
      "execution_count": 10,
      "outputs": []
    },
    {
      "cell_type": "code",
      "source": [
        "X_train1 = train_set[0]\n",
        "X_train2 = train_set[1]\n",
        "y_train_mel = train_set[2][:, 4]\n",
        "y_train_bcc = train_set[2][:, 1]\n",
        "\n",
        "X_test1 = test_set[0]\n",
        "X_test2 = test_set[1]\n",
        "y_test_mel = test_set[2][:, 4]\n",
        "y_test_bcc = test_set[2][:, 1]"
      ],
      "metadata": {
        "id": "JyJPdn-LNLek"
      },
      "execution_count": 78,
      "outputs": []
    },
    {
      "cell_type": "code",
      "source": [
        "print(X_train1.shape, X_test1.shape)"
      ],
      "metadata": {
        "colab": {
          "base_uri": "https://localhost:8080/"
        },
        "id": "ISR6jhMLOlbJ",
        "outputId": "2d77510a-db62-4fc8-8024-b1b2b6bf3ae1"
      },
      "execution_count": 29,
      "outputs": [
        {
          "output_type": "stream",
          "name": "stdout",
          "text": [
            "(3366, 90, 90, 3) (722, 90, 90, 3)\n"
          ]
        }
      ]
    },
    {
      "cell_type": "code",
      "source": [
        "print(y_train_mel.shape, y_test_mel.shape)"
      ],
      "metadata": {
        "colab": {
          "base_uri": "https://localhost:8080/"
        },
        "id": "sVIm2VMIO207",
        "outputId": "63173496-88c2-4591-9ef0-d56e5c0f9066"
      },
      "execution_count": 30,
      "outputs": [
        {
          "output_type": "stream",
          "name": "stdout",
          "text": [
            "(3366,) (722,)\n"
          ]
        }
      ]
    },
    {
      "cell_type": "code",
      "source": [
        "class_weight_mel = {0 : 1, 1 : 3.72}\n",
        "class_weight_bcc = {0 : 1, 1 : 8.14}"
      ],
      "metadata": {
        "id": "CC5JYGhzJW_P"
      },
      "execution_count": 57,
      "outputs": []
    },
    {
      "cell_type": "code",
      "source": [
        "histories = {}\n",
        "\n",
        "channels = 3\n",
        "img_shape = (h, w, channels)\n",
        "\n",
        "def get_callbacks():\n",
        "  return [\n",
        "    tf.keras.callbacks.EarlyStopping(monitor='val_loss', patience=10, verbose=1, mode='auto', restore_best_weights=True),\n",
        "    tf.keras.callbacks.ReduceLROnPlateau(monitor='val_loss', factor=0.1, patience=5, verbose=1, mode='auto')      \n",
        "  ]"
      ],
      "metadata": {
        "id": "y_w8tVTfrAp0"
      },
      "execution_count": 32,
      "outputs": []
    },
    {
      "cell_type": "code",
      "source": [
        "def model_builder():\n",
        "  inputA = tf.keras.Input(shape=(90, 90, 3))\n",
        "  inputB = tf.keras.Input(shape=(20,))\n",
        "\n",
        "  base_model = tf.keras.applications.EfficientNetB1(include_top=False, weights='imagenet', pooling='max')(inputA)\n",
        "  Normalizator_layer = keras.layers.BatchNormalization(axis=-1, momentum=0.99, epsilon=0.001 )(base_model)\n",
        "\n",
        "  x = tf.keras.layers.Dense(288, activation=\"relu\")(Normalizator_layer)\n",
        "  image_part = tf.keras.Model(inputs=inputA, outputs=x)\n",
        "\n",
        "  y = tf.keras.layers.Dense(8, activation=\"relu\")(inputB)\n",
        "  cate_part = tf.keras.Model(inputs=inputB, outputs=y)\n",
        "\n",
        "  combined = tf.keras.layers.concatenate([image_part.output, cate_part.output])\n",
        "\n",
        "  z = tf.keras.layers.Dense(128,\n",
        "                            kernel_regularizer = regularizers.l2(l = 0.02),\n",
        "                            activation='relu')(combined)\n",
        "  z = keras.layers.Dropout(rate=.5, seed=42)(z)\n",
        "  prediction_layer = keras.layers.Dense(1, activation='sigmoid')(z)\n",
        "\n",
        "  model = tf.keras.Model(inputs=[image_part.input, cate_part.input], outputs=prediction_layer)\n",
        "\n",
        "  model.compile(optimizer=tf.keras.optimizers.Adamax(learning_rate=0.001),\n",
        "              loss='binary_crossentropy',\n",
        "              metrics=['accuracy'])\n",
        "  return model"
      ],
      "metadata": {
        "id": "nnWirCMg0Wj9"
      },
      "execution_count": 46,
      "outputs": []
    },
    {
      "cell_type": "code",
      "source": [
        "model = model_builder()\n",
        "history = model.fit([X_train1, X_train2],\n",
        "                    y_train_mel, \n",
        "                    epochs=40, \n",
        "                    validation_split=0.2, \n",
        "                    callbacks=get_callbacks(),\n",
        "                    class_weight=class_weight_mel)"
      ],
      "metadata": {
        "colab": {
          "base_uri": "https://localhost:8080/"
        },
        "id": "6wLlCxZiyuVa",
        "outputId": "c460c3d7-5918-4449-dff3-6aa56a6883f4"
      },
      "execution_count": 89,
      "outputs": [
        {
          "output_type": "stream",
          "name": "stdout",
          "text": [
            "Epoch 1/40\n",
            "85/85 [==============================] - 25s 129ms/step - loss: 4.4520 - accuracy: 0.5858 - val_loss: 2.9964 - val_accuracy: 0.7433 - lr: 0.0010\n",
            "Epoch 2/40\n",
            "85/85 [==============================] - 8s 99ms/step - loss: 3.1772 - accuracy: 0.7110 - val_loss: 2.6506 - val_accuracy: 0.7611 - lr: 0.0010\n",
            "Epoch 3/40\n",
            "85/85 [==============================] - 8s 100ms/step - loss: 2.6528 - accuracy: 0.7823 - val_loss: 2.3060 - val_accuracy: 0.7834 - lr: 0.0010\n",
            "Epoch 4/40\n",
            "85/85 [==============================] - 8s 99ms/step - loss: 2.2680 - accuracy: 0.8336 - val_loss: 2.1245 - val_accuracy: 0.8012 - lr: 0.0010\n",
            "Epoch 5/40\n",
            "85/85 [==============================] - 8s 99ms/step - loss: 1.9919 - accuracy: 0.8640 - val_loss: 1.9730 - val_accuracy: 0.7938 - lr: 0.0010\n",
            "Epoch 6/40\n",
            "85/85 [==============================] - 8s 99ms/step - loss: 1.7693 - accuracy: 0.8889 - val_loss: 1.8180 - val_accuracy: 0.8027 - lr: 0.0010\n",
            "Epoch 7/40\n",
            "85/85 [==============================] - 9s 100ms/step - loss: 1.5652 - accuracy: 0.9138 - val_loss: 1.7265 - val_accuracy: 0.8131 - lr: 0.0010\n",
            "Epoch 8/40\n",
            "85/85 [==============================] - 8s 99ms/step - loss: 1.4132 - accuracy: 0.9365 - val_loss: 1.6532 - val_accuracy: 0.8056 - lr: 0.0010\n",
            "Epoch 9/40\n",
            "85/85 [==============================] - 8s 99ms/step - loss: 1.2824 - accuracy: 0.9391 - val_loss: 1.5657 - val_accuracy: 0.7997 - lr: 0.0010\n",
            "Epoch 10/40\n",
            "85/85 [==============================] - 9s 103ms/step - loss: 1.1376 - accuracy: 0.9569 - val_loss: 1.5122 - val_accuracy: 0.8131 - lr: 0.0010\n",
            "Epoch 11/40\n",
            "85/85 [==============================] - 8s 99ms/step - loss: 1.1097 - accuracy: 0.9487 - val_loss: 1.4169 - val_accuracy: 0.8264 - lr: 0.0010\n",
            "Epoch 12/40\n",
            "85/85 [==============================] - 8s 99ms/step - loss: 0.9781 - accuracy: 0.9599 - val_loss: 1.3707 - val_accuracy: 0.8160 - lr: 0.0010\n",
            "Epoch 13/40\n",
            "85/85 [==============================] - 8s 99ms/step - loss: 0.8698 - accuracy: 0.9718 - val_loss: 1.3620 - val_accuracy: 0.8056 - lr: 0.0010\n",
            "Epoch 14/40\n",
            "85/85 [==============================] - 8s 99ms/step - loss: 0.8356 - accuracy: 0.9695 - val_loss: 1.3055 - val_accuracy: 0.8145 - lr: 0.0010\n",
            "Epoch 15/40\n",
            "85/85 [==============================] - 8s 99ms/step - loss: 0.7481 - accuracy: 0.9744 - val_loss: 1.3037 - val_accuracy: 0.8086 - lr: 0.0010\n",
            "Epoch 16/40\n",
            "85/85 [==============================] - 8s 99ms/step - loss: 0.7123 - accuracy: 0.9721 - val_loss: 1.2498 - val_accuracy: 0.8086 - lr: 0.0010\n",
            "Epoch 17/40\n",
            "85/85 [==============================] - 8s 100ms/step - loss: 0.6786 - accuracy: 0.9755 - val_loss: 1.1839 - val_accuracy: 0.8116 - lr: 0.0010\n",
            "Epoch 18/40\n",
            "85/85 [==============================] - 8s 98ms/step - loss: 0.6025 - accuracy: 0.9818 - val_loss: 1.1908 - val_accuracy: 0.7997 - lr: 0.0010\n",
            "Epoch 19/40\n",
            "85/85 [==============================] - 8s 100ms/step - loss: 0.5648 - accuracy: 0.9799 - val_loss: 1.1528 - val_accuracy: 0.8145 - lr: 0.0010\n",
            "Epoch 20/40\n",
            "85/85 [==============================] - 8s 98ms/step - loss: 0.5219 - accuracy: 0.9796 - val_loss: 1.1722 - val_accuracy: 0.8056 - lr: 0.0010\n",
            "Epoch 21/40\n",
            "85/85 [==============================] - 8s 99ms/step - loss: 0.5055 - accuracy: 0.9822 - val_loss: 1.1292 - val_accuracy: 0.7997 - lr: 0.0010\n",
            "Epoch 22/40\n",
            "85/85 [==============================] - 8s 99ms/step - loss: 0.4710 - accuracy: 0.9851 - val_loss: 1.0898 - val_accuracy: 0.8190 - lr: 0.0010\n",
            "Epoch 23/40\n",
            "85/85 [==============================] - 8s 99ms/step - loss: 0.4259 - accuracy: 0.9844 - val_loss: 1.0798 - val_accuracy: 0.8027 - lr: 0.0010\n",
            "Epoch 24/40\n",
            "85/85 [==============================] - 9s 101ms/step - loss: 0.4003 - accuracy: 0.9851 - val_loss: 1.0388 - val_accuracy: 0.7967 - lr: 0.0010\n",
            "Epoch 25/40\n",
            "85/85 [==============================] - 8s 100ms/step - loss: 0.4071 - accuracy: 0.9822 - val_loss: 1.0088 - val_accuracy: 0.8145 - lr: 0.0010\n",
            "Epoch 26/40\n",
            "85/85 [==============================] - 8s 99ms/step - loss: 0.3735 - accuracy: 0.9799 - val_loss: 0.9430 - val_accuracy: 0.8309 - lr: 0.0010\n",
            "Epoch 27/40\n",
            "85/85 [==============================] - 8s 98ms/step - loss: 0.3410 - accuracy: 0.9833 - val_loss: 0.9609 - val_accuracy: 0.8190 - lr: 0.0010\n",
            "Epoch 28/40\n",
            "85/85 [==============================] - 8s 98ms/step - loss: 0.3515 - accuracy: 0.9807 - val_loss: 0.9683 - val_accuracy: 0.8145 - lr: 0.0010\n",
            "Epoch 29/40\n",
            "85/85 [==============================] - 8s 100ms/step - loss: 0.3164 - accuracy: 0.9840 - val_loss: 0.9322 - val_accuracy: 0.8190 - lr: 0.0010\n",
            "Epoch 30/40\n",
            "85/85 [==============================] - 8s 99ms/step - loss: 0.3260 - accuracy: 0.9803 - val_loss: 0.9031 - val_accuracy: 0.8101 - lr: 0.0010\n",
            "Epoch 31/40\n",
            "85/85 [==============================] - 8s 98ms/step - loss: 0.2768 - accuracy: 0.9929 - val_loss: 0.9345 - val_accuracy: 0.8012 - lr: 0.0010\n",
            "Epoch 32/40\n",
            "85/85 [==============================] - 8s 98ms/step - loss: 0.2864 - accuracy: 0.9874 - val_loss: 0.9408 - val_accuracy: 0.7953 - lr: 0.0010\n",
            "Epoch 33/40\n",
            "85/85 [==============================] - 8s 99ms/step - loss: 0.2838 - accuracy: 0.9848 - val_loss: 0.8831 - val_accuracy: 0.8160 - lr: 0.0010\n",
            "Epoch 34/40\n",
            "85/85 [==============================] - 8s 98ms/step - loss: 0.2711 - accuracy: 0.9833 - val_loss: 0.8853 - val_accuracy: 0.8012 - lr: 0.0010\n",
            "Epoch 35/40\n",
            "85/85 [==============================] - 8s 98ms/step - loss: 0.2642 - accuracy: 0.9903 - val_loss: 0.9057 - val_accuracy: 0.8145 - lr: 0.0010\n",
            "Epoch 36/40\n",
            "85/85 [==============================] - 8s 100ms/step - loss: 0.2749 - accuracy: 0.9844 - val_loss: 0.8760 - val_accuracy: 0.8101 - lr: 0.0010\n",
            "Epoch 37/40\n",
            "85/85 [==============================] - 8s 100ms/step - loss: 0.2480 - accuracy: 0.9870 - val_loss: 0.8571 - val_accuracy: 0.8175 - lr: 0.0010\n",
            "Epoch 38/40\n",
            "85/85 [==============================] - 8s 98ms/step - loss: 0.2263 - accuracy: 0.9915 - val_loss: 0.8712 - val_accuracy: 0.8101 - lr: 0.0010\n",
            "Epoch 39/40\n",
            "85/85 [==============================] - 8s 99ms/step - loss: 0.2501 - accuracy: 0.9833 - val_loss: 0.8450 - val_accuracy: 0.8131 - lr: 0.0010\n",
            "Epoch 40/40\n",
            "85/85 [==============================] - 8s 99ms/step - loss: 0.2264 - accuracy: 0.9859 - val_loss: 0.8063 - val_accuracy: 0.8101 - lr: 0.0010\n"
          ]
        }
      ]
    },
    {
      "cell_type": "code",
      "source": [
        "histories['mel'] = history"
      ],
      "metadata": {
        "id": "q4aGJNPA0lmm"
      },
      "execution_count": 90,
      "outputs": []
    },
    {
      "cell_type": "code",
      "source": [
        "pred=model.predict([X_test1, X_test2])\n",
        "y_pred_mel = np.round(pred)\n",
        "y_pred_mel = np.array(y_pred_mel)"
      ],
      "metadata": {
        "id": "nnQPXQEeUIb6"
      },
      "execution_count": 91,
      "outputs": []
    },
    {
      "cell_type": "code",
      "source": [
        "cm = confusion_matrix(y_test_mel, y_pred_mel)\n",
        "sns.heatmap(cm, annot=True, vmin=0, fmt='g', cmap='Blues', cbar=False)\n",
        "plt.xticks([0.5, 1.5], ['Other', 'mel'], rotation= 90)\n",
        "plt.yticks([0.5, 1.5], ['Other', 'mel'], rotation=0)\n",
        "plt.xlabel(\"Predicted\")\n",
        "plt.ylabel(\"Actual\")\n",
        "plt.title(\"Confusion Matrix (mel)\")\n",
        "plt.savefig(\"CM_onevsall_mel.png\")"
      ],
      "metadata": {
        "id": "WSwN2rcHUYtS",
        "colab": {
          "base_uri": "https://localhost:8080/",
          "height": 314
        },
        "outputId": "a2410987-418a-454d-bccd-4c02b13e4c5e"
      },
      "execution_count": 98,
      "outputs": [
        {
          "output_type": "display_data",
          "data": {
            "text/plain": [
              "<Figure size 432x288 with 1 Axes>"
            ],
            "image/png": "[encoded data removed]"
          },
          "metadata": {
            "needs_background": "light"
          }
        }
      ]
    },
    {
      "cell_type": "code",
      "source": [
        "clr = classification_report(y_test_mel, y_pred_mel, target_names=['other','mel'])\n",
        "print(\"Classification Report (mel):\")\n",
        "print(\"=====================================================\")\n",
        "print(clr)"
      ],
      "metadata": {
        "id": "kTr4sRdld1uf",
        "colab": {
          "base_uri": "https://localhost:8080/"
        },
        "outputId": "cd1dfc9a-95f0-4aea-83cb-b053f8c8e44d"
      },
      "execution_count": 101,
      "outputs": [
        {
          "output_type": "stream",
          "name": "stdout",
          "text": [
            "Classification Report (mel):\n",
            "=====================================================\n",
            "              precision    recall  f1-score   support\n",
            "\n",
            "       other       0.91      0.88      0.89       569\n",
            "         mel       0.59      0.68      0.63       153\n",
            "\n",
            "    accuracy                           0.83       722\n",
            "   macro avg       0.75      0.78      0.76       722\n",
            "weighted avg       0.84      0.83      0.84       722\n",
            "\n"
          ]
        }
      ]
    },
    {
      "cell_type": "code",
      "source": [
        "model = model_builder()\n",
        "history = model.fit([X_train1, X_train2],\n",
        "                    y_train_bcc, \n",
        "                    epochs=40, \n",
        "                    validation_split=0.2, \n",
        "                    callbacks=get_callbacks(),\n",
        "                    class_weight=class_weight_bcc)"
      ],
      "metadata": {
        "id": "c54HXISvsIkK",
        "colab": {
          "base_uri": "https://localhost:8080/"
        },
        "outputId": "6eda2740-f2f8-4926-f943-1e5c727e166f"
      },
      "execution_count": 94,
      "outputs": [
        {
          "output_type": "stream",
          "name": "stdout",
          "text": [
            "Epoch 1/40\n",
            "85/85 [==============================] - 26s 130ms/step - loss: 4.2435 - accuracy: 0.7017 - val_loss: 2.5921 - val_accuracy: 0.8591 - lr: 0.0010\n",
            "Epoch 2/40\n",
            "85/85 [==============================] - 8s 99ms/step - loss: 2.9293 - accuracy: 0.7961 - val_loss: 2.3060 - val_accuracy: 0.8368 - lr: 0.0010\n",
            "Epoch 3/40\n",
            "85/85 [==============================] - 8s 99ms/step - loss: 2.2972 - accuracy: 0.8793 - val_loss: 2.0704 - val_accuracy: 0.8887 - lr: 0.0010\n",
            "Epoch 4/40\n",
            "85/85 [==============================] - 8s 100ms/step - loss: 2.1311 - accuracy: 0.9064 - val_loss: 2.0034 - val_accuracy: 0.8442 - lr: 0.0010\n",
            "Epoch 5/40\n",
            "85/85 [==============================] - 8s 99ms/step - loss: 1.8859 - accuracy: 0.9209 - val_loss: 1.8180 - val_accuracy: 0.8932 - lr: 0.0010\n",
            "Epoch 6/40\n",
            "85/85 [==============================] - 8s 100ms/step - loss: 1.7211 - accuracy: 0.9421 - val_loss: 1.7166 - val_accuracy: 0.8858 - lr: 0.0010\n",
            "Epoch 7/40\n",
            "85/85 [==============================] - 8s 100ms/step - loss: 1.5900 - accuracy: 0.9536 - val_loss: 1.6401 - val_accuracy: 0.8887 - lr: 0.0010\n",
            "Epoch 8/40\n",
            "85/85 [==============================] - 8s 100ms/step - loss: 1.4567 - accuracy: 0.9595 - val_loss: 1.5111 - val_accuracy: 0.9006 - lr: 0.0010\n",
            "Epoch 9/40\n",
            "85/85 [==============================] - 8s 99ms/step - loss: 1.3160 - accuracy: 0.9759 - val_loss: 1.4341 - val_accuracy: 0.9125 - lr: 0.0010\n",
            "Epoch 10/40\n",
            "85/85 [==============================] - 8s 100ms/step - loss: 1.2517 - accuracy: 0.9699 - val_loss: 1.3477 - val_accuracy: 0.9110 - lr: 0.0010\n",
            "Epoch 11/40\n",
            "85/85 [==============================] - 9s 100ms/step - loss: 1.1558 - accuracy: 0.9751 - val_loss: 1.2956 - val_accuracy: 0.9154 - lr: 0.0010\n",
            "Epoch 12/40\n",
            "85/85 [==============================] - 8s 97ms/step - loss: 1.0678 - accuracy: 0.9792 - val_loss: 1.3068 - val_accuracy: 0.8887 - lr: 0.0010\n",
            "Epoch 13/40\n",
            "85/85 [==============================] - 8s 100ms/step - loss: 0.9728 - accuracy: 0.9859 - val_loss: 1.1865 - val_accuracy: 0.9050 - lr: 0.0010\n",
            "Epoch 14/40\n",
            "85/85 [==============================] - 8s 100ms/step - loss: 0.9279 - accuracy: 0.9885 - val_loss: 1.1510 - val_accuracy: 0.9036 - lr: 0.0010\n",
            "Epoch 15/40\n",
            "85/85 [==============================] - 9s 100ms/step - loss: 0.8484 - accuracy: 0.9885 - val_loss: 1.1013 - val_accuracy: 0.9021 - lr: 0.0010\n",
            "Epoch 16/40\n",
            "85/85 [==============================] - 8s 97ms/step - loss: 0.8169 - accuracy: 0.9851 - val_loss: 1.1107 - val_accuracy: 0.8976 - lr: 0.0010\n",
            "Epoch 17/40\n",
            "85/85 [==============================] - 8s 100ms/step - loss: 0.7306 - accuracy: 0.9885 - val_loss: 0.9861 - val_accuracy: 0.9169 - lr: 0.0010\n",
            "Epoch 18/40\n",
            "85/85 [==============================] - 8s 99ms/step - loss: 0.7233 - accuracy: 0.9840 - val_loss: 0.9356 - val_accuracy: 0.9050 - lr: 0.0010\n",
            "Epoch 19/40\n",
            "85/85 [==============================] - 8s 100ms/step - loss: 0.6754 - accuracy: 0.9751 - val_loss: 0.8377 - val_accuracy: 0.9214 - lr: 0.0010\n",
            "Epoch 20/40\n",
            "85/85 [==============================] - 8s 99ms/step - loss: 0.6156 - accuracy: 0.9870 - val_loss: 0.8253 - val_accuracy: 0.9184 - lr: 0.0010\n",
            "Epoch 21/40\n",
            "85/85 [==============================] - 8s 100ms/step - loss: 0.5647 - accuracy: 0.9915 - val_loss: 0.8094 - val_accuracy: 0.9125 - lr: 0.0010\n",
            "Epoch 22/40\n",
            "85/85 [==============================] - 8s 99ms/step - loss: 0.5327 - accuracy: 0.9941 - val_loss: 0.7877 - val_accuracy: 0.9184 - lr: 0.0010\n",
            "Epoch 23/40\n",
            "85/85 [==============================] - 8s 99ms/step - loss: 0.5750 - accuracy: 0.9833 - val_loss: 0.7263 - val_accuracy: 0.9288 - lr: 0.0010\n",
            "Epoch 24/40\n",
            "85/85 [==============================] - 8s 100ms/step - loss: 0.5035 - accuracy: 0.9870 - val_loss: 0.7255 - val_accuracy: 0.9243 - lr: 0.0010\n",
            "Epoch 25/40\n",
            "85/85 [==============================] - 8s 100ms/step - loss: 0.4624 - accuracy: 0.9933 - val_loss: 0.7218 - val_accuracy: 0.9154 - lr: 0.0010\n",
            "Epoch 26/40\n",
            "85/85 [==============================] - 8s 99ms/step - loss: 0.4414 - accuracy: 0.9900 - val_loss: 0.6949 - val_accuracy: 0.9184 - lr: 0.0010\n",
            "Epoch 27/40\n",
            "85/85 [==============================] - 8s 98ms/step - loss: 0.4495 - accuracy: 0.9915 - val_loss: 0.7123 - val_accuracy: 0.9095 - lr: 0.0010\n",
            "Epoch 28/40\n",
            "85/85 [==============================] - 8s 99ms/step - loss: 0.4142 - accuracy: 0.9896 - val_loss: 0.6492 - val_accuracy: 0.9184 - lr: 0.0010\n",
            "Epoch 29/40\n",
            "85/85 [==============================] - 8s 99ms/step - loss: 0.3736 - accuracy: 0.9944 - val_loss: 0.6075 - val_accuracy: 0.9258 - lr: 0.0010\n",
            "Epoch 30/40\n",
            "85/85 [==============================] - 8s 97ms/step - loss: 0.3782 - accuracy: 0.9963 - val_loss: 0.6241 - val_accuracy: 0.9199 - lr: 0.0010\n",
            "Epoch 31/40\n",
            "85/85 [==============================] - 8s 100ms/step - loss: 0.3738 - accuracy: 0.9870 - val_loss: 0.6011 - val_accuracy: 0.9199 - lr: 0.0010\n",
            "Epoch 32/40\n",
            "85/85 [==============================] - 8s 99ms/step - loss: 0.3504 - accuracy: 0.9851 - val_loss: 0.5988 - val_accuracy: 0.9139 - lr: 0.0010\n",
            "Epoch 33/40\n",
            "85/85 [==============================] - 8s 99ms/step - loss: 0.3380 - accuracy: 0.9926 - val_loss: 0.5772 - val_accuracy: 0.9169 - lr: 0.0010\n",
            "Epoch 34/40\n",
            "85/85 [==============================] - 8s 97ms/step - loss: 0.3177 - accuracy: 0.9948 - val_loss: 0.5936 - val_accuracy: 0.9125 - lr: 0.0010\n",
            "Epoch 35/40\n",
            "85/85 [==============================] - 8s 100ms/step - loss: 0.3008 - accuracy: 0.9952 - val_loss: 0.5752 - val_accuracy: 0.9125 - lr: 0.0010\n",
            "Epoch 36/40\n",
            "85/85 [==============================] - 8s 97ms/step - loss: 0.3072 - accuracy: 0.9948 - val_loss: 0.6039 - val_accuracy: 0.8976 - lr: 0.0010\n",
            "Epoch 37/40\n",
            "85/85 [==============================] - 8s 97ms/step - loss: 0.3016 - accuracy: 0.9907 - val_loss: 0.5899 - val_accuracy: 0.9080 - lr: 0.0010\n",
            "Epoch 38/40\n",
            "85/85 [==============================] - 8s 98ms/step - loss: 0.2852 - accuracy: 0.9948 - val_loss: 0.5769 - val_accuracy: 0.9036 - lr: 0.0010\n",
            "Epoch 39/40\n",
            "85/85 [==============================] - 8s 97ms/step - loss: 0.2886 - accuracy: 0.9915 - val_loss: 0.5962 - val_accuracy: 0.8976 - lr: 0.0010\n",
            "Epoch 40/40\n",
            "85/85 [==============================] - 8s 100ms/step - loss: 0.2630 - accuracy: 0.9955 - val_loss: 0.5695 - val_accuracy: 0.9036 - lr: 0.0010\n"
          ]
        }
      ]
    },
    {
      "cell_type": "code",
      "source": [
        "histories['bcc'] = history"
      ],
      "metadata": {
        "id": "gg_ERpK3G3A_"
      },
      "execution_count": 95,
      "outputs": []
    },
    {
      "cell_type": "code",
      "source": [
        "pred=model.predict([X_test1, X_test2])\n",
        "y_pred_bcc = np.round(pred)\n",
        "y_pred_bcc = np.array(y_pred_bcc)"
      ],
      "metadata": {
        "id": "8QjY2PofG73o"
      },
      "execution_count": 96,
      "outputs": []
    },
    {
      "cell_type": "code",
      "source": [
        "cm = confusion_matrix(y_test_bcc, y_pred_bcc)\n",
        "sns.heatmap(cm, annot=True, vmin=0, fmt='g', cmap='Blues', cbar=False)\n",
        "plt.xticks([0.5, 1.5], ['Other', 'bcc'], rotation= 90)\n",
        "plt.yticks([0.5, 1.5], ['Other', 'bcc'], rotation=0)\n",
        "plt.xlabel(\"Predicted\")\n",
        "plt.ylabel(\"Actual\")\n",
        "plt.title(\"Confusion Matrix (bcc)\")\n",
        "plt.savefig(\"CM_onevsall_bcc.png\")"
      ],
      "metadata": {
        "colab": {
          "base_uri": "https://localhost:8080/",
          "height": 314
        },
        "id": "nVT32JHQHDXV",
        "outputId": "7b14c1b2-2641-4df2-adf5-9e263a9d6e7b"
      },
      "execution_count": 99,
      "outputs": [
        {
          "output_type": "display_data",
          "data": {
            "text/plain": [
              "<Figure size 432x288 with 1 Axes>"
            ],
            "image/png": "[encoded data removed]"
          },
          "metadata": {
            "needs_background": "light"
          }
        }
      ]
    },
    {
      "cell_type": "code",
      "source": [
        "clr = classification_report(y_test_bcc, y_pred_bcc, target_names=['other','bcc'])\n",
        "print(\"Classification Report (bcc):\")\n",
        "print(\"=====================================================\")\n",
        "print(clr)"
      ],
      "metadata": {
        "colab": {
          "base_uri": "https://localhost:8080/"
        },
        "id": "bvLZm7ttHMWT",
        "outputId": "8bb35956-9ba6-4fa4-d125-3b382f3b0799"
      },
      "execution_count": 100,
      "outputs": [
        {
          "output_type": "stream",
          "name": "stdout",
          "text": [
            "Classification Report (bcc):\n",
            "=====================================================\n",
            "              precision    recall  f1-score   support\n",
            "\n",
            "       other       0.97      0.95      0.96       643\n",
            "         bcc       0.66      0.76      0.71        79\n",
            "\n",
            "    accuracy                           0.93       722\n",
            "   macro avg       0.81      0.86      0.83       722\n",
            "weighted avg       0.94      0.93      0.93       722\n",
            "\n"
          ]
        }
      ]
    },
    {
      "cell_type": "code",
      "source": [
        "from sklearn.metrics import roc_curve\n",
        "fpr_mel, tpr_mel, thresholds_mel = roc_curve(y_test_mel, y_pred_mel)\n",
        "fpr_bcc, tpr_bcc, thresholds_bcc = roc_curve(y_test_bcc, y_pred_bcc)"
      ],
      "metadata": {
        "id": "aNCuWVXmKgt-"
      },
      "execution_count": 102,
      "outputs": []
    },
    {
      "cell_type": "code",
      "source": [
        "from sklearn.metrics import auc\n",
        "auc_mel = auc(fpr_mel, tpr_mel)\n",
        "auc_bcc = auc(fpr_bcc, tpr_bcc)"
      ],
      "metadata": {
        "id": "8an7kB6XK50O"
      },
      "execution_count": 103,
      "outputs": []
    },
    {
      "cell_type": "code",
      "source": [
        "plt.figure(1)\n",
        "plt.plot([0, 1], [0, 1], 'k--')\n",
        "plt.plot(fpr_mel, tpr_mel, label='mel (area = {:.3f})'.format(auc_mel))\n",
        "plt.plot(fpr_bcc, tpr_bcc, label='bcc (area = {:.3f})'.format(auc_bcc))\n",
        "plt.xlabel('False positive rate')\n",
        "plt.ylabel('True positive rate')\n",
        "plt.title('ROC curve')\n",
        "plt.legend(loc='best')\n",
        "plt.savefig(\"ROC.png\")\n",
        "plt.show()"
      ],
      "metadata": {
        "colab": {
          "base_uri": "https://localhost:8080/",
          "height": 295
        },
        "id": "H4xvcHR1LJLi",
        "outputId": "033ad3fa-b13d-4e97-a55e-11004dbcecb0"
      },
      "execution_count": 105,
      "outputs": [
        {
          "output_type": "display_data",
          "data": {
            "text/plain": [
              "<Figure size 432x288 with 1 Axes>"
            ],
            "image/png": "[encoded data removed]"
          },
          "metadata": {
            "needs_background": "light"
          }
        }
      ]
    },
    {
      "cell_type": "code",
      "source": [
        "plt.figure(2)\n",
        "plt.xlim(0, 0.4)\n",
        "plt.ylim(0.3, 0.9)\n",
        "plt.plot([0, 1], [0, 1], 'k--')\n",
        "plt.plot(fpr_mel, tpr_mel, label='mel (area = {:.3f})'.format(auc_mel))\n",
        "plt.plot(fpr_bcc, tpr_bcc, label='bcc (area = {:.3f})'.format(auc_bcc))\n",
        "plt.xlabel('False positive rate')\n",
        "plt.ylabel('True positive rate')\n",
        "plt.title('ROC curve (zoomed in at top left)')\n",
        "plt.legend(loc='best')\n",
        "plt.savefig(\"ROC_zoom.png\")\n",
        "plt.show()"
      ],
      "metadata": {
        "colab": {
          "base_uri": "https://localhost:8080/",
          "height": 295
        },
        "id": "PcuwWJY8LlF3",
        "outputId": "702afe88-7b5e-4076-cd12-48385fa24c62"
      },
      "execution_count": 107,
      "outputs": [
        {
          "output_type": "display_data",
          "data": {
            "text/plain": [
              "<Figure size 432x288 with 1 Axes>"
            ],
            "image/png": "[encoded data removed]"
          },
          "metadata": {
            "needs_background": "light"
          }
        }
      ]
    }
  ]
}