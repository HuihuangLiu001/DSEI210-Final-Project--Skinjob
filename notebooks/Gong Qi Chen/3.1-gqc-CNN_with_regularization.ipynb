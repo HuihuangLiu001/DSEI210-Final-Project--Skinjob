{
  "nbformat": 4,
  "nbformat_minor": 0,
  "metadata": {
    "colab": {
      "name": "CNN_with_regularization.ipynb",
      "provenance": [],
      "collapsed_sections": [],
      "machine_shape": "hm"
    },
    "kernelspec": {
      "name": "python3",
      "display_name": "Python 3"
    },
    "language_info": {
      "name": "python"
    },
    "accelerator": "GPU"
  },
  "cells": [
    {
      "cell_type": "code",
      "source": [
        "!pwd\n",
        "\n",
        "import os\n",
        "os.environ['KAGGLE_CONFIG_DIR'] = \"/content\""
      ],
      "metadata": {
        "colab": {
          "base_uri": "https://localhost:8080/"
        },
        "id": "ligmKdBjg-Qv",
        "outputId": "56ca0f84-be2e-4cda-d1d2-190b66867cc7"
      },
      "execution_count": 1,
      "outputs": [
        {
          "output_type": "stream",
          "name": "stdout",
          "text": [
            "/content\n"
          ]
        }
      ]
    },
    {
      "cell_type": "code",
      "source": [
        "!kaggle datasets download -d surajghuwalewala/ham1000-segmentation-and-classification\n",
        "!unzip /content/ham1000-segmentation-and-classification.zip"
      ],
      "metadata": {
        "id": "2791xOLDg90e"
      },
      "execution_count": null,
      "outputs": []
    },
    {
      "cell_type": "code",
      "source": [
        "!pip install git+https://github.com/tensorflow/docs"
      ],
      "metadata": {
        "colab": {
          "base_uri": "https://localhost:8080/"
        },
        "id": "b_03fYt9CKVo",
        "outputId": "bed5bf50-5d4b-4198-94be-673e31e829d3"
      },
      "execution_count": 3,
      "outputs": [
        {
          "output_type": "stream",
          "name": "stdout",
          "text": [
            "Collecting git+https://github.com/tensorflow/docs\n",
            "  Cloning https://github.com/tensorflow/docs to /tmp/pip-req-build-v075xr4b\n",
            "  Running command git clone -q https://github.com/tensorflow/docs /tmp/pip-req-build-v075xr4b\n",
            "Requirement already satisfied: astor in /usr/local/lib/python3.7/dist-packages (from tensorflow-docs==0.0.0.dev0) (0.8.1)\n",
            "Requirement already satisfied: absl-py in /usr/local/lib/python3.7/dist-packages (from tensorflow-docs==0.0.0.dev0) (1.0.0)\n",
            "Requirement already satisfied: jinja2 in /usr/local/lib/python3.7/dist-packages (from tensorflow-docs==0.0.0.dev0) (2.11.3)\n",
            "Requirement already satisfied: protobuf>=3.14 in /usr/local/lib/python3.7/dist-packages (from tensorflow-docs==0.0.0.dev0) (3.17.3)\n",
            "Requirement already satisfied: pyyaml in /usr/local/lib/python3.7/dist-packages (from tensorflow-docs==0.0.0.dev0) (3.13)\n",
            "Requirement already satisfied: six>=1.9 in /usr/local/lib/python3.7/dist-packages (from protobuf>=3.14->tensorflow-docs==0.0.0.dev0) (1.15.0)\n",
            "Requirement already satisfied: MarkupSafe>=0.23 in /usr/local/lib/python3.7/dist-packages (from jinja2->tensorflow-docs==0.0.0.dev0) (2.0.1)\n",
            "Building wheels for collected packages: tensorflow-docs\n",
            "  Building wheel for tensorflow-docs (setup.py) ... \u001b[?25l\u001b[?25hdone\n",
            "  Created wheel for tensorflow-docs: filename=tensorflow_docs-0.0.0.dev0-py3-none-any.whl size=179891 sha256=454868c3e49750b8f1511b0e00d9b5069d6993f728b49c800678a7e1bc78b7db\n",
            "  Stored in directory: /tmp/pip-ephem-wheel-cache-2cg84htj/wheels/cc/c4/d8/5341e93b6376c5c929c49469fce21155eb69cef1a4da4ce32c\n",
            "Successfully built tensorflow-docs\n",
            "Installing collected packages: tensorflow-docs\n",
            "Successfully installed tensorflow-docs-0.0.0.dev0\n"
          ]
        }
      ]
    },
    {
      "cell_type": "code",
      "execution_count": 4,
      "metadata": {
        "id": "yw-BBLyMKR0D"
      },
      "outputs": [],
      "source": [
        "import numpy as np \n",
        "import pandas as pd\n",
        "import tensorflow as tf\n",
        "\n",
        "from PIL import Image\n",
        "\n",
        "from tensorflow import keras\n",
        "import tensorflow_docs as tfdocs\n",
        "import tensorflow_docs.modeling\n",
        "import tensorflow_docs.plots\n",
        "from tensorflow.keras import regularizers\n",
        "from tensorflow.keras.preprocessing.image import ImageDataGenerator\n",
        "from keras.utils.np_utils import to_categorical\n",
        "import matplotlib.pyplot as plt\n",
        "from sklearn.model_selection import train_test_split\n",
        "from sklearn.metrics import confusion_matrix, classification_report\n",
        "import seaborn as sns\n",
        "from matplotlib.pyplot import imshow"
      ]
    },
    {
      "cell_type": "code",
      "source": [
        "def undersample(df, count, rs=42):\n",
        "  result=[]\n",
        "  df_group = df.groupby('dx')\n",
        "  for x in df['dx'].unique():\n",
        "    group = df_group.get_group(x)\n",
        "    num = int(group['dx'].value_counts())\n",
        "    if num >= count:\n",
        "      s=group.sample(count, axis=0, random_state=rs)\n",
        "    else:\n",
        "      s=group.sample(frac=1, axis=0, random_state=rs)\n",
        "    result.append(s)\n",
        "  return pd.concat(result, axis=0).reset_index(drop=True)\n",
        "\n",
        "def oversample(df, count, rs=42):\n",
        "  lst = [df]\n",
        "  for class_index, group in df.groupby('dx'):\n",
        "      lst.append(group.sample(count-len(group), replace=True, random_state=rs))\n",
        "  df_new = pd.concat(lst)\n",
        "  return df_new\n",
        "\n",
        "def img_np_convert(df, image_path, h, w):\n",
        "  df['image_id'] = image_path + df['image_id'] +'.jpg'\n",
        "  df['image'] = df['image_id'].map(lambda x: np.asarray(Image.open(x).resize((h, w))).astype(np.float32))\n",
        "  return df\n",
        "\n",
        "def img_np_convert_scaled(df, image_path, h, w):\n",
        "  df['image_id'] = image_path + df['image_id'] +'.jpg'\n",
        "  df['image'] = df['image_id'].map(lambda x: (np.asarray(Image.open(x).resize((h, w)))/255).astype(np.float32))\n",
        "  return df\n",
        "\n",
        "def my_split(df, train_size, test_size, val_size, rs=42):\n",
        "  valid_test_split = val_size / test_size\n",
        "\n",
        "  df_train, df_test_val = train_test_split(df, test_size=1-train_size, shuffle=True, random_state=rs)\n",
        "  df_val, df_test = train_test_split(df_test_val, test_size=valid_test_split, shuffle=True, random_state=rs)\n",
        "\n",
        "  df_train.reset_index(inplace=True)\n",
        "  return df_train, df_test, df_val\n",
        "\n",
        "def weight_cal(df):\n",
        "  class_weight={}\n",
        "  labels = list(df['dx'].unique())\n",
        "  labels.sort()\n",
        "  count = df['dx'].value_counts()\n",
        "  for idx in range(7):\n",
        "    class_weight[idx] = count['nv']/count[labels[idx]]\n",
        "  return class_weight, labels\n",
        "\n",
        "def df_to_np1(df):\n",
        "  image = np.asarray(df['image'].to_list()) \n",
        "  target_df = df['dx']\n",
        "  target = pd.get_dummies(data=target_df, columns=['dx']).to_numpy()\n",
        "  return image, target\n",
        "\n",
        "def df_to_np2(df):\n",
        "  df['image'] = df['image'].map(lambda x : x.flatten())\n",
        "  i_feature = np.asarray(df['image'].tolist())\n",
        "  df_feature = df.iloc[:, 3:-1]\n",
        "  c_feature = df_feature.loc[:, ~df_feature.columns.isin(['sex', 'dx'])].to_numpy()\n",
        "  features = np.concatenate((i_feature, c_feature), axis=1)\n",
        "  \n",
        "  target_df = df['dx']\n",
        "  target = pd.get_dummies(data=target_df, columns=['dx']).to_numpy()\n",
        "  return features, target\n",
        "\n",
        "def image_augment(df, target, count, size, rs=42):\n",
        "  df_group = df.groupby('dx')\n",
        "  group = df_group.get_group(target)\n",
        "  s=group.sample(count, axis=0, random_state=rs)\n",
        "\n",
        "  datagen = ImageDataGenerator(\n",
        "    rotation_range = 20,\n",
        "    width_shift_range = 0.1,\n",
        "    height_shift_range = 0.1,\n",
        "    horizontal_flip = True,\n",
        "    fill_mode='nearest')\n",
        "  \n",
        "  for index, row in s.iterrows():\n",
        "    image = row['image'].reshape((1, ) + row['image'].shape)\n",
        "    gen = datagen.flow(image, batch_size=size)\n",
        "    input = row.to_list()\n",
        "    for i in range(size):\n",
        "      img = next(gen)\n",
        "      input[-1] = img[0]\n",
        "      df.loc[len(df.index)] = input\n",
        "  return None"
      ],
      "metadata": {
        "id": "n0k_XT9AhNwJ"
      },
      "execution_count": 5,
      "outputs": []
    },
    {
      "cell_type": "code",
      "source": [
        "def prep_pipeline1(upper_size, h, w, aug_targets, aug_count, aug_size, rs=42):\n",
        "  df_o = pd.read_csv('../content/drive/MyDrive/DSE_I2100/data/HAM10000_metadata.csv')\n",
        "  image_path = r'../content/images/'\n",
        "  df_u = undersample(df_o, upper_size)\n",
        "  df_u['age'].fillna(value=int(df_u['age'].mean()), inplace=True)\n",
        "  df_u['age'] = df_u['age'].astype(np.float32)\n",
        "  \n",
        "  df = img_np_convert(df_u, image_path, h, w)\n",
        "\n",
        "  df_train, df_test, df_val = my_split(df, 0.7, 0.2, 0.1, rs)\n",
        "\n",
        "  for target in aug_targets:\n",
        "    image_augment(df_train, target, aug_count, aug_size, rs)\n",
        "\n",
        "  weight, labels = weight_cal(df_train)\n",
        "\n",
        "  X_train, y_train = df_to_np1(df_train)\n",
        "  X_test, y_test = df_to_np1(df_test)\n",
        "  X_val, y_val = df_to_np1(df_val)\n",
        "  return (X_train, y_train), (X_test, y_test), (X_val, y_val), weight, labels"
      ],
      "metadata": {
        "id": "iM90U2n8hTcB"
      },
      "execution_count": 6,
      "outputs": []
    },
    {
      "cell_type": "code",
      "source": [
        "h = 90\n",
        "w = 90\n",
        "aug_targets = ['mel', 'bcc']\n",
        "aug_count = 50\n",
        "aug_size = 4\n",
        "\n",
        "train_set, test_set, val_set, class_weight, labels = prep_pipeline1(6000, h, w, aug_targets, aug_count, aug_size)"
      ],
      "metadata": {
        "id": "HR5f2C3lhlN2"
      },
      "execution_count": 7,
      "outputs": []
    },
    {
      "cell_type": "code",
      "source": [
        "X_train = train_set[0]\n",
        "y_train = train_set[1]\n",
        "\n",
        "X_val = val_set[0]\n",
        "y_val = val_set[1]\n",
        "\n",
        "X_test = test_set[0]\n",
        "y_test = test_set[1]"
      ],
      "metadata": {
        "id": "5P7m23drho63"
      },
      "execution_count": 8,
      "outputs": []
    },
    {
      "cell_type": "code",
      "source": [
        "print(X_train.shape, X_test.shape, X_val.shape)"
      ],
      "metadata": {
        "colab": {
          "base_uri": "https://localhost:8080/"
        },
        "id": "oH17lLCuhsDO",
        "outputId": "966030f6-027d-4e32-fc31-14d720817e54"
      },
      "execution_count": 9,
      "outputs": [
        {
          "output_type": "stream",
          "name": "stdout",
          "text": [
            "(6916, 90, 90, 3) (1397, 90, 90, 3) (1397, 90, 90, 3)\n"
          ]
        }
      ]
    },
    {
      "cell_type": "code",
      "source": [
        "print(y_train.shape, y_test.shape, y_val.shape)"
      ],
      "metadata": {
        "colab": {
          "base_uri": "https://localhost:8080/"
        },
        "id": "UzF_cxJohsf4",
        "outputId": "a8830a58-a01b-42ca-efbc-385f7a1123f9"
      },
      "execution_count": 10,
      "outputs": [
        {
          "output_type": "stream",
          "name": "stdout",
          "text": [
            "(6916, 7) (1397, 7) (1397, 7)\n"
          ]
        }
      ]
    },
    {
      "cell_type": "code",
      "source": [
        "channels = 3\n",
        "img_shape = (h, w, channels)"
      ],
      "metadata": {
        "id": "vEh3CEmQhxDG"
      },
      "execution_count": 11,
      "outputs": []
    },
    {
      "cell_type": "code",
      "source": [
        "def get_callbacks():\n",
        "  return [\n",
        "    tf.keras.callbacks.EarlyStopping(monitor='val_loss', patience=10, verbose=1, mode='auto', restore_best_weights=True),\n",
        "    tf.keras.callbacks.ReduceLROnPlateau(monitor='val_loss', factor=0.5, patience=5, verbose=1, mode='auto')      \n",
        "  ]"
      ],
      "metadata": {
        "id": "S2Ww9L6RApQI"
      },
      "execution_count": 17,
      "outputs": []
    },
    {
      "cell_type": "code",
      "source": [
        "histories = {}"
      ],
      "metadata": {
        "id": "BIL5VD0DDKoD"
      },
      "execution_count": 13,
      "outputs": []
    },
    {
      "cell_type": "code",
      "source": [
        "l2_cnn_model = tf.keras.Sequential([                                                               \n",
        "   keras.layers.Rescaling(scale=1./255, offset=0.0, input_shape=img_shape),\n",
        "   keras.layers.Conv2D(90, (3, 3), activation = 'relu'),\n",
        "   keras.layers.MaxPooling2D(2, 2),\n",
        "   keras.layers.Conv2D(180, (3, 3), activation = 'relu'),\n",
        "   keras.layers.MaxPooling2D(2, 2),\n",
        "   keras.layers.Conv2D(180, (3, 3), activation = 'relu'),\n",
        "   keras.layers.Flatten(),\n",
        "   keras.layers.Dense(180, activation='relu',\n",
        "                      kernel_regularizer=regularizers.l2(0.001)),\n",
        "   keras.layers.Dropout(rate=.5, seed=42),\n",
        "   keras.layers.Dense(7, activation='softmax')                                 \n",
        "])\n"
      ],
      "metadata": {
        "id": "x_jnSb9dlwZi"
      },
      "execution_count": 18,
      "outputs": []
    },
    {
      "cell_type": "code",
      "source": [
        "base_learning_rate = 0.0005\n",
        "l2_cnn_model.compile(optimizer=tf.keras.optimizers.Adamax(learning_rate=base_learning_rate), \n",
        "                     loss='binary_crossentropy', \n",
        "                     metrics=['accuracy'])"
      ],
      "metadata": {
        "id": "mILMR-OMivJc"
      },
      "execution_count": 23,
      "outputs": []
    },
    {
      "cell_type": "code",
      "source": [
        "l2_cnn_hist = l2_cnn_model.fit(X_train, y_train, epochs=40, validation_data=(X_val, y_val), callbacks=get_callbacks())"
      ],
      "metadata": {
        "id": "0fM2Iic4lw0M",
        "colab": {
          "base_uri": "https://localhost:8080/"
        },
        "outputId": "737b7ea1-f573-4ddf-e108-82f67acff766"
      },
      "execution_count": 24,
      "outputs": [
        {
          "output_type": "stream",
          "name": "stdout",
          "text": [
            "Epoch 1/40\n",
            "217/217 [==============================] - 8s 33ms/step - loss: 0.2410 - accuracy: 0.6883 - val_loss: 0.2070 - val_accuracy: 0.7244 - lr: 5.0000e-04\n",
            "Epoch 2/40\n",
            "217/217 [==============================] - 7s 32ms/step - loss: 0.2187 - accuracy: 0.7032 - val_loss: 0.1974 - val_accuracy: 0.7130 - lr: 5.0000e-04\n",
            "Epoch 3/40\n",
            "217/217 [==============================] - 7s 32ms/step - loss: 0.2095 - accuracy: 0.7121 - val_loss: 0.2005 - val_accuracy: 0.7029 - lr: 5.0000e-04\n",
            "Epoch 4/40\n",
            "217/217 [==============================] - 7s 32ms/step - loss: 0.2054 - accuracy: 0.7160 - val_loss: 0.1870 - val_accuracy: 0.7316 - lr: 5.0000e-04\n",
            "Epoch 5/40\n",
            "217/217 [==============================] - 7s 32ms/step - loss: 0.2021 - accuracy: 0.7299 - val_loss: 0.1888 - val_accuracy: 0.7323 - lr: 5.0000e-04\n",
            "Epoch 6/40\n",
            "217/217 [==============================] - 7s 32ms/step - loss: 0.1980 - accuracy: 0.7231 - val_loss: 0.1825 - val_accuracy: 0.7301 - lr: 5.0000e-04\n",
            "Epoch 7/40\n",
            "217/217 [==============================] - 7s 32ms/step - loss: 0.1959 - accuracy: 0.7243 - val_loss: 0.1840 - val_accuracy: 0.7301 - lr: 5.0000e-04\n",
            "Epoch 8/40\n",
            "217/217 [==============================] - 7s 31ms/step - loss: 0.1934 - accuracy: 0.7316 - val_loss: 0.1840 - val_accuracy: 0.7266 - lr: 5.0000e-04\n",
            "Epoch 9/40\n",
            "217/217 [==============================] - 7s 32ms/step - loss: 0.1921 - accuracy: 0.7318 - val_loss: 0.1862 - val_accuracy: 0.7344 - lr: 5.0000e-04\n",
            "Epoch 10/40\n",
            "217/217 [==============================] - 7s 32ms/step - loss: 0.1914 - accuracy: 0.7389 - val_loss: 0.1931 - val_accuracy: 0.7273 - lr: 5.0000e-04\n",
            "Epoch 11/40\n",
            "215/217 [============================>.] - ETA: 0s - loss: 0.1885 - accuracy: 0.7392\n",
            "Epoch 11: ReduceLROnPlateau reducing learning rate to 0.0002500000118743628.\n",
            "217/217 [==============================] - 7s 31ms/step - loss: 0.1886 - accuracy: 0.7387 - val_loss: 0.1866 - val_accuracy: 0.7194 - lr: 5.0000e-04\n",
            "Epoch 12/40\n",
            "217/217 [==============================] - 7s 32ms/step - loss: 0.1779 - accuracy: 0.7590 - val_loss: 0.1744 - val_accuracy: 0.7487 - lr: 2.5000e-04\n",
            "Epoch 13/40\n",
            "217/217 [==============================] - 7s 32ms/step - loss: 0.1741 - accuracy: 0.7627 - val_loss: 0.1775 - val_accuracy: 0.7473 - lr: 2.5000e-04\n",
            "Epoch 14/40\n",
            "217/217 [==============================] - 7s 31ms/step - loss: 0.1697 - accuracy: 0.7711 - val_loss: 0.1782 - val_accuracy: 0.7480 - lr: 2.5000e-04\n",
            "Epoch 15/40\n",
            "217/217 [==============================] - 7s 32ms/step - loss: 0.1706 - accuracy: 0.7676 - val_loss: 0.1739 - val_accuracy: 0.7516 - lr: 2.5000e-04\n",
            "Epoch 16/40\n",
            "217/217 [==============================] - 7s 31ms/step - loss: 0.1666 - accuracy: 0.7775 - val_loss: 0.1775 - val_accuracy: 0.7473 - lr: 2.5000e-04\n",
            "Epoch 17/40\n",
            "217/217 [==============================] - 7s 32ms/step - loss: 0.1664 - accuracy: 0.7807 - val_loss: 0.1721 - val_accuracy: 0.7530 - lr: 2.5000e-04\n",
            "Epoch 18/40\n",
            "217/217 [==============================] - 7s 32ms/step - loss: 0.1616 - accuracy: 0.7906 - val_loss: 0.1762 - val_accuracy: 0.7566 - lr: 2.5000e-04\n",
            "Epoch 19/40\n",
            "217/217 [==============================] - 7s 32ms/step - loss: 0.1613 - accuracy: 0.7906 - val_loss: 0.1809 - val_accuracy: 0.7380 - lr: 2.5000e-04\n",
            "Epoch 20/40\n",
            "217/217 [==============================] - 7s 32ms/step - loss: 0.1605 - accuracy: 0.7911 - val_loss: 0.1756 - val_accuracy: 0.7559 - lr: 2.5000e-04\n",
            "Epoch 21/40\n",
            "217/217 [==============================] - 7s 32ms/step - loss: 0.1585 - accuracy: 0.7950 - val_loss: 0.1779 - val_accuracy: 0.7502 - lr: 2.5000e-04\n",
            "Epoch 22/40\n",
            "215/217 [============================>.] - ETA: 0s - loss: 0.1579 - accuracy: 0.7949\n",
            "Epoch 22: ReduceLROnPlateau reducing learning rate to 0.0001250000059371814.\n",
            "217/217 [==============================] - 7s 32ms/step - loss: 0.1579 - accuracy: 0.7950 - val_loss: 0.1756 - val_accuracy: 0.7523 - lr: 2.5000e-04\n",
            "Epoch 23/40\n",
            "217/217 [==============================] - 7s 32ms/step - loss: 0.1491 - accuracy: 0.8146 - val_loss: 0.1747 - val_accuracy: 0.7530 - lr: 1.2500e-04\n",
            "Epoch 24/40\n",
            "217/217 [==============================] - 7s 31ms/step - loss: 0.1478 - accuracy: 0.8181 - val_loss: 0.1767 - val_accuracy: 0.7502 - lr: 1.2500e-04\n",
            "Epoch 25/40\n",
            "217/217 [==============================] - 7s 32ms/step - loss: 0.1441 - accuracy: 0.8285 - val_loss: 0.1756 - val_accuracy: 0.7545 - lr: 1.2500e-04\n",
            "Epoch 26/40\n",
            "217/217 [==============================] - 7s 31ms/step - loss: 0.1440 - accuracy: 0.8223 - val_loss: 0.1727 - val_accuracy: 0.7602 - lr: 1.2500e-04\n",
            "Epoch 27/40\n",
            "215/217 [============================>.] - ETA: 0s - loss: 0.1412 - accuracy: 0.8282Restoring model weights from the end of the best epoch: 17.\n",
            "\n",
            "Epoch 27: ReduceLROnPlateau reducing learning rate to 6.25000029685907e-05.\n",
            "217/217 [==============================] - 7s 32ms/step - loss: 0.1412 - accuracy: 0.8282 - val_loss: 0.1747 - val_accuracy: 0.7523 - lr: 1.2500e-04\n",
            "Epoch 27: early stopping\n"
          ]
        }
      ]
    },
    {
      "cell_type": "code",
      "source": [
        "histories['l2_cnn'] = l2_cnn_hist"
      ],
      "metadata": {
        "id": "4rgR6xu9Ffsp"
      },
      "execution_count": 25,
      "outputs": []
    },
    {
      "cell_type": "code",
      "source": [
        "plotter = tfdocs.plots.HistoryPlotter(metric = 'accuracy', smoothing_std=10)\n",
        "plotter.plot(histories)\n",
        "plt.ylim([0, 1])"
      ],
      "metadata": {
        "colab": {
          "base_uri": "https://localhost:8080/",
          "height": 300
        },
        "id": "QR3d3c03Fkd2",
        "outputId": "6a7d6983-a726-42e6-aa07-1bcc26470f09"
      },
      "execution_count": 26,
      "outputs": [
        {
          "output_type": "execute_result",
          "data": {
            "text/plain": [
              "(0.0, 1.0)"
            ]
          },
          "metadata": {},
          "execution_count": 26
        },
        {
          "output_type": "display_data",
          "data": {
            "text/plain": [
              "<Figure size 432x288 with 1 Axes>"
            ],
            "image/png": "[encoded data removed]"
          },
          "metadata": {
            "needs_background": "light"
          }
        }
      ]
    },
    {
      "cell_type": "code",
      "source": [
        "plotter = tfdocs.plots.HistoryPlotter(metric = 'loss', smoothing_std=10)\n",
        "plotter.plot(histories)\n",
        "plt.ylim([0, 2])"
      ],
      "metadata": {
        "colab": {
          "base_uri": "https://localhost:8080/",
          "height": 300
        },
        "id": "UAr-mWaplleC",
        "outputId": "da2c546f-8494-40a9-fef0-6498448eafac"
      },
      "execution_count": 29,
      "outputs": [
        {
          "output_type": "execute_result",
          "data": {
            "text/plain": [
              "(0.0, 2.0)"
            ]
          },
          "metadata": {},
          "execution_count": 29
        },
        {
          "output_type": "display_data",
          "data": {
            "text/plain": [
              "<Figure size 432x288 with 1 Axes>"
            ],
            "image/png": "[encoded data removed]"
          },
          "metadata": {
            "needs_background": "light"
          }
        }
      ]
    },
    {
      "cell_type": "code",
      "source": [
        "pred=l2_cnn_model.predict(X_test)"
      ],
      "metadata": {
        "id": "QIDzkfFelp7-"
      },
      "execution_count": 28,
      "outputs": []
    },
    {
      "cell_type": "code",
      "source": [
        "y_pred=[]\n",
        "for p in pred:\n",
        "  pred_index=np.argmax(p)\n",
        "  y_pred.append(pred_index)"
      ],
      "metadata": {
        "id": "9Us_6D0plwr7"
      },
      "execution_count": 30,
      "outputs": []
    },
    {
      "cell_type": "code",
      "source": [
        "y_ture=[]\n",
        "for p in y_test:\n",
        "  pred_index=np.argmax(p)\n",
        "  y_ture.append(pred_index)"
      ],
      "metadata": {
        "id": "dfa_Qi1tlzhh"
      },
      "execution_count": 31,
      "outputs": []
    },
    {
      "cell_type": "code",
      "source": [
        "y_true = np.array(y_ture)\n",
        "y_pred = np.array(y_pred)"
      ],
      "metadata": {
        "id": "adYBVllLl1HF"
      },
      "execution_count": 32,
      "outputs": []
    },
    {
      "cell_type": "code",
      "source": [
        "cm = confusion_matrix(y_true, y_pred)"
      ],
      "metadata": {
        "id": "L5cfJR_Ql2ve"
      },
      "execution_count": 33,
      "outputs": []
    },
    {
      "cell_type": "code",
      "source": [
        "sns.heatmap(cm, annot=True, vmin=0, fmt='g', cmap='Blues', cbar=False) "
      ],
      "metadata": {
        "colab": {
          "base_uri": "https://localhost:8080/",
          "height": 282
        },
        "id": "r6T3SP0Xl4Vj",
        "outputId": "ad70d998-9c0e-451e-9c76-95042ef7b071"
      },
      "execution_count": 34,
      "outputs": [
        {
          "output_type": "execute_result",
          "data": {
            "text/plain": [
              "<matplotlib.axes._subplots.AxesSubplot at 0x7f8f38094050>"
            ]
          },
          "metadata": {},
          "execution_count": 34
        },
        {
          "output_type": "display_data",
          "data": {
            "text/plain": [
              "<Figure size 432x288 with 1 Axes>"
            ],
            "image/png": "[encoded data removed]"
          },
          "metadata": {
            "needs_background": "light"
          }
        }
      ]
    },
    {
      "cell_type": "code",
      "source": [
        "clr = classification_report(y_true, y_pred, target_names=labels)"
      ],
      "metadata": {
        "colab": {
          "base_uri": "https://localhost:8080/"
        },
        "id": "7wMs1ntil6Qx",
        "outputId": "3051980a-df36-4c4e-f953-3c8e2d4059bc"
      },
      "execution_count": 35,
      "outputs": [
        {
          "output_type": "stream",
          "name": "stderr",
          "text": [
            "/usr/local/lib/python3.7/dist-packages/sklearn/metrics/_classification.py:1318: UndefinedMetricWarning: Precision and F-score are ill-defined and being set to 0.0 in labels with no predicted samples. Use `zero_division` parameter to control this behavior.\n",
            "  _warn_prf(average, modifier, msg_start, len(result))\n",
            "/usr/local/lib/python3.7/dist-packages/sklearn/metrics/_classification.py:1318: UndefinedMetricWarning: Precision and F-score are ill-defined and being set to 0.0 in labels with no predicted samples. Use `zero_division` parameter to control this behavior.\n",
            "  _warn_prf(average, modifier, msg_start, len(result))\n",
            "/usr/local/lib/python3.7/dist-packages/sklearn/metrics/_classification.py:1318: UndefinedMetricWarning: Precision and F-score are ill-defined and being set to 0.0 in labels with no predicted samples. Use `zero_division` parameter to control this behavior.\n",
            "  _warn_prf(average, modifier, msg_start, len(result))\n"
          ]
        }
      ]
    },
    {
      "cell_type": "code",
      "source": [
        "print(clr)"
      ],
      "metadata": {
        "colab": {
          "base_uri": "https://localhost:8080/"
        },
        "id": "I8tDTcIml8Vv",
        "outputId": "873c1a09-c883-4760-ca12-0bb0215ec9f1"
      },
      "execution_count": 36,
      "outputs": [
        {
          "output_type": "stream",
          "name": "stdout",
          "text": [
            "              precision    recall  f1-score   support\n",
            "\n",
            "       akiec       0.77      0.23      0.35        44\n",
            "         bcc       0.37      0.69      0.48        55\n",
            "         bkl       0.65      0.35      0.46       176\n",
            "          df       0.00      0.00      0.00        20\n",
            "         mel       0.64      0.34      0.45       187\n",
            "          nv       0.80      0.95      0.87       898\n",
            "        vasc       0.73      0.65      0.69        17\n",
            "\n",
            "    accuracy                           0.75      1397\n",
            "   macro avg       0.57      0.46      0.47      1397\n",
            "weighted avg       0.73      0.75      0.71      1397\n",
            "\n"
          ]
        }
      ]
    },
    {
      "cell_type": "code",
      "source": [
        "l2_cnn_model.evaluate(X_test, y_test)"
      ],
      "metadata": {
        "colab": {
          "base_uri": "https://localhost:8080/"
        },
        "id": "ALdVnrxsl-ZC",
        "outputId": "0926806f-7886-4c38-fb3c-3c0e5910f3a3"
      },
      "execution_count": 37,
      "outputs": [
        {
          "output_type": "stream",
          "name": "stdout",
          "text": [
            "44/44 [==============================] - 1s 11ms/step - loss: 0.1821 - accuracy: 0.7452\n"
          ]
        },
        {
          "output_type": "execute_result",
          "data": {
            "text/plain": [
              "[0.18210378289222717, 0.7451682090759277]"
            ]
          },
          "metadata": {},
          "execution_count": 37
        }
      ]
    }
  ]
}