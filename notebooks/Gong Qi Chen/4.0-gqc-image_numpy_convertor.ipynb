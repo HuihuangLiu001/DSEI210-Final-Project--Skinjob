{
  "nbformat": 4,
  "nbformat_minor": 0,
  "metadata": {
    "colab": {
      "name": "image_numpy_convertor.ipynb",
      "provenance": [],
      "collapsed_sections": []
    },
    "kernelspec": {
      "name": "python3",
      "display_name": "Python 3"
    },
    "language_info": {
      "name": "python"
    }
  },
  "cells": [
    {
      "cell_type": "code",
      "execution_count": 1,
      "metadata": {
        "colab": {
          "base_uri": "https://localhost:8080/"
        },
        "id": "Jn5p1P6Nv3hg",
        "outputId": "e9ade52b-3dd3-4957-82e5-1c1dc4e06f58"
      },
      "outputs": [
        {
          "output_type": "stream",
          "name": "stdout",
          "text": [
            "/content\n"
          ]
        }
      ],
      "source": [
        "!pwd"
      ]
    },
    {
      "cell_type": "code",
      "source": [
        "import os\n",
        "os.environ['KAGGLE_CONFIG_DIR'] = \"/content\""
      ],
      "metadata": {
        "id": "MkF3QB4ZwuPs"
      },
      "execution_count": 3,
      "outputs": []
    },
    {
      "cell_type": "code",
      "source": [
        "!kaggle datasets download -d surajghuwalewala/ham1000-segmentation-and-classification"
      ],
      "metadata": {
        "colab": {
          "base_uri": "https://localhost:8080/"
        },
        "id": "a8Tuo5Mjw0i-",
        "outputId": "22d9a9c8-4585-4c6a-cc11-84f7f997e30e"
      },
      "execution_count": 4,
      "outputs": [
        {
          "output_type": "stream",
          "name": "stdout",
          "text": [
            "Warning: Your Kaggle API key is readable by other users on this system! To fix this, you can run 'chmod 600 /content/kaggle.json'\n",
            "Downloading ham1000-segmentation-and-classification.zip to /content\n",
            " 99% 2.56G/2.59G [00:20<00:00, 132MB/s]\n",
            "100% 2.59G/2.59G [00:20<00:00, 134MB/s]\n"
          ]
        }
      ]
    },
    {
      "cell_type": "code",
      "source": [
        "!unzip /content/ham1000-segmentation-and-classification.zip"
      ],
      "metadata": {
        "id": "w_R3_eqIw5C_"
      },
      "execution_count": null,
      "outputs": []
    },
    {
      "cell_type": "code",
      "source": [
        "import os\n",
        "import numpy as np \n",
        "import pandas as pd\n",
        "import tensorflow as tf\n",
        "\n",
        "from PIL import Image\n",
        "\n",
        "from tensorflow import keras\n",
        "from tensorflow.keras import backend as K\n",
        "from tensorflow.keras.layers import Dense, Activation,Dropout,Conv2D, MaxPooling2D,BatchNormalization, Flatten\n",
        "from tensorflow.keras.optimizers import Adam, Adamax\n",
        "from tensorflow.keras.metrics import categorical_crossentropy\n",
        "from tensorflow.keras import regularizers\n",
        "from tensorflow.keras.preprocessing.image import ImageDataGenerator\n",
        "from tensorflow.keras.models import Model, load_model, Sequential\n",
        "import matplotlib.pyplot as plt\n",
        "from matplotlib.pyplot import imshow"
      ],
      "metadata": {
        "id": "bkRPIhB4wvp4"
      },
      "execution_count": 6,
      "outputs": []
    },
    {
      "cell_type": "code",
      "source": [
        "df_labels = pd.read_csv('../content/GroundTruth.csv')\n",
        "df_labels['image'] = df_labels['image'] +'.jpg'\n",
        "\n",
        "labels=['MEL', 'NV', 'BCC', 'AKIEC', 'BKL', 'DF', 'VASC']\n",
        "label_list=[]\n",
        "for i in range (len(df_labels)):\n",
        "    row= list(df_labels.iloc[i])\n",
        "    del row[0]\n",
        "    index=np.argmax(row)\n",
        "    label=labels[index]\n",
        "    label_list.append(label)\n",
        "df_labels['label']= label_list\n",
        "df_labels=df_labels.drop(labels, axis=1)\n",
        "df_labels['label'].value_counts()"
      ],
      "metadata": {
        "colab": {
          "base_uri": "https://localhost:8080/"
        },
        "id": "ediypAGKwcsL",
        "outputId": "3d72cc21-0bf2-4abf-a788-5b0c9bf829ee"
      },
      "execution_count": 7,
      "outputs": [
        {
          "output_type": "execute_result",
          "data": {
            "text/plain": [
              "NV       6705\n",
              "MEL      1113\n",
              "BKL      1099\n",
              "BCC       514\n",
              "AKIEC     327\n",
              "VASC      142\n",
              "DF        115\n",
              "Name: label, dtype: int64"
            ]
          },
          "metadata": {},
          "execution_count": 7
        }
      ]
    },
    {
      "cell_type": "code",
      "source": [
        "sdir=r'../content/images' # main directory where data is stored\n",
        "save_dir=r'./' # output directory where model will be saved\n",
        "subject='cancer' # part of the name of the saved model\n",
        "height=28  # image height\n",
        "width=28   # image width\n",
        "channels=3  # number of coloor channels\n",
        "batch_size=40  # model batch size for training and evaluation\n",
        "img_shape=(height, width, channels)\n",
        "img_size=(height, width)\n",
        "\n",
        "def scalar(img): # unused for efficientnet model\n",
        "    return img/255  # scale pixel between -1 and +1\n",
        "gen=ImageDataGenerator() # no scaling of pixels is need for efficientnet\n",
        "\n",
        "df_gen=gen.flow_from_dataframe( df_labels, sdir, x_col='image', y_col='label', target_size=img_size, class_mode='categorical',\n",
        "                                    color_mode='rgb', shuffle=True, batch_size=batch_size)"
      ],
      "metadata": {
        "colab": {
          "base_uri": "https://localhost:8080/"
        },
        "id": "qDzZxZWmweiD",
        "outputId": "61876ec7-487d-407b-c4cc-651389428eb9"
      },
      "execution_count": 11,
      "outputs": [
        {
          "output_type": "stream",
          "name": "stdout",
          "text": [
            "Found 10015 validated image filenames belonging to 7 classes.\n"
          ]
        }
      ]
    },
    {
      "cell_type": "code",
      "source": [
        "images, labels = next(df_gen)\n",
        "for x in range(250):\n",
        "  temp_images, temp_labels = next(df_gen)\n",
        "  images = np.concatenate((images, temp_images), axis=0)\n",
        "  labels = np.concatenate((labels, temp_labels), axis=0)\n",
        "  print(x)"
      ],
      "metadata": {
        "id": "fMLMrCZhx-bk"
      },
      "execution_count": null,
      "outputs": []
    },
    {
      "cell_type": "code",
      "source": [
        "images.shape"
      ],
      "metadata": {
        "colab": {
          "base_uri": "https://localhost:8080/"
        },
        "id": "teKiAjn4zYD3",
        "outputId": "26898054-e46a-4988-c43a-f432044a3cc9"
      },
      "execution_count": 13,
      "outputs": [
        {
          "output_type": "execute_result",
          "data": {
            "text/plain": [
              "(10015, 28, 28, 3)"
            ]
          },
          "metadata": {},
          "execution_count": 13
        }
      ]
    },
    {
      "cell_type": "code",
      "source": [
        "labels.shape"
      ],
      "metadata": {
        "colab": {
          "base_uri": "https://localhost:8080/"
        },
        "id": "5S7m6nB0z7ns",
        "outputId": "15046265-9f66-4a9c-9b90-aa8af8511e37"
      },
      "execution_count": 14,
      "outputs": [
        {
          "output_type": "execute_result",
          "data": {
            "text/plain": [
              "(10015, 7)"
            ]
          },
          "metadata": {},
          "execution_count": 14
        }
      ]
    },
    {
      "cell_type": "code",
      "source": [
        "np.save('images28_28', images)"
      ],
      "metadata": {
        "id": "Ey9vYDc3z_2G"
      },
      "execution_count": 15,
      "outputs": []
    },
    {
      "cell_type": "code",
      "source": [
        "np.save('labels28_28', labels)"
      ],
      "metadata": {
        "id": "5BfFe-wn0NBN"
      },
      "execution_count": 16,
      "outputs": []
    }
  ]
}