{
  "nbformat": 4,
  "nbformat_minor": 0,
  "metadata": {
    "colab": {
      "name": "pretrained_models_MobileNetV2.ipynb",
      "provenance": [],
      "collapsed_sections": []
    },
    "kernelspec": {
      "name": "python3",
      "display_name": "Python 3"
    },
    "language_info": {
      "name": "python"
    }
  },
  "cells": [
    {
      "cell_type": "code",
      "execution_count": 1,
      "metadata": {
        "colab": {
          "base_uri": "https://localhost:8080/"
        },
        "id": "MUcW2QjaqDJh",
        "outputId": "76c1bfd2-fd36-4457-dbaf-943fcb18a3ad"
      },
      "outputs": [
        {
          "output_type": "stream",
          "name": "stdout",
          "text": [
            "Collecting git+https://github.com/tensorflow/docs\n",
            "  Cloning https://github.com/tensorflow/docs to /tmp/pip-req-build-li_s18h1\n",
            "  Running command git clone -q https://github.com/tensorflow/docs /tmp/pip-req-build-li_s18h1\n",
            "Requirement already satisfied: astor in /usr/local/lib/python3.7/dist-packages (from tensorflow-docs==0.0.0.dev0) (0.8.1)\n",
            "Requirement already satisfied: absl-py in /usr/local/lib/python3.7/dist-packages (from tensorflow-docs==0.0.0.dev0) (1.0.0)\n",
            "Requirement already satisfied: jinja2 in /usr/local/lib/python3.7/dist-packages (from tensorflow-docs==0.0.0.dev0) (2.11.3)\n",
            "Requirement already satisfied: protobuf>=3.14 in /usr/local/lib/python3.7/dist-packages (from tensorflow-docs==0.0.0.dev0) (3.17.3)\n",
            "Requirement already satisfied: pyyaml in /usr/local/lib/python3.7/dist-packages (from tensorflow-docs==0.0.0.dev0) (3.13)\n",
            "Requirement already satisfied: six>=1.9 in /usr/local/lib/python3.7/dist-packages (from protobuf>=3.14->tensorflow-docs==0.0.0.dev0) (1.15.0)\n",
            "Requirement already satisfied: MarkupSafe>=0.23 in /usr/local/lib/python3.7/dist-packages (from jinja2->tensorflow-docs==0.0.0.dev0) (2.0.1)\n",
            "Building wheels for collected packages: tensorflow-docs\n",
            "  Building wheel for tensorflow-docs (setup.py) ... \u001b[?25l\u001b[?25hdone\n",
            "  Created wheel for tensorflow-docs: filename=tensorflow_docs-0.0.0.dev0-py3-none-any.whl size=179812 sha256=c733bc60ab110b8d6a019fc2f4a4fd31845a11e07c1a6eaf890f2ca0f365775f\n",
            "  Stored in directory: /tmp/pip-ephem-wheel-cache-yhslytjc/wheels/cc/c4/d8/5341e93b6376c5c929c49469fce21155eb69cef1a4da4ce32c\n",
            "Successfully built tensorflow-docs\n",
            "Installing collected packages: tensorflow-docs\n",
            "Successfully installed tensorflow-docs-0.0.0.dev0\n"
          ]
        }
      ],
      "source": [
        "!pip install git+https://github.com/tensorflow/docs"
      ]
    },
    {
      "cell_type": "code",
      "source": [
        "import numpy as np \n",
        "import pandas as pd\n",
        "import tensorflow as tf\n",
        "from tensorflow import keras\n",
        "import tensorflow_docs as tfdocs\n",
        "import tensorflow_docs.modeling\n",
        "import tensorflow_docs.plots\n",
        "from tensorflow.keras import regularizers\n",
        "import matplotlib.pyplot as plt\n",
        "from sklearn.model_selection import train_test_split\n",
        "from matplotlib.pyplot import imshow"
      ],
      "metadata": {
        "id": "2OIZJX75q5ky"
      },
      "execution_count": 2,
      "outputs": []
    },
    {
      "cell_type": "code",
      "source": [
        "X = np.load('../content/images32_32.npy')\n",
        "y = np.load('../content/labels32_32.npy')"
      ],
      "metadata": {
        "id": "xq2G7oVNq7fw"
      },
      "execution_count": 3,
      "outputs": []
    },
    {
      "cell_type": "code",
      "source": [
        "tain_size=0.7\n",
        "valid_size = 0.1\n",
        "test_size = 0.2\n",
        "valid_test_split = valid_size / test_size\n",
        "\n",
        "X_train, X_test_val, y_train, y_test_val = train_test_split(X, y, test_size=1-tain_size, shuffle=True, random_state=42)\n",
        "X_val, X_test, y_val, y_test = train_test_split(X_test_val, y_test_val, test_size=valid_test_split, shuffle=True, random_state=42)\n",
        "\n",
        "print(X_train.shape, y_train.shape)\n",
        "print(X_test.shape, y_test.shape)\n",
        "print(X_val.shape, y_val.shape)"
      ],
      "metadata": {
        "colab": {
          "base_uri": "https://localhost:8080/"
        },
        "id": "sSw3Md0qq-wJ",
        "outputId": "1b242719-2357-4410-c094-8ba1421748f0"
      },
      "execution_count": 4,
      "outputs": [
        {
          "output_type": "stream",
          "name": "stdout",
          "text": [
            "(7010, 32, 32, 3) (7010, 7)\n",
            "(1503, 32, 32, 3) (1503, 7)\n",
            "(1502, 32, 32, 3) (1502, 7)\n"
          ]
        }
      ]
    },
    {
      "cell_type": "code",
      "source": [
        "def get_callbacks():\n",
        "  return [\n",
        "    tf.keras.callbacks.EarlyStopping(monitor='val_loss', patience=10)      \n",
        "  ]"
      ],
      "metadata": {
        "id": "y_w8tVTfrAp0"
      },
      "execution_count": 5,
      "outputs": []
    },
    {
      "cell_type": "code",
      "source": [
        "histories = {}"
      ],
      "metadata": {
        "id": "WiQEjCXBrGRO"
      },
      "execution_count": 6,
      "outputs": []
    },
    {
      "cell_type": "code",
      "source": [
        "img_height = 32\n",
        "img_width = 32\n",
        "channels = 3\n",
        "img_shape = (img_height, img_width, channels)"
      ],
      "metadata": {
        "id": "eyvWh31Erflk"
      },
      "execution_count": 9,
      "outputs": []
    },
    {
      "cell_type": "code",
      "source": [
        "# Create the base model with MobileNetV2\n",
        "base_model = tf.keras.applications.MobileNetV2(input_shape=img_shape, include_top=False, weights='imagenet')"
      ],
      "metadata": {
        "colab": {
          "base_uri": "https://localhost:8080/"
        },
        "id": "8tk9XaU-rXOe",
        "outputId": "e6a95c43-d97a-4d98-f477-0a88f64976f4"
      },
      "execution_count": 10,
      "outputs": [
        {
          "output_type": "stream",
          "name": "stdout",
          "text": [
            "WARNING:tensorflow:`input_shape` is undefined or non-square, or `rows` is not in [96, 128, 160, 192, 224]. Weights for input shape (224, 224) will be loaded as the default.\n"
          ]
        }
      ]
    },
    {
      "cell_type": "code",
      "source": [
        "base_model.summary()"
      ],
      "metadata": {
        "id": "R7HBPtF-ubE9"
      },
      "execution_count": null,
      "outputs": []
    },
    {
      "cell_type": "code",
      "source": [
        "base_model.trainable = False"
      ],
      "metadata": {
        "id": "8XN-RCrJuhrC"
      },
      "execution_count": 12,
      "outputs": []
    },
    {
      "cell_type": "code",
      "source": [
        "base_model.summary()"
      ],
      "metadata": {
        "id": "JbTt-EtLvZje"
      },
      "execution_count": null,
      "outputs": []
    },
    {
      "cell_type": "code",
      "source": [
        "global_average_layer = tf.keras.layers.GlobalAveragePooling2D()"
      ],
      "metadata": {
        "id": "DTnbmVOeveqE"
      },
      "execution_count": 14,
      "outputs": []
    },
    {
      "cell_type": "code",
      "source": [
        "prediction_layer = keras.layers.Dense(7, activation='softmax')"
      ],
      "metadata": {
        "id": "AjjDCNDRvyDs"
      },
      "execution_count": 15,
      "outputs": []
    },
    {
      "cell_type": "code",
      "source": [
        "model = tf.keras.Sequential([\n",
        "  base_model,\n",
        "  global_average_layer,\n",
        "  prediction_layer                           \n",
        "])"
      ],
      "metadata": {
        "id": "dDb63wxiv8mo"
      },
      "execution_count": 16,
      "outputs": []
    },
    {
      "cell_type": "code",
      "source": [
        "model.summary()"
      ],
      "metadata": {
        "id": "PxIjFp_-wPjL"
      },
      "execution_count": null,
      "outputs": []
    },
    {
      "cell_type": "code",
      "source": [
        "base_learning_rate = 0.001\n",
        "model.compile(optimizer=tf.keras.optimizers.RMSprop(lr=base_learning_rate),\n",
        "              loss=\"categorical_crossentropy\",\n",
        "              metrics=['accuracy'])"
      ],
      "metadata": {
        "colab": {
          "base_uri": "https://localhost:8080/"
        },
        "id": "e6CCdu_Uwivh",
        "outputId": "98e89e68-53a3-4ed2-b8a2-96d031d8e6f3"
      },
      "execution_count": 18,
      "outputs": [
        {
          "output_type": "stream",
          "name": "stderr",
          "text": [
            "/usr/local/lib/python3.7/dist-packages/keras/optimizer_v2/rmsprop.py:130: UserWarning: The `lr` argument is deprecated, use `learning_rate` instead.\n",
            "  super(RMSprop, self).__init__(name, **kwargs)\n"
          ]
        }
      ]
    },
    {
      "cell_type": "code",
      "source": [
        "loss0, accuracy0 = model.evaluate(X_val, y_val, steps = 20)"
      ],
      "metadata": {
        "colab": {
          "base_uri": "https://localhost:8080/"
        },
        "id": "D_RdFxSxxTv_",
        "outputId": "625f61f2-6c8f-415c-b2c8-61db96137333"
      },
      "execution_count": 19,
      "outputs": [
        {
          "output_type": "stream",
          "name": "stdout",
          "text": [
            "20/20 [==============================] - 3s 56ms/step - loss: 1.9739 - accuracy: 0.0513\n"
          ]
        }
      ]
    },
    {
      "cell_type": "code",
      "source": [
        "history = model.fit(X_train, y_train, epochs=40, validation_data=(X_val, y_val))"
      ],
      "metadata": {
        "colab": {
          "base_uri": "https://localhost:8080/"
        },
        "id": "6wLlCxZiyuVa",
        "outputId": "f4db4966-13f3-418a-ecd7-bafea7514d87"
      },
      "execution_count": 20,
      "outputs": [
        {
          "output_type": "stream",
          "name": "stdout",
          "text": [
            "Epoch 1/40\n",
            "220/220 [==============================] - 11s 37ms/step - loss: 1.6882 - accuracy: 0.6375 - val_loss: 1.4789 - val_accuracy: 0.6565\n",
            "Epoch 2/40\n",
            "220/220 [==============================] - 9s 40ms/step - loss: 1.3407 - accuracy: 0.6726 - val_loss: 1.2577 - val_accuracy: 0.6565\n",
            "Epoch 3/40\n",
            "220/220 [==============================] - 8s 36ms/step - loss: 1.1899 - accuracy: 0.6726 - val_loss: 1.1783 - val_accuracy: 0.6565\n",
            "Epoch 4/40\n",
            "220/220 [==============================] - 8s 36ms/step - loss: 1.1381 - accuracy: 0.6726 - val_loss: 1.1528 - val_accuracy: 0.6565\n",
            "Epoch 5/40\n",
            "220/220 [==============================] - 8s 36ms/step - loss: 1.1206 - accuracy: 0.6726 - val_loss: 1.1427 - val_accuracy: 0.6565\n",
            "Epoch 6/40\n",
            "220/220 [==============================] - 8s 37ms/step - loss: 1.1127 - accuracy: 0.6726 - val_loss: 1.1380 - val_accuracy: 0.6565\n",
            "Epoch 7/40\n",
            "220/220 [==============================] - 8s 37ms/step - loss: 1.1084 - accuracy: 0.6726 - val_loss: 1.1350 - val_accuracy: 0.6565\n",
            "Epoch 8/40\n",
            "220/220 [==============================] - 8s 37ms/step - loss: 1.1059 - accuracy: 0.6726 - val_loss: 1.1334 - val_accuracy: 0.6565\n",
            "Epoch 9/40\n",
            "220/220 [==============================] - 8s 36ms/step - loss: 1.1038 - accuracy: 0.6726 - val_loss: 1.1320 - val_accuracy: 0.6565\n",
            "Epoch 10/40\n",
            "220/220 [==============================] - 8s 37ms/step - loss: 1.1022 - accuracy: 0.6726 - val_loss: 1.1309 - val_accuracy: 0.6565\n",
            "Epoch 11/40\n",
            "220/220 [==============================] - 8s 36ms/step - loss: 1.1018 - accuracy: 0.6726 - val_loss: 1.1299 - val_accuracy: 0.6565\n",
            "Epoch 12/40\n",
            "220/220 [==============================] - 8s 36ms/step - loss: 1.1007 - accuracy: 0.6726 - val_loss: 1.1300 - val_accuracy: 0.6565\n",
            "Epoch 13/40\n",
            "220/220 [==============================] - 8s 36ms/step - loss: 1.1000 - accuracy: 0.6726 - val_loss: 1.1302 - val_accuracy: 0.6565\n",
            "Epoch 14/40\n",
            "220/220 [==============================] - 8s 36ms/step - loss: 1.0994 - accuracy: 0.6726 - val_loss: 1.1296 - val_accuracy: 0.6565\n",
            "Epoch 15/40\n",
            "220/220 [==============================] - 8s 36ms/step - loss: 1.0987 - accuracy: 0.6726 - val_loss: 1.1295 - val_accuracy: 0.6565\n",
            "Epoch 16/40\n",
            "220/220 [==============================] - 8s 37ms/step - loss: 1.0981 - accuracy: 0.6726 - val_loss: 1.1291 - val_accuracy: 0.6565\n",
            "Epoch 17/40\n",
            "220/220 [==============================] - 8s 36ms/step - loss: 1.0977 - accuracy: 0.6726 - val_loss: 1.1289 - val_accuracy: 0.6565\n",
            "Epoch 18/40\n",
            "220/220 [==============================] - 8s 36ms/step - loss: 1.0976 - accuracy: 0.6726 - val_loss: 1.1293 - val_accuracy: 0.6565\n",
            "Epoch 19/40\n",
            "220/220 [==============================] - 8s 37ms/step - loss: 1.0970 - accuracy: 0.6726 - val_loss: 1.1293 - val_accuracy: 0.6565\n",
            "Epoch 20/40\n",
            "220/220 [==============================] - 8s 37ms/step - loss: 1.0966 - accuracy: 0.6726 - val_loss: 1.1289 - val_accuracy: 0.6565\n",
            "Epoch 21/40\n",
            "220/220 [==============================] - 8s 37ms/step - loss: 1.0962 - accuracy: 0.6726 - val_loss: 1.1297 - val_accuracy: 0.6565\n",
            "Epoch 22/40\n",
            "220/220 [==============================] - 8s 37ms/step - loss: 1.0962 - accuracy: 0.6726 - val_loss: 1.1295 - val_accuracy: 0.6565\n",
            "Epoch 23/40\n",
            "220/220 [==============================] - 8s 37ms/step - loss: 1.0958 - accuracy: 0.6726 - val_loss: 1.1292 - val_accuracy: 0.6565\n",
            "Epoch 24/40\n",
            "220/220 [==============================] - 8s 36ms/step - loss: 1.0958 - accuracy: 0.6726 - val_loss: 1.1292 - val_accuracy: 0.6565\n",
            "Epoch 25/40\n",
            "220/220 [==============================] - 8s 36ms/step - loss: 1.0954 - accuracy: 0.6726 - val_loss: 1.1299 - val_accuracy: 0.6565\n",
            "Epoch 26/40\n",
            "220/220 [==============================] - 8s 36ms/step - loss: 1.0953 - accuracy: 0.6726 - val_loss: 1.1295 - val_accuracy: 0.6565\n",
            "Epoch 27/40\n",
            "220/220 [==============================] - 8s 36ms/step - loss: 1.0955 - accuracy: 0.6726 - val_loss: 1.1297 - val_accuracy: 0.6565\n",
            "Epoch 28/40\n",
            "220/220 [==============================] - 8s 36ms/step - loss: 1.0950 - accuracy: 0.6726 - val_loss: 1.1297 - val_accuracy: 0.6565\n",
            "Epoch 29/40\n",
            "220/220 [==============================] - 8s 36ms/step - loss: 1.0947 - accuracy: 0.6726 - val_loss: 1.1298 - val_accuracy: 0.6565\n",
            "Epoch 30/40\n",
            "220/220 [==============================] - 8s 37ms/step - loss: 1.0948 - accuracy: 0.6726 - val_loss: 1.1299 - val_accuracy: 0.6565\n",
            "Epoch 31/40\n",
            "220/220 [==============================] - 8s 36ms/step - loss: 1.0944 - accuracy: 0.6726 - val_loss: 1.1300 - val_accuracy: 0.6565\n",
            "Epoch 32/40\n",
            "220/220 [==============================] - 8s 36ms/step - loss: 1.0944 - accuracy: 0.6726 - val_loss: 1.1302 - val_accuracy: 0.6565\n",
            "Epoch 33/40\n",
            "220/220 [==============================] - 8s 36ms/step - loss: 1.0940 - accuracy: 0.6726 - val_loss: 1.1305 - val_accuracy: 0.6565\n",
            "Epoch 34/40\n",
            "220/220 [==============================] - 8s 36ms/step - loss: 1.0940 - accuracy: 0.6726 - val_loss: 1.1305 - val_accuracy: 0.6565\n",
            "Epoch 35/40\n",
            "220/220 [==============================] - 8s 36ms/step - loss: 1.0940 - accuracy: 0.6726 - val_loss: 1.1306 - val_accuracy: 0.6565\n",
            "Epoch 36/40\n",
            "220/220 [==============================] - 8s 36ms/step - loss: 1.0937 - accuracy: 0.6726 - val_loss: 1.1305 - val_accuracy: 0.6565\n",
            "Epoch 37/40\n",
            "220/220 [==============================] - 8s 36ms/step - loss: 1.0938 - accuracy: 0.6726 - val_loss: 1.1310 - val_accuracy: 0.6565\n",
            "Epoch 38/40\n",
            "220/220 [==============================] - 8s 36ms/step - loss: 1.0937 - accuracy: 0.6725 - val_loss: 1.1311 - val_accuracy: 0.6565\n",
            "Epoch 39/40\n",
            "220/220 [==============================] - 8s 36ms/step - loss: 1.0937 - accuracy: 0.6726 - val_loss: 1.1308 - val_accuracy: 0.6565\n",
            "Epoch 40/40\n",
            "220/220 [==============================] - 8s 36ms/step - loss: 1.0935 - accuracy: 0.6725 - val_loss: 1.1315 - val_accuracy: 0.6565\n"
          ]
        }
      ]
    },
    {
      "cell_type": "code",
      "source": [
        "histories['MobileNetV2'] = history"
      ],
      "metadata": {
        "id": "q4aGJNPA0lmm"
      },
      "execution_count": 21,
      "outputs": []
    },
    {
      "cell_type": "code",
      "source": [
        "plotter = tfdocs.plots.HistoryPlotter(metric = 'accuracy', smoothing_std=10)\n",
        "plotter.plot(histories)\n",
        "plt.ylim([0, 1])"
      ],
      "metadata": {
        "colab": {
          "base_uri": "https://localhost:8080/",
          "height": 300
        },
        "id": "_s6Yv2-c2ZCs",
        "outputId": "5fb66652-fe01-4f97-a5e8-673f6ad8e204"
      },
      "execution_count": 22,
      "outputs": [
        {
          "output_type": "execute_result",
          "data": {
            "text/plain": [
              "(0.0, 1.0)"
            ]
          },
          "metadata": {},
          "execution_count": 22
        },
        {
          "output_type": "display_data",
          "data": {
            "text/plain": [
              "<Figure size 432x288 with 1 Axes>"
            ],
            "image/png": "[encoded data removed]"
          },
          "metadata": {
            "needs_background": "light"
          }
        }
      ]
    }
  ]
}