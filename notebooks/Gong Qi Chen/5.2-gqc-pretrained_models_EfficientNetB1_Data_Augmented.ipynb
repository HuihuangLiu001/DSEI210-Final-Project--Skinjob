{
  "nbformat": 4,
  "nbformat_minor": 0,
  "metadata": {
    "colab": {
      "name": "pretrained_models_EfficientNetB1.ipynb",
      "provenance": [],
      "collapsed_sections": []
    },
    "kernelspec": {
      "name": "python3",
      "display_name": "Python 3"
    },
    "language_info": {
      "name": "python"
    }
  },
  "cells": [
    {
      "cell_type": "code",
      "execution_count": 1,
      "metadata": {
        "colab": {
          "base_uri": "https://localhost:8080/"
        },
        "id": "MUcW2QjaqDJh",
        "outputId": "ce9d93d7-ac86-4662-9d1a-9b68cf06bc14"
      },
      "outputs": [
        {
          "output_type": "stream",
          "name": "stdout",
          "text": [
            "Collecting git+https://github.com/tensorflow/docs\n",
            "  Cloning https://github.com/tensorflow/docs to /tmp/pip-req-build-mcyr56jw\n",
            "  Running command git clone -q https://github.com/tensorflow/docs /tmp/pip-req-build-mcyr56jw\n",
            "Requirement already satisfied: astor in /usr/local/lib/python3.7/dist-packages (from tensorflow-docs==0.0.0.dev0) (0.8.1)\n",
            "Requirement already satisfied: absl-py in /usr/local/lib/python3.7/dist-packages (from tensorflow-docs==0.0.0.dev0) (1.0.0)\n",
            "Requirement already satisfied: jinja2 in /usr/local/lib/python3.7/dist-packages (from tensorflow-docs==0.0.0.dev0) (2.11.3)\n",
            "Requirement already satisfied: protobuf>=3.14 in /usr/local/lib/python3.7/dist-packages (from tensorflow-docs==0.0.0.dev0) (3.17.3)\n",
            "Requirement already satisfied: pyyaml in /usr/local/lib/python3.7/dist-packages (from tensorflow-docs==0.0.0.dev0) (3.13)\n",
            "Requirement already satisfied: six>=1.9 in /usr/local/lib/python3.7/dist-packages (from protobuf>=3.14->tensorflow-docs==0.0.0.dev0) (1.15.0)\n",
            "Requirement already satisfied: MarkupSafe>=0.23 in /usr/local/lib/python3.7/dist-packages (from jinja2->tensorflow-docs==0.0.0.dev0) (2.0.1)\n",
            "Building wheels for collected packages: tensorflow-docs\n",
            "  Building wheel for tensorflow-docs (setup.py) ... \u001b[?25l\u001b[?25hdone\n",
            "  Created wheel for tensorflow-docs: filename=tensorflow_docs-0.0.0.dev0-py3-none-any.whl size=179812 sha256=142fa320d6ba2eead65ae1caf96726a3c378a1bce829577b0a9fef0e2ee0be98\n",
            "  Stored in directory: /tmp/pip-ephem-wheel-cache-_3udj3bc/wheels/cc/c4/d8/5341e93b6376c5c929c49469fce21155eb69cef1a4da4ce32c\n",
            "Successfully built tensorflow-docs\n",
            "Installing collected packages: tensorflow-docs\n",
            "Successfully installed tensorflow-docs-0.0.0.dev0\n"
          ]
        }
      ],
      "source": [
        "!pip install git+https://github.com/tensorflow/docs"
      ]
    },
    {
      "cell_type": "code",
      "source": [
        "import numpy as np \n",
        "import pandas as pd\n",
        "import tensorflow as tf\n",
        "from tensorflow import keras\n",
        "import tensorflow_docs as tfdocs\n",
        "import tensorflow_docs.modeling\n",
        "import tensorflow_docs.plots\n",
        "from tensorflow.keras import regularizers\n",
        "from tensorflow.keras.preprocessing.image import ImageDataGenerator\n",
        "import matplotlib.pyplot as plt\n",
        "from sklearn.model_selection import train_test_split\n",
        "from matplotlib.pyplot import imshow"
      ],
      "metadata": {
        "id": "2OIZJX75q5ky"
      },
      "execution_count": 2,
      "outputs": []
    },
    {
      "cell_type": "code",
      "source": [
        "X = np.load('../content/images32_32.npy')\n",
        "y = np.load('../content/labels32_32.npy')"
      ],
      "metadata": {
        "id": "xq2G7oVNq7fw"
      },
      "execution_count": 3,
      "outputs": []
    },
    {
      "cell_type": "code",
      "source": [
        "test_size=0.3\n",
        "\n",
        "X_train, X_test, y_train, y_test = train_test_split(X, y, test_size=test_size, shuffle=True, random_state=42)\n",
        "\n",
        "print(X_train.shape, y_train.shape)\n",
        "print(X_test.shape, y_test.shape)"
      ],
      "metadata": {
        "colab": {
          "base_uri": "https://localhost:8080/"
        },
        "id": "sSw3Md0qq-wJ",
        "outputId": "ef453007-a94d-4b52-edfc-fdf0a5c1d876"
      },
      "execution_count": 4,
      "outputs": [
        {
          "output_type": "stream",
          "name": "stdout",
          "text": [
            "(7010, 32, 32, 3) (7010, 7)\n",
            "(3005, 32, 32, 3) (3005, 7)\n"
          ]
        }
      ]
    },
    {
      "cell_type": "code",
      "source": [
        "datagen = ImageDataGenerator(rescale = 1./255,\n",
        "    featurewise_center=True,\n",
        "    featurewise_std_normalization=True,\n",
        "    rotation_range=20,\n",
        "    width_shift_range=0.2,\n",
        "    height_shift_range=0.2,\n",
        "    horizontal_flip=True,\n",
        "    validation_split=0.2)"
      ],
      "metadata": {
        "id": "Hah0E335RB4p"
      },
      "execution_count": 5,
      "outputs": []
    },
    {
      "cell_type": "code",
      "source": [
        "datagen.fit(X_train)"
      ],
      "metadata": {
        "id": "rlM_xM9URnQI"
      },
      "execution_count": 6,
      "outputs": []
    },
    {
      "cell_type": "code",
      "source": [
        "def get_callbacks():\n",
        "  return [\n",
        "    tf.keras.callbacks.EarlyStopping(monitor='val_loss', patience=10)      \n",
        "  ]"
      ],
      "metadata": {
        "id": "y_w8tVTfrAp0"
      },
      "execution_count": 7,
      "outputs": []
    },
    {
      "cell_type": "code",
      "source": [
        "histories = {}"
      ],
      "metadata": {
        "id": "WiQEjCXBrGRO"
      },
      "execution_count": 8,
      "outputs": []
    },
    {
      "cell_type": "code",
      "source": [
        "img_height = 32\n",
        "img_width = 32\n",
        "channels = 3\n",
        "img_shape = (img_height, img_width, channels)"
      ],
      "metadata": {
        "id": "eyvWh31Erflk"
      },
      "execution_count": 9,
      "outputs": []
    },
    {
      "cell_type": "code",
      "source": [
        "# Create the base model with EfficientNetB1\n",
        "base_model = tf.keras.applications.EfficientNetB1(input_shape=img_shape, include_top=False, weights='imagenet', pooling='max')"
      ],
      "metadata": {
        "colab": {
          "base_uri": "https://localhost:8080/"
        },
        "id": "8tk9XaU-rXOe",
        "outputId": "20226120-10ee-48a0-e056-0d9f0ff1a8f5"
      },
      "execution_count": 10,
      "outputs": [
        {
          "output_type": "stream",
          "name": "stdout",
          "text": [
            "Downloading data from https://storage.googleapis.com/keras-applications/efficientnetb1_notop.h5\n",
            "27025408/27018416 [==============================] - 0s 0us/step\n",
            "27033600/27018416 [==============================] - 0s 0us/step\n"
          ]
        }
      ]
    },
    {
      "cell_type": "code",
      "source": [
        "base_model.summary()"
      ],
      "metadata": {
        "id": "R7HBPtF-ubE9"
      },
      "execution_count": null,
      "outputs": []
    },
    {
      "cell_type": "code",
      "source": [
        "base_model.trainable = False"
      ],
      "metadata": {
        "id": "8XN-RCrJuhrC"
      },
      "execution_count": 11,
      "outputs": []
    },
    {
      "cell_type": "code",
      "source": [
        "base_model.summary()"
      ],
      "metadata": {
        "id": "JbTt-EtLvZje"
      },
      "execution_count": null,
      "outputs": []
    },
    {
      "cell_type": "code",
      "source": [
        "Normalizator_layer = keras.layers.BatchNormalization(axis=-1, momentum=0.99, epsilon=0.001 )"
      ],
      "metadata": {
        "id": "DTnbmVOeveqE"
      },
      "execution_count": 12,
      "outputs": []
    },
    {
      "cell_type": "code",
      "source": [
        "prediction_layer = keras.layers.Dense(7, activation='softmax')"
      ],
      "metadata": {
        "id": "AjjDCNDRvyDs"
      },
      "execution_count": 13,
      "outputs": []
    },
    {
      "cell_type": "code",
      "source": [
        "model = tf.keras.Sequential([\n",
        "  base_model,\n",
        "  Normalizator_layer,\n",
        "  keras.layers.Dense(256, kernel_regularizer = regularizers.l2(l = 0.016),activity_regularizer=regularizers.l1(0.006),\n",
        "                bias_regularizer=regularizers.l1(0.006) ,activation='relu'),\n",
        "  keras.layers.Dropout(rate=.45, seed=123),\n",
        "  prediction_layer                           \n",
        "])"
      ],
      "metadata": {
        "id": "dDb63wxiv8mo"
      },
      "execution_count": 14,
      "outputs": []
    },
    {
      "cell_type": "code",
      "source": [
        "model.summary()"
      ],
      "metadata": {
        "colab": {
          "base_uri": "https://localhost:8080/"
        },
        "id": "PxIjFp_-wPjL",
        "outputId": "efa34b81-1b06-479f-966f-efe1669159f3"
      },
      "execution_count": 15,
      "outputs": [
        {
          "output_type": "stream",
          "name": "stdout",
          "text": [
            "Model: \"sequential\"\n",
            "_________________________________________________________________\n",
            " Layer (type)                Output Shape              Param #   \n",
            "=================================================================\n",
            " efficientnetb1 (Functional)  (None, 1280)             6575239   \n",
            "                                                                 \n",
            " batch_normalization (BatchN  (None, 1280)             5120      \n",
            " ormalization)                                                   \n",
            "                                                                 \n",
            " dense_1 (Dense)             (None, 256)               327936    \n",
            "                                                                 \n",
            " dropout (Dropout)           (None, 256)               0         \n",
            "                                                                 \n",
            " dense (Dense)               (None, 7)                 1799      \n",
            "                                                                 \n",
            "=================================================================\n",
            "Total params: 6,910,094\n",
            "Trainable params: 332,295\n",
            "Non-trainable params: 6,577,799\n",
            "_________________________________________________________________\n"
          ]
        }
      ]
    },
    {
      "cell_type": "code",
      "source": [
        "base_learning_rate = 0.001\n",
        "model.compile(optimizer=tf.keras.optimizers.Adamax(lr=base_learning_rate),\n",
        "              loss='categorical_crossentropy',\n",
        "              metrics=['accuracy'])"
      ],
      "metadata": {
        "colab": {
          "base_uri": "https://localhost:8080/"
        },
        "id": "e6CCdu_Uwivh",
        "outputId": "8e880bbe-85df-41ca-b729-781aaffbcb98"
      },
      "execution_count": 16,
      "outputs": [
        {
          "output_type": "stream",
          "name": "stderr",
          "text": [
            "/usr/local/lib/python3.7/dist-packages/keras/optimizer_v2/adamax.py:90: UserWarning: The `lr` argument is deprecated, use `learning_rate` instead.\n",
            "  super(Adamax, self).__init__(name, **kwargs)\n"
          ]
        }
      ]
    },
    {
      "cell_type": "code",
      "source": [
        "history = model.fit(datagen.flow(X_train, y_train, batch_size=32, subset='training'), epochs=40, validation_data=datagen.flow(X_train, y_train, batch_size=8, subset='validation'))"
      ],
      "metadata": {
        "colab": {
          "base_uri": "https://localhost:8080/"
        },
        "id": "6wLlCxZiyuVa",
        "outputId": "5a8671d7-1997-4d88-e874-9c84c9be9915"
      },
      "execution_count": 17,
      "outputs": [
        {
          "output_type": "stream",
          "name": "stdout",
          "text": [
            "Epoch 1/40\n",
            "176/176 [==============================] - 34s 134ms/step - loss: 6.5077 - accuracy: 0.6316 - val_loss: 5.1639 - val_accuracy: 0.6669\n",
            "Epoch 2/40\n",
            "176/176 [==============================] - 22s 123ms/step - loss: 4.1942 - accuracy: 0.6651 - val_loss: 3.7097 - val_accuracy: 0.6669\n",
            "Epoch 3/40\n",
            "176/176 [==============================] - 27s 152ms/step - loss: 3.0408 - accuracy: 0.6673 - val_loss: 2.7379 - val_accuracy: 0.6683\n",
            "Epoch 4/40\n",
            "176/176 [==============================] - 22s 122ms/step - loss: 2.3597 - accuracy: 0.6703 - val_loss: 2.1813 - val_accuracy: 0.6683\n",
            "Epoch 5/40\n",
            "176/176 [==============================] - 21s 122ms/step - loss: 1.9479 - accuracy: 0.6714 - val_loss: 1.7752 - val_accuracy: 0.6683\n",
            "Epoch 6/40\n",
            "176/176 [==============================] - 21s 120ms/step - loss: 1.6877 - accuracy: 0.6728 - val_loss: 1.5767 - val_accuracy: 0.6705\n",
            "Epoch 7/40\n",
            "176/176 [==============================] - 21s 120ms/step - loss: 1.5364 - accuracy: 0.6735 - val_loss: 1.4041 - val_accuracy: 0.6669\n",
            "Epoch 8/40\n",
            "176/176 [==============================] - 21s 121ms/step - loss: 1.4304 - accuracy: 0.6731 - val_loss: 1.3151 - val_accuracy: 0.6669\n",
            "Epoch 9/40\n",
            "176/176 [==============================] - 22s 123ms/step - loss: 1.3724 - accuracy: 0.6737 - val_loss: 1.2701 - val_accuracy: 0.6683\n",
            "Epoch 10/40\n",
            "176/176 [==============================] - 21s 120ms/step - loss: 1.3167 - accuracy: 0.6739 - val_loss: 1.2592 - val_accuracy: 0.6683\n",
            "Epoch 11/40\n",
            "176/176 [==============================] - 21s 122ms/step - loss: 1.2746 - accuracy: 0.6721 - val_loss: 1.2073 - val_accuracy: 0.6690\n",
            "Epoch 12/40\n",
            "176/176 [==============================] - 21s 121ms/step - loss: 1.2454 - accuracy: 0.6740 - val_loss: 1.2089 - val_accuracy: 0.6690\n",
            "Epoch 13/40\n",
            "176/176 [==============================] - 22s 123ms/step - loss: 1.2348 - accuracy: 0.6737 - val_loss: 1.2037 - val_accuracy: 0.6690\n",
            "Epoch 14/40\n",
            "176/176 [==============================] - 21s 120ms/step - loss: 1.2220 - accuracy: 0.6742 - val_loss: 1.1905 - val_accuracy: 0.6662\n",
            "Epoch 15/40\n",
            "176/176 [==============================] - 21s 120ms/step - loss: 1.2154 - accuracy: 0.6735 - val_loss: 1.1889 - val_accuracy: 0.6669\n",
            "Epoch 16/40\n",
            "176/176 [==============================] - 21s 120ms/step - loss: 1.2064 - accuracy: 0.6735 - val_loss: 1.1467 - val_accuracy: 0.6669\n",
            "Epoch 17/40\n",
            "176/176 [==============================] - 22s 122ms/step - loss: 1.2016 - accuracy: 0.6739 - val_loss: 1.1401 - val_accuracy: 0.6669\n",
            "Epoch 18/40\n",
            "176/176 [==============================] - 21s 121ms/step - loss: 1.1910 - accuracy: 0.6731 - val_loss: 1.1273 - val_accuracy: 0.6669\n",
            "Epoch 19/40\n",
            "176/176 [==============================] - 22s 127ms/step - loss: 1.1853 - accuracy: 0.6740 - val_loss: 1.1109 - val_accuracy: 0.6669\n",
            "Epoch 20/40\n",
            "176/176 [==============================] - 21s 121ms/step - loss: 1.1778 - accuracy: 0.6740 - val_loss: 1.1437 - val_accuracy: 0.6669\n",
            "Epoch 21/40\n",
            "176/176 [==============================] - 21s 121ms/step - loss: 1.1788 - accuracy: 0.6742 - val_loss: 1.1253 - val_accuracy: 0.6669\n",
            "Epoch 22/40\n",
            "176/176 [==============================] - 21s 119ms/step - loss: 1.1772 - accuracy: 0.6742 - val_loss: 1.0990 - val_accuracy: 0.6669\n",
            "Epoch 23/40\n",
            "176/176 [==============================] - 21s 122ms/step - loss: 1.1691 - accuracy: 0.6739 - val_loss: 1.0879 - val_accuracy: 0.6669\n",
            "Epoch 24/40\n",
            "176/176 [==============================] - 21s 121ms/step - loss: 1.1692 - accuracy: 0.6737 - val_loss: 1.1062 - val_accuracy: 0.6669\n",
            "Epoch 25/40\n",
            "176/176 [==============================] - 21s 122ms/step - loss: 1.1679 - accuracy: 0.6739 - val_loss: 1.1191 - val_accuracy: 0.6669\n",
            "Epoch 26/40\n",
            "176/176 [==============================] - 21s 121ms/step - loss: 1.1586 - accuracy: 0.6739 - val_loss: 1.1215 - val_accuracy: 0.6669\n",
            "Epoch 27/40\n",
            "176/176 [==============================] - 21s 122ms/step - loss: 1.1568 - accuracy: 0.6740 - val_loss: 1.1073 - val_accuracy: 0.6669\n",
            "Epoch 28/40\n",
            "176/176 [==============================] - 21s 120ms/step - loss: 1.1508 - accuracy: 0.6739 - val_loss: 1.1054 - val_accuracy: 0.6669\n",
            "Epoch 29/40\n",
            "176/176 [==============================] - 21s 120ms/step - loss: 1.1506 - accuracy: 0.6740 - val_loss: 1.0973 - val_accuracy: 0.6669\n",
            "Epoch 30/40\n",
            "176/176 [==============================] - 21s 121ms/step - loss: 1.1521 - accuracy: 0.6740 - val_loss: 1.1005 - val_accuracy: 0.6669\n",
            "Epoch 31/40\n",
            "176/176 [==============================] - 21s 118ms/step - loss: 1.1557 - accuracy: 0.6740 - val_loss: 1.0696 - val_accuracy: 0.6669\n",
            "Epoch 32/40\n",
            "176/176 [==============================] - 21s 118ms/step - loss: 1.1518 - accuracy: 0.6739 - val_loss: 1.0946 - val_accuracy: 0.6669\n",
            "Epoch 33/40\n",
            "176/176 [==============================] - 21s 120ms/step - loss: 1.1445 - accuracy: 0.6744 - val_loss: 1.0814 - val_accuracy: 0.6676\n",
            "Epoch 34/40\n",
            "176/176 [==============================] - 21s 120ms/step - loss: 1.1436 - accuracy: 0.6739 - val_loss: 1.0848 - val_accuracy: 0.6669\n",
            "Epoch 35/40\n",
            "176/176 [==============================] - 21s 120ms/step - loss: 1.1414 - accuracy: 0.6739 - val_loss: 1.0749 - val_accuracy: 0.6669\n",
            "Epoch 36/40\n",
            "176/176 [==============================] - 21s 121ms/step - loss: 1.1423 - accuracy: 0.6740 - val_loss: 1.0769 - val_accuracy: 0.6669\n",
            "Epoch 37/40\n",
            "176/176 [==============================] - 21s 118ms/step - loss: 1.1381 - accuracy: 0.6740 - val_loss: 1.0848 - val_accuracy: 0.6669\n",
            "Epoch 38/40\n",
            "176/176 [==============================] - 22s 122ms/step - loss: 1.1439 - accuracy: 0.6740 - val_loss: 1.0637 - val_accuracy: 0.6669\n",
            "Epoch 39/40\n",
            "176/176 [==============================] - 21s 121ms/step - loss: 1.1330 - accuracy: 0.6740 - val_loss: 1.0797 - val_accuracy: 0.6669\n",
            "Epoch 40/40\n",
            "176/176 [==============================] - 21s 121ms/step - loss: 1.1316 - accuracy: 0.6742 - val_loss: 1.0641 - val_accuracy: 0.6669\n"
          ]
        }
      ]
    },
    {
      "cell_type": "code",
      "source": [
        "histories['EfficientNetB1'] = history"
      ],
      "metadata": {
        "id": "q4aGJNPA0lmm"
      },
      "execution_count": 18,
      "outputs": []
    },
    {
      "cell_type": "code",
      "source": [
        "plotter = tfdocs.plots.HistoryPlotter(metric = 'accuracy', smoothing_std=10)\n",
        "plotter.plot(histories)\n",
        "plt.ylim([0, 1])"
      ],
      "metadata": {
        "colab": {
          "base_uri": "https://localhost:8080/",
          "height": 300
        },
        "id": "_s6Yv2-c2ZCs",
        "outputId": "29272b1f-71b7-4937-cca5-e81e6e6faaea"
      },
      "execution_count": 19,
      "outputs": [
        {
          "output_type": "execute_result",
          "data": {
            "text/plain": [
              "(0.0, 1.0)"
            ]
          },
          "metadata": {},
          "execution_count": 19
        },
        {
          "output_type": "display_data",
          "data": {
            "text/plain": [
              "<Figure size 432x288 with 1 Axes>"
            ],
            "image/png": "[encoded data removed]"
          },
          "metadata": {
            "needs_background": "light"
          }
        }
      ]
    }
  ]
}