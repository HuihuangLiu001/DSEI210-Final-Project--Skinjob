{
  "nbformat": 4,
  "nbformat_minor": 0,
  "metadata": {
    "colab": {
      "name": "DNN.ipynb",
      "provenance": [],
      "collapsed_sections": [],
      "machine_shape": "hm"
    },
    "kernelspec": {
      "name": "python3",
      "display_name": "Python 3"
    },
    "language_info": {
      "name": "python"
    },
    "accelerator": "GPU"
  },
  "cells": [
    {
      "cell_type": "code",
      "source": [
        "!pwd\n",
        "\n",
        "import os\n",
        "os.environ['KAGGLE_CONFIG_DIR'] = \"/content\""
      ],
      "metadata": {
        "colab": {
          "base_uri": "https://localhost:8080/"
        },
        "id": "oMeY-S2UFZsU",
        "outputId": "1e0dad97-735e-4c15-8af0-290327258551"
      },
      "execution_count": 1,
      "outputs": [
        {
          "output_type": "stream",
          "name": "stdout",
          "text": [
            "/content\n"
          ]
        }
      ]
    },
    {
      "cell_type": "code",
      "source": [
        "!kaggle datasets download -d surajghuwalewala/ham1000-segmentation-and-classification\n",
        "!unzip /content/ham1000-segmentation-and-classification.zip"
      ],
      "metadata": {
        "id": "drXn_cYLFaXy"
      },
      "execution_count": null,
      "outputs": []
    },
    {
      "cell_type": "code",
      "source": [
        "!pip install git+https://github.com/tensorflow/docs"
      ],
      "metadata": {
        "colab": {
          "base_uri": "https://localhost:8080/"
        },
        "id": "b_03fYt9CKVo",
        "outputId": "ac50c8e8-e5de-4f53-f45b-6e72183903a3"
      },
      "execution_count": 3,
      "outputs": [
        {
          "output_type": "stream",
          "name": "stdout",
          "text": [
            "Collecting git+https://github.com/tensorflow/docs\n",
            "  Cloning https://github.com/tensorflow/docs to /tmp/pip-req-build-unl3m7rk\n",
            "  Running command git clone -q https://github.com/tensorflow/docs /tmp/pip-req-build-unl3m7rk\n",
            "Requirement already satisfied: astor in /usr/local/lib/python3.7/dist-packages (from tensorflow-docs==0.0.0.dev0) (0.8.1)\n",
            "Requirement already satisfied: absl-py in /usr/local/lib/python3.7/dist-packages (from tensorflow-docs==0.0.0.dev0) (1.0.0)\n",
            "Requirement already satisfied: jinja2 in /usr/local/lib/python3.7/dist-packages (from tensorflow-docs==0.0.0.dev0) (2.11.3)\n",
            "Requirement already satisfied: protobuf>=3.14 in /usr/local/lib/python3.7/dist-packages (from tensorflow-docs==0.0.0.dev0) (3.17.3)\n",
            "Requirement already satisfied: pyyaml in /usr/local/lib/python3.7/dist-packages (from tensorflow-docs==0.0.0.dev0) (3.13)\n",
            "Requirement already satisfied: six>=1.9 in /usr/local/lib/python3.7/dist-packages (from protobuf>=3.14->tensorflow-docs==0.0.0.dev0) (1.15.0)\n",
            "Requirement already satisfied: MarkupSafe>=0.23 in /usr/local/lib/python3.7/dist-packages (from jinja2->tensorflow-docs==0.0.0.dev0) (2.0.1)\n",
            "Building wheels for collected packages: tensorflow-docs\n",
            "  Building wheel for tensorflow-docs (setup.py) ... \u001b[?25l\u001b[?25hdone\n",
            "  Created wheel for tensorflow-docs: filename=tensorflow_docs-0.0.0.dev0-py3-none-any.whl size=179891 sha256=1a33b88b12a6ec72e0e4e3dfa18b624a2a3d338937f1d3a4c38a66b4702f7646\n",
            "  Stored in directory: /tmp/pip-ephem-wheel-cache-pu_lepwb/wheels/cc/c4/d8/5341e93b6376c5c929c49469fce21155eb69cef1a4da4ce32c\n",
            "Successfully built tensorflow-docs\n",
            "Installing collected packages: tensorflow-docs\n",
            "Successfully installed tensorflow-docs-0.0.0.dev0\n"
          ]
        }
      ]
    },
    {
      "cell_type": "code",
      "execution_count": 4,
      "metadata": {
        "id": "yw-BBLyMKR0D"
      },
      "outputs": [],
      "source": [
        "import numpy as np \n",
        "import pandas as pd\n",
        "import tensorflow as tf\n",
        "\n",
        "from PIL import Image\n",
        "\n",
        "from tensorflow import keras\n",
        "import tensorflow_docs as tfdocs\n",
        "import tensorflow_docs.modeling\n",
        "import tensorflow_docs.plots\n",
        "from tensorflow.keras import regularizers\n",
        "from tensorflow.keras.preprocessing.image import ImageDataGenerator\n",
        "from keras.utils.np_utils import to_categorical\n",
        "import matplotlib.pyplot as plt\n",
        "from sklearn.model_selection import train_test_split\n",
        "from sklearn.metrics import confusion_matrix, classification_report\n",
        "from sklearn.decomposition import PCA\n",
        "from sklearn.multiclass import OneVsRestClassifier\n",
        "import seaborn as sns\n",
        "from matplotlib.pyplot import imshow"
      ]
    },
    {
      "cell_type": "code",
      "source": [
        "def undersample(df, count, rs=42):\n",
        "  result=[]\n",
        "  df_group = df.groupby('dx')\n",
        "  for x in df['dx'].unique():\n",
        "    group = df_group.get_group(x)\n",
        "    num = int(group['dx'].value_counts())\n",
        "    if num >= count:\n",
        "      s=group.sample(count, axis=0, random_state=rs)\n",
        "    else:\n",
        "      s=group.sample(frac=1, axis=0, random_state=rs)\n",
        "    result.append(s)\n",
        "  return pd.concat(result, axis=0).reset_index(drop=True)\n",
        "\n",
        "def oversample(df, count, rs=42):\n",
        "  lst = [df]\n",
        "  for class_index, group in df.groupby('dx'):\n",
        "      lst.append(group.sample(count-len(group), replace=True, random_state=rs))\n",
        "  df_new = pd.concat(lst)\n",
        "  return df_new\n",
        "\n",
        "def img_np_convert(df, image_path, h, w):\n",
        "  df['image_id'] = image_path + df['image_id'] +'.jpg'\n",
        "  df['image'] = df['image_id'].map(lambda x: np.asarray(Image.open(x).resize((h, w))).astype(np.float32))\n",
        "  return df\n",
        "\n",
        "def img_np_convert_scaled(df, image_path, h, w):\n",
        "  df['image_id'] = image_path + df['image_id'] +'.jpg'\n",
        "  df['image'] = df['image_id'].map(lambda x: (np.asarray(Image.open(x).resize((h, w)))/255).astype(np.float32))\n",
        "  return df\n",
        "\n",
        "def my_split(df, train_size, test_size, val_size, rs=42):\n",
        "  valid_test_split = val_size / test_size\n",
        "\n",
        "  df_train, df_test_val = train_test_split(df, test_size=1-train_size, shuffle=True, random_state=rs)\n",
        "  df_val, df_test = train_test_split(df_test_val, test_size=valid_test_split, shuffle=True, random_state=rs)\n",
        "\n",
        "  df_train.reset_index(inplace=True)\n",
        "  return df_train, df_test, df_val\n",
        "\n",
        "def weight_cal(df):\n",
        "  class_weight={}\n",
        "  labels = list(df['dx'].unique())\n",
        "  labels.sort()\n",
        "  count = df['dx'].value_counts()\n",
        "  for idx in range(7):\n",
        "    class_weight[idx] = count['nv']/count[labels[idx]]\n",
        "  return class_weight, labels\n",
        "\n",
        "def df_to_np1(df):\n",
        "  image = np.asarray(df['image'].to_list()) \n",
        "  target_df = df['dx']\n",
        "  target = pd.get_dummies(data=target_df, columns=['dx']).to_numpy()\n",
        "  return image, target\n",
        "\n",
        "def df_to_np2(df):\n",
        "  df['image'] = df['image'].map(lambda x : x.flatten())\n",
        "  i_feature = np.asarray(df['image'].tolist())\n",
        "  df_feature = df.iloc[:, 3:-1]\n",
        "  c_feature = df_feature.loc[:, ~df_feature.columns.isin(['sex', 'dx'])].to_numpy()\n",
        "  features = np.concatenate((i_feature, c_feature), axis=1)\n",
        "  \n",
        "  target_df = df['dx']\n",
        "  target = pd.get_dummies(data=target_df, columns=['dx']).to_numpy()\n",
        "  return features, target\n",
        "\n",
        "def image_augment(df, target, count, size, rs=42):\n",
        "  df_group = df.groupby('dx')\n",
        "  group = df_group.get_group(target)\n",
        "  s=group.sample(count, axis=0, random_state=rs)\n",
        "\n",
        "  datagen = ImageDataGenerator(\n",
        "    rotation_range = 20,\n",
        "    width_shift_range = 0.1,\n",
        "    height_shift_range = 0.1,\n",
        "    horizontal_flip = True,\n",
        "    fill_mode='nearest')\n",
        "  \n",
        "  for index, row in s.iterrows():\n",
        "    image = row['image'].reshape((1, ) + row['image'].shape)\n",
        "    gen = datagen.flow(image, batch_size=size)\n",
        "    input = row.to_list()\n",
        "    for i in range(size):\n",
        "      img = next(gen)\n",
        "      input[-1] = img[0]\n",
        "      df.loc[len(df.index)] = input\n",
        "  return None"
      ],
      "metadata": {
        "id": "x4bYxePIHwwO"
      },
      "execution_count": 5,
      "outputs": []
    },
    {
      "cell_type": "code",
      "source": [
        "def prep_pipeline2(upper_size, h, w, aug_targets, aug_count, aug_size, rs=42):\n",
        "  df_o = pd.read_csv('../content/drive/MyDrive/DSE_I2100/data/HAM10000_metadata.csv')\n",
        "  df_o = pd.get_dummies(data=df_o, columns=['dx_type', 'localization'])\n",
        "  image_path = r'../content/images/'\n",
        "  df_u = undersample(df_o, upper_size)\n",
        "  df_u['age'].fillna(value=int(df_u['age'].mean()), inplace=True)\n",
        "  df_u['age'] = df_u['age'].astype(np.float32)\n",
        "\n",
        "  df = img_np_convert_scaled(df_u, image_path, h, w)\n",
        "\n",
        "  df_train, df_test, df_val = my_split(df, 0.7, 0.2, 0.1, rs)\n",
        "\n",
        "  for target in aug_targets:\n",
        "    image_augment(df_train, target, aug_count, aug_size, rs)\n",
        "\n",
        "  weight, labels = weight_cal(df_train)\n",
        "\n",
        "  X_train, y_train = df_to_np2(df_train)\n",
        "  X_test, y_test = df_to_np2(df_test)\n",
        "  X_val, y_val = df_to_np2(df_val)\n",
        "  return (X_train, y_train), (X_test, y_test), (X_val, y_val), weight, labels"
      ],
      "metadata": {
        "id": "0uTJ9rqPH1mJ"
      },
      "execution_count": 6,
      "outputs": []
    },
    {
      "cell_type": "code",
      "source": [
        "h = 90\n",
        "w = 90\n",
        "aug_targets = ['mel', 'bcc']\n",
        "aug_count = 50\n",
        "aug_size = 4\n",
        "majority = 6000\n",
        "\n",
        "train_set, test_set, val_set, class_weight, labels = prep_pipeline2(majority, h, w, aug_targets, aug_count, aug_size)"
      ],
      "metadata": {
        "id": "qBEjQBaPH4xC"
      },
      "execution_count": 7,
      "outputs": []
    },
    {
      "cell_type": "code",
      "source": [
        "X_train = train_set[0]\n",
        "y_train = np.argmax(train_set[1], axis=1)\n",
        "\n",
        "X_val = val_set[0]\n",
        "y_val = np.argmax(val_set[1], axis=1)\n",
        "\n",
        "X_test = test_set[0]\n",
        "y_test = np.argmax(test_set[1], axis=1)"
      ],
      "metadata": {
        "id": "BqOBx0btH63P"
      },
      "execution_count": 8,
      "outputs": []
    },
    {
      "cell_type": "code",
      "source": [
        "print(X_train.shape, X_test.shape, X_val.shape)"
      ],
      "metadata": {
        "colab": {
          "base_uri": "https://localhost:8080/"
        },
        "id": "Fsqzto3xH85T",
        "outputId": "94eccf10-79d2-484e-b311-d12376d244de"
      },
      "execution_count": 9,
      "outputs": [
        {
          "output_type": "stream",
          "name": "stdout",
          "text": [
            "(6916, 24320) (1397, 24320) (1397, 24320)\n"
          ]
        }
      ]
    },
    {
      "cell_type": "code",
      "source": [
        "y_train = to_categorical(y_train, num_classes = 7)\n",
        "y_test = to_categorical(y_test, num_classes = 7)\n",
        "y_val = to_categorical(y_val, num_classes = 7)"
      ],
      "metadata": {
        "id": "DzEiaRODJnNR"
      },
      "execution_count": 10,
      "outputs": []
    },
    {
      "cell_type": "code",
      "source": [
        "class_weight"
      ],
      "metadata": {
        "colab": {
          "base_uri": "https://localhost:8080/"
        },
        "id": "kXQzjEiZH_Wa",
        "outputId": "5f3deedd-468a-47e5-8a7e-672ab31c9ff6"
      },
      "execution_count": 11,
      "outputs": [
        {
          "output_type": "execute_result",
          "data": {
            "text/plain": [
              "{0: 18.57079646017699,\n",
              " 1: 7.441489361702128,\n",
              " 2: 5.529644268774703,\n",
              " 3: 50.566265060240966,\n",
              " 4: 4.260913705583756,\n",
              " 5: 1.0,\n",
              " 6: 41.14705882352941}"
            ]
          },
          "metadata": {},
          "execution_count": 11
        }
      ]
    },
    {
      "cell_type": "code",
      "source": [
        "def get_callbacks():\n",
        "  return [\n",
        "    tf.keras.callbacks.EarlyStopping(monitor='val_loss', patience=10, verbose=1, mode='auto', restore_best_weights=True),\n",
        "    tf.keras.callbacks.ReduceLROnPlateau(monitor='val_loss', factor=0.5, patience=5, verbose=1, mode='auto')      \n",
        "  ]"
      ],
      "metadata": {
        "id": "S2Ww9L6RApQI"
      },
      "execution_count": 29,
      "outputs": []
    },
    {
      "cell_type": "code",
      "source": [
        "histories = {}"
      ],
      "metadata": {
        "id": "BIL5VD0DDKoD"
      },
      "execution_count": 13,
      "outputs": []
    },
    {
      "cell_type": "code",
      "source": [
        "dnn_model = tf.keras.Sequential([                                                               \n",
        "   keras.layers.Dense(64,\n",
        "                      kernel_initializer = 'uniform',\n",
        "                      input_dim=24320, \n",
        "                      activation = 'relu'),\n",
        "\n",
        "   keras.layers.Dense(64, \n",
        "                      kernel_initializer = 'uniform',\n",
        "                      activation = 'relu'),\n",
        "   keras.layers.Dense(64, \n",
        "                      kernel_initializer = 'uniform',\n",
        "                      activation = 'relu'),\n",
        "   keras.layers.Dense(64, \n",
        "                      kernel_initializer = 'uniform',\n",
        "                      activation = 'relu', \n",
        "                      kernel_regularizer=regularizers.l2(0.001)),\n",
        "   keras.layers.Dropout(rate=.40, seed=42),\n",
        "\n",
        "   keras.layers.Dense(7, activation='softmax')                                 \n",
        "])"
      ],
      "metadata": {
        "id": "F6mIl6HVKhDt"
      },
      "execution_count": 35,
      "outputs": []
    },
    {
      "cell_type": "code",
      "source": [
        "base_learning_rate = 0.0001\n",
        "dnn_model.compile(optimizer=tf.keras.optimizers.Adamax(learning_rate=base_learning_rate, epsilon = 1e-8), \n",
        "                  loss='categorical_crossentropy', \n",
        "                  metrics=['accuracy'])"
      ],
      "metadata": {
        "id": "t3BMemQrK7U6"
      },
      "execution_count": 43,
      "outputs": []
    },
    {
      "cell_type": "code",
      "source": [
        "dnn_hist = dnn_model.fit(X_train, y_train, epochs=100, \n",
        "                         validation_data=(X_val, y_val), \n",
        "                         callbacks=get_callbacks(), \n",
        "                         )"
      ],
      "metadata": {
        "id": "sD6hmFRgKz3Q",
        "colab": {
          "base_uri": "https://localhost:8080/"
        },
        "outputId": "d791f270-c4a1-45b3-a8fb-7b27dce086e9"
      },
      "execution_count": 44,
      "outputs": [
        {
          "output_type": "stream",
          "name": "stdout",
          "text": [
            "Epoch 1/100\n",
            "217/217 [==============================] - 2s 6ms/step - loss: 1.0825 - accuracy: 0.6274 - val_loss: 0.9105 - val_accuracy: 0.6850 - lr: 1.0000e-04\n",
            "Epoch 2/100\n",
            "217/217 [==============================] - 1s 4ms/step - loss: 1.0307 - accuracy: 0.6343 - val_loss: 0.9004 - val_accuracy: 0.6879 - lr: 1.0000e-04\n",
            "Epoch 3/100\n",
            "217/217 [==============================] - 1s 4ms/step - loss: 1.0037 - accuracy: 0.6404 - val_loss: 0.8893 - val_accuracy: 0.6865 - lr: 1.0000e-04\n",
            "Epoch 4/100\n",
            "217/217 [==============================] - 1s 4ms/step - loss: 1.0054 - accuracy: 0.6418 - val_loss: 0.8800 - val_accuracy: 0.6858 - lr: 1.0000e-04\n",
            "Epoch 5/100\n",
            "217/217 [==============================] - 1s 4ms/step - loss: 0.9824 - accuracy: 0.6511 - val_loss: 0.8857 - val_accuracy: 0.6893 - lr: 1.0000e-04\n",
            "Epoch 6/100\n",
            "217/217 [==============================] - 1s 4ms/step - loss: 0.9825 - accuracy: 0.6416 - val_loss: 0.8825 - val_accuracy: 0.6872 - lr: 1.0000e-04\n",
            "Epoch 7/100\n",
            "217/217 [==============================] - 1s 4ms/step - loss: 0.9750 - accuracy: 0.6472 - val_loss: 0.8608 - val_accuracy: 0.6943 - lr: 1.0000e-04\n",
            "Epoch 8/100\n",
            "217/217 [==============================] - 1s 4ms/step - loss: 0.9693 - accuracy: 0.6504 - val_loss: 0.8604 - val_accuracy: 0.6958 - lr: 1.0000e-04\n",
            "Epoch 9/100\n",
            "217/217 [==============================] - 1s 4ms/step - loss: 0.9621 - accuracy: 0.6525 - val_loss: 0.8740 - val_accuracy: 0.6943 - lr: 1.0000e-04\n",
            "Epoch 10/100\n",
            "217/217 [==============================] - 1s 4ms/step - loss: 0.9652 - accuracy: 0.6479 - val_loss: 0.9154 - val_accuracy: 0.6743 - lr: 1.0000e-04\n",
            "Epoch 11/100\n",
            "217/217 [==============================] - 1s 4ms/step - loss: 0.9659 - accuracy: 0.6514 - val_loss: 0.8571 - val_accuracy: 0.6986 - lr: 1.0000e-04\n",
            "Epoch 12/100\n",
            "217/217 [==============================] - 1s 4ms/step - loss: 0.9492 - accuracy: 0.6602 - val_loss: 0.8447 - val_accuracy: 0.6922 - lr: 1.0000e-04\n",
            "Epoch 13/100\n",
            "217/217 [==============================] - 1s 4ms/step - loss: 0.9447 - accuracy: 0.6562 - val_loss: 0.8419 - val_accuracy: 0.6951 - lr: 1.0000e-04\n",
            "Epoch 14/100\n",
            "217/217 [==============================] - 1s 4ms/step - loss: 0.9471 - accuracy: 0.6570 - val_loss: 0.8799 - val_accuracy: 0.6829 - lr: 1.0000e-04\n",
            "Epoch 15/100\n",
            "217/217 [==============================] - 1s 4ms/step - loss: 0.9348 - accuracy: 0.6569 - val_loss: 0.8431 - val_accuracy: 0.6986 - lr: 1.0000e-04\n",
            "Epoch 16/100\n",
            "217/217 [==============================] - 1s 4ms/step - loss: 0.9305 - accuracy: 0.6625 - val_loss: 0.8431 - val_accuracy: 0.7022 - lr: 1.0000e-04\n",
            "Epoch 17/100\n",
            "217/217 [==============================] - 1s 4ms/step - loss: 0.9293 - accuracy: 0.6596 - val_loss: 0.8344 - val_accuracy: 0.6958 - lr: 1.0000e-04\n",
            "Epoch 18/100\n",
            "217/217 [==============================] - 1s 4ms/step - loss: 0.9267 - accuracy: 0.6614 - val_loss: 0.8543 - val_accuracy: 0.7015 - lr: 1.0000e-04\n",
            "Epoch 19/100\n",
            "217/217 [==============================] - 1s 4ms/step - loss: 0.9347 - accuracy: 0.6640 - val_loss: 0.8331 - val_accuracy: 0.7044 - lr: 1.0000e-04\n",
            "Epoch 20/100\n",
            "217/217 [==============================] - 1s 4ms/step - loss: 0.9219 - accuracy: 0.6645 - val_loss: 0.8455 - val_accuracy: 0.7051 - lr: 1.0000e-04\n",
            "Epoch 21/100\n",
            "217/217 [==============================] - 1s 4ms/step - loss: 0.9229 - accuracy: 0.6625 - val_loss: 0.8296 - val_accuracy: 0.7058 - lr: 1.0000e-04\n",
            "Epoch 22/100\n",
            "217/217 [==============================] - 1s 4ms/step - loss: 0.9267 - accuracy: 0.6624 - val_loss: 0.9034 - val_accuracy: 0.6793 - lr: 1.0000e-04\n",
            "Epoch 23/100\n",
            "217/217 [==============================] - 1s 4ms/step - loss: 0.9148 - accuracy: 0.6676 - val_loss: 0.8886 - val_accuracy: 0.6786 - lr: 1.0000e-04\n",
            "Epoch 24/100\n",
            "217/217 [==============================] - 1s 4ms/step - loss: 0.9161 - accuracy: 0.6625 - val_loss: 0.8327 - val_accuracy: 0.7001 - lr: 1.0000e-04\n",
            "Epoch 25/100\n",
            "217/217 [==============================] - 1s 4ms/step - loss: 0.9055 - accuracy: 0.6682 - val_loss: 0.8267 - val_accuracy: 0.7037 - lr: 1.0000e-04\n",
            "Epoch 26/100\n",
            "217/217 [==============================] - 1s 4ms/step - loss: 0.9101 - accuracy: 0.6725 - val_loss: 0.8254 - val_accuracy: 0.7051 - lr: 1.0000e-04\n",
            "Epoch 27/100\n",
            "217/217 [==============================] - 1s 4ms/step - loss: 0.9004 - accuracy: 0.6758 - val_loss: 0.8260 - val_accuracy: 0.7065 - lr: 1.0000e-04\n",
            "Epoch 28/100\n",
            "217/217 [==============================] - 1s 4ms/step - loss: 0.9061 - accuracy: 0.6690 - val_loss: 0.8229 - val_accuracy: 0.7044 - lr: 1.0000e-04\n",
            "Epoch 29/100\n",
            "217/217 [==============================] - 1s 4ms/step - loss: 0.9021 - accuracy: 0.6680 - val_loss: 0.8173 - val_accuracy: 0.7044 - lr: 1.0000e-04\n",
            "Epoch 30/100\n",
            "217/217 [==============================] - 1s 4ms/step - loss: 0.9047 - accuracy: 0.6695 - val_loss: 0.8228 - val_accuracy: 0.7101 - lr: 1.0000e-04\n",
            "Epoch 31/100\n",
            "217/217 [==============================] - 1s 4ms/step - loss: 0.9049 - accuracy: 0.6661 - val_loss: 0.8214 - val_accuracy: 0.7079 - lr: 1.0000e-04\n",
            "Epoch 32/100\n",
            "217/217 [==============================] - 1s 4ms/step - loss: 0.8965 - accuracy: 0.6744 - val_loss: 0.8385 - val_accuracy: 0.6943 - lr: 1.0000e-04\n",
            "Epoch 33/100\n",
            "217/217 [==============================] - 1s 5ms/step - loss: 0.8962 - accuracy: 0.6709 - val_loss: 0.8114 - val_accuracy: 0.7122 - lr: 1.0000e-04\n",
            "Epoch 34/100\n",
            "217/217 [==============================] - 1s 4ms/step - loss: 0.8935 - accuracy: 0.6731 - val_loss: 0.8123 - val_accuracy: 0.7101 - lr: 1.0000e-04\n",
            "Epoch 35/100\n",
            "217/217 [==============================] - 1s 4ms/step - loss: 0.8909 - accuracy: 0.6731 - val_loss: 0.8153 - val_accuracy: 0.7094 - lr: 1.0000e-04\n",
            "Epoch 36/100\n",
            "217/217 [==============================] - 1s 5ms/step - loss: 0.8877 - accuracy: 0.6739 - val_loss: 0.8096 - val_accuracy: 0.7087 - lr: 1.0000e-04\n",
            "Epoch 37/100\n",
            "217/217 [==============================] - 1s 4ms/step - loss: 0.8875 - accuracy: 0.6742 - val_loss: 0.8310 - val_accuracy: 0.6936 - lr: 1.0000e-04\n",
            "Epoch 38/100\n",
            "217/217 [==============================] - 1s 4ms/step - loss: 0.8922 - accuracy: 0.6683 - val_loss: 0.8439 - val_accuracy: 0.6936 - lr: 1.0000e-04\n",
            "Epoch 39/100\n",
            "217/217 [==============================] - 1s 4ms/step - loss: 0.8866 - accuracy: 0.6748 - val_loss: 0.8027 - val_accuracy: 0.7108 - lr: 1.0000e-04\n",
            "Epoch 40/100\n",
            "217/217 [==============================] - 1s 4ms/step - loss: 0.8906 - accuracy: 0.6676 - val_loss: 0.8116 - val_accuracy: 0.7008 - lr: 1.0000e-04\n",
            "Epoch 41/100\n",
            "217/217 [==============================] - 1s 4ms/step - loss: 0.8882 - accuracy: 0.6722 - val_loss: 0.8170 - val_accuracy: 0.7058 - lr: 1.0000e-04\n",
            "Epoch 42/100\n",
            "217/217 [==============================] - 1s 4ms/step - loss: 0.8785 - accuracy: 0.6771 - val_loss: 0.8048 - val_accuracy: 0.7101 - lr: 1.0000e-04\n",
            "Epoch 43/100\n",
            "217/217 [==============================] - 1s 4ms/step - loss: 0.8753 - accuracy: 0.6735 - val_loss: 0.8088 - val_accuracy: 0.7087 - lr: 1.0000e-04\n",
            "Epoch 44/100\n",
            "210/217 [============================>.] - ETA: 0s - loss: 0.8739 - accuracy: 0.6787\n",
            "Epoch 44: ReduceLROnPlateau reducing learning rate to 4.999999873689376e-05.\n",
            "217/217 [==============================] - 1s 4ms/step - loss: 0.8774 - accuracy: 0.6780 - val_loss: 0.8082 - val_accuracy: 0.7122 - lr: 1.0000e-04\n",
            "Epoch 45/100\n",
            "217/217 [==============================] - 1s 4ms/step - loss: 0.8719 - accuracy: 0.6781 - val_loss: 0.8000 - val_accuracy: 0.7079 - lr: 5.0000e-05\n",
            "Epoch 46/100\n",
            "217/217 [==============================] - 1s 4ms/step - loss: 0.8630 - accuracy: 0.6831 - val_loss: 0.7953 - val_accuracy: 0.7079 - lr: 5.0000e-05\n",
            "Epoch 47/100\n",
            "217/217 [==============================] - 1s 4ms/step - loss: 0.8688 - accuracy: 0.6805 - val_loss: 0.7963 - val_accuracy: 0.7079 - lr: 5.0000e-05\n",
            "Epoch 48/100\n",
            "217/217 [==============================] - 1s 4ms/step - loss: 0.8724 - accuracy: 0.6768 - val_loss: 0.8009 - val_accuracy: 0.7065 - lr: 5.0000e-05\n",
            "Epoch 49/100\n",
            "217/217 [==============================] - 1s 4ms/step - loss: 0.8662 - accuracy: 0.6755 - val_loss: 0.7965 - val_accuracy: 0.7101 - lr: 5.0000e-05\n",
            "Epoch 50/100\n",
            "217/217 [==============================] - 1s 4ms/step - loss: 0.8656 - accuracy: 0.6786 - val_loss: 0.8060 - val_accuracy: 0.7037 - lr: 5.0000e-05\n",
            "Epoch 51/100\n",
            "217/217 [==============================] - 1s 4ms/step - loss: 0.8717 - accuracy: 0.6770 - val_loss: 0.7926 - val_accuracy: 0.7115 - lr: 5.0000e-05\n",
            "Epoch 52/100\n",
            "217/217 [==============================] - 1s 4ms/step - loss: 0.8692 - accuracy: 0.6806 - val_loss: 0.7916 - val_accuracy: 0.7079 - lr: 5.0000e-05\n",
            "Epoch 53/100\n",
            "217/217 [==============================] - 1s 4ms/step - loss: 0.8623 - accuracy: 0.6818 - val_loss: 0.7946 - val_accuracy: 0.7051 - lr: 5.0000e-05\n",
            "Epoch 54/100\n",
            "217/217 [==============================] - 1s 4ms/step - loss: 0.8673 - accuracy: 0.6862 - val_loss: 0.8059 - val_accuracy: 0.7079 - lr: 5.0000e-05\n",
            "Epoch 55/100\n",
            "217/217 [==============================] - 1s 4ms/step - loss: 0.8651 - accuracy: 0.6802 - val_loss: 0.7918 - val_accuracy: 0.7108 - lr: 5.0000e-05\n",
            "Epoch 56/100\n",
            "217/217 [==============================] - 1s 4ms/step - loss: 0.8664 - accuracy: 0.6831 - val_loss: 0.7984 - val_accuracy: 0.7072 - lr: 5.0000e-05\n",
            "Epoch 57/100\n",
            "210/217 [============================>.] - ETA: 0s - loss: 0.8652 - accuracy: 0.6835\n",
            "Epoch 57: ReduceLROnPlateau reducing learning rate to 2.499999936844688e-05.\n",
            "217/217 [==============================] - 1s 4ms/step - loss: 0.8635 - accuracy: 0.6844 - val_loss: 0.8079 - val_accuracy: 0.7058 - lr: 5.0000e-05\n",
            "Epoch 58/100\n",
            "217/217 [==============================] - 1s 4ms/step - loss: 0.8588 - accuracy: 0.6806 - val_loss: 0.7916 - val_accuracy: 0.7101 - lr: 2.5000e-05\n",
            "Epoch 59/100\n",
            "217/217 [==============================] - 1s 4ms/step - loss: 0.8626 - accuracy: 0.6864 - val_loss: 0.7990 - val_accuracy: 0.7051 - lr: 2.5000e-05\n",
            "Epoch 60/100\n",
            "217/217 [==============================] - 1s 4ms/step - loss: 0.8605 - accuracy: 0.6803 - val_loss: 0.7913 - val_accuracy: 0.7137 - lr: 2.5000e-05\n",
            "Epoch 61/100\n",
            "217/217 [==============================] - 1s 4ms/step - loss: 0.8575 - accuracy: 0.6838 - val_loss: 0.7894 - val_accuracy: 0.7130 - lr: 2.5000e-05\n",
            "Epoch 62/100\n",
            "217/217 [==============================] - 1s 4ms/step - loss: 0.8540 - accuracy: 0.6862 - val_loss: 0.7923 - val_accuracy: 0.7108 - lr: 2.5000e-05\n",
            "Epoch 63/100\n",
            "217/217 [==============================] - 1s 4ms/step - loss: 0.8507 - accuracy: 0.6842 - val_loss: 0.7962 - val_accuracy: 0.7108 - lr: 2.5000e-05\n",
            "Epoch 64/100\n",
            "217/217 [==============================] - 1s 4ms/step - loss: 0.8586 - accuracy: 0.6833 - val_loss: 0.7875 - val_accuracy: 0.7115 - lr: 2.5000e-05\n",
            "Epoch 65/100\n",
            "217/217 [==============================] - 1s 4ms/step - loss: 0.8552 - accuracy: 0.6870 - val_loss: 0.7880 - val_accuracy: 0.7137 - lr: 2.5000e-05\n",
            "Epoch 66/100\n",
            "217/217 [==============================] - 1s 4ms/step - loss: 0.8554 - accuracy: 0.6819 - val_loss: 0.7865 - val_accuracy: 0.7108 - lr: 2.5000e-05\n",
            "Epoch 67/100\n",
            "217/217 [==============================] - 1s 4ms/step - loss: 0.8572 - accuracy: 0.6836 - val_loss: 0.7848 - val_accuracy: 0.7144 - lr: 2.5000e-05\n",
            "Epoch 68/100\n",
            "217/217 [==============================] - 1s 5ms/step - loss: 0.8537 - accuracy: 0.6880 - val_loss: 0.7855 - val_accuracy: 0.7115 - lr: 2.5000e-05\n",
            "Epoch 69/100\n",
            "217/217 [==============================] - 1s 4ms/step - loss: 0.8520 - accuracy: 0.6845 - val_loss: 0.7866 - val_accuracy: 0.7072 - lr: 2.5000e-05\n",
            "Epoch 70/100\n",
            "217/217 [==============================] - 1s 4ms/step - loss: 0.8557 - accuracy: 0.6865 - val_loss: 0.7853 - val_accuracy: 0.7137 - lr: 2.5000e-05\n",
            "Epoch 71/100\n",
            "217/217 [==============================] - 1s 4ms/step - loss: 0.8533 - accuracy: 0.6839 - val_loss: 0.7838 - val_accuracy: 0.7122 - lr: 2.5000e-05\n",
            "Epoch 72/100\n",
            "217/217 [==============================] - 1s 4ms/step - loss: 0.8481 - accuracy: 0.6848 - val_loss: 0.7863 - val_accuracy: 0.7165 - lr: 2.5000e-05\n",
            "Epoch 73/100\n",
            "217/217 [==============================] - 1s 4ms/step - loss: 0.8452 - accuracy: 0.6849 - val_loss: 0.7870 - val_accuracy: 0.7122 - lr: 2.5000e-05\n",
            "Epoch 74/100\n",
            "217/217 [==============================] - 1s 4ms/step - loss: 0.8508 - accuracy: 0.6871 - val_loss: 0.7872 - val_accuracy: 0.7122 - lr: 2.5000e-05\n",
            "Epoch 75/100\n",
            "217/217 [==============================] - 1s 4ms/step - loss: 0.8520 - accuracy: 0.6851 - val_loss: 0.7853 - val_accuracy: 0.7108 - lr: 2.5000e-05\n",
            "Epoch 76/100\n",
            "211/217 [============================>.] - ETA: 0s - loss: 0.8454 - accuracy: 0.6896\n",
            "Epoch 76: ReduceLROnPlateau reducing learning rate to 1.249999968422344e-05.\n",
            "217/217 [==============================] - 1s 4ms/step - loss: 0.8479 - accuracy: 0.6881 - val_loss: 0.7880 - val_accuracy: 0.7079 - lr: 2.5000e-05\n",
            "Epoch 77/100\n",
            "217/217 [==============================] - 1s 4ms/step - loss: 0.8505 - accuracy: 0.6825 - val_loss: 0.7839 - val_accuracy: 0.7137 - lr: 1.2500e-05\n",
            "Epoch 78/100\n",
            "217/217 [==============================] - 1s 4ms/step - loss: 0.8482 - accuracy: 0.6913 - val_loss: 0.7853 - val_accuracy: 0.7137 - lr: 1.2500e-05\n",
            "Epoch 79/100\n",
            "217/217 [==============================] - 1s 4ms/step - loss: 0.8506 - accuracy: 0.6825 - val_loss: 0.7831 - val_accuracy: 0.7144 - lr: 1.2500e-05\n",
            "Epoch 80/100\n",
            "217/217 [==============================] - 1s 4ms/step - loss: 0.8451 - accuracy: 0.6890 - val_loss: 0.7824 - val_accuracy: 0.7144 - lr: 1.2500e-05\n",
            "Epoch 81/100\n",
            "217/217 [==============================] - 1s 4ms/step - loss: 0.8473 - accuracy: 0.6871 - val_loss: 0.7886 - val_accuracy: 0.7144 - lr: 1.2500e-05\n",
            "Epoch 82/100\n",
            "217/217 [==============================] - 1s 4ms/step - loss: 0.8496 - accuracy: 0.6846 - val_loss: 0.7825 - val_accuracy: 0.7065 - lr: 1.2500e-05\n",
            "Epoch 83/100\n",
            "217/217 [==============================] - 1s 4ms/step - loss: 0.8457 - accuracy: 0.6875 - val_loss: 0.7813 - val_accuracy: 0.7130 - lr: 1.2500e-05\n",
            "Epoch 84/100\n",
            "217/217 [==============================] - 1s 4ms/step - loss: 0.8461 - accuracy: 0.6859 - val_loss: 0.7819 - val_accuracy: 0.7151 - lr: 1.2500e-05\n",
            "Epoch 85/100\n",
            "217/217 [==============================] - 1s 4ms/step - loss: 0.8491 - accuracy: 0.6887 - val_loss: 0.7820 - val_accuracy: 0.7151 - lr: 1.2500e-05\n",
            "Epoch 86/100\n",
            "217/217 [==============================] - 1s 4ms/step - loss: 0.8453 - accuracy: 0.6859 - val_loss: 0.7860 - val_accuracy: 0.7122 - lr: 1.2500e-05\n",
            "Epoch 87/100\n",
            "217/217 [==============================] - 1s 4ms/step - loss: 0.8449 - accuracy: 0.6858 - val_loss: 0.7811 - val_accuracy: 0.7165 - lr: 1.2500e-05\n",
            "Epoch 88/100\n",
            "217/217 [==============================] - 1s 4ms/step - loss: 0.8480 - accuracy: 0.6861 - val_loss: 0.7815 - val_accuracy: 0.7151 - lr: 1.2500e-05\n",
            "Epoch 89/100\n",
            "217/217 [==============================] - 1s 4ms/step - loss: 0.8429 - accuracy: 0.6898 - val_loss: 0.7803 - val_accuracy: 0.7151 - lr: 1.2500e-05\n",
            "Epoch 90/100\n",
            "217/217 [==============================] - 1s 4ms/step - loss: 0.8464 - accuracy: 0.6926 - val_loss: 0.7802 - val_accuracy: 0.7180 - lr: 1.2500e-05\n",
            "Epoch 91/100\n",
            "217/217 [==============================] - 1s 4ms/step - loss: 0.8469 - accuracy: 0.6891 - val_loss: 0.7800 - val_accuracy: 0.7151 - lr: 1.2500e-05\n",
            "Epoch 92/100\n",
            "217/217 [==============================] - 1s 4ms/step - loss: 0.8426 - accuracy: 0.6883 - val_loss: 0.7837 - val_accuracy: 0.7122 - lr: 1.2500e-05\n",
            "Epoch 93/100\n",
            "217/217 [==============================] - 1s 4ms/step - loss: 0.8453 - accuracy: 0.6861 - val_loss: 0.7814 - val_accuracy: 0.7137 - lr: 1.2500e-05\n",
            "Epoch 94/100\n",
            "217/217 [==============================] - 1s 4ms/step - loss: 0.8434 - accuracy: 0.6885 - val_loss: 0.7796 - val_accuracy: 0.7158 - lr: 1.2500e-05\n",
            "Epoch 95/100\n",
            "217/217 [==============================] - 1s 4ms/step - loss: 0.8423 - accuracy: 0.6893 - val_loss: 0.7808 - val_accuracy: 0.7158 - lr: 1.2500e-05\n",
            "Epoch 96/100\n",
            "217/217 [==============================] - 1s 4ms/step - loss: 0.8429 - accuracy: 0.6914 - val_loss: 0.7846 - val_accuracy: 0.7065 - lr: 1.2500e-05\n",
            "Epoch 97/100\n",
            "217/217 [==============================] - 1s 4ms/step - loss: 0.8474 - accuracy: 0.6868 - val_loss: 0.7804 - val_accuracy: 0.7158 - lr: 1.2500e-05\n",
            "Epoch 98/100\n",
            "217/217 [==============================] - 1s 4ms/step - loss: 0.8475 - accuracy: 0.6894 - val_loss: 0.7799 - val_accuracy: 0.7165 - lr: 1.2500e-05\n",
            "Epoch 99/100\n",
            "204/217 [===========================>..] - ETA: 0s - loss: 0.8417 - accuracy: 0.6886\n",
            "Epoch 99: ReduceLROnPlateau reducing learning rate to 6.24999984211172e-06.\n",
            "217/217 [==============================] - 1s 4ms/step - loss: 0.8408 - accuracy: 0.6880 - val_loss: 0.7806 - val_accuracy: 0.7144 - lr: 1.2500e-05\n",
            "Epoch 100/100\n",
            "217/217 [==============================] - 1s 4ms/step - loss: 0.8369 - accuracy: 0.6926 - val_loss: 0.7790 - val_accuracy: 0.7165 - lr: 6.2500e-06\n"
          ]
        }
      ]
    },
    {
      "cell_type": "code",
      "source": [
        "histories['dnn'] = dnn_hist"
      ],
      "metadata": {
        "id": "AZgl9B5_DZUU"
      },
      "execution_count": 45,
      "outputs": []
    },
    {
      "cell_type": "code",
      "source": [
        "plotter = tfdocs.plots.HistoryPlotter(metric = 'accuracy', smoothing_std=10)\n",
        "plotter.plot(histories)\n",
        "plt.ylim([0, 1])"
      ],
      "metadata": {
        "colab": {
          "base_uri": "https://localhost:8080/",
          "height": 300
        },
        "id": "JFmIKD6tC4vx",
        "outputId": "af172abe-481a-4f2c-86a2-68f9d29f4168"
      },
      "execution_count": 46,
      "outputs": [
        {
          "output_type": "execute_result",
          "data": {
            "text/plain": [
              "(0.0, 1.0)"
            ]
          },
          "metadata": {},
          "execution_count": 46
        },
        {
          "output_type": "display_data",
          "data": {
            "text/plain": [
              "<Figure size 432x288 with 1 Axes>"
            ],
            "image/png": "[encoded data removed]"
          },
          "metadata": {
            "needs_background": "light"
          }
        }
      ]
    },
    {
      "cell_type": "code",
      "source": [
        "plotter = tfdocs.plots.HistoryPlotter(metric = 'loss', smoothing_std=10)\n",
        "plotter.plot(histories)\n",
        "plt.ylim([0, 2])"
      ],
      "metadata": {
        "colab": {
          "base_uri": "https://localhost:8080/",
          "height": 300
        },
        "id": "gEgOiIrnSRTr",
        "outputId": "ff94a40b-95a7-42a9-dc65-324bb0c96771"
      },
      "execution_count": 51,
      "outputs": [
        {
          "output_type": "execute_result",
          "data": {
            "text/plain": [
              "(0.0, 2.0)"
            ]
          },
          "metadata": {},
          "execution_count": 51
        },
        {
          "output_type": "display_data",
          "data": {
            "text/plain": [
              "<Figure size 432x288 with 1 Axes>"
            ],
            "image/png": "[encoded data removed]"
          },
          "metadata": {
            "needs_background": "light"
          }
        }
      ]
    },
    {
      "cell_type": "code",
      "source": [
        "pred=dnn_model.predict(X_test)"
      ],
      "metadata": {
        "id": "zNmZeki1SojF"
      },
      "execution_count": 48,
      "outputs": []
    },
    {
      "cell_type": "code",
      "source": [
        "y_pred=[]\n",
        "for p in pred:\n",
        "  pred_index=np.argmax(p)\n",
        "  y_pred.append(pred_index)"
      ],
      "metadata": {
        "id": "t-_zNMrhTt3x"
      },
      "execution_count": 49,
      "outputs": []
    },
    {
      "cell_type": "code",
      "source": [
        "y_ture=[]\n",
        "for p in y_test:\n",
        "  pred_index=np.argmax(p)\n",
        "  y_ture.append(pred_index)"
      ],
      "metadata": {
        "id": "UN_CYWgjUTyU"
      },
      "execution_count": 50,
      "outputs": []
    },
    {
      "cell_type": "code",
      "source": [
        "y_true = np.array(y_ture)\n",
        "y_pred = np.array(y_pred)"
      ],
      "metadata": {
        "id": "Nc-D9pHiUWIQ"
      },
      "execution_count": 52,
      "outputs": []
    },
    {
      "cell_type": "code",
      "source": [
        "cm = confusion_matrix(y_true, y_pred)"
      ],
      "metadata": {
        "id": "IJeBLDCqUbqw"
      },
      "execution_count": 53,
      "outputs": []
    },
    {
      "cell_type": "code",
      "source": [
        "sns.heatmap(cm, annot=True, vmin=0, fmt='g', cmap='Blues', cbar=False)"
      ],
      "metadata": {
        "colab": {
          "base_uri": "https://localhost:8080/",
          "height": 282
        },
        "id": "yvIFKyE5UeKZ",
        "outputId": "9b847ca6-dda5-4399-eff4-2a92d09a22c6"
      },
      "execution_count": 54,
      "outputs": [
        {
          "output_type": "execute_result",
          "data": {
            "text/plain": [
              "<matplotlib.axes._subplots.AxesSubplot at 0x7f9e2e0cc350>"
            ]
          },
          "metadata": {},
          "execution_count": 54
        },
        {
          "output_type": "display_data",
          "data": {
            "text/plain": [
              "<Figure size 432x288 with 1 Axes>"
            ],
            "image/png": "[encoded data removed]"
          },
          "metadata": {
            "needs_background": "light"
          }
        }
      ]
    },
    {
      "cell_type": "code",
      "source": [
        "clr = classification_report(y_true, y_pred, target_names=labels)"
      ],
      "metadata": {
        "colab": {
          "base_uri": "https://localhost:8080/"
        },
        "id": "x5pGwytSUhFv",
        "outputId": "0f67124e-f00e-452b-8bad-caf94355673f"
      },
      "execution_count": 55,
      "outputs": [
        {
          "output_type": "stream",
          "name": "stderr",
          "text": [
            "/usr/local/lib/python3.7/dist-packages/sklearn/metrics/_classification.py:1318: UndefinedMetricWarning: Precision and F-score are ill-defined and being set to 0.0 in labels with no predicted samples. Use `zero_division` parameter to control this behavior.\n",
            "  _warn_prf(average, modifier, msg_start, len(result))\n",
            "/usr/local/lib/python3.7/dist-packages/sklearn/metrics/_classification.py:1318: UndefinedMetricWarning: Precision and F-score are ill-defined and being set to 0.0 in labels with no predicted samples. Use `zero_division` parameter to control this behavior.\n",
            "  _warn_prf(average, modifier, msg_start, len(result))\n",
            "/usr/local/lib/python3.7/dist-packages/sklearn/metrics/_classification.py:1318: UndefinedMetricWarning: Precision and F-score are ill-defined and being set to 0.0 in labels with no predicted samples. Use `zero_division` parameter to control this behavior.\n",
            "  _warn_prf(average, modifier, msg_start, len(result))\n"
          ]
        }
      ]
    },
    {
      "cell_type": "code",
      "source": [
        "print(clr)"
      ],
      "metadata": {
        "colab": {
          "base_uri": "https://localhost:8080/"
        },
        "id": "5iMDTb6_UlK7",
        "outputId": "8ceacc4d-5976-4f06-e789-5d85b4aeac3e"
      },
      "execution_count": 56,
      "outputs": [
        {
          "output_type": "stream",
          "name": "stdout",
          "text": [
            "              precision    recall  f1-score   support\n",
            "\n",
            "       akiec       0.00      0.00      0.00        44\n",
            "         bcc       0.25      0.56      0.34        55\n",
            "         bkl       0.54      0.28      0.37       176\n",
            "          df       0.00      0.00      0.00        20\n",
            "         mel       0.46      0.39      0.42       187\n",
            "          nv       0.81      0.93      0.87       898\n",
            "        vasc       0.00      0.00      0.00        17\n",
            "\n",
            "    accuracy                           0.70      1397\n",
            "   macro avg       0.29      0.31      0.28      1397\n",
            "weighted avg       0.66      0.70      0.67      1397\n",
            "\n"
          ]
        }
      ]
    },
    {
      "cell_type": "code",
      "source": [
        "dnn_model.evaluate(X_test, y_test)"
      ],
      "metadata": {
        "colab": {
          "base_uri": "https://localhost:8080/"
        },
        "id": "UKhm76UyVMVf",
        "outputId": "c015f40b-985b-41f9-a656-0199491d24a7"
      },
      "execution_count": 57,
      "outputs": [
        {
          "output_type": "stream",
          "name": "stdout",
          "text": [
            "44/44 [==============================] - 0s 3ms/step - loss: 0.8223 - accuracy: 0.7037\n"
          ]
        },
        {
          "output_type": "execute_result",
          "data": {
            "text/plain": [
              "[0.8223108649253845, 0.7036506533622742]"
            ]
          },
          "metadata": {},
          "execution_count": 57
        }
      ]
    }
  ]
}