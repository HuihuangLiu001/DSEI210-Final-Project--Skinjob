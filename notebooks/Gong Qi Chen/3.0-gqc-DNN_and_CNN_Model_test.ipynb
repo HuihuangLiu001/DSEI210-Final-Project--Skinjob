{
  "nbformat": 4,
  "nbformat_minor": 0,
  "metadata": {
    "colab": {
      "name": "DNN_and_CNN.ipynb",
      "provenance": [],
      "collapsed_sections": []
    },
    "kernelspec": {
      "name": "python3",
      "display_name": "Python 3"
    },
    "language_info": {
      "name": "python"
    }
  },
  "cells": [
    {
      "cell_type": "code",
      "source": [
        "!pip install git+https://github.com/tensorflow/docs"
      ],
      "metadata": {
        "colab": {
          "base_uri": "https://localhost:8080/"
        },
        "id": "b_03fYt9CKVo",
        "outputId": "a224d922-c013-42e9-db82-0b38afab5179"
      },
      "execution_count": 2,
      "outputs": [
        {
          "output_type": "stream",
          "name": "stdout",
          "text": [
            "Collecting git+https://github.com/tensorflow/docs\n",
            "  Cloning https://github.com/tensorflow/docs to /tmp/pip-req-build-k6u605r2\n",
            "  Running command git clone -q https://github.com/tensorflow/docs /tmp/pip-req-build-k6u605r2\n",
            "Requirement already satisfied: astor in /usr/local/lib/python3.7/dist-packages (from tensorflow-docs==0.0.0.dev0) (0.8.1)\n",
            "Requirement already satisfied: absl-py in /usr/local/lib/python3.7/dist-packages (from tensorflow-docs==0.0.0.dev0) (1.0.0)\n",
            "Requirement already satisfied: jinja2 in /usr/local/lib/python3.7/dist-packages (from tensorflow-docs==0.0.0.dev0) (2.11.3)\n",
            "Requirement already satisfied: protobuf>=3.14 in /usr/local/lib/python3.7/dist-packages (from tensorflow-docs==0.0.0.dev0) (3.17.3)\n",
            "Requirement already satisfied: pyyaml in /usr/local/lib/python3.7/dist-packages (from tensorflow-docs==0.0.0.dev0) (3.13)\n",
            "Requirement already satisfied: six>=1.9 in /usr/local/lib/python3.7/dist-packages (from protobuf>=3.14->tensorflow-docs==0.0.0.dev0) (1.15.0)\n",
            "Requirement already satisfied: MarkupSafe>=0.23 in /usr/local/lib/python3.7/dist-packages (from jinja2->tensorflow-docs==0.0.0.dev0) (2.0.1)\n",
            "Building wheels for collected packages: tensorflow-docs\n",
            "  Building wheel for tensorflow-docs (setup.py) ... \u001b[?25l\u001b[?25hdone\n",
            "  Created wheel for tensorflow-docs: filename=tensorflow_docs-0.0.0.dev0-py3-none-any.whl size=179812 sha256=00e1b98e9a7f8ac5325617360df6373077a8f3b20e62c72f5f1da0e51d20b190\n",
            "  Stored in directory: /tmp/pip-ephem-wheel-cache-qt17l6ba/wheels/cc/c4/d8/5341e93b6376c5c929c49469fce21155eb69cef1a4da4ce32c\n",
            "Successfully built tensorflow-docs\n",
            "Installing collected packages: tensorflow-docs\n",
            "Successfully installed tensorflow-docs-0.0.0.dev0\n"
          ]
        }
      ]
    },
    {
      "cell_type": "code",
      "execution_count": 3,
      "metadata": {
        "id": "yw-BBLyMKR0D"
      },
      "outputs": [],
      "source": [
        "import numpy as np \n",
        "import pandas as pd\n",
        "import tensorflow as tf\n",
        "from tensorflow import keras\n",
        "import tensorflow_docs as tfdocs\n",
        "import tensorflow_docs.modeling\n",
        "import tensorflow_docs.plots\n",
        "import matplotlib.pyplot as plt\n",
        "from sklearn.model_selection import train_test_split\n",
        "from matplotlib.pyplot import imshow"
      ]
    },
    {
      "cell_type": "code",
      "source": [
        "X = np.load('../content/images28_28.npy')\n",
        "y = np.load('../content/labels28_28.npy')"
      ],
      "metadata": {
        "id": "gURNU3UfKXS5"
      },
      "execution_count": 4,
      "outputs": []
    },
    {
      "cell_type": "code",
      "source": [
        "tain_size=0.7\n",
        "valid_size = 0.1\n",
        "test_size = 0.2\n",
        "valid_test_split = valid_size / test_size\n",
        "\n",
        "X_train, X_test_val, y_train, y_test_val = train_test_split(X, y, test_size=1-tain_size, shuffle=True, random_state=42)\n",
        "X_val, X_test, y_val, y_test = train_test_split(X_test_val, y_test_val, test_size=valid_test_split, shuffle=True, random_state=42)\n",
        "\n",
        "print(X_train.shape, y_train.shape)\n",
        "print(X_test.shape, y_test.shape)\n",
        "print(X_val.shape, y_val.shape)"
      ],
      "metadata": {
        "colab": {
          "base_uri": "https://localhost:8080/"
        },
        "id": "y5y15u1CKYy5",
        "outputId": "db1e4b56-0858-444d-cebd-aeacad1c90e0"
      },
      "execution_count": 5,
      "outputs": [
        {
          "output_type": "stream",
          "name": "stdout",
          "text": [
            "(7010, 28, 28, 3) (7010, 7)\n",
            "(1503, 28, 28, 3) (1503, 7)\n",
            "(1502, 28, 28, 3) (1502, 7)\n"
          ]
        }
      ]
    },
    {
      "cell_type": "code",
      "source": [
        "def get_callbacks():\n",
        "  return [\n",
        "    tf.keras.callbacks.EarlyStopping(monitor='val_loss', patience=200)      \n",
        "  ]"
      ],
      "metadata": {
        "id": "S2Ww9L6RApQI"
      },
      "execution_count": 14,
      "outputs": []
    },
    {
      "cell_type": "code",
      "source": [
        "histories = {}"
      ],
      "metadata": {
        "id": "BIL5VD0DDKoD"
      },
      "execution_count": 15,
      "outputs": []
    },
    {
      "cell_type": "code",
      "source": [
        "dnn_model = tf.keras.Sequential([                                                               \n",
        "   keras.layers.Flatten(input_shape=(28, 28, 3)),\n",
        "   keras.layers.Dense(128, activation = 'relu'),\n",
        "   keras.layers.Dense(7, activation='softmax')                                 \n",
        "])\n",
        "dnn_model.compile(optimizer='adam', loss='binary_crossentropy', metrics=['accuracy'])"
      ],
      "metadata": {
        "id": "F6mIl6HVKhDt"
      },
      "execution_count": 16,
      "outputs": []
    },
    {
      "cell_type": "code",
      "source": [
        "dnn_hist = dnn_model.fit(X_train, y_train, epochs=40, validation_data=(X_val, y_val), callbacks=get_callbacks(), verbose=0)"
      ],
      "metadata": {
        "id": "sD6hmFRgKz3Q"
      },
      "execution_count": 17,
      "outputs": []
    },
    {
      "cell_type": "code",
      "source": [
        "histories['dnn'] = dnn_hist"
      ],
      "metadata": {
        "id": "AZgl9B5_DZUU"
      },
      "execution_count": 18,
      "outputs": []
    },
    {
      "cell_type": "code",
      "source": [
        "plotter = tfdocs.plots.HistoryPlotter(metric = 'accuracy', smoothing_std=10)\n",
        "plotter.plot(histories)\n",
        "plt.ylim([0, 1])"
      ],
      "metadata": {
        "colab": {
          "base_uri": "https://localhost:8080/",
          "height": 300
        },
        "id": "JFmIKD6tC4vx",
        "outputId": "acefbee8-7097-4f82-9677-43a56b6ceaa1"
      },
      "execution_count": 23,
      "outputs": [
        {
          "output_type": "execute_result",
          "data": {
            "text/plain": [
              "(0.0, 1.0)"
            ]
          },
          "metadata": {},
          "execution_count": 23
        },
        {
          "output_type": "display_data",
          "data": {
            "text/plain": [
              "<Figure size 432x288 with 1 Axes>"
            ],
            "image/png": "[encoded data removed]"
          },
          "metadata": {
            "needs_background": "light"
          }
        }
      ]
    },
    {
      "cell_type": "code",
      "source": [
        "cnn_model = tf.keras.Sequential([                                                               \n",
        "   keras.layers.Conv2D(28, (3, 3), activation = 'relu', input_shape=(28, 28, 3)),\n",
        "   keras.layers.MaxPooling2D(2, 2),\n",
        "   keras.layers.Conv2D(56, (3, 3), activation = 'relu'),\n",
        "   keras.layers.MaxPooling2D(2, 2),\n",
        "   keras.layers.Conv2D(56, (3, 3), activation = 'relu'),\n",
        "   keras.layers.Flatten(),\n",
        "   keras.layers.Dense(56, activation='relu'),\n",
        "   keras.layers.Dense(7, activation='softmax')                                 \n",
        "])\n",
        "cnn_model.compile(optimizer='adam', loss='binary_crossentropy', metrics=['accuracy'])"
      ],
      "metadata": {
        "id": "x_jnSb9dlwZi"
      },
      "execution_count": 24,
      "outputs": []
    },
    {
      "cell_type": "code",
      "source": [
        "cnn_hist = cnn_model.fit(X_train, y_train, epochs=40, validation_data=(X_val, y_val), callbacks=get_callbacks(), verbose=0)"
      ],
      "metadata": {
        "id": "0fM2Iic4lw0M"
      },
      "execution_count": 25,
      "outputs": []
    },
    {
      "cell_type": "code",
      "source": [
        "histories['cnn'] = cnn_hist"
      ],
      "metadata": {
        "id": "4rgR6xu9Ffsp"
      },
      "execution_count": 26,
      "outputs": []
    },
    {
      "cell_type": "code",
      "source": [
        "plotter = tfdocs.plots.HistoryPlotter(metric = 'accuracy', smoothing_std=10)\n",
        "plotter.plot(histories)\n",
        "plt.ylim([0, 1])"
      ],
      "metadata": {
        "colab": {
          "base_uri": "https://localhost:8080/",
          "height": 300
        },
        "id": "QR3d3c03Fkd2",
        "outputId": "aebe5fdb-ae4e-4c99-a290-d60e0f5bac08"
      },
      "execution_count": 27,
      "outputs": [
        {
          "output_type": "execute_result",
          "data": {
            "text/plain": [
              "(0.0, 1.0)"
            ]
          },
          "metadata": {},
          "execution_count": 27
        },
        {
          "output_type": "display_data",
          "data": {
            "text/plain": [
              "<Figure size 432x288 with 1 Axes>"
            ],
            "image/png": "[encoded data removed]"
          },
          "metadata": {
            "needs_background": "light"
          }
        }
      ]
    }
  ]
}