{
  "nbformat": 4,
  "nbformat_minor": 0,
  "metadata": {
    "colab": {
      "name": "pretrained_models_EfficientNetB1.ipynb",
      "provenance": [],
      "collapsed_sections": []
    },
    "kernelspec": {
      "name": "python3",
      "display_name": "Python 3"
    },
    "language_info": {
      "name": "python"
    }
  },
  "cells": [
    {
      "cell_type": "code",
      "execution_count": 1,
      "metadata": {
        "colab": {
          "base_uri": "https://localhost:8080/"
        },
        "id": "MUcW2QjaqDJh",
        "outputId": "1c8f8e65-272c-4d02-f2ff-b1f3c46e3791"
      },
      "outputs": [
        {
          "output_type": "stream",
          "name": "stdout",
          "text": [
            "Collecting git+https://github.com/tensorflow/docs\n",
            "  Cloning https://github.com/tensorflow/docs to /tmp/pip-req-build-v5auqsvf\n",
            "  Running command git clone -q https://github.com/tensorflow/docs /tmp/pip-req-build-v5auqsvf\n",
            "Requirement already satisfied: astor in /usr/local/lib/python3.7/dist-packages (from tensorflow-docs==0.0.0.dev0) (0.8.1)\n",
            "Requirement already satisfied: absl-py in /usr/local/lib/python3.7/dist-packages (from tensorflow-docs==0.0.0.dev0) (1.0.0)\n",
            "Requirement already satisfied: jinja2 in /usr/local/lib/python3.7/dist-packages (from tensorflow-docs==0.0.0.dev0) (2.11.3)\n",
            "Requirement already satisfied: protobuf>=3.14 in /usr/local/lib/python3.7/dist-packages (from tensorflow-docs==0.0.0.dev0) (3.17.3)\n",
            "Requirement already satisfied: pyyaml in /usr/local/lib/python3.7/dist-packages (from tensorflow-docs==0.0.0.dev0) (3.13)\n",
            "Requirement already satisfied: six>=1.9 in /usr/local/lib/python3.7/dist-packages (from protobuf>=3.14->tensorflow-docs==0.0.0.dev0) (1.15.0)\n",
            "Requirement already satisfied: MarkupSafe>=0.23 in /usr/local/lib/python3.7/dist-packages (from jinja2->tensorflow-docs==0.0.0.dev0) (2.0.1)\n",
            "Building wheels for collected packages: tensorflow-docs\n",
            "  Building wheel for tensorflow-docs (setup.py) ... \u001b[?25l\u001b[?25hdone\n",
            "  Created wheel for tensorflow-docs: filename=tensorflow_docs-0.0.0.dev0-py3-none-any.whl size=179812 sha256=f0bbda3ec441281de77249a23bbe030a3f965e8211fbe94c41b499050fdd4e36\n",
            "  Stored in directory: /tmp/pip-ephem-wheel-cache-f8dxn6q6/wheels/cc/c4/d8/5341e93b6376c5c929c49469fce21155eb69cef1a4da4ce32c\n",
            "Successfully built tensorflow-docs\n",
            "Installing collected packages: tensorflow-docs\n",
            "Successfully installed tensorflow-docs-0.0.0.dev0\n"
          ]
        }
      ],
      "source": [
        "!pip install git+https://github.com/tensorflow/docs"
      ]
    },
    {
      "cell_type": "code",
      "source": [
        "import numpy as np \n",
        "import pandas as pd\n",
        "import tensorflow as tf\n",
        "from tensorflow import keras\n",
        "import tensorflow_docs as tfdocs\n",
        "import tensorflow_docs.modeling\n",
        "import tensorflow_docs.plots\n",
        "from tensorflow.keras import regularizers\n",
        "import matplotlib.pyplot as plt\n",
        "from sklearn.model_selection import train_test_split\n",
        "from matplotlib.pyplot import imshow"
      ],
      "metadata": {
        "id": "2OIZJX75q5ky"
      },
      "execution_count": 2,
      "outputs": []
    },
    {
      "cell_type": "code",
      "source": [
        "X = np.load('../content/images32_32.npy')\n",
        "y = np.load('../content/labels32_32.npy')"
      ],
      "metadata": {
        "id": "xq2G7oVNq7fw"
      },
      "execution_count": 3,
      "outputs": []
    },
    {
      "cell_type": "code",
      "source": [
        "tain_size=0.7\n",
        "valid_size = 0.1\n",
        "test_size = 0.2\n",
        "valid_test_split = valid_size / test_size\n",
        "\n",
        "X_train, X_test_val, y_train, y_test_val = train_test_split(X, y, test_size=1-tain_size, shuffle=True, random_state=42)\n",
        "X_val, X_test, y_val, y_test = train_test_split(X_test_val, y_test_val, test_size=valid_test_split, shuffle=True, random_state=42)\n",
        "\n",
        "print(X_train.shape, y_train.shape)\n",
        "print(X_test.shape, y_test.shape)\n",
        "print(X_val.shape, y_val.shape)"
      ],
      "metadata": {
        "colab": {
          "base_uri": "https://localhost:8080/"
        },
        "id": "sSw3Md0qq-wJ",
        "outputId": "86cf1596-4d57-490d-ae86-d2d83ceb5117"
      },
      "execution_count": 4,
      "outputs": [
        {
          "output_type": "stream",
          "name": "stdout",
          "text": [
            "(7010, 32, 32, 3) (7010, 7)\n",
            "(1503, 32, 32, 3) (1503, 7)\n",
            "(1502, 32, 32, 3) (1502, 7)\n"
          ]
        }
      ]
    },
    {
      "cell_type": "code",
      "source": [
        "def get_callbacks():\n",
        "  return [\n",
        "    tf.keras.callbacks.EarlyStopping(monitor='val_loss', patience=10)      \n",
        "  ]"
      ],
      "metadata": {
        "id": "y_w8tVTfrAp0"
      },
      "execution_count": 5,
      "outputs": []
    },
    {
      "cell_type": "code",
      "source": [
        "histories = {}"
      ],
      "metadata": {
        "id": "WiQEjCXBrGRO"
      },
      "execution_count": 6,
      "outputs": []
    },
    {
      "cell_type": "code",
      "source": [
        "img_height = 32\n",
        "img_width = 32\n",
        "channels = 3\n",
        "img_shape = (img_height, img_width, channels)"
      ],
      "metadata": {
        "id": "eyvWh31Erflk"
      },
      "execution_count": 7,
      "outputs": []
    },
    {
      "cell_type": "code",
      "source": [
        "# Create the base model with EfficientNetB1\n",
        "base_model = tf.keras.applications.EfficientNetB1(input_shape=img_shape, include_top=False, weights='imagenet', pooling='max')"
      ],
      "metadata": {
        "colab": {
          "base_uri": "https://localhost:8080/"
        },
        "id": "8tk9XaU-rXOe",
        "outputId": "9f0b9070-9423-40e3-8402-94ba08592389"
      },
      "execution_count": 8,
      "outputs": [
        {
          "output_type": "stream",
          "name": "stdout",
          "text": [
            "Downloading data from https://storage.googleapis.com/keras-applications/efficientnetb1_notop.h5\n",
            "27025408/27018416 [==============================] - 0s 0us/step\n",
            "27033600/27018416 [==============================] - 0s 0us/step\n"
          ]
        }
      ]
    },
    {
      "cell_type": "code",
      "source": [
        "base_model.summary()"
      ],
      "metadata": {
        "id": "R7HBPtF-ubE9"
      },
      "execution_count": null,
      "outputs": []
    },
    {
      "cell_type": "code",
      "source": [
        "base_model.trainable = False"
      ],
      "metadata": {
        "id": "8XN-RCrJuhrC"
      },
      "execution_count": 10,
      "outputs": []
    },
    {
      "cell_type": "code",
      "source": [
        "base_model.summary()"
      ],
      "metadata": {
        "id": "JbTt-EtLvZje"
      },
      "execution_count": null,
      "outputs": []
    },
    {
      "cell_type": "code",
      "source": [
        "Normalizator_layer = keras.layers.BatchNormalization(axis=-1, momentum=0.99, epsilon=0.001 )"
      ],
      "metadata": {
        "id": "DTnbmVOeveqE"
      },
      "execution_count": 12,
      "outputs": []
    },
    {
      "cell_type": "code",
      "source": [
        "prediction_layer = keras.layers.Dense(7, activation='softmax')"
      ],
      "metadata": {
        "id": "AjjDCNDRvyDs"
      },
      "execution_count": 13,
      "outputs": []
    },
    {
      "cell_type": "code",
      "source": [
        "model = tf.keras.Sequential([\n",
        "  base_model,\n",
        "  Normalizator_layer,\n",
        "  keras.layers.Dense(256, kernel_regularizer = regularizers.l2(l = 0.016),activity_regularizer=regularizers.l1(0.006),\n",
        "                bias_regularizer=regularizers.l1(0.006) ,activation='relu'),\n",
        "  keras.layers.Dropout(rate=.45, seed=123),\n",
        "  prediction_layer                           \n",
        "])"
      ],
      "metadata": {
        "id": "dDb63wxiv8mo"
      },
      "execution_count": 14,
      "outputs": []
    },
    {
      "cell_type": "code",
      "source": [
        "model.summary()"
      ],
      "metadata": {
        "colab": {
          "base_uri": "https://localhost:8080/"
        },
        "id": "PxIjFp_-wPjL",
        "outputId": "52a20a88-e263-47bb-d6e0-9356e1ca15de"
      },
      "execution_count": 15,
      "outputs": [
        {
          "output_type": "stream",
          "name": "stdout",
          "text": [
            "Model: \"sequential\"\n",
            "_________________________________________________________________\n",
            " Layer (type)                Output Shape              Param #   \n",
            "=================================================================\n",
            " efficientnetb1 (Functional)  (None, 1280)             6575239   \n",
            "                                                                 \n",
            " batch_normalization (BatchN  (None, 1280)             5120      \n",
            " ormalization)                                                   \n",
            "                                                                 \n",
            " dense_1 (Dense)             (None, 256)               327936    \n",
            "                                                                 \n",
            " dropout (Dropout)           (None, 256)               0         \n",
            "                                                                 \n",
            " dense (Dense)               (None, 7)                 1799      \n",
            "                                                                 \n",
            "=================================================================\n",
            "Total params: 6,910,094\n",
            "Trainable params: 332,295\n",
            "Non-trainable params: 6,577,799\n",
            "_________________________________________________________________\n"
          ]
        }
      ]
    },
    {
      "cell_type": "code",
      "source": [
        "base_learning_rate = 0.001\n",
        "model.compile(optimizer=tf.keras.optimizers.Adamax(lr=base_learning_rate),\n",
        "              loss='categorical_crossentropy',\n",
        "              metrics=['accuracy'])"
      ],
      "metadata": {
        "colab": {
          "base_uri": "https://localhost:8080/"
        },
        "id": "e6CCdu_Uwivh",
        "outputId": "0645aa51-8c2b-44e2-b1fd-123c936fc820"
      },
      "execution_count": 16,
      "outputs": [
        {
          "output_type": "stream",
          "name": "stderr",
          "text": [
            "/usr/local/lib/python3.7/dist-packages/keras/optimizer_v2/adamax.py:90: UserWarning: The `lr` argument is deprecated, use `learning_rate` instead.\n",
            "  super(Adamax, self).__init__(name, **kwargs)\n"
          ]
        }
      ]
    },
    {
      "cell_type": "code",
      "source": [
        "loss0, accuracy0 = model.evaluate(X_val, y_val, steps = 20)"
      ],
      "metadata": {
        "colab": {
          "base_uri": "https://localhost:8080/"
        },
        "id": "D_RdFxSxxTv_",
        "outputId": "52945373-1715-4b51-b05b-c62b620a6c85"
      },
      "execution_count": 17,
      "outputs": [
        {
          "output_type": "stream",
          "name": "stdout",
          "text": [
            "20/20 [==============================] - 8s 159ms/step - loss: 9.1648 - accuracy: 0.0340\n"
          ]
        }
      ]
    },
    {
      "cell_type": "code",
      "source": [
        "history = model.fit(X_train, y_train, epochs=40, validation_data=(X_val, y_val))"
      ],
      "metadata": {
        "colab": {
          "base_uri": "https://localhost:8080/"
        },
        "id": "6wLlCxZiyuVa",
        "outputId": "db600053-1154-4009-d0d8-fc7871fd45ac"
      },
      "execution_count": 18,
      "outputs": [
        {
          "output_type": "stream",
          "name": "stdout",
          "text": [
            "Epoch 1/40\n",
            "220/220 [==============================] - 34s 102ms/step - loss: 6.7023 - accuracy: 0.6378 - val_loss: 5.2193 - val_accuracy: 0.6884\n",
            "Epoch 2/40\n",
            "220/220 [==============================] - 22s 101ms/step - loss: 4.2229 - accuracy: 0.6852 - val_loss: 3.4383 - val_accuracy: 0.6891\n",
            "Epoch 3/40\n",
            "220/220 [==============================] - 23s 105ms/step - loss: 2.9608 - accuracy: 0.6996 - val_loss: 2.5069 - val_accuracy: 0.6991\n",
            "Epoch 4/40\n",
            "220/220 [==============================] - 23s 103ms/step - loss: 2.2433 - accuracy: 0.7087 - val_loss: 1.9600 - val_accuracy: 0.7044\n",
            "Epoch 5/40\n",
            "220/220 [==============================] - 22s 98ms/step - loss: 1.8126 - accuracy: 0.7031 - val_loss: 1.6392 - val_accuracy: 0.7017\n",
            "Epoch 6/40\n",
            "220/220 [==============================] - 22s 98ms/step - loss: 1.5452 - accuracy: 0.7044 - val_loss: 1.4369 - val_accuracy: 0.7031\n",
            "Epoch 7/40\n",
            "220/220 [==============================] - 21s 97ms/step - loss: 1.3731 - accuracy: 0.7096 - val_loss: 1.3011 - val_accuracy: 0.6991\n",
            "Epoch 8/40\n",
            "220/220 [==============================] - 22s 98ms/step - loss: 1.2698 - accuracy: 0.7110 - val_loss: 1.2141 - val_accuracy: 0.6984\n",
            "Epoch 9/40\n",
            "220/220 [==============================] - 22s 99ms/step - loss: 1.1936 - accuracy: 0.7101 - val_loss: 1.1533 - val_accuracy: 0.7031\n",
            "Epoch 10/40\n",
            "220/220 [==============================] - 22s 100ms/step - loss: 1.1503 - accuracy: 0.7097 - val_loss: 1.1165 - val_accuracy: 0.7071\n",
            "Epoch 11/40\n",
            "220/220 [==============================] - 22s 99ms/step - loss: 1.0989 - accuracy: 0.7113 - val_loss: 1.1044 - val_accuracy: 0.6997\n",
            "Epoch 12/40\n",
            "220/220 [==============================] - 22s 100ms/step - loss: 1.0809 - accuracy: 0.7134 - val_loss: 1.0754 - val_accuracy: 0.7031\n",
            "Epoch 13/40\n",
            "220/220 [==============================] - 22s 98ms/step - loss: 1.0687 - accuracy: 0.7150 - val_loss: 1.0608 - val_accuracy: 0.6977\n",
            "Epoch 14/40\n",
            "220/220 [==============================] - 22s 100ms/step - loss: 1.0517 - accuracy: 0.7106 - val_loss: 1.0478 - val_accuracy: 0.7044\n",
            "Epoch 15/40\n",
            "220/220 [==============================] - 21s 97ms/step - loss: 1.0380 - accuracy: 0.7130 - val_loss: 1.0275 - val_accuracy: 0.7064\n",
            "Epoch 16/40\n",
            "220/220 [==============================] - 21s 98ms/step - loss: 1.0320 - accuracy: 0.7110 - val_loss: 1.0193 - val_accuracy: 0.7024\n",
            "Epoch 17/40\n",
            "220/220 [==============================] - 22s 98ms/step - loss: 1.0292 - accuracy: 0.7051 - val_loss: 1.0205 - val_accuracy: 0.7130\n",
            "Epoch 18/40\n",
            "220/220 [==============================] - 22s 98ms/step - loss: 1.0168 - accuracy: 0.7123 - val_loss: 1.0164 - val_accuracy: 0.7051\n",
            "Epoch 19/40\n",
            "220/220 [==============================] - 22s 101ms/step - loss: 1.0161 - accuracy: 0.7114 - val_loss: 1.0063 - val_accuracy: 0.7077\n",
            "Epoch 20/40\n",
            "220/220 [==============================] - 21s 97ms/step - loss: 1.0086 - accuracy: 0.7081 - val_loss: 0.9999 - val_accuracy: 0.7130\n",
            "Epoch 21/40\n",
            "220/220 [==============================] - 22s 98ms/step - loss: 1.0050 - accuracy: 0.7098 - val_loss: 1.0065 - val_accuracy: 0.7044\n",
            "Epoch 22/40\n",
            "220/220 [==============================] - 21s 96ms/step - loss: 0.9991 - accuracy: 0.7136 - val_loss: 0.9993 - val_accuracy: 0.7031\n",
            "Epoch 23/40\n",
            "220/220 [==============================] - 21s 95ms/step - loss: 1.0004 - accuracy: 0.7144 - val_loss: 1.0140 - val_accuracy: 0.7064\n",
            "Epoch 24/40\n",
            "220/220 [==============================] - 21s 95ms/step - loss: 0.9971 - accuracy: 0.7144 - val_loss: 0.9919 - val_accuracy: 0.7077\n",
            "Epoch 25/40\n",
            "220/220 [==============================] - 21s 93ms/step - loss: 0.9905 - accuracy: 0.7191 - val_loss: 0.9866 - val_accuracy: 0.7064\n",
            "Epoch 26/40\n",
            "220/220 [==============================] - 21s 97ms/step - loss: 0.9907 - accuracy: 0.7114 - val_loss: 0.9967 - val_accuracy: 0.7051\n",
            "Epoch 27/40\n",
            "220/220 [==============================] - 22s 99ms/step - loss: 0.9972 - accuracy: 0.7084 - val_loss: 0.9922 - val_accuracy: 0.7057\n",
            "Epoch 28/40\n",
            "220/220 [==============================] - 21s 96ms/step - loss: 0.9876 - accuracy: 0.7150 - val_loss: 0.9813 - val_accuracy: 0.7144\n",
            "Epoch 29/40\n",
            "220/220 [==============================] - 22s 98ms/step - loss: 0.9886 - accuracy: 0.7124 - val_loss: 0.9895 - val_accuracy: 0.7111\n",
            "Epoch 30/40\n",
            "220/220 [==============================] - 22s 98ms/step - loss: 0.9871 - accuracy: 0.7130 - val_loss: 0.9850 - val_accuracy: 0.7031\n",
            "Epoch 31/40\n",
            "220/220 [==============================] - 21s 97ms/step - loss: 0.9809 - accuracy: 0.7121 - val_loss: 0.9734 - val_accuracy: 0.7224\n",
            "Epoch 32/40\n",
            "220/220 [==============================] - 21s 94ms/step - loss: 0.9806 - accuracy: 0.7138 - val_loss: 0.9825 - val_accuracy: 0.7097\n",
            "Epoch 33/40\n",
            "220/220 [==============================] - 20s 93ms/step - loss: 0.9789 - accuracy: 0.7114 - val_loss: 0.9909 - val_accuracy: 0.7097\n",
            "Epoch 34/40\n",
            "220/220 [==============================] - 21s 95ms/step - loss: 0.9763 - accuracy: 0.7174 - val_loss: 1.0041 - val_accuracy: 0.7011\n",
            "Epoch 35/40\n",
            "220/220 [==============================] - 21s 97ms/step - loss: 0.9938 - accuracy: 0.7117 - val_loss: 0.9868 - val_accuracy: 0.7011\n",
            "Epoch 36/40\n",
            "220/220 [==============================] - 22s 98ms/step - loss: 0.9823 - accuracy: 0.7101 - val_loss: 0.9841 - val_accuracy: 0.7077\n",
            "Epoch 37/40\n",
            "220/220 [==============================] - 22s 98ms/step - loss: 0.9833 - accuracy: 0.7111 - val_loss: 0.9826 - val_accuracy: 0.7064\n",
            "Epoch 38/40\n",
            "220/220 [==============================] - 21s 97ms/step - loss: 0.9786 - accuracy: 0.7153 - val_loss: 0.9877 - val_accuracy: 0.7037\n",
            "Epoch 39/40\n",
            "220/220 [==============================] - 20s 93ms/step - loss: 0.9773 - accuracy: 0.7174 - val_loss: 0.9792 - val_accuracy: 0.7057\n",
            "Epoch 40/40\n",
            "220/220 [==============================] - 21s 94ms/step - loss: 0.9717 - accuracy: 0.7098 - val_loss: 0.9716 - val_accuracy: 0.7104\n"
          ]
        }
      ]
    },
    {
      "cell_type": "code",
      "source": [
        "histories['EfficientNetB1'] = history"
      ],
      "metadata": {
        "id": "q4aGJNPA0lmm"
      },
      "execution_count": 19,
      "outputs": []
    },
    {
      "cell_type": "code",
      "source": [
        "plotter = tfdocs.plots.HistoryPlotter(metric = 'accuracy', smoothing_std=10)\n",
        "plotter.plot(histories)\n",
        "plt.ylim([0, 1])"
      ],
      "metadata": {
        "colab": {
          "base_uri": "https://localhost:8080/",
          "height": 300
        },
        "id": "_s6Yv2-c2ZCs",
        "outputId": "ead07f20-5dad-4ce5-8b1e-daf7c56ffd55"
      },
      "execution_count": 20,
      "outputs": [
        {
          "output_type": "execute_result",
          "data": {
            "text/plain": [
              "(0.0, 1.0)"
            ]
          },
          "metadata": {},
          "execution_count": 20
        },
        {
          "output_type": "display_data",
          "data": {
            "text/plain": [
              "<Figure size 432x288 with 1 Axes>"
            ],
            "image/png": "[encoded data removed]"
          },
          "metadata": {
            "needs_background": "light"
          }
        }
      ]
    }
  ]
}