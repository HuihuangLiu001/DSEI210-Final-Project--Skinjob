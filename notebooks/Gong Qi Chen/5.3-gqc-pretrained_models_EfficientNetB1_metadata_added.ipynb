{
  "nbformat": 4,
  "nbformat_minor": 0,
  "metadata": {
    "colab": {
      "name": "pretrained_models_EfficientNetB1.ipynb",
      "provenance": [],
      "collapsed_sections": [],
      "machine_shape": "hm"
    },
    "kernelspec": {
      "name": "python3",
      "display_name": "Python 3"
    },
    "language_info": {
      "name": "python"
    },
    "accelerator": "GPU"
  },
  "cells": [
    {
      "cell_type": "code",
      "source": [
        "!pwd"
      ],
      "metadata": {
        "colab": {
          "base_uri": "https://localhost:8080/"
        },
        "id": "-9aLLCmfhWYr",
        "outputId": "0495eae0-4555-4543-cea8-d25691c6de6a"
      },
      "execution_count": 1,
      "outputs": [
        {
          "output_type": "stream",
          "name": "stdout",
          "text": [
            "/content\n"
          ]
        }
      ]
    },
    {
      "cell_type": "code",
      "source": [
        "import os\n",
        "os.environ['KAGGLE_CONFIG_DIR'] = \"/content\""
      ],
      "metadata": {
        "id": "Xbn9UU0UhWwd"
      },
      "execution_count": 2,
      "outputs": []
    },
    {
      "cell_type": "code",
      "source": [
        "!kaggle datasets download -d surajghuwalewala/ham1000-segmentation-and-classification\n",
        "!unzip /content/ham1000-segmentation-and-classification.zip"
      ],
      "metadata": {
        "id": "_TpI8ifahW2z"
      },
      "execution_count": null,
      "outputs": []
    },
    {
      "cell_type": "code",
      "execution_count": 4,
      "metadata": {
        "colab": {
          "base_uri": "https://localhost:8080/"
        },
        "id": "MUcW2QjaqDJh",
        "outputId": "f65067fb-8898-4aa2-f138-59d75344da28"
      },
      "outputs": [
        {
          "output_type": "stream",
          "name": "stdout",
          "text": [
            "Collecting git+https://github.com/tensorflow/docs\n",
            "  Cloning https://github.com/tensorflow/docs to /tmp/pip-req-build-1csb8zn0\n",
            "  Running command git clone -q https://github.com/tensorflow/docs /tmp/pip-req-build-1csb8zn0\n",
            "Requirement already satisfied: astor in /usr/local/lib/python3.7/dist-packages (from tensorflow-docs==0.0.0.dev0) (0.8.1)\n",
            "Requirement already satisfied: absl-py in /usr/local/lib/python3.7/dist-packages (from tensorflow-docs==0.0.0.dev0) (1.0.0)\n",
            "Requirement already satisfied: jinja2 in /usr/local/lib/python3.7/dist-packages (from tensorflow-docs==0.0.0.dev0) (2.11.3)\n",
            "Requirement already satisfied: protobuf>=3.14 in /usr/local/lib/python3.7/dist-packages (from tensorflow-docs==0.0.0.dev0) (3.17.3)\n",
            "Requirement already satisfied: pyyaml in /usr/local/lib/python3.7/dist-packages (from tensorflow-docs==0.0.0.dev0) (3.13)\n",
            "Requirement already satisfied: six>=1.9 in /usr/local/lib/python3.7/dist-packages (from protobuf>=3.14->tensorflow-docs==0.0.0.dev0) (1.15.0)\n",
            "Requirement already satisfied: MarkupSafe>=0.23 in /usr/local/lib/python3.7/dist-packages (from jinja2->tensorflow-docs==0.0.0.dev0) (2.0.1)\n",
            "Building wheels for collected packages: tensorflow-docs\n",
            "  Building wheel for tensorflow-docs (setup.py) ... \u001b[?25l\u001b[?25hdone\n",
            "  Created wheel for tensorflow-docs: filename=tensorflow_docs-0.0.0.dev0-py3-none-any.whl size=179891 sha256=375e53fd46836434c5d1a35f93b4cd0ee318de6a8e28a7454d949279fc1cc3f3\n",
            "  Stored in directory: /tmp/pip-ephem-wheel-cache-8rp_q0kk/wheels/cc/c4/d8/5341e93b6376c5c929c49469fce21155eb69cef1a4da4ce32c\n",
            "Successfully built tensorflow-docs\n",
            "Installing collected packages: tensorflow-docs\n",
            "Successfully installed tensorflow-docs-0.0.0.dev0\n"
          ]
        }
      ],
      "source": [
        "!pip install git+https://github.com/tensorflow/docs"
      ]
    },
    {
      "cell_type": "code",
      "source": [
        "import numpy as np \n",
        "import pandas as pd\n",
        "import tensorflow as tf\n",
        "\n",
        "from PIL import Image\n",
        "\n",
        "from tensorflow import keras\n",
        "import tensorflow_docs as tfdocs\n",
        "import tensorflow_docs.modeling\n",
        "import tensorflow_docs.plots\n",
        "from tensorflow.keras import regularizers\n",
        "from tensorflow.keras.preprocessing.image import ImageDataGenerator\n",
        "from keras.utils.np_utils import to_categorical\n",
        "import matplotlib.pyplot as plt\n",
        "from sklearn.model_selection import train_test_split\n",
        "from sklearn.metrics import confusion_matrix, classification_report\n",
        "import seaborn as sns\n",
        "from matplotlib.pyplot import imshow"
      ],
      "metadata": {
        "id": "2OIZJX75q5ky"
      },
      "execution_count": 5,
      "outputs": []
    },
    {
      "cell_type": "code",
      "source": [
        "def undersample(df, count, rs=42):\n",
        "  result=[]\n",
        "  df_group = df.groupby('dx')\n",
        "  for x in df['dx'].unique():\n",
        "    group = df_group.get_group(x)\n",
        "    num = int(group['dx'].value_counts())\n",
        "    if num >= count:\n",
        "      s=group.sample(count, axis=0, random_state=rs)\n",
        "    else:\n",
        "      s=group.sample(frac=1, axis=0, random_state=rs)\n",
        "    result.append(s)\n",
        "  return pd.concat(result, axis=0).reset_index(drop=True)\n",
        "\n",
        "def oversample(df, count, rs=42):\n",
        "  lst = [df]\n",
        "  for class_index, group in df.groupby('dx'):\n",
        "      lst.append(group.sample(count-len(group), replace=True, random_state=rs))\n",
        "  df_new = pd.concat(lst)\n",
        "  return df_new\n",
        "\n",
        "def img_np_convert(df, image_path, h, w):\n",
        "  df['image_id'] = image_path + df['image_id'] +'.jpg'\n",
        "  df['image'] = df['image_id'].map(lambda x: np.asarray(Image.open(x).resize((h, w))).astype(np.float32))\n",
        "  return df\n",
        "\n",
        "def img_np_convert_scaled(df, image_path, h, w):\n",
        "  df['image_id'] = image_path + df['image_id'] +'.jpg'\n",
        "  df['image'] = df['image_id'].map(lambda x: (np.asarray(Image.open(x).resize((h, w)))/255).astype(np.float32))\n",
        "  return df\n",
        "\n",
        "def my_split(df, train_size, test_size, val_size, rs=42):\n",
        "  valid_test_split = val_size / test_size\n",
        "\n",
        "  df_train, df_test_val = train_test_split(df, test_size=1-train_size, shuffle=True, random_state=rs)\n",
        "  df_val, df_test = train_test_split(df_test_val, test_size=valid_test_split, shuffle=True, random_state=rs)\n",
        "\n",
        "  df_train.reset_index(inplace=True)\n",
        "  return df_train, df_test, df_val\n",
        "\n",
        "def weight_cal(df):\n",
        "  class_weight={}\n",
        "  labels = list(df['dx'].unique())\n",
        "  labels.sort()\n",
        "  count = df['dx'].value_counts()\n",
        "  for idx in range(7):\n",
        "    class_weight[idx] = count['nv']/count[labels[idx]]\n",
        "  return class_weight, labels\n",
        "\n",
        "def df_to_np1(df):\n",
        "  image = np.asarray(df['image'].to_list())\n",
        "\n",
        "  df_feature = df.iloc[:, 3:-1]\n",
        "  c_feature = df_feature.loc[:, ~df_feature.columns.isin(['sex', 'dx'])].to_numpy()\n",
        "\n",
        "  target_df = df['dx']\n",
        "  target = pd.get_dummies(data=target_df, columns=['dx']).to_numpy()\n",
        "  return image, c_feature, target\n",
        "\n",
        "def df_to_np2(df):\n",
        "  df['image'] = df['image'].map(lambda x : x.flatten())\n",
        "  i_feature = np.asarray(df['image'].tolist())\n",
        "  df_feature = df.iloc[:, 3:-1]\n",
        "  c_feature = df_feature.loc[:, ~df_feature.columns.isin(['sex', 'dx'])].to_numpy()\n",
        "  features = np.concatenate((i_feature, c_feature), axis=1)\n",
        "  \n",
        "  target_df = df['dx']\n",
        "  target = pd.get_dummies(data=target_df, columns=['dx']).to_numpy()\n",
        "  return features, target\n",
        "\n",
        "def image_augment(df, target, count, size, rs=42):\n",
        "  df_group = df.groupby('dx')\n",
        "  group = df_group.get_group(target)\n",
        "  s=group.sample(count, axis=0, random_state=rs)\n",
        "\n",
        "  datagen = ImageDataGenerator(\n",
        "    rotation_range = 20,\n",
        "    width_shift_range = 0.1,\n",
        "    height_shift_range = 0.1,\n",
        "    horizontal_flip = True,\n",
        "    fill_mode='nearest')\n",
        "  \n",
        "  for index, row in s.iterrows():\n",
        "    image = row['image'].reshape((1, ) + row['image'].shape)\n",
        "    gen = datagen.flow(image, batch_size=size)\n",
        "    input = row.to_list()\n",
        "    for i in range(size):\n",
        "      img = next(gen)\n",
        "      input[-1] = img[0]\n",
        "      df.loc[len(df.index)] = input\n",
        "  return None"
      ],
      "metadata": {
        "id": "MG0yxBTAMqNT"
      },
      "execution_count": 6,
      "outputs": []
    },
    {
      "cell_type": "code",
      "source": [
        "def prep_pipeline1(upper_size, h, w, aug_targets, aug_count, aug_size, rs=42):\n",
        "  df_o = pd.read_csv('../content/drive/MyDrive/DSE_I2100/data/HAM10000_metadata.csv')\n",
        "  df_o = pd.get_dummies(data=df_o, columns=['dx_type', 'localization'])\n",
        "  image_path = r'../content/images/'\n",
        "  df_u = undersample(df_o, upper_size)\n",
        "  df_u['age'].fillna(value=int(df_u['age'].mean()), inplace=True)\n",
        "  df_u['age'] = df_u['age'].astype(np.float32)\n",
        "  \n",
        "  df = img_np_convert(df_u, image_path, h, w)\n",
        "\n",
        "  df_train, df_test, df_val = my_split(df, 0.7, 0.2, 0.1, rs)\n",
        "\n",
        "  for target in aug_targets:\n",
        "    image_augment(df_train, target, aug_count, aug_size, rs)\n",
        "\n",
        "  weight, labels = weight_cal(df_train)\n",
        "\n",
        "  X_train_i, X_train_c, y_train = df_to_np1(df_train)\n",
        "  X_test_i, X_test_c, y_test = df_to_np1(df_test)\n",
        "  return (X_train_i, X_train_c, y_train), (X_test_i, X_test_c, y_test), weight, labels"
      ],
      "metadata": {
        "id": "eTeRkEmjM6UH"
      },
      "execution_count": 7,
      "outputs": []
    },
    {
      "cell_type": "code",
      "source": [
        "h = 90\n",
        "w = 90\n",
        "aug_targets = ['mel', 'bcc']\n",
        "aug_count = 50\n",
        "aug_size = 2\n",
        "\n",
        "train_set, test_set, class_weight, labels = prep_pipeline1(1500, h, w, aug_targets, aug_count, aug_size)"
      ],
      "metadata": {
        "id": "CL1itcmyM-Se"
      },
      "execution_count": 70,
      "outputs": []
    },
    {
      "cell_type": "code",
      "source": [
        "X_train1 = train_set[0]\n",
        "X_train2 = train_set[1]\n",
        "y_train = train_set[2]\n",
        "\n",
        "X_test1 = test_set[0]\n",
        "X_test2 = test_set[1]\n",
        "y_test = test_set[2]"
      ],
      "metadata": {
        "id": "JyJPdn-LNLek"
      },
      "execution_count": 71,
      "outputs": []
    },
    {
      "cell_type": "code",
      "source": [
        "print(X_train1.shape, X_test1.shape)"
      ],
      "metadata": {
        "colab": {
          "base_uri": "https://localhost:8080/"
        },
        "id": "ISR6jhMLOlbJ",
        "outputId": "98ecb9cb-fab3-47d9-e318-82a45ff333ce"
      },
      "execution_count": 72,
      "outputs": [
        {
          "output_type": "stream",
          "name": "stdout",
          "text": [
            "(3566, 90, 90, 3) (722, 90, 90, 3)\n"
          ]
        }
      ]
    },
    {
      "cell_type": "code",
      "source": [
        "X_train2.shape"
      ],
      "metadata": {
        "colab": {
          "base_uri": "https://localhost:8080/"
        },
        "id": "oqWh4Q-aAG1x",
        "outputId": "a783ad69-63ad-470b-def9-d5885b779735"
      },
      "execution_count": 73,
      "outputs": [
        {
          "output_type": "execute_result",
          "data": {
            "text/plain": [
              "(3566, 20)"
            ]
          },
          "metadata": {},
          "execution_count": 73
        }
      ]
    },
    {
      "cell_type": "code",
      "source": [
        "print(y_train.shape, y_test.shape)"
      ],
      "metadata": {
        "colab": {
          "base_uri": "https://localhost:8080/"
        },
        "id": "sVIm2VMIO207",
        "outputId": "9ec6ea52-2649-4132-8de9-ffe0e2bd3b03"
      },
      "execution_count": 74,
      "outputs": [
        {
          "output_type": "stream",
          "name": "stdout",
          "text": [
            "(3566, 7) (722, 7)\n"
          ]
        }
      ]
    },
    {
      "cell_type": "code",
      "source": [
        "class_weight[4] = class_weight[4]*1.5\n",
        "class_weight[1] = class_weight[1]*1.5"
      ],
      "metadata": {
        "id": "5WVi17bDJHbF"
      },
      "execution_count": 12,
      "outputs": []
    },
    {
      "cell_type": "code",
      "source": [
        "class_weight"
      ],
      "metadata": {
        "colab": {
          "base_uri": "https://localhost:8080/"
        },
        "id": "CC5JYGhzJW_P",
        "outputId": "db81ed7c-816e-47d9-c2a1-cfb083fd1500"
      },
      "execution_count": 75,
      "outputs": [
        {
          "output_type": "execute_result",
          "data": {
            "text/plain": [
              "{0: 4.648888888888889,\n",
              " 1: 2.355855855855856,\n",
              " 2: 1.378129117259552,\n",
              " 3: 12.452380952380953,\n",
              " 4: 1.1444201312910285,\n",
              " 5: 1.0,\n",
              " 6: 11.127659574468085}"
            ]
          },
          "metadata": {},
          "execution_count": 75
        }
      ]
    },
    {
      "cell_type": "code",
      "source": [
        "histories = {}\n",
        "\n",
        "channels = 3\n",
        "img_shape = (h, w, channels)\n",
        "\n",
        "def get_callbacks():\n",
        "  return [\n",
        "    tf.keras.callbacks.EarlyStopping(monitor='val_loss', patience=10, verbose=1, mode='auto', restore_best_weights=True),\n",
        "    tf.keras.callbacks.ReduceLROnPlateau(monitor='val_loss', factor=0.1, patience=5, verbose=1, mode='auto')      \n",
        "  ]\n",
        "\n",
        "# Create the base model with EfficientNetB1\n",
        "inputA = tf.keras.Input(shape=img_shape)\n",
        "inputB = tf.keras.Input(shape=(20,))\n",
        "\n",
        "base_model = tf.keras.applications.EfficientNetB1(include_top=False, weights='imagenet', pooling='max')(inputA)\n",
        "Normalizator_layer = keras.layers.BatchNormalization(axis=-1, momentum=0.99, epsilon=0.001 )(base_model)\n",
        "x = tf.keras.layers.Dense(256, activation=\"relu\")(Normalizator_layer)\n",
        "image_part = tf.keras.Model(inputs=inputA, outputs=x)\n",
        "\n",
        "y = tf.keras.layers.Dense(8, activation=\"relu\")(inputB)\n",
        "cate_part = tf.keras.Model(inputs=inputB, outputs=y)\n",
        "\n",
        "combined = tf.keras.layers.concatenate([image_part.output, cate_part.output])\n",
        "\n",
        "z = tf.keras.layers.Dense(128,\n",
        "                          kernel_regularizer = regularizers.l2(l = 0.02),\n",
        "                          activation='relu')(combined)\n",
        "z = keras.layers.Dropout(rate=.5, seed=42)(z)\n",
        "prediction_layer = keras.layers.Dense(7, activation='softmax')(z)\n",
        "\n",
        "model = tf.keras.Model(inputs=[image_part.input, cate_part.input], outputs=prediction_layer)"
      ],
      "metadata": {
        "id": "y_w8tVTfrAp0"
      },
      "execution_count": 76,
      "outputs": []
    },
    {
      "cell_type": "code",
      "source": [
        "base_learning_rate = 0.001\n",
        "model.compile(optimizer=tf.keras.optimizers.Adamax(learning_rate=base_learning_rate),\n",
        "              loss='categorical_crossentropy',\n",
        "              metrics=['accuracy'])"
      ],
      "metadata": {
        "id": "e6CCdu_Uwivh"
      },
      "execution_count": 77,
      "outputs": []
    },
    {
      "cell_type": "code",
      "source": [
        "history = model.fit([X_train1, X_train2],\n",
        "                    y_train, \n",
        "                    epochs=20, \n",
        "                    validation_data=([X_test1, X_test2], y_test), \n",
        "                    callbacks=get_callbacks(),\n",
        "                    class_weight=class_weight)"
      ],
      "metadata": {
        "colab": {
          "base_uri": "https://localhost:8080/"
        },
        "id": "6wLlCxZiyuVa",
        "outputId": "82447421-9df2-4d98-fbd4-252279aae679"
      },
      "execution_count": 78,
      "outputs": [
        {
          "output_type": "stream",
          "name": "stdout",
          "text": [
            "Epoch 1/20\n",
            "112/112 [==============================] - 29s 124ms/step - loss: 7.2823 - accuracy: 0.2939 - val_loss: 4.6557 - val_accuracy: 0.3366 - lr: 0.0010\n",
            "Epoch 2/20\n",
            "112/112 [==============================] - 11s 100ms/step - loss: 5.6378 - accuracy: 0.4498 - val_loss: 4.2183 - val_accuracy: 0.4446 - lr: 0.0010\n",
            "Epoch 3/20\n",
            "112/112 [==============================] - 11s 100ms/step - loss: 4.9044 - accuracy: 0.5188 - val_loss: 3.7624 - val_accuracy: 0.5623 - lr: 0.0010\n",
            "Epoch 4/20\n",
            "112/112 [==============================] - 11s 100ms/step - loss: 4.3132 - accuracy: 0.5878 - val_loss: 3.5107 - val_accuracy: 0.5859 - lr: 0.0010\n",
            "Epoch 5/20\n",
            "112/112 [==============================] - 11s 99ms/step - loss: 3.9655 - accuracy: 0.6324 - val_loss: 3.3917 - val_accuracy: 0.6025 - lr: 0.0010\n",
            "Epoch 6/20\n",
            "112/112 [==============================] - 11s 100ms/step - loss: 3.5397 - accuracy: 0.6814 - val_loss: 3.2044 - val_accuracy: 0.6454 - lr: 0.0010\n",
            "Epoch 7/20\n",
            "112/112 [==============================] - 11s 100ms/step - loss: 3.2677 - accuracy: 0.7299 - val_loss: 3.0832 - val_accuracy: 0.6551 - lr: 0.0010\n",
            "Epoch 8/20\n",
            "112/112 [==============================] - 11s 100ms/step - loss: 2.9965 - accuracy: 0.7473 - val_loss: 2.9500 - val_accuracy: 0.6579 - lr: 0.0010\n",
            "Epoch 9/20\n",
            "112/112 [==============================] - 11s 100ms/step - loss: 2.7153 - accuracy: 0.7922 - val_loss: 2.8131 - val_accuracy: 0.6787 - lr: 0.0010\n",
            "Epoch 10/20\n",
            "112/112 [==============================] - 11s 99ms/step - loss: 2.5576 - accuracy: 0.8059 - val_loss: 2.7127 - val_accuracy: 0.6731 - lr: 0.0010\n",
            "Epoch 11/20\n",
            "112/112 [==============================] - 11s 99ms/step - loss: 2.3657 - accuracy: 0.8329 - val_loss: 2.6439 - val_accuracy: 0.6787 - lr: 0.0010\n",
            "Epoch 12/20\n",
            "112/112 [==============================] - 11s 100ms/step - loss: 2.2314 - accuracy: 0.8480 - val_loss: 2.5654 - val_accuracy: 0.6925 - lr: 0.0010\n",
            "Epoch 13/20\n",
            "112/112 [==============================] - 11s 100ms/step - loss: 2.0480 - accuracy: 0.8724 - val_loss: 2.4807 - val_accuracy: 0.6911 - lr: 0.0010\n",
            "Epoch 14/20\n",
            "112/112 [==============================] - 11s 100ms/step - loss: 1.8836 - accuracy: 0.8859 - val_loss: 2.4214 - val_accuracy: 0.6759 - lr: 0.0010\n",
            "Epoch 15/20\n",
            "112/112 [==============================] - 11s 100ms/step - loss: 1.7520 - accuracy: 0.9002 - val_loss: 2.3351 - val_accuracy: 0.6717 - lr: 0.0010\n",
            "Epoch 16/20\n",
            "112/112 [==============================] - 11s 100ms/step - loss: 1.6272 - accuracy: 0.9089 - val_loss: 2.2844 - val_accuracy: 0.6690 - lr: 0.0010\n",
            "Epoch 17/20\n",
            "112/112 [==============================] - 11s 100ms/step - loss: 1.4910 - accuracy: 0.9192 - val_loss: 2.2315 - val_accuracy: 0.6911 - lr: 0.0010\n",
            "Epoch 18/20\n",
            "112/112 [==============================] - 11s 100ms/step - loss: 1.3844 - accuracy: 0.9310 - val_loss: 2.1630 - val_accuracy: 0.6911 - lr: 0.0010\n",
            "Epoch 19/20\n",
            "112/112 [==============================] - 11s 99ms/step - loss: 1.3124 - accuracy: 0.9372 - val_loss: 2.1092 - val_accuracy: 0.6967 - lr: 0.0010\n",
            "Epoch 20/20\n",
            "112/112 [==============================] - 11s 99ms/step - loss: 1.2186 - accuracy: 0.9389 - val_loss: 2.0938 - val_accuracy: 0.6898 - lr: 0.0010\n"
          ]
        }
      ]
    },
    {
      "cell_type": "code",
      "source": [
        "histories['EfficientNetB1'] = history"
      ],
      "metadata": {
        "id": "q4aGJNPA0lmm"
      },
      "execution_count": 79,
      "outputs": []
    },
    {
      "cell_type": "code",
      "source": [
        "plotter = tfdocs.plots.HistoryPlotter(metric = 'accuracy', smoothing_std=10)\n",
        "plotter.plot(histories)\n",
        "plt.title(\"Learning Curve - Accuracy\") \n",
        "plt.ylim([0, 1])"
      ],
      "metadata": {
        "colab": {
          "base_uri": "https://localhost:8080/",
          "height": 313
        },
        "id": "_s6Yv2-c2ZCs",
        "outputId": "81369dc4-e7b1-43fa-bf84-ee1eae5f85a5"
      },
      "execution_count": 80,
      "outputs": [
        {
          "output_type": "execute_result",
          "data": {
            "text/plain": [
              "(0.0, 1.0)"
            ]
          },
          "metadata": {},
          "execution_count": 80
        },
        {
          "output_type": "display_data",
          "data": {
            "text/plain": [
              "<Figure size 432x288 with 1 Axes>"
            ],
            "image/png": "[encoded data removed]"
          },
          "metadata": {
            "needs_background": "light"
          }
        }
      ]
    },
    {
      "cell_type": "code",
      "source": [
        "plotter = tfdocs.plots.HistoryPlotter(metric = 'loss', smoothing_std=10)\n",
        "plotter.plot(histories)\n",
        "plt.title(\"Learning Curve - Loss\") \n",
        "plt.ylim([0, 20])"
      ],
      "metadata": {
        "colab": {
          "base_uri": "https://localhost:8080/",
          "height": 313
        },
        "id": "QxSPJLfobjge",
        "outputId": "71acced8-1854-42ac-94a8-c13274a278f1"
      },
      "execution_count": 81,
      "outputs": [
        {
          "output_type": "execute_result",
          "data": {
            "text/plain": [
              "(0.0, 20.0)"
            ]
          },
          "metadata": {},
          "execution_count": 81
        },
        {
          "output_type": "display_data",
          "data": {
            "text/plain": [
              "<Figure size 432x288 with 1 Axes>"
            ],
            "image/png": "[encoded data removed]"
          },
          "metadata": {
            "needs_background": "light"
          }
        }
      ]
    },
    {
      "cell_type": "code",
      "source": [
        "pred=model.predict([X_test1, X_test2])\n",
        "y_pred=[]\n",
        "for p in pred:\n",
        "  pred_index=np.argmax(p)\n",
        "  y_pred.append(pred_index)\n",
        "y_ture=[]\n",
        "for p in y_test:\n",
        "  pred_index=np.argmax(p)\n",
        "  y_ture.append(pred_index)\n",
        "y_true = np.array(y_ture)\n",
        "y_pred = np.array(y_pred)"
      ],
      "metadata": {
        "id": "nnQPXQEeUIb6"
      },
      "execution_count": 82,
      "outputs": []
    },
    {
      "cell_type": "code",
      "source": [
        "cm = confusion_matrix(y_true, y_pred)\n",
        "sns.heatmap(cm, annot=True, vmin=0, fmt='g', cmap='Blues', cbar=False)\n",
        "plt.xticks(np.arange(7)+0.5, labels, rotation= 90)\n",
        "plt.yticks(np.arange(7)+0.5, labels, rotation=0)\n",
        "plt.xlabel(\"Predicted\")\n",
        "plt.ylabel(\"Actual\")\n",
        "plt.title(\"Confusion Matrix\") "
      ],
      "metadata": {
        "id": "WSwN2rcHUYtS",
        "colab": {
          "base_uri": "https://localhost:8080/",
          "height": 330
        },
        "outputId": "69622720-b344-4dcc-ad3a-a849ce00e6fa"
      },
      "execution_count": 83,
      "outputs": [
        {
          "output_type": "execute_result",
          "data": {
            "text/plain": [
              "Text(0.5, 1.0, 'Confusion Matrix')"
            ]
          },
          "metadata": {},
          "execution_count": 83
        },
        {
          "output_type": "display_data",
          "data": {
            "text/plain": [
              "<Figure size 432x288 with 1 Axes>"
            ],
            "image/png": "[encoded data removed]"
          },
          "metadata": {
            "needs_background": "light"
          }
        }
      ]
    },
    {
      "cell_type": "code",
      "source": [
        "clr = classification_report(y_true, y_pred, target_names=labels)\n",
        "print(\"Classification Report:\")\n",
        "print(\"=====================================================\")\n",
        "print(clr)"
      ],
      "metadata": {
        "id": "kTr4sRdld1uf",
        "colab": {
          "base_uri": "https://localhost:8080/"
        },
        "outputId": "8bf96958-f7de-4df0-c01d-4d4cfd75f37d"
      },
      "execution_count": 84,
      "outputs": [
        {
          "output_type": "stream",
          "name": "stdout",
          "text": [
            "Classification Report:\n",
            "=====================================================\n",
            "              precision    recall  f1-score   support\n",
            "\n",
            "       akiec       0.51      0.69      0.58        51\n",
            "         bcc       0.65      0.67      0.66        79\n",
            "         bkl       0.70      0.66      0.68       177\n",
            "          df       0.43      0.81      0.57        16\n",
            "         mel       0.63      0.60      0.62       153\n",
            "          nv       0.81      0.76      0.79       223\n",
            "        vasc       0.95      0.78      0.86        23\n",
            "\n",
            "    accuracy                           0.69       722\n",
            "   macro avg       0.67      0.71      0.68       722\n",
            "weighted avg       0.70      0.69      0.69       722\n",
            "\n"
          ]
        }
      ]
    },
    {
      "cell_type": "code",
      "source": [
        "model.evaluate([X_test1, X_test2], y_test)"
      ],
      "metadata": {
        "colab": {
          "base_uri": "https://localhost:8080/"
        },
        "id": "eBQEFHXfUcM9",
        "outputId": "adc4a9ca-b5f0-4639-8a2b-563aabcf0c36"
      },
      "execution_count": 69,
      "outputs": [
        {
          "output_type": "stream",
          "name": "stdout",
          "text": [
            "44/44 [==============================] - 1s 21ms/step - loss: 2.1490 - accuracy: 0.7566\n"
          ]
        },
        {
          "output_type": "execute_result",
          "data": {
            "text/plain": [
              "[2.1489522457122803, 0.7566213607788086]"
            ]
          },
          "metadata": {},
          "execution_count": 69
        }
      ]
    },
    {
      "cell_type": "code",
      "source": [
        ""
      ],
      "metadata": {
        "id": "c54HXISvsIkK"
      },
      "execution_count": null,
      "outputs": []
    }
  ]
}