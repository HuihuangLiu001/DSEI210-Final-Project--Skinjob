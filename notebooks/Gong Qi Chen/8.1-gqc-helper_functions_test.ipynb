{
  "nbformat": 4,
  "nbformat_minor": 0,
  "metadata": {
    "colab": {
      "name": "helper_functions_test.ipynb",
      "provenance": [],
      "collapsed_sections": []
    },
    "kernelspec": {
      "name": "python3",
      "display_name": "Python 3"
    },
    "language_info": {
      "name": "python"
    }
  },
  "cells": [
    {
      "cell_type": "code",
      "source": [
        "!pwd\n",
        "import os\n",
        "os.environ['KAGGLE_CONFIG_DIR'] = \"/content\""
      ],
      "metadata": {
        "colab": {
          "base_uri": "https://localhost:8080/"
        },
        "id": "R3GLGcI6TSEn",
        "outputId": "4c4683ef-0c7f-4536-dbcc-655ff7b4b23f"
      },
      "execution_count": 1,
      "outputs": [
        {
          "output_type": "stream",
          "name": "stdout",
          "text": [
            "/content\n"
          ]
        }
      ]
    },
    {
      "cell_type": "code",
      "source": [
        "!kaggle datasets download -d surajghuwalewala/ham1000-segmentation-and-classification\n",
        "!unzip /content/ham1000-segmentation-and-classification.zip"
      ],
      "metadata": {
        "id": "lcgkqDXdTXV6"
      },
      "execution_count": null,
      "outputs": []
    },
    {
      "cell_type": "code",
      "source": [
        "!pip install git+https://github.com/tensorflow/docs"
      ],
      "metadata": {
        "colab": {
          "base_uri": "https://localhost:8080/"
        },
        "id": "uiwNpCDxTYse",
        "outputId": "8cc54b4f-64b0-4cd5-862b-2805a645eb1a"
      },
      "execution_count": 3,
      "outputs": [
        {
          "output_type": "stream",
          "name": "stdout",
          "text": [
            "Looking in indexes: https://pypi.org/simple, https://us-python.pkg.dev/colab-wheels/public/simple/\n",
            "Collecting git+https://github.com/tensorflow/docs\n",
            "  Cloning https://github.com/tensorflow/docs to /tmp/pip-req-build-8sdo5wcx\n",
            "  Running command git clone -q https://github.com/tensorflow/docs /tmp/pip-req-build-8sdo5wcx\n",
            "Requirement already satisfied: astor in /usr/local/lib/python3.7/dist-packages (from tensorflow-docs==0.0.0.dev0) (0.8.1)\n",
            "Requirement already satisfied: absl-py in /usr/local/lib/python3.7/dist-packages (from tensorflow-docs==0.0.0.dev0) (1.0.0)\n",
            "Requirement already satisfied: jinja2 in /usr/local/lib/python3.7/dist-packages (from tensorflow-docs==0.0.0.dev0) (2.11.3)\n",
            "Requirement already satisfied: protobuf>=3.14 in /usr/local/lib/python3.7/dist-packages (from tensorflow-docs==0.0.0.dev0) (3.17.3)\n",
            "Requirement already satisfied: pyyaml in /usr/local/lib/python3.7/dist-packages (from tensorflow-docs==0.0.0.dev0) (3.13)\n",
            "Requirement already satisfied: six>=1.9 in /usr/local/lib/python3.7/dist-packages (from protobuf>=3.14->tensorflow-docs==0.0.0.dev0) (1.15.0)\n",
            "Requirement already satisfied: MarkupSafe>=0.23 in /usr/local/lib/python3.7/dist-packages (from jinja2->tensorflow-docs==0.0.0.dev0) (2.0.1)\n",
            "Building wheels for collected packages: tensorflow-docs\n",
            "  Building wheel for tensorflow-docs (setup.py) ... \u001b[?25l\u001b[?25hdone\n",
            "  Created wheel for tensorflow-docs: filename=tensorflow_docs-0.0.0.dev0-py3-none-any.whl size=179891 sha256=55be388556f31472bbed417ac43923233b8d747413f14d581d21c98a7d141439\n",
            "  Stored in directory: /tmp/pip-ephem-wheel-cache-ayxco743/wheels/cc/c4/d8/5341e93b6376c5c929c49469fce21155eb69cef1a4da4ce32c\n",
            "Successfully built tensorflow-docs\n",
            "Installing collected packages: tensorflow-docs\n",
            "Successfully installed tensorflow-docs-0.0.0.dev0\n"
          ]
        }
      ]
    },
    {
      "cell_type": "code",
      "source": [
        "!pip install -q -U keras-tuner"
      ],
      "metadata": {
        "colab": {
          "base_uri": "https://localhost:8080/"
        },
        "id": "z3WGXk-dTaIk",
        "outputId": "ce572b76-b4bb-4352-b503-92d961f84340"
      },
      "execution_count": 4,
      "outputs": [
        {
          "output_type": "stream",
          "name": "stdout",
          "text": [
            "\u001b[?25l\r\u001b[K     |██▌                             | 10 kB 19.2 MB/s eta 0:00:01\r\u001b[K     |█████                           | 20 kB 5.7 MB/s eta 0:00:01\r\u001b[K     |███████▍                        | 30 kB 7.7 MB/s eta 0:00:01\r\u001b[K     |█████████▉                      | 40 kB 5.4 MB/s eta 0:00:01\r\u001b[K     |████████████▎                   | 51 kB 6.6 MB/s eta 0:00:01\r\u001b[K     |██████████████▊                 | 61 kB 7.8 MB/s eta 0:00:01\r\u001b[K     |█████████████████▏              | 71 kB 8.8 MB/s eta 0:00:01\r\u001b[K     |███████████████████▋            | 81 kB 7.9 MB/s eta 0:00:01\r\u001b[K     |██████████████████████          | 92 kB 8.6 MB/s eta 0:00:01\r\u001b[K     |████████████████████████▌       | 102 kB 9.4 MB/s eta 0:00:01\r\u001b[K     |███████████████████████████     | 112 kB 9.4 MB/s eta 0:00:01\r\u001b[K     |█████████████████████████████▍  | 122 kB 9.4 MB/s eta 0:00:01\r\u001b[K     |███████████████████████████████▉| 133 kB 9.4 MB/s eta 0:00:01\r\u001b[K     |████████████████████████████████| 133 kB 9.4 MB/s \n",
            "\u001b[?25h"
          ]
        }
      ]
    },
    {
      "cell_type": "code",
      "source": [
        "import numpy as np \n",
        "import pandas as pd\n",
        "import tensorflow as tf\n",
        "\n",
        "from PIL import Image\n",
        "\n",
        "from tensorflow import keras\n",
        "import tensorflow_docs as tfdocs\n",
        "import tensorflow_docs.modeling\n",
        "import tensorflow_docs.plots\n",
        "from tensorflow.keras import regularizers\n",
        "from tensorflow.keras.preprocessing.image import ImageDataGenerator\n",
        "from keras.utils.np_utils import to_categorical\n",
        "import keras_tuner as kt\n",
        "import matplotlib.pyplot as plt\n",
        "from sklearn.model_selection import train_test_split\n",
        "from sklearn.metrics import confusion_matrix, classification_report\n",
        "import seaborn as sns\n",
        "from matplotlib.pyplot import imshow"
      ],
      "metadata": {
        "id": "DlwM6LSnS8k-"
      },
      "execution_count": 1,
      "outputs": []
    },
    {
      "cell_type": "code",
      "source": [
        "import data_helper as dh"
      ],
      "metadata": {
        "id": "7PzjPnpqTfSp"
      },
      "execution_count": 2,
      "outputs": []
    },
    {
      "cell_type": "code",
      "source": [
        "df_o = pd.read_csv('../content/drive/MyDrive/DSE_I2100/data/HAM10000_metadata.csv')\n",
        "image_path = r'../content/images/'"
      ],
      "metadata": {
        "id": "uk_cNUs1ka7V"
      },
      "execution_count": 3,
      "outputs": []
    },
    {
      "cell_type": "code",
      "source": [
        "h = 90\n",
        "w = 90\n",
        "aug_targets = ['mel', 'bcc']\n",
        "aug_count = 0\n",
        "aug_size = 0\n",
        "\n",
        "train_set, test_set, class_weight, labels = dh.prep_pipeline1(df_o, image_path, 1500, h, w, aug_targets, aug_count, aug_size)"
      ],
      "metadata": {
        "id": "-dmw2oOZT7Ve"
      },
      "execution_count": 4,
      "outputs": []
    },
    {
      "cell_type": "code",
      "source": [
        "X_train1 = train_set[0]\n",
        "X_train2 = train_set[1]\n",
        "y_train = train_set[2]\n",
        "\n",
        "X_test1 = test_set[0]\n",
        "X_test2 = test_set[1]\n",
        "y_test = test_set[2]"
      ],
      "metadata": {
        "id": "mBu3qMKAUQfV"
      },
      "execution_count": 5,
      "outputs": []
    },
    {
      "cell_type": "code",
      "source": [
        "print(X_train1.shape, X_test1.shape, X_train2.shape, X_test2.shape, y_train.shape, y_test.shape)"
      ],
      "metadata": {
        "colab": {
          "base_uri": "https://localhost:8080/"
        },
        "id": "Dk1OYI88UYVy",
        "outputId": "f21751db-3dd7-4677-c48d-ed7093e7990d"
      },
      "execution_count": 7,
      "outputs": [
        {
          "output_type": "stream",
          "name": "stdout",
          "text": [
            "(3367, 90, 90, 3) (1443, 90, 90, 3) (3367, 20) (1443, 20) (3367, 7) (1443, 7)\n"
          ]
        }
      ]
    },
    {
      "cell_type": "code",
      "source": [
        "train_set, test_set, class_weight, labels = dh.prep_pipeline2(df_o, image_path, 1500, h, w, aug_targets, aug_count, aug_size)"
      ],
      "metadata": {
        "id": "opl5XbIbmEh9"
      },
      "execution_count": 8,
      "outputs": []
    },
    {
      "cell_type": "code",
      "source": [
        "X_train = train_set[0]\n",
        "y_train = np.argmax(train_set[1], axis=1)\n",
        "\n",
        "X_test = test_set[0]\n",
        "y_test = np.argmax(test_set[1], axis=1)"
      ],
      "metadata": {
        "id": "0ussra5Sn-_q"
      },
      "execution_count": 9,
      "outputs": []
    },
    {
      "cell_type": "code",
      "source": [
        "print(X_train.shape, X_test.shape, y_train.shape, y_test.shape)"
      ],
      "metadata": {
        "colab": {
          "base_uri": "https://localhost:8080/"
        },
        "id": "GEmEdyHeoDcF",
        "outputId": "89a36e7b-2c4b-4d91-db85-f70e993d5772"
      },
      "execution_count": 10,
      "outputs": [
        {
          "output_type": "stream",
          "name": "stdout",
          "text": [
            "(3367, 24320) (1443, 24320) (3367,) (1443,)\n"
          ]
        }
      ]
    }
  ]
}