{
  "nbformat": 4,
  "nbformat_minor": 0,
  "metadata": {
    "colab": {
      "name": "Linear_and_Logistic.ipynb",
      "provenance": [],
      "collapsed_sections": []
    },
    "kernelspec": {
      "name": "python3",
      "display_name": "Python 3"
    },
    "language_info": {
      "name": "python"
    }
  },
  "cells": [
    {
      "cell_type": "code",
      "source": [
        "import numpy as np \n",
        "import pandas as pd\n",
        "import tensorflow as tf\n",
        "from tensorflow import keras\n",
        "from tensorflow.keras import backend as K\n",
        "from tensorflow.keras.layers import Dense, Activation,Dropout,Conv2D, MaxPooling2D,BatchNormalization, Flatten\n",
        "from tensorflow.keras.optimizers import Adam, Adamax\n",
        "from tensorflow.keras.metrics import categorical_crossentropy\n",
        "from tensorflow.keras import regularizers\n",
        "from tensorflow.keras.preprocessing.image import ImageDataGenerator\n",
        "from tensorflow.keras.models import Model, load_model, Sequential\n",
        "import matplotlib.pyplot as plt\n",
        "from matplotlib.pyplot import imshow"
      ],
      "metadata": {
        "id": "QalFRfHvQRvt"
      },
      "execution_count": 1,
      "outputs": []
    },
    {
      "cell_type": "code",
      "source": [
        "df28 = pd.read_csv('../content/hmnist_28_28_RGB.csv')\n",
        "print(df28['label'].value_counts())"
      ],
      "metadata": {
        "colab": {
          "base_uri": "https://localhost:8080/"
        },
        "id": "oXtWfpp0QT-N",
        "outputId": "83dab7dc-d532-440b-cce6-47172857b0d3"
      },
      "execution_count": null,
      "outputs": [
        {
          "output_type": "stream",
          "name": "stdout",
          "text": [
            "4    6705\n",
            "6    1113\n",
            "2    1099\n",
            "1     514\n",
            "0     327\n",
            "5     142\n",
            "3     115\n",
            "Name: label, dtype: int64\n"
          ]
        }
      ]
    },
    {
      "cell_type": "code",
      "source": [
        "image = np.load('../content/images32_32.npy')\n",
        "label = np.load('../content/labels32_32.npy')"
      ],
      "metadata": {
        "id": "eBaE3mRpZTOv"
      },
      "execution_count": 20,
      "outputs": []
    },
    {
      "cell_type": "code",
      "source": [
        "X = np.true_divide(np.reshape(image, [-1,32*32*3]), 255)\n",
        "y = np.argmax(label, axis=1)"
      ],
      "metadata": {
        "id": "7NNV0P43aXF0"
      },
      "execution_count": 24,
      "outputs": []
    },
    {
      "cell_type": "code",
      "source": [
        "from sklearn.model_selection import train_test_split\n",
        "\n",
        "train_size=0.7\n",
        "valid_size = 0.1\n",
        "test_size = 0.2\n",
        "valid_test_split = valid_size / test_size\n",
        "\n",
        "X_train, X_test_val, y_train, y_test_val = train_test_split(X, y, train_size=train_size, shuffle=True, random_state=42)\n",
        "X_test, X_val, y_test, y_val = train_test_split(X_test_val, y_test_val, train_size=valid_test_split, shuffle=True, random_state=42)\n",
        "\n",
        "print(' train_df length: ', X_train.shape, '  test_df length: ', X_test.shape, '  valid_df length: ', X_val.shape)\n",
        "print(' train_df length: ', y_train.shape, '  test_df length: ', y_test.shape, '  valid_df length: ', y_val.shape)"
      ],
      "metadata": {
        "colab": {
          "base_uri": "https://localhost:8080/"
        },
        "id": "aqFGRWxeQcDB",
        "outputId": "040487ea-2e8e-4066-8992-b422b541cdad"
      },
      "execution_count": 26,
      "outputs": [
        {
          "output_type": "stream",
          "name": "stdout",
          "text": [
            " train_df length:  (7010, 3072)   test_df length:  (1502, 3072)   valid_df length:  (1503, 3072)\n",
            " train_df length:  (7010,)   test_df length:  (1502,)   valid_df length:  (1503,)\n"
          ]
        }
      ]
    },
    {
      "cell_type": "code",
      "source": [
        "from sklearn import linear_model\n",
        "reg = linear_model.Lasso(alpha=0.1)\n",
        "reg.fit(X_train, y_train)\n",
        "reg.score(X_test, y_test)"
      ],
      "metadata": {
        "colab": {
          "base_uri": "https://localhost:8080/"
        },
        "id": "UJHGt5fIhU_g",
        "outputId": "60d0e2d4-ff06-465e-8039-8c34083e50d6"
      },
      "execution_count": 33,
      "outputs": [
        {
          "output_type": "execute_result",
          "data": {
            "text/plain": [
              "0.03296917266974808"
            ]
          },
          "metadata": {},
          "execution_count": 33
        }
      ]
    },
    {
      "cell_type": "code",
      "source": [
        "from sklearn.linear_model import LogisticRegression\n",
        "clf = LogisticRegression(multi_class='multinomial', verbose=1, random_state=0)\n",
        "clf.fit(X_train, y_train)\n",
        "clf.score(X_test, y_test)"
      ],
      "metadata": {
        "colab": {
          "base_uri": "https://localhost:8080/"
        },
        "id": "Sk4Mi6d5c69R",
        "outputId": "b510e712-489a-4491-c4a5-8aff9b4e5816"
      },
      "execution_count": 29,
      "outputs": [
        {
          "output_type": "stream",
          "name": "stderr",
          "text": [
            "[Parallel(n_jobs=1)]: Using backend SequentialBackend with 1 concurrent workers.\n",
            "/usr/local/lib/python3.7/dist-packages/sklearn/linear_model/_logistic.py:818: ConvergenceWarning: lbfgs failed to converge (status=1):\n",
            "STOP: TOTAL NO. of ITERATIONS REACHED LIMIT.\n",
            "\n",
            "Increase the number of iterations (max_iter) or scale the data as shown in:\n",
            "    https://scikit-learn.org/stable/modules/preprocessing.html\n",
            "Please also refer to the documentation for alternative solver options:\n",
            "    https://scikit-learn.org/stable/modules/linear_model.html#logistic-regression\n",
            "  extra_warning_msg=_LOGISTIC_SOLVER_CONVERGENCE_MSG,\n",
            "[Parallel(n_jobs=1)]: Done   1 out of   1 | elapsed:   22.8s finished\n"
          ]
        },
        {
          "output_type": "execute_result",
          "data": {
            "text/plain": [
              "0.6804260985352862"
            ]
          },
          "metadata": {},
          "execution_count": 29
        }
      ]
    }
  ]
}