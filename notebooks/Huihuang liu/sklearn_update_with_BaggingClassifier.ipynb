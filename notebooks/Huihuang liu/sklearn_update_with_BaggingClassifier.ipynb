{
  "cells": [
    {
      "cell_type": "code",
      "execution_count": 1,
      "metadata": {
        "colab": {
          "base_uri": "https://localhost:8080/"
        },
        "id": "h72jfPX8lz6g",
        "outputId": "c750cd64-1b7f-4db7-9828-4fc778195176"
      },
      "outputs": [
        {
          "output_type": "stream",
          "name": "stdout",
          "text": [
            "/content\n"
          ]
        }
      ],
      "source": [
        "!pwd"
      ]
    },
    {
      "cell_type": "code",
      "execution_count": 2,
      "metadata": {
        "id": "pOF4w9TSmIFJ"
      },
      "outputs": [],
      "source": [
        "import numpy as np \n",
        "import pandas as pd\n",
        "import tensorflow as tf\n",
        "from tensorflow import keras\n",
        "from tensorflow.keras import backend as K\n",
        "from tensorflow.keras.layers import Dense, Activation,Dropout,Conv2D, MaxPooling2D,BatchNormalization, Flatten\n",
        "from tensorflow.keras.optimizers import Adam, Adamax\n",
        "from tensorflow.keras.metrics import categorical_crossentropy\n",
        "from tensorflow.keras import regularizers\n",
        "from tensorflow.keras.preprocessing.image import ImageDataGenerator\n",
        "from tensorflow.keras.models import Model, load_model, Sequential\n",
        "import matplotlib.pyplot as plt\n",
        "from sklearn.model_selection import train_test_split\n",
        "from matplotlib.pyplot import imshow\n",
        "import pandas as pd"
      ]
    },
    {
      "cell_type": "code",
      "execution_count": 3,
      "metadata": {
        "id": "kHeKya3zl5iw"
      },
      "outputs": [],
      "source": [
        "import os\n",
        "os.environ['KAGGLE_CONFIG_DIR'] = \"/content\""
      ]
    },
    {
      "cell_type": "code",
      "execution_count": 4,
      "metadata": {
        "colab": {
          "base_uri": "https://localhost:8080/"
        },
        "id": "5GhbwVk6l9Z7",
        "outputId": "ebc3858a-cd25-4165-b7a9-e07e1b53417f"
      },
      "outputs": [
        {
          "output_type": "stream",
          "name": "stdout",
          "text": [
            "Mounted at /content/gdrive\n"
          ]
        }
      ],
      "source": [
        "from google.colab import drive\n",
        "drive.mount(\"/content/gdrive\", force_remount=True)"
      ]
    },
    {
      "cell_type": "code",
      "execution_count": 5,
      "metadata": {
        "colab": {
          "base_uri": "https://localhost:8080/"
        },
        "id": "VYx22_7wmByz",
        "outputId": "9a4d83c9-1905-4c35-99a2-309273904b10"
      },
      "outputs": [
        {
          "output_type": "stream",
          "name": "stdout",
          "text": [
            "/content/gdrive/MyDrive/Folder\n"
          ]
        }
      ],
      "source": [
        "%cd /content/gdrive/MyDrive/Folder/"
      ]
    },
    {
      "cell_type": "code",
      "execution_count": 6,
      "metadata": {
        "colab": {
          "base_uri": "https://localhost:8080/"
        },
        "id": "f69_MX0u2_Wd",
        "outputId": "95c5db66-73b1-461e-9df7-7af349dadc43"
      },
      "outputs": [
        {
          "output_type": "stream",
          "name": "stdout",
          "text": [
            "Collecting git+https://github.com/tensorflow/docs\n",
            "  Cloning https://github.com/tensorflow/docs to /tmp/pip-req-build-lnjwm2a0\n",
            "  Running command git clone -q https://github.com/tensorflow/docs /tmp/pip-req-build-lnjwm2a0\n",
            "Requirement already satisfied: astor in /usr/local/lib/python3.7/dist-packages (from tensorflow-docs==0.0.0.dev0) (0.8.1)\n",
            "Requirement already satisfied: absl-py in /usr/local/lib/python3.7/dist-packages (from tensorflow-docs==0.0.0.dev0) (1.0.0)\n",
            "Requirement already satisfied: jinja2 in /usr/local/lib/python3.7/dist-packages (from tensorflow-docs==0.0.0.dev0) (2.11.3)\n",
            "Requirement already satisfied: protobuf>=3.14 in /usr/local/lib/python3.7/dist-packages (from tensorflow-docs==0.0.0.dev0) (3.17.3)\n",
            "Requirement already satisfied: pyyaml in /usr/local/lib/python3.7/dist-packages (from tensorflow-docs==0.0.0.dev0) (3.13)\n",
            "Requirement already satisfied: six>=1.9 in /usr/local/lib/python3.7/dist-packages (from protobuf>=3.14->tensorflow-docs==0.0.0.dev0) (1.15.0)\n",
            "Requirement already satisfied: MarkupSafe>=0.23 in /usr/local/lib/python3.7/dist-packages (from jinja2->tensorflow-docs==0.0.0.dev0) (2.0.1)\n",
            "Building wheels for collected packages: tensorflow-docs\n",
            "  Building wheel for tensorflow-docs (setup.py) ... \u001b[?25l\u001b[?25hdone\n",
            "  Created wheel for tensorflow-docs: filename=tensorflow_docs-0.0.0.dev0-py3-none-any.whl size=179891 sha256=cde6c78104960778ff938d07d3ec7e1cc314a18e0ef8ed880e12cd96c5296485\n",
            "  Stored in directory: /tmp/pip-ephem-wheel-cache-gl5elqu9/wheels/cc/c4/d8/5341e93b6376c5c929c49469fce21155eb69cef1a4da4ce32c\n",
            "Successfully built tensorflow-docs\n",
            "Installing collected packages: tensorflow-docs\n",
            "Successfully installed tensorflow-docs-0.0.0.dev0\n"
          ]
        }
      ],
      "source": [
        "!pip install git+https://github.com/tensorflow/docs"
      ]
    },
    {
      "cell_type": "code",
      "execution_count": 7,
      "metadata": {
        "id": "2ssU7BKY3Cp9"
      },
      "outputs": [],
      "source": [
        "from PIL import Image\n",
        "def undersample(df, count, rs=42):\n",
        "  result=[]\n",
        "  df_group = df.groupby('dx')\n",
        "  for x in df['dx'].unique():\n",
        "    group = df_group.get_group(x)\n",
        "    num = int(group['dx'].value_counts())\n",
        "    if num >= count:\n",
        "      s=group.sample(count, axis=0, random_state=rs)\n",
        "    else:\n",
        "      s=group.sample(frac=1, axis=0, random_state=rs)\n",
        "    result.append(s)\n",
        "  return pd.concat(result, axis=0).reset_index(drop=True)\n",
        "\n",
        "def oversample(df, count, rs=42):\n",
        "  lst = [df]\n",
        "  for class_index, group in df.groupby('dx'):\n",
        "      lst.append(group.sample(count-len(group), replace=True, random_state=rs))\n",
        "  df_new = pd.concat(lst)\n",
        "  return df_new\n",
        "\n",
        "def img_np_convert(df, image_path, h, w):\n",
        "  df['image_id'] = image_path + df['image_id'] +'.jpg'\n",
        "  df['image'] = df['image_id'].map(lambda x: np.asarray(Image.open(x).resize((h, w))).astype(np.float32))\n",
        "  return df\n",
        "\n",
        "def img_np_convert_scaled(df, image_path, h, w):\n",
        "  df['image_id'] = image_path + df['image_id'] +'.jpg'\n",
        "  df['image'] = df['image_id'].map(lambda x: (np.asarray(Image.open(x).resize((h, w)))/255).astype(np.float32))\n",
        "  return df\n",
        "\n",
        "def my_split(df, train_size, test_size, val_size, rs=42):\n",
        "  valid_test_split = val_size / test_size\n",
        "\n",
        "  df_train, df_test_val = train_test_split(df, test_size=1-train_size, shuffle=True, random_state=rs)\n",
        "  df_val, df_test = train_test_split(df_test_val, test_size=valid_test_split, shuffle=True, random_state=rs)\n",
        "\n",
        "  df_train.reset_index(inplace=True)\n",
        "  return df_train, df_test, df_val\n",
        "\n",
        "def weight_cal(df):\n",
        "  class_weight={}\n",
        "  labels = list(df['dx'].unique())\n",
        "  labels.sort()\n",
        "  count = df['dx'].value_counts()\n",
        "  for idx in range(7):\n",
        "    class_weight[idx] = count['nv']/count[labels[idx]]\n",
        "  return class_weight, labels\n",
        "\n",
        "def df_to_np1(df):\n",
        "  image = np.asarray(df['image'].to_list()) \n",
        "  target_df = df['dx']\n",
        "  target = pd.get_dummies(data=target_df, columns=['dx']).to_numpy()\n",
        "  return image, target\n",
        "\n",
        "def df_to_np2(df):\n",
        "  df['image'] = df['image'].map(lambda x : x.flatten())\n",
        "  i_feature = np.asarray(df['image'].tolist())\n",
        "  df_feature = df.iloc[:, 3:-1]\n",
        "  c_feature = df_feature.loc[:, ~df_feature.columns.isin(['sex', 'dx'])].to_numpy()\n",
        "  features = np.concatenate((i_feature, c_feature), axis=1)\n",
        "  \n",
        "  target_df = df['dx']\n",
        "  target = pd.get_dummies(data=target_df, columns=['dx']).to_numpy()\n",
        "  return features, target\n",
        "\n",
        "def image_augment(df, target, count, size, rs=42):\n",
        "  df_group = df.groupby('dx')\n",
        "  group = df_group.get_group(target)\n",
        "  s=group.sample(count, axis=0, random_state=rs)\n",
        "\n",
        "  datagen = ImageDataGenerator(\n",
        "    rotation_range = 20,\n",
        "    width_shift_range = 0.1,\n",
        "    height_shift_range = 0.1,\n",
        "    horizontal_flip = True,\n",
        "    fill_mode='nearest')\n",
        "  \n",
        "  for index, row in s.iterrows():\n",
        "    image = row['image'].reshape((1, ) + row['image'].shape)\n",
        "    gen = datagen.flow(image, batch_size=size)\n",
        "    input = row.to_list()\n",
        "    for i in range(size):\n",
        "      img = next(gen)\n",
        "      input[-1] = img[0]\n",
        "      df.loc[len(df.index)] = input\n",
        "  return None"
      ]
    },
    {
      "cell_type": "code",
      "execution_count": 8,
      "metadata": {
        "id": "ZC_IMGFZ3H0Z"
      },
      "outputs": [],
      "source": [
        "def prep_pipeline2(upper_size, h, w, aug_targets, aug_count, aug_size, rs=42):\n",
        "  df_o = pd.read_csv('/content/gdrive/MyDrive/Folder/data/HAM10000_metadata.csv')\n",
        "  df_o = pd.get_dummies(data=df_o, columns=['dx_type', 'localization'])\n",
        "  image_path = '/content/gdrive/MyDrive/Folder/images/'\n",
        "  df_u = undersample(df_o, upper_size)\n",
        "  df_u['age'].fillna(value=int(df_u['age'].mean()), inplace=True)\n",
        "  df_u['age'] = df_u['age'].astype(np.float32)\n",
        "\n",
        "  df = img_np_convert_scaled(df_u, image_path, h, w)\n",
        "\n",
        "  df_train, df_test, df_val = my_split(df, 0.7, 0.2, 0.1, rs)\n",
        "\n",
        "  for target in aug_targets:\n",
        "    image_augment(df_train, target, aug_count, aug_size, rs)\n",
        "\n",
        "  weight, labels = weight_cal(df_train)\n",
        "\n",
        "  X_train, y_train = df_to_np2(df_train)\n",
        "  X_test, y_test = df_to_np2(df_test)\n",
        "  X_val, y_val = df_to_np2(df_val)\n",
        "  return (X_train, y_train), (X_test, y_test), (X_val, y_val), weight, labels"
      ]
    },
    {
      "cell_type": "code",
      "execution_count": 9,
      "metadata": {
        "id": "bizb1_an3XHz"
      },
      "outputs": [],
      "source": [
        "h = 90\n",
        "w = 90\n",
        "aug_targets = ['mel', 'bcc']\n",
        "aug_count = 50\n",
        "aug_size = 4\n",
        "majority = 6000\n",
        "\n",
        "train_set, test_set, val_set, class_weight, labels = prep_pipeline2(majority, h, w, aug_targets, aug_count, aug_size)"
      ]
    },
    {
      "cell_type": "code",
      "execution_count": 10,
      "metadata": {
        "id": "T1Hv9aVR3zo3"
      },
      "outputs": [],
      "source": [
        "X_train = train_set[0]\n",
        "y_train = np.argmax(train_set[1], axis=1)\n",
        "\n",
        "X_val = val_set[0]\n",
        "y_val = np.argmax(val_set[1], axis=1)\n",
        "\n",
        "X_test = test_set[0]\n",
        "y_test = np.argmax(test_set[1], axis=1)"
      ]
    },
    {
      "cell_type": "code",
      "execution_count": 11,
      "metadata": {
        "colab": {
          "base_uri": "https://localhost:8080/"
        },
        "id": "iiQwsPlQ4OkA",
        "outputId": "90059bfe-fb70-4511-f3bb-f938b9ae8ef7"
      },
      "outputs": [
        {
          "output_type": "stream",
          "name": "stdout",
          "text": [
            "(6916, 24320) (1397, 24320) (1397, 24320)\n"
          ]
        }
      ],
      "source": [
        "print(X_train.shape, X_test.shape, X_val.shape)"
      ]
    },
    {
      "cell_type": "code",
      "execution_count": 16,
      "metadata": {
        "id": "FM3hnZWTNnss"
      },
      "outputs": [],
      "source": [
        "from sklearn import linear_model\n",
        "from sklearn.metrics import confusion_matrix, classification_report\n",
        "import seaborn as sns\n",
        "from sklearn.metrics import accuracy_score\n",
        "from sklearn.ensemble import BaggingClassifier"
      ]
    },
    {
      "cell_type": "code",
      "execution_count": 21,
      "metadata": {
        "id": "W4GDrXFeQYNq",
        "colab": {
          "base_uri": "https://localhost:8080/"
        },
        "outputId": "ed89c037-a96f-4dba-ebc0-48f248f2be1c"
      },
      "outputs": [
        {
          "output_type": "stream",
          "name": "stderr",
          "text": [
            "/usr/local/lib/python3.7/dist-packages/sklearn/linear_model/_logistic.py:818: ConvergenceWarning: lbfgs failed to converge (status=1):\n",
            "STOP: TOTAL NO. of ITERATIONS REACHED LIMIT.\n",
            "\n",
            "Increase the number of iterations (max_iter) or scale the data as shown in:\n",
            "    https://scikit-learn.org/stable/modules/preprocessing.html\n",
            "Please also refer to the documentation for alternative solver options:\n",
            "    https://scikit-learn.org/stable/modules/linear_model.html#logistic-regression\n",
            "  extra_warning_msg=_LOGISTIC_SOLVER_CONVERGENCE_MSG,\n"
          ]
        },
        {
          "output_type": "stream",
          "name": "stdout",
          "text": [
            "Logistic train/test accuracies 0.613/0.578\n"
          ]
        }
      ],
      "source": [
        "from sklearn.linear_model import LogisticRegression\n",
        "lr = LogisticRegression(class_weight=class_weight)\n",
        "\n",
        "lr.fit(X_train, y_train)\n",
        "y_train_pred = lr.predict(X_train)\n",
        "y_test_pred = lr.predict(X_test)\n",
        "lr_train = accuracy_score(y_train, y_train_pred)\n",
        "lr_test = accuracy_score(y_test, y_test_pred)\n",
        "print('Logistic train/test accuracies %.3f/%.3f' % (lr_train, lr_test))\n"
      ]
    },
    {
      "cell_type": "code",
      "source": [
        "cm = confusion_matrix(y_test, y_test_pred)\n",
        "sns.heatmap(cm, annot=True, vmin=0, fmt='g', cbar=False)"
      ],
      "metadata": {
        "colab": {
          "base_uri": "https://localhost:8080/",
          "height": 283
        },
        "id": "1_1J6s8vzs5u",
        "outputId": "db0dbff6-651b-4cba-c63a-c91d4f283505"
      },
      "execution_count": 23,
      "outputs": [
        {
          "output_type": "execute_result",
          "data": {
            "text/plain": [
              "<matplotlib.axes._subplots.AxesSubplot at 0x7f4300dd54d0>"
            ]
          },
          "metadata": {},
          "execution_count": 23
        },
        {
          "output_type": "display_data",
          "data": {
            "text/plain": [
              "<Figure size 432x288 with 1 Axes>"
            ],
            "image/png": "[encoded data removed]"
          },
          "metadata": {
            "needs_background": "light"
          }
        }
      ]
    },
    {
      "cell_type": "code",
      "source": [
        "clr = classification_report(y_test, y_test_pred, target_names=labels)\n",
        "print(clr)"
      ],
      "metadata": {
        "colab": {
          "base_uri": "https://localhost:8080/"
        },
        "id": "sZusDlin326f",
        "outputId": "9fe63fe4-5691-418c-dd4d-fc45fa08076c"
      },
      "execution_count": 24,
      "outputs": [
        {
          "output_type": "stream",
          "name": "stdout",
          "text": [
            "              precision    recall  f1-score   support\n",
            "\n",
            "       akiec       0.18      0.43      0.25        44\n",
            "         bcc       0.21      0.49      0.30        55\n",
            "         bkl       0.46      0.31      0.37       176\n",
            "          df       0.14      0.45      0.21        20\n",
            "         mel       0.38      0.51      0.43       187\n",
            "          nv       0.93      0.66      0.77       898\n",
            "        vasc       0.14      0.76      0.24        17\n",
            "\n",
            "    accuracy                           0.58      1397\n",
            "   macro avg       0.35      0.52      0.37      1397\n",
            "weighted avg       0.73      0.58      0.63      1397\n",
            "\n"
          ]
        }
      ]
    },
    {
      "cell_type": "code",
      "source": [
        "bag = BaggingClassifier(base_estimator=lr,n_estimators=10,bootstrap=True,random_state=1)"
      ],
      "metadata": {
        "id": "y6Fe0jbD1QBE"
      },
      "execution_count": 28,
      "outputs": []
    },
    {
      "cell_type": "code",
      "source": [
        "bag = bag.fit(X_train, y_train)\n",
        "y_train_pred = bag.predict(X_train)\n",
        "y_test_pred = bag.predict(X_test)\n",
        "bag_train = accuracy_score(y_train, y_train_pred)\n",
        "bag_test = accuracy_score(y_test, y_test_pred)\n",
        "print('Bagging train/test accuracies %.3f/%.3f'% (bag_train, bag_test))"
      ],
      "metadata": {
        "colab": {
          "base_uri": "https://localhost:8080/"
        },
        "id": "Stv07NtlwuwF",
        "outputId": "153b0ec7-9a41-4867-e877-0667089c1f71"
      },
      "execution_count": 29,
      "outputs": [
        {
          "output_type": "stream",
          "name": "stderr",
          "text": [
            "/usr/local/lib/python3.7/dist-packages/sklearn/linear_model/_logistic.py:818: ConvergenceWarning: lbfgs failed to converge (status=1):\n",
            "STOP: TOTAL NO. of ITERATIONS REACHED LIMIT.\n",
            "\n",
            "Increase the number of iterations (max_iter) or scale the data as shown in:\n",
            "    https://scikit-learn.org/stable/modules/preprocessing.html\n",
            "Please also refer to the documentation for alternative solver options:\n",
            "    https://scikit-learn.org/stable/modules/linear_model.html#logistic-regression\n",
            "  extra_warning_msg=_LOGISTIC_SOLVER_CONVERGENCE_MSG,\n",
            "/usr/local/lib/python3.7/dist-packages/sklearn/linear_model/_logistic.py:818: ConvergenceWarning: lbfgs failed to converge (status=1):\n",
            "STOP: TOTAL NO. of ITERATIONS REACHED LIMIT.\n",
            "\n",
            "Increase the number of iterations (max_iter) or scale the data as shown in:\n",
            "    https://scikit-learn.org/stable/modules/preprocessing.html\n",
            "Please also refer to the documentation for alternative solver options:\n",
            "    https://scikit-learn.org/stable/modules/linear_model.html#logistic-regression\n",
            "  extra_warning_msg=_LOGISTIC_SOLVER_CONVERGENCE_MSG,\n",
            "/usr/local/lib/python3.7/dist-packages/sklearn/linear_model/_logistic.py:818: ConvergenceWarning: lbfgs failed to converge (status=1):\n",
            "STOP: TOTAL NO. of ITERATIONS REACHED LIMIT.\n",
            "\n",
            "Increase the number of iterations (max_iter) or scale the data as shown in:\n",
            "    https://scikit-learn.org/stable/modules/preprocessing.html\n",
            "Please also refer to the documentation for alternative solver options:\n",
            "    https://scikit-learn.org/stable/modules/linear_model.html#logistic-regression\n",
            "  extra_warning_msg=_LOGISTIC_SOLVER_CONVERGENCE_MSG,\n",
            "/usr/local/lib/python3.7/dist-packages/sklearn/linear_model/_logistic.py:818: ConvergenceWarning: lbfgs failed to converge (status=1):\n",
            "STOP: TOTAL NO. of ITERATIONS REACHED LIMIT.\n",
            "\n",
            "Increase the number of iterations (max_iter) or scale the data as shown in:\n",
            "    https://scikit-learn.org/stable/modules/preprocessing.html\n",
            "Please also refer to the documentation for alternative solver options:\n",
            "    https://scikit-learn.org/stable/modules/linear_model.html#logistic-regression\n",
            "  extra_warning_msg=_LOGISTIC_SOLVER_CONVERGENCE_MSG,\n",
            "/usr/local/lib/python3.7/dist-packages/sklearn/linear_model/_logistic.py:818: ConvergenceWarning: lbfgs failed to converge (status=1):\n",
            "STOP: TOTAL NO. of ITERATIONS REACHED LIMIT.\n",
            "\n",
            "Increase the number of iterations (max_iter) or scale the data as shown in:\n",
            "    https://scikit-learn.org/stable/modules/preprocessing.html\n",
            "Please also refer to the documentation for alternative solver options:\n",
            "    https://scikit-learn.org/stable/modules/linear_model.html#logistic-regression\n",
            "  extra_warning_msg=_LOGISTIC_SOLVER_CONVERGENCE_MSG,\n",
            "/usr/local/lib/python3.7/dist-packages/sklearn/linear_model/_logistic.py:818: ConvergenceWarning: lbfgs failed to converge (status=1):\n",
            "STOP: TOTAL NO. of ITERATIONS REACHED LIMIT.\n",
            "\n",
            "Increase the number of iterations (max_iter) or scale the data as shown in:\n",
            "    https://scikit-learn.org/stable/modules/preprocessing.html\n",
            "Please also refer to the documentation for alternative solver options:\n",
            "    https://scikit-learn.org/stable/modules/linear_model.html#logistic-regression\n",
            "  extra_warning_msg=_LOGISTIC_SOLVER_CONVERGENCE_MSG,\n",
            "/usr/local/lib/python3.7/dist-packages/sklearn/linear_model/_logistic.py:818: ConvergenceWarning: lbfgs failed to converge (status=1):\n",
            "STOP: TOTAL NO. of ITERATIONS REACHED LIMIT.\n",
            "\n",
            "Increase the number of iterations (max_iter) or scale the data as shown in:\n",
            "    https://scikit-learn.org/stable/modules/preprocessing.html\n",
            "Please also refer to the documentation for alternative solver options:\n",
            "    https://scikit-learn.org/stable/modules/linear_model.html#logistic-regression\n",
            "  extra_warning_msg=_LOGISTIC_SOLVER_CONVERGENCE_MSG,\n",
            "/usr/local/lib/python3.7/dist-packages/sklearn/linear_model/_logistic.py:818: ConvergenceWarning: lbfgs failed to converge (status=1):\n",
            "STOP: TOTAL NO. of ITERATIONS REACHED LIMIT.\n",
            "\n",
            "Increase the number of iterations (max_iter) or scale the data as shown in:\n",
            "    https://scikit-learn.org/stable/modules/preprocessing.html\n",
            "Please also refer to the documentation for alternative solver options:\n",
            "    https://scikit-learn.org/stable/modules/linear_model.html#logistic-regression\n",
            "  extra_warning_msg=_LOGISTIC_SOLVER_CONVERGENCE_MSG,\n",
            "/usr/local/lib/python3.7/dist-packages/sklearn/linear_model/_logistic.py:818: ConvergenceWarning: lbfgs failed to converge (status=1):\n",
            "STOP: TOTAL NO. of ITERATIONS REACHED LIMIT.\n",
            "\n",
            "Increase the number of iterations (max_iter) or scale the data as shown in:\n",
            "    https://scikit-learn.org/stable/modules/preprocessing.html\n",
            "Please also refer to the documentation for alternative solver options:\n",
            "    https://scikit-learn.org/stable/modules/linear_model.html#logistic-regression\n",
            "  extra_warning_msg=_LOGISTIC_SOLVER_CONVERGENCE_MSG,\n",
            "/usr/local/lib/python3.7/dist-packages/sklearn/linear_model/_logistic.py:818: ConvergenceWarning: lbfgs failed to converge (status=1):\n",
            "STOP: TOTAL NO. of ITERATIONS REACHED LIMIT.\n",
            "\n",
            "Increase the number of iterations (max_iter) or scale the data as shown in:\n",
            "    https://scikit-learn.org/stable/modules/preprocessing.html\n",
            "Please also refer to the documentation for alternative solver options:\n",
            "    https://scikit-learn.org/stable/modules/linear_model.html#logistic-regression\n",
            "  extra_warning_msg=_LOGISTIC_SOLVER_CONVERGENCE_MSG,\n"
          ]
        },
        {
          "output_type": "stream",
          "name": "stdout",
          "text": [
            "Bagging train/test accuracies 0.625/0.591\n"
          ]
        }
      ]
    },
    {
      "cell_type": "code",
      "source": [
        "cm = confusion_matrix(y_test, y_test_pred)\n",
        "sns.heatmap(cm, annot=True, vmin=0, fmt='g', cbar=False)"
      ],
      "metadata": {
        "colab": {
          "base_uri": "https://localhost:8080/",
          "height": 283
        },
        "id": "Rfcb3GAezI_w",
        "outputId": "add0082b-9e0f-4179-992f-c40db65f159f"
      },
      "execution_count": 31,
      "outputs": [
        {
          "output_type": "execute_result",
          "data": {
            "text/plain": [
              "<matplotlib.axes._subplots.AxesSubplot at 0x7f430080e990>"
            ]
          },
          "metadata": {},
          "execution_count": 31
        },
        {
          "output_type": "display_data",
          "data": {
            "text/plain": [
              "<Figure size 432x288 with 1 Axes>"
            ],
            "image/png": "[encoded data removed]"
          },
          "metadata": {
            "needs_background": "light"
          }
        }
      ]
    },
    {
      "cell_type": "code",
      "source": [
        ""
      ],
      "metadata": {
        "id": "KOJ_6BSWzJbQ"
      },
      "execution_count": null,
      "outputs": []
    },
    {
      "cell_type": "code",
      "execution_count": 12,
      "metadata": {
        "id": "yYQ_xVrlQYQV"
      },
      "outputs": [],
      "source": [
        ""
      ]
    },
    {
      "cell_type": "code",
      "execution_count": 32,
      "metadata": {
        "colab": {
          "base_uri": "https://localhost:8080/"
        },
        "id": "GPNoGQyqQpWl",
        "outputId": "be9c5935-d463-4c98-d8c5-967ad953e385"
      },
      "outputs": [
        {
          "output_type": "stream",
          "name": "stdout",
          "text": [
            "Decision tree train/test accuracies 0.725/0.696\n"
          ]
        }
      ],
      "source": [
        "from sklearn.tree import DecisionTreeClassifier\n",
        "dtree_model = DecisionTreeClassifier(max_depth = 6).fit(X_train, y_train)\n",
        "dtree_model.fit(X_train, y_train)\n",
        "y_train_pred = dtree_model.predict(X_train)\n",
        "y_test_pred = dtree_model.predict(X_test)\n",
        "dtree_model_train = accuracy_score(y_train, y_train_pred)\n",
        "dtree_model_test = accuracy_score(y_test, y_test_pred)\n",
        "print('Decision tree train/test accuracies %.3f/%.3f' % (dtree_model_train, dtree_model_test))\n"
      ]
    },
    {
      "cell_type": "code",
      "source": [
        "cm = confusion_matrix(y_test, y_test_pred)\n",
        "sns.heatmap(cm, annot=True, vmin=0, fmt='g', cbar=False)"
      ],
      "metadata": {
        "colab": {
          "base_uri": "https://localhost:8080/",
          "height": 283
        },
        "id": "xf17t2CkKjvQ",
        "outputId": "a581f792-cfd9-4670-ccd5-b0434f447255"
      },
      "execution_count": 33,
      "outputs": [
        {
          "output_type": "execute_result",
          "data": {
            "text/plain": [
              "<matplotlib.axes._subplots.AxesSubplot at 0x7f42fee80310>"
            ]
          },
          "metadata": {},
          "execution_count": 33
        },
        {
          "output_type": "display_data",
          "data": {
            "text/plain": [
              "<Figure size 432x288 with 1 Axes>"
            ],
            "image/png": "[encoded data removed]"
          },
          "metadata": {
            "needs_background": "light"
          }
        }
      ]
    },
    {
      "cell_type": "code",
      "source": [
        "clr = classification_report(y_test, y_test_pred, target_names=labels)\n",
        "print(clr)"
      ],
      "metadata": {
        "colab": {
          "base_uri": "https://localhost:8080/"
        },
        "id": "4PfFXUMwKjxp",
        "outputId": "ec109cd4-9e2d-427a-9169-6f38c1a93d96"
      },
      "execution_count": 34,
      "outputs": [
        {
          "output_type": "stream",
          "name": "stdout",
          "text": [
            "              precision    recall  f1-score   support\n",
            "\n",
            "       akiec       0.00      0.00      0.00        44\n",
            "         bcc       0.24      0.65      0.35        55\n",
            "         bkl       0.48      0.34      0.40       176\n",
            "          df       0.00      0.00      0.00        20\n",
            "         mel       0.49      0.26      0.34       187\n",
            "          nv       0.81      0.92      0.86       898\n",
            "        vasc       0.50      0.06      0.11        17\n",
            "\n",
            "    accuracy                           0.70      1397\n",
            "   macro avg       0.36      0.32      0.29      1397\n",
            "weighted avg       0.66      0.70      0.67      1397\n",
            "\n"
          ]
        },
        {
          "output_type": "stream",
          "name": "stderr",
          "text": [
            "/usr/local/lib/python3.7/dist-packages/sklearn/metrics/_classification.py:1318: UndefinedMetricWarning: Precision and F-score are ill-defined and being set to 0.0 in labels with no predicted samples. Use `zero_division` parameter to control this behavior.\n",
            "  _warn_prf(average, modifier, msg_start, len(result))\n",
            "/usr/local/lib/python3.7/dist-packages/sklearn/metrics/_classification.py:1318: UndefinedMetricWarning: Precision and F-score are ill-defined and being set to 0.0 in labels with no predicted samples. Use `zero_division` parameter to control this behavior.\n",
            "  _warn_prf(average, modifier, msg_start, len(result))\n",
            "/usr/local/lib/python3.7/dist-packages/sklearn/metrics/_classification.py:1318: UndefinedMetricWarning: Precision and F-score are ill-defined and being set to 0.0 in labels with no predicted samples. Use `zero_division` parameter to control this behavior.\n",
            "  _warn_prf(average, modifier, msg_start, len(result))\n"
          ]
        }
      ]
    },
    {
      "cell_type": "code",
      "source": [
        "bag = BaggingClassifier(base_estimator=dtree_model,n_estimators=10,bootstrap=True,random_state=1)"
      ],
      "metadata": {
        "id": "aGH2XWI2Kj0J"
      },
      "execution_count": 35,
      "outputs": []
    },
    {
      "cell_type": "code",
      "source": [
        "bag = bag.fit(X_train, y_train)\n",
        "y_train_pred = bag.predict(X_train)\n",
        "y_test_pred = bag.predict(X_test)\n",
        "bag_train = accuracy_score(y_train, y_train_pred)\n",
        "bag_test = accuracy_score(y_test, y_test_pred)\n",
        "print('Bagging train/test accuracies %.3f/%.3f'% (bag_train, bag_test))"
      ],
      "metadata": {
        "colab": {
          "base_uri": "https://localhost:8080/"
        },
        "id": "MuJnjN9yKj4G",
        "outputId": "f824377d-1633-4d3f-8e2c-8a64bc2698ff"
      },
      "execution_count": 36,
      "outputs": [
        {
          "output_type": "stream",
          "name": "stdout",
          "text": [
            "Bagging train/test accuracies 0.757/0.720\n"
          ]
        }
      ]
    },
    {
      "cell_type": "code",
      "source": [
        "cm = confusion_matrix(y_test, y_test_pred)\n",
        "sns.heatmap(cm, annot=True, vmin=0, fmt='g', cbar=False)"
      ],
      "metadata": {
        "colab": {
          "base_uri": "https://localhost:8080/",
          "height": 283
        },
        "id": "IVzM1nitK6-P",
        "outputId": "e2c2748a-b886-49c2-83a0-fee0debc3781"
      },
      "execution_count": 37,
      "outputs": [
        {
          "output_type": "execute_result",
          "data": {
            "text/plain": [
              "<matplotlib.axes._subplots.AxesSubplot at 0x7f42fecf8210>"
            ]
          },
          "metadata": {},
          "execution_count": 37
        },
        {
          "output_type": "display_data",
          "data": {
            "text/plain": [
              "<Figure size 432x288 with 1 Axes>"
            ],
            "image/png": "[encoded data removed]"
          },
          "metadata": {
            "needs_background": "light"
          }
        }
      ]
    },
    {
      "cell_type": "code",
      "source": [
        "clr = classification_report(y_test, y_test_pred, target_names=labels)\n",
        "print(clr)"
      ],
      "metadata": {
        "colab": {
          "base_uri": "https://localhost:8080/"
        },
        "id": "a0AZvmhWK7AV",
        "outputId": "96d230a0-75d7-4252-f9ac-dac1519fa3c6"
      },
      "execution_count": 38,
      "outputs": [
        {
          "output_type": "stream",
          "name": "stdout",
          "text": [
            "              precision    recall  f1-score   support\n",
            "\n",
            "       akiec       0.00      0.00      0.00        44\n",
            "         bcc       0.26      0.58      0.36        55\n",
            "         bkl       0.57      0.28      0.38       176\n",
            "          df       0.00      0.00      0.00        20\n",
            "         mel       0.51      0.56      0.53       187\n",
            "          nv       0.83      0.91      0.87       898\n",
            "        vasc       0.00      0.00      0.00        17\n",
            "\n",
            "    accuracy                           0.72      1397\n",
            "   macro avg       0.31      0.33      0.31      1397\n",
            "weighted avg       0.69      0.72      0.69      1397\n",
            "\n"
          ]
        },
        {
          "output_type": "stream",
          "name": "stderr",
          "text": [
            "/usr/local/lib/python3.7/dist-packages/sklearn/metrics/_classification.py:1318: UndefinedMetricWarning: Precision and F-score are ill-defined and being set to 0.0 in labels with no predicted samples. Use `zero_division` parameter to control this behavior.\n",
            "  _warn_prf(average, modifier, msg_start, len(result))\n",
            "/usr/local/lib/python3.7/dist-packages/sklearn/metrics/_classification.py:1318: UndefinedMetricWarning: Precision and F-score are ill-defined and being set to 0.0 in labels with no predicted samples. Use `zero_division` parameter to control this behavior.\n",
            "  _warn_prf(average, modifier, msg_start, len(result))\n",
            "/usr/local/lib/python3.7/dist-packages/sklearn/metrics/_classification.py:1318: UndefinedMetricWarning: Precision and F-score are ill-defined and being set to 0.0 in labels with no predicted samples. Use `zero_division` parameter to control this behavior.\n",
            "  _warn_prf(average, modifier, msg_start, len(result))\n"
          ]
        }
      ]
    },
    {
      "cell_type": "code",
      "source": [
        ""
      ],
      "metadata": {
        "id": "6hJk9xfXK7C-"
      },
      "execution_count": null,
      "outputs": []
    },
    {
      "cell_type": "code",
      "execution_count": 39,
      "metadata": {
        "colab": {
          "base_uri": "https://localhost:8080/"
        },
        "id": "LCMUjqQqRRAc",
        "outputId": "3fabd223-d17c-485c-b222-4f5ce379d955"
      },
      "outputs": [
        {
          "output_type": "stream",
          "name": "stdout",
          "text": [
            "Linear SVM train/test accuracies 1.000/0.716\n"
          ]
        }
      ],
      "source": [
        "from sklearn.svm import SVC\n",
        "svm_model_linear = SVC(kernel = 'linear', C = 1).fit(X_train, y_train)\n",
        "\n",
        "svm_model_linear.fit(X_train, y_train)\n",
        "y_train_pred = svm_model_linear.predict(X_train)\n",
        "y_test_pred = svm_model_linear.predict(X_test)\n",
        "svm_model_linear_train = accuracy_score(y_train, y_train_pred)\n",
        "svm_model_linear_test = accuracy_score(y_test, y_test_pred)\n",
        "print('Linear SVM train/test accuracies %.3f/%.3f' % (svm_model_linear_train, svm_model_linear_test))\n"
      ]
    },
    {
      "cell_type": "code",
      "source": [
        "cm = confusion_matrix(y_test, y_test_pred)\n",
        "sns.heatmap(cm, annot=True, vmin=0, fmt='g', cbar=False)"
      ],
      "metadata": {
        "colab": {
          "base_uri": "https://localhost:8080/",
          "height": 283
        },
        "id": "caJEwAuPNB2u",
        "outputId": "8f0b91c2-f8a6-4d90-e313-ffb703edee92"
      },
      "execution_count": 40,
      "outputs": [
        {
          "output_type": "execute_result",
          "data": {
            "text/plain": [
              "<matplotlib.axes._subplots.AxesSubplot at 0x7f42ff9ed350>"
            ]
          },
          "metadata": {},
          "execution_count": 40
        },
        {
          "output_type": "display_data",
          "data": {
            "text/plain": [
              "<Figure size 432x288 with 1 Axes>"
            ],
            "image/png": "[encoded data removed]"
          },
          "metadata": {
            "needs_background": "light"
          }
        }
      ]
    },
    {
      "cell_type": "code",
      "source": [
        "clr = classification_report(y_test, y_test_pred, target_names=labels)\n",
        "print(clr)"
      ],
      "metadata": {
        "colab": {
          "base_uri": "https://localhost:8080/"
        },
        "id": "KErz2fIZNB42",
        "outputId": "7c359aee-ccd3-4dc3-aecf-5b965b7da329"
      },
      "execution_count": 41,
      "outputs": [
        {
          "output_type": "stream",
          "name": "stdout",
          "text": [
            "              precision    recall  f1-score   support\n",
            "\n",
            "       akiec       0.43      0.48      0.45        44\n",
            "         bcc       0.36      0.67      0.47        55\n",
            "         bkl       0.48      0.40      0.44       176\n",
            "          df       0.69      0.45      0.55        20\n",
            "         mel       0.43      0.43      0.43       187\n",
            "          nv       0.87      0.86      0.87       898\n",
            "        vasc       0.73      0.65      0.69        17\n",
            "\n",
            "    accuracy                           0.72      1397\n",
            "   macro avg       0.57      0.56      0.56      1397\n",
            "weighted avg       0.73      0.72      0.72      1397\n",
            "\n"
          ]
        }
      ]
    },
    {
      "cell_type": "code",
      "source": [
        "bag = BaggingClassifier(base_estimator=svm_model_linear,n_estimators=10,bootstrap=True,random_state=1)"
      ],
      "metadata": {
        "id": "cOGqBMyxNB69"
      },
      "execution_count": 42,
      "outputs": []
    },
    {
      "cell_type": "code",
      "source": [
        "bag = bag.fit(X_train, y_train)\n",
        "y_train_pred = bag.predict(X_train)\n",
        "y_test_pred = bag.predict(X_test)\n",
        "bag_train = accuracy_score(y_train, y_train_pred)\n",
        "bag_test = accuracy_score(y_test, y_test_pred)\n",
        "print('Bagging train/test accuracies %.3f/%.3f'% (bag_train, bag_test))"
      ],
      "metadata": {
        "id": "e1hK8Nn_NB9Q"
      },
      "execution_count": null,
      "outputs": []
    },
    {
      "cell_type": "code",
      "source": [
        "cm = confusion_matrix(y_test, y_test_pred)\n",
        "sns.heatmap(cm, annot=True, vmin=0, fmt='g', cbar=False)"
      ],
      "metadata": {
        "id": "T-6HuR-9NQdt"
      },
      "execution_count": null,
      "outputs": []
    },
    {
      "cell_type": "code",
      "source": [
        "clr = classification_report(y_test, y_test_pred, target_names=labels)\n",
        "print(clr)"
      ],
      "metadata": {
        "id": "_5xOHRfNNQ2T"
      },
      "execution_count": null,
      "outputs": []
    },
    {
      "cell_type": "code",
      "execution_count": null,
      "metadata": {
        "colab": {
          "background_save": true,
          "base_uri": "https://localhost:8080/"
        },
        "id": "tT4su4ImSQds",
        "outputId": "26ccc829-29e1-4e0e-88af-d74b5abd4352"
      },
      "outputs": [
        {
          "name": "stdout",
          "output_type": "stream",
          "text": [
            "0.7083574320416426\n",
            "0.7208303507516106\n",
            "0.7093772369362921\n"
          ]
        }
      ],
      "source": [
        "svm_model_non = SVC(kernel='rbf', C = 1).fit(X_train, y_train)\n",
        "print(svm_model_non.score(X_train, y_train))\n",
        "print(svm_model_non.score(X_val, y_val))\n",
        "print(svm_model_non.score(X_test, y_test))\n"
      ]
    },
    {
      "cell_type": "code",
      "execution_count": null,
      "metadata": {
        "colab": {
          "background_save": true
        },
        "id": "dUclgEaHSQi0",
        "outputId": "0147001c-91e7-4305-bd9e-879ae613696d"
      },
      "outputs": [
        {
          "data": {
            "text/plain": [
              "<matplotlib.axes._subplots.AxesSubplot at 0x7f5e46558c90>"
            ]
          },
          "execution_count": null,
          "metadata": {},
          "output_type": "execute_result"
        },
        {
          "data": {
            "image/png": "[encoded data removed]",
            "text/plain": [
              "<Figure size 432x288 with 1 Axes>"
            ]
          },
          "metadata": {},
          "output_type": "display_data"
        }
      ],
      "source": [
        "y_pred = svm_model_non.predict(X_test)\n",
        "cm = confusion_matrix(y_test, y_pred)\n",
        "sns.heatmap(cm, annot=True, vmin=0, fmt='g', cbar=False)"
      ]
    },
    {
      "cell_type": "code",
      "execution_count": null,
      "metadata": {
        "colab": {
          "background_save": true
        },
        "id": "9JkOWDQXTHAN",
        "outputId": "9a1f5343-b7e6-4287-e23a-94a356f7a3d5"
      },
      "outputs": [
        {
          "name": "stdout",
          "output_type": "stream",
          "text": [
            "              precision    recall  f1-score   support\n",
            "\n",
            "       akiec       0.00      0.00      0.00        44\n",
            "         bcc       0.31      0.53      0.39        55\n",
            "         bkl       0.57      0.26      0.36       176\n",
            "          df       0.00      0.00      0.00        20\n",
            "         mel       0.56      0.33      0.41       187\n",
            "          nv       0.77      0.95      0.85       898\n",
            "        vasc       0.00      0.00      0.00        17\n",
            "\n",
            "    accuracy                           0.71      1397\n",
            "   macro avg       0.32      0.30      0.29      1397\n",
            "weighted avg       0.65      0.71      0.66      1397\n",
            "\n"
          ]
        },
        {
          "name": "stderr",
          "output_type": "stream",
          "text": [
            "/usr/local/lib/python3.7/dist-packages/sklearn/metrics/_classification.py:1318: UndefinedMetricWarning: Precision and F-score are ill-defined and being set to 0.0 in labels with no predicted samples. Use `zero_division` parameter to control this behavior.\n",
            "  _warn_prf(average, modifier, msg_start, len(result))\n",
            "/usr/local/lib/python3.7/dist-packages/sklearn/metrics/_classification.py:1318: UndefinedMetricWarning: Precision and F-score are ill-defined and being set to 0.0 in labels with no predicted samples. Use `zero_division` parameter to control this behavior.\n",
            "  _warn_prf(average, modifier, msg_start, len(result))\n",
            "/usr/local/lib/python3.7/dist-packages/sklearn/metrics/_classification.py:1318: UndefinedMetricWarning: Precision and F-score are ill-defined and being set to 0.0 in labels with no predicted samples. Use `zero_division` parameter to control this behavior.\n",
            "  _warn_prf(average, modifier, msg_start, len(result))\n"
          ]
        }
      ],
      "source": [
        "clr = classification_report(y_test, y_pred, target_names=labels)\n",
        "print(clr)"
      ]
    },
    {
      "cell_type": "code",
      "execution_count": null,
      "metadata": {
        "id": "nSaUhbFNTHEU"
      },
      "outputs": [],
      "source": [
        ""
      ]
    },
    {
      "cell_type": "code",
      "execution_count": null,
      "metadata": {
        "id": "_h-BNbWdfYor"
      },
      "outputs": [],
      "source": [
        "from sklearn.neighbors import KNeighborsClassifier\n",
        "knn = KNeighborsClassifier(n_neighbors = 7).fit(X_train, y_train)\n",
        "print(knn.score(X_train, y_train))\n",
        "print(knn.score(X_val, y_val))\n",
        "print(knn.score(X_test, y_test))\n"
      ]
    },
    {
      "cell_type": "code",
      "execution_count": null,
      "metadata": {
        "id": "Kk4ubcOCfYqp"
      },
      "outputs": [],
      "source": [
        "y_pred = knn.predict(X_test)\n",
        "cm = confusion_matrix(y_test, y_pred)\n",
        "sns.heatmap(cm, annot=True, vmin=0, fmt='g', cbar=False)"
      ]
    },
    {
      "cell_type": "code",
      "execution_count": null,
      "metadata": {
        "id": "zgKZQolBSQlM"
      },
      "outputs": [],
      "source": [
        "clr = classification_report(y_test, y_pred, target_names=labels)\n",
        "print(clr)"
      ]
    },
    {
      "cell_type": "code",
      "execution_count": null,
      "metadata": {
        "id": "77SB6sZzfq1a"
      },
      "outputs": [],
      "source": [
        ""
      ]
    },
    {
      "cell_type": "code",
      "execution_count": null,
      "metadata": {
        "id": "BJaZXwqffq30"
      },
      "outputs": [],
      "source": [
        "from sklearn.ensemble import RandomForestClassifier\n",
        "rf = RandomForestClassifier(max_depth=6, random_state=0, class_weight=class_weight)\n",
        "rf.fit(X_train, y_train)\n",
        "print(rf.score(X_train, y_train))\n",
        "print(rf.score(X_val, y_val))\n",
        "print(rf.score(X_test, y_test))"
      ]
    },
    {
      "cell_type": "code",
      "execution_count": null,
      "metadata": {
        "id": "p_zHVA31RRC-"
      },
      "outputs": [],
      "source": [
        "y_pred = rf.predict(X_test)\n",
        "cm = confusion_matrix(y_test, y_pred)\n",
        "sns.heatmap(cm, annot=True, vmin=0, fmt='g', cmap='Blues', cbar=False)"
      ]
    },
    {
      "cell_type": "code",
      "execution_count": null,
      "metadata": {
        "id": "Zrs5rXcuRRGe"
      },
      "outputs": [],
      "source": [
        "clr = classification_report(y_test, y_pred, target_names=labels)\n",
        "print(clr)"
      ]
    }
  ],
  "metadata": {
    "colab": {
      "collapsed_sections": [],
      "name": "sklearn_update with_BaggingClassifier.ipynb",
      "provenance": []
    },
    "kernelspec": {
      "display_name": "Python 3",
      "name": "python3"
    },
    "language_info": {
      "name": "python"
    }
  },
  "nbformat": 4,
  "nbformat_minor": 0
}