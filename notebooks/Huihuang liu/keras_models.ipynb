{
  "nbformat": 4,
  "nbformat_minor": 0,
  "metadata": {
    "colab": {
      "name": "keras_models.ipynb",
      "provenance": []
    },
    "kernelspec": {
      "name": "python3",
      "display_name": "Python 3"
    },
    "language_info": {
      "name": "python"
    }
  },
  "cells": [
    {
      "cell_type": "code",
      "execution_count": null,
      "metadata": {
        "colab": {
          "base_uri": "https://localhost:8080/"
        },
        "id": "uduQq45A90bX",
        "outputId": "9cf4aff7-2e31-43a6-bcd4-929417f8a7b2"
      },
      "outputs": [
        {
          "output_type": "stream",
          "name": "stdout",
          "text": [
            "/content\n"
          ]
        }
      ],
      "source": [
        "!pwd"
      ]
    },
    {
      "cell_type": "code",
      "source": [
        "import os\n",
        "os.environ['KAGGLE_CONFIG_DIR'] = \"/content\""
      ],
      "metadata": {
        "id": "SjdCx3hp91Re"
      },
      "execution_count": null,
      "outputs": []
    },
    {
      "cell_type": "code",
      "source": [
        "import numpy as np \n",
        "import pandas as pd\n",
        "import tensorflow as tf\n",
        "from tensorflow import keras\n",
        "from tensorflow.keras import backend as K\n",
        "from tensorflow.keras.layers import Dense, Activation,Dropout,Conv2D, MaxPooling2D,BatchNormalization, Flatten\n",
        "from tensorflow.keras.optimizers import Adam, Adamax\n",
        "from tensorflow.keras.metrics import categorical_crossentropy\n",
        "from tensorflow.keras import regularizers\n",
        "from tensorflow.keras.preprocessing.image import ImageDataGenerator\n",
        "from tensorflow.keras.models import Model, load_model, Sequential\n",
        "import matplotlib.pyplot as plt\n",
        "from sklearn.model_selection import train_test_split\n",
        "from matplotlib.pyplot import imshow\n",
        "import pandas as pd"
      ],
      "metadata": {
        "id": "QylZOzK_92hB"
      },
      "execution_count": null,
      "outputs": []
    },
    {
      "cell_type": "code",
      "source": [
        "from google.colab import drive\n",
        "drive.mount(\"/content/gdrive\", force_remount=True)"
      ],
      "metadata": {
        "colab": {
          "base_uri": "https://localhost:8080/"
        },
        "id": "e3rGatIM93mX",
        "outputId": "5e1cc7f8-fc41-448b-b490-ada692e6a3b8"
      },
      "execution_count": null,
      "outputs": [
        {
          "output_type": "stream",
          "name": "stdout",
          "text": [
            "Mounted at /content/gdrive\n"
          ]
        }
      ]
    },
    {
      "cell_type": "code",
      "source": [
        "%cd /content/gdrive/MyDrive/Folder/"
      ],
      "metadata": {
        "colab": {
          "base_uri": "https://localhost:8080/"
        },
        "id": "ymem015b95OX",
        "outputId": "d46f7d26-5bed-4c19-dc03-6236ddb14452"
      },
      "execution_count": null,
      "outputs": [
        {
          "output_type": "stream",
          "name": "stdout",
          "text": [
            "/content/gdrive/MyDrive/Folder\n"
          ]
        }
      ]
    },
    {
      "cell_type": "code",
      "source": [
        "X = np.load('/content/gdrive/MyDrive/Folder/images28_28.npy')\n",
        "y = np.load('/content/gdrive/MyDrive/Folder/labels28_28.npy')"
      ],
      "metadata": {
        "id": "_wiZfjOW8-V9"
      },
      "execution_count": 41,
      "outputs": []
    },
    {
      "cell_type": "code",
      "source": [
        "tain_size=0.7\n",
        "valid_size = 0.1\n",
        "test_size = 0.2\n",
        "valid_test_split = valid_size / test_size\n",
        "\n",
        "X_train, X_test_val, y_train, y_test_val = train_test_split(X, y, test_size=1-tain_size, shuffle=True, random_state=42)\n",
        "X_val, X_test, y_val, y_test = train_test_split(X_test_val, y_test_val, test_size=valid_test_split, shuffle=True, random_state=42)\n",
        "\n",
        "print(X_train.shape, y_train.shape)\n",
        "print(X_test.shape, y_test.shape)\n",
        "print(X_val.shape, y_val.shape)"
      ],
      "metadata": {
        "colab": {
          "base_uri": "https://localhost:8080/"
        },
        "id": "H76PojLn8-ZF",
        "outputId": "81929bf0-f311-46d8-bf72-617fb7a7bc38"
      },
      "execution_count": 47,
      "outputs": [
        {
          "output_type": "stream",
          "name": "stdout",
          "text": [
            "(7010, 64, 64, 3) (7010, 7)\n",
            "(1503, 64, 64, 3) (1503, 7)\n",
            "(1502, 64, 64, 3) (1502, 7)\n"
          ]
        }
      ]
    },
    {
      "cell_type": "code",
      "source": [
        "def get_callbacks():\n",
        "  return [\n",
        "    tf.keras.callbacks.EarlyStopping(monitor='val_loss', patience=200)      \n",
        "  ]\n",
        "histories = {}"
      ],
      "metadata": {
        "id": "hFmLdAn_Bbxl"
      },
      "execution_count": 65,
      "outputs": []
    },
    {
      "cell_type": "code",
      "source": [
        "linear_model = tf.keras.Sequential([                                                                   \n",
        "   keras.layers.Dense(7, activation = 'linear')                                 \n",
        "])\n",
        "linear_model.compile(optimizer='adam', loss='binary_crossentropy', metrics=['accuracy'])\n",
        "linear_hist=linear_model.fit(train_data, train_label, epochs=20, validation_data=(validation_data, validation_label),callbacks=get_callbacks(), verbose=0)\n",
        "linear_hist"
      ],
      "metadata": {
        "colab": {
          "base_uri": "https://localhost:8080/"
        },
        "id": "UGD90-A_8-b4",
        "outputId": "b05caa4c-ab04-45c6-f462-799bd94f31e3"
      },
      "execution_count": 87,
      "outputs": [
        {
          "output_type": "execute_result",
          "data": {
            "text/plain": [
              "<keras.callbacks.History at 0x7f1402f57c90>"
            ]
          },
          "metadata": {},
          "execution_count": 87
        }
      ]
    },
    {
      "cell_type": "code",
      "source": [
        "histories['linear'] = linear_hist"
      ],
      "metadata": {
        "id": "EhnthcsnBz90"
      },
      "execution_count": 88,
      "outputs": []
    },
    {
      "cell_type": "code",
      "source": [
        "plotter = tfdocs.plots.HistoryPlotter(metric = 'accuracy', smoothing_std=10)\n",
        "plotter.plot(histories)\n",
        "plt.ylim([0, 1])"
      ],
      "metadata": {
        "colab": {
          "base_uri": "https://localhost:8080/",
          "height": 301
        },
        "id": "_4kLZ-I48-k2",
        "outputId": "75e79bd9-d351-4fde-c1e8-f91842bc3e70"
      },
      "execution_count": 89,
      "outputs": [
        {
          "output_type": "execute_result",
          "data": {
            "text/plain": [
              "(0.0, 1.0)"
            ]
          },
          "metadata": {},
          "execution_count": 89
        },
        {
          "output_type": "display_data",
          "data": {
            "text/plain": [
              "<Figure size 432x288 with 1 Axes>"
            ],
            "image/png": "[encoded data removed]"
          },
          "metadata": {
            "needs_background": "light"
          }
        }
      ]
    },
    {
      "cell_type": "code",
      "source": [
        "def get_callbacks():\n",
        "  return [\n",
        "    tf.keras.callbacks.EarlyStopping(monitor='val_loss', patience=200)      \n",
        "  ]\n",
        "histories = {}"
      ],
      "metadata": {
        "id": "rH6mq_KdJOx0"
      },
      "execution_count": 96,
      "outputs": []
    },
    {
      "cell_type": "code",
      "source": [
        "linear_model = tf.keras.Sequential([                                                                   \n",
        "   keras.layers.Dense(7, activation = 'Relu')                                 \n",
        "])\n",
        "linear_model.compile(optimizer='adam', loss='binary_crossentropy', metrics=['accuracy'])\n",
        "linear_hist=linear_model.fit(train_data, train_label, epochs=20, validation_data=(validation_data, validation_label),callbacks=get_callbacks(), verbose=0)\n",
        "linear_hist"
      ],
      "metadata": {
        "colab": {
          "base_uri": "https://localhost:8080/"
        },
        "id": "v0P4GZ__CZPm",
        "outputId": "cc2565ff-2db3-4a00-8f1b-34e9d057f05f"
      },
      "execution_count": 91,
      "outputs": [
        {
          "output_type": "execute_result",
          "data": {
            "text/plain": [
              "<keras.callbacks.History at 0x7f1400456e10>"
            ]
          },
          "metadata": {},
          "execution_count": 91
        }
      ]
    },
    {
      "cell_type": "code",
      "source": [
        "plotter = tfdocs.plots.HistoryPlotter(metric = 'accuracy', smoothing_std=10)\n",
        "plotter.plot(histories)\n",
        "plt.ylim([0, 1])"
      ],
      "metadata": {
        "colab": {
          "base_uri": "https://localhost:8080/",
          "height": 301
        },
        "id": "sSyyI1DzCZVk",
        "outputId": "636c0981-3a50-48e2-822a-6392f3daadc3"
      },
      "execution_count": 93,
      "outputs": [
        {
          "output_type": "execute_result",
          "data": {
            "text/plain": [
              "(0.0, 1.0)"
            ]
          },
          "metadata": {},
          "execution_count": 93
        },
        {
          "output_type": "display_data",
          "data": {
            "text/plain": [
              "<Figure size 432x288 with 1 Axes>"
            ],
            "image/png": "[encoded data removed]"
          },
          "metadata": {
            "needs_background": "light"
          }
        }
      ]
    },
    {
      "cell_type": "code",
      "source": [
        "def get_callbacks():\n",
        "  return [\n",
        "    tf.keras.callbacks.EarlyStopping(monitor='val_loss', patience=200)      \n",
        "  ]\n",
        "log_hist = {}"
      ],
      "metadata": {
        "id": "06M7vRLLJgvo"
      },
      "execution_count": 97,
      "outputs": []
    },
    {
      "cell_type": "code",
      "source": [
        "logistic_model = tf.keras.Sequential([                                                               \n",
        "   keras.layers.Dense(7, activation = 'sigmoid')                                 \n",
        "])\n",
        "logistic_model.compile(optimizer='adam', loss='binary_crossentropy', metrics=['accuracy'])\n",
        "log=logistic_model.fit(train_data, train_label, epochs=40, validation_data=(validation_data, validation_label),callbacks=get_callbacks(), verbose=0)"
      ],
      "metadata": {
        "id": "AiEBvD2JCZYO"
      },
      "execution_count": 98,
      "outputs": []
    },
    {
      "cell_type": "code",
      "source": [
        "log_hist['relu'] = log"
      ],
      "metadata": {
        "id": "K38wiQnICZak"
      },
      "execution_count": 99,
      "outputs": []
    },
    {
      "cell_type": "code",
      "source": [
        "plotter = tfdocs.plots.HistoryPlotter(metric = 'accuracy', smoothing_std=10)\n",
        "plotter.plot(log_hist)\n",
        "plt.ylim([0, 1])"
      ],
      "metadata": {
        "colab": {
          "base_uri": "https://localhost:8080/",
          "height": 301
        },
        "id": "kGzo77CXCZdA",
        "outputId": "04a8a1c1-246e-4696-996c-19108334d43d"
      },
      "execution_count": 100,
      "outputs": [
        {
          "output_type": "execute_result",
          "data": {
            "text/plain": [
              "(0.0, 1.0)"
            ]
          },
          "metadata": {},
          "execution_count": 100
        },
        {
          "output_type": "display_data",
          "data": {
            "text/plain": [
              "<Figure size 432x288 with 1 Axes>"
            ],
            "image/png": "[encoded data removed]"
          },
          "metadata": {
            "needs_background": "light"
          }
        }
      ]
    },
    {
      "cell_type": "code",
      "source": [
        "df = pd.read_csv('/content/gdrive/MyDrive/Folder/data/hmnist_28_28_RGB.csv')\n",
        "print(df['label'].value_counts())"
      ],
      "metadata": {
        "colab": {
          "base_uri": "https://localhost:8080/"
        },
        "id": "_9pm7cucD32z",
        "outputId": "46254d5b-a6ba-4174-e79d-880536eaf60a"
      },
      "execution_count": 101,
      "outputs": [
        {
          "output_type": "stream",
          "name": "stdout",
          "text": [
            "4    6705\n",
            "6    1113\n",
            "2    1099\n",
            "1     514\n",
            "0     327\n",
            "5     142\n",
            "3     115\n",
            "Name: label, dtype: int64\n"
          ]
        }
      ]
    },
    {
      "cell_type": "code",
      "source": [
        "tain_size=0.7\n",
        "valid_size = 0.1\n",
        "test_size = 0.2\n",
        "valid_test_split = valid_size / test_size\n",
        "\n",
        "X_train, X_test_val, y_train, y_test_val = train_test_split(X, y, test_size=1-tain_size, shuffle=True, random_state=42)\n",
        "X_val, X_test, y_val, y_test = train_test_split(X_test_val, y_test_val, test_size=valid_test_split, shuffle=True, random_state=42)\n",
        "\n",
        "print(X_train.shape, y_train.shape)\n",
        "print(X_test.shape, y_test.shape)\n",
        "print(X_val.shape, y_val.shape)"
      ],
      "metadata": {
        "colab": {
          "base_uri": "https://localhost:8080/"
        },
        "id": "9XaFnxoC8n55",
        "outputId": "ee3bd5c8-9b46-4cb8-d21d-41894ed882c9"
      },
      "execution_count": 103,
      "outputs": [
        {
          "output_type": "stream",
          "name": "stdout",
          "text": [
            "(7010, 64, 64, 3) (7010, 7)\n",
            "(1503, 64, 64, 3) (1503, 7)\n",
            "(1502, 64, 64, 3) (1502, 7)\n"
          ]
        }
      ]
    },
    {
      "cell_type": "code",
      "source": [
        "cnn_model = tf.keras.Sequential([                                                               \n",
        "   keras.layers.Conv2D(28, (3, 3), activation = 'relu', input_shape=(64, 64, 3)),\n",
        "   keras.layers.MaxPooling2D(2, 2),\n",
        "   keras.layers.Conv2D(56, (3, 3), activation = 'relu'),\n",
        "   keras.layers.MaxPooling2D(2, 2),\n",
        "   keras.layers.Conv2D(56, (3, 3), activation = 'relu'),\n",
        "   keras.layers.Flatten(),\n",
        "   keras.layers.Dense(56, activation='relu'),\n",
        "   keras.layers.Dense(7, activation='softmax')                                 \n",
        "])\n",
        "cnn_model.compile(optimizer='adam', loss='binary_crossentropy', metrics=['accuracy'])"
      ],
      "metadata": {
        "id": "yEBYCuQf8qQg"
      },
      "execution_count": 109,
      "outputs": []
    },
    {
      "cell_type": "code",
      "source": [
        "cnn_hist = cnn_model.fit(X_train, y_train, epochs=40, validation_data=(X_val, y_val), callbacks=get_callbacks(), verbose=0)"
      ],
      "metadata": {
        "id": "jQ23etyy8tRv"
      },
      "execution_count": 110,
      "outputs": []
    },
    {
      "cell_type": "code",
      "source": [
        "histories['cnn'] = cnn_hist"
      ],
      "metadata": {
        "id": "mYVfapgBKbHx"
      },
      "execution_count": 111,
      "outputs": []
    },
    {
      "cell_type": "code",
      "source": [
        "plotter = tfdocs.plots.HistoryPlotter(metric = 'accuracy', smoothing_std=10)\n",
        "plotter.plot(histories)\n",
        "plt.ylim([0, 1])"
      ],
      "metadata": {
        "colab": {
          "base_uri": "https://localhost:8080/",
          "height": 301
        },
        "id": "gZFkwNR3Kbet",
        "outputId": "6359adbd-306f-43c8-fc44-46386aab4427"
      },
      "execution_count": 112,
      "outputs": [
        {
          "output_type": "execute_result",
          "data": {
            "text/plain": [
              "(0.0, 1.0)"
            ]
          },
          "metadata": {},
          "execution_count": 112
        },
        {
          "output_type": "display_data",
          "data": {
            "text/plain": [
              "<Figure size 432x288 with 1 Axes>"
            ],
            "image/png": "[encoded data removed]"
          },
          "metadata": {
            "needs_background": "light"
          }
        }
      ]
    },
    {
      "cell_type": "code",
      "source": [
        "from sklearn.model_selection import train_test_split\n",
        "\n",
        "tain_size=0.7\n",
        "valid_size = 0.1\n",
        "test_size = 0.2\n",
        "valid_test_split = valid_size / test_size\n",
        "\n",
        "train_df, valid_test_df = train_test_split(df, train_size=tain_size, shuffle=True, random_state=42)\n",
        "valid_df, test_df = train_test_split(valid_test_df, train_size=valid_test_split, shuffle=True, random_state=42)\n",
        "\n",
        "print(' train_df length: ', len(train_df), '  test_df length: ', len(test_df), '  valid_df length: ', len(valid_df))\n",
        "print (train_df['label'].value_counts())"
      ],
      "metadata": {
        "colab": {
          "base_uri": "https://localhost:8080/"
        },
        "id": "xPwOzedeEEAW",
        "outputId": "24fa33c7-2064-45ed-d620-263906be7773"
      },
      "execution_count": null,
      "outputs": [
        {
          "output_type": "stream",
          "name": "stdout",
          "text": [
            " train_df length:  7010   test_df length:  1503   valid_df length:  1502\n",
            "4    4708\n",
            "6     766\n",
            "2     749\n",
            "1     371\n",
            "0     231\n",
            "5     109\n",
            "3      76\n",
            "Name: label, dtype: int64\n"
          ]
        }
      ]
    },
    {
      "cell_type": "code",
      "source": [
        "train_data = train_df.iloc[:, :-1]\n",
        "train_label = pd.get_dummies(train_df['label'])\n",
        "validation_data = valid_df.iloc[:, :-1]\n",
        "validation_label = pd.get_dummies(valid_df['label'])"
      ],
      "metadata": {
        "id": "MjTewyiLEI7x"
      },
      "execution_count": null,
      "outputs": []
    },
    {
      "cell_type": "code",
      "source": [
        "linear_model = tf.keras.Sequential([                                                                   \n",
        "   keras.layers.Dense(7, activation = 'ReLU')                                 \n",
        "])\n",
        "linear_model.compile(optimizer='adam', loss='binary_crossentropy', metrics=['accuracy'])\n",
        "history=linear_model.fit(train_data, train_label, epochs=20, validation_data=(validation_data, validation_label))"
      ],
      "metadata": {
        "colab": {
          "base_uri": "https://localhost:8080/"
        },
        "id": "W_EHb8CBEZvs",
        "outputId": "2d527bc2-5b9a-4cf3-be86-b6261766d1b1"
      },
      "execution_count": null,
      "outputs": [
        {
          "output_type": "stream",
          "name": "stdout",
          "text": [
            "Epoch 1/20\n",
            "220/220 [==============================] - 3s 9ms/step - loss: 4.2986 - accuracy: 0.0528 - val_loss: 4.1720 - val_accuracy: 0.0479\n",
            "Epoch 2/20\n",
            "220/220 [==============================] - 1s 6ms/step - loss: 4.1476 - accuracy: 0.0529 - val_loss: 4.1720 - val_accuracy: 0.0479\n",
            "Epoch 3/20\n",
            "220/220 [==============================] - 1s 5ms/step - loss: 4.1476 - accuracy: 0.0529 - val_loss: 4.1720 - val_accuracy: 0.0479\n",
            "Epoch 4/20\n",
            "220/220 [==============================] - 1s 6ms/step - loss: 4.1476 - accuracy: 0.0529 - val_loss: 4.1720 - val_accuracy: 0.0479\n",
            "Epoch 5/20\n",
            "220/220 [==============================] - 1s 6ms/step - loss: 4.1476 - accuracy: 0.0529 - val_loss: 4.1720 - val_accuracy: 0.0479\n",
            "Epoch 6/20\n",
            "220/220 [==============================] - 1s 6ms/step - loss: 4.1476 - accuracy: 0.0529 - val_loss: 4.1720 - val_accuracy: 0.0479\n",
            "Epoch 7/20\n",
            "220/220 [==============================] - 1s 6ms/step - loss: 4.1476 - accuracy: 0.0529 - val_loss: 4.1720 - val_accuracy: 0.0479\n",
            "Epoch 8/20\n",
            "220/220 [==============================] - 1s 5ms/step - loss: 4.1476 - accuracy: 0.0529 - val_loss: 4.1720 - val_accuracy: 0.0479\n",
            "Epoch 9/20\n",
            "220/220 [==============================] - 1s 6ms/step - loss: 4.1476 - accuracy: 0.0529 - val_loss: 4.1720 - val_accuracy: 0.0479\n",
            "Epoch 10/20\n",
            "220/220 [==============================] - 1s 6ms/step - loss: 4.1476 - accuracy: 0.0529 - val_loss: 4.1720 - val_accuracy: 0.0479\n",
            "Epoch 11/20\n",
            "220/220 [==============================] - 1s 6ms/step - loss: 4.1476 - accuracy: 0.0529 - val_loss: 4.1720 - val_accuracy: 0.0479\n",
            "Epoch 12/20\n",
            "220/220 [==============================] - 1s 5ms/step - loss: 4.1476 - accuracy: 0.0529 - val_loss: 4.1720 - val_accuracy: 0.0479\n",
            "Epoch 13/20\n",
            "220/220 [==============================] - 1s 3ms/step - loss: 4.1476 - accuracy: 0.0529 - val_loss: 4.1720 - val_accuracy: 0.0479\n",
            "Epoch 14/20\n",
            "220/220 [==============================] - 1s 3ms/step - loss: 4.1476 - accuracy: 0.0529 - val_loss: 4.1720 - val_accuracy: 0.0479\n",
            "Epoch 15/20\n",
            "220/220 [==============================] - 1s 3ms/step - loss: 4.1476 - accuracy: 0.0529 - val_loss: 4.1720 - val_accuracy: 0.0479\n",
            "Epoch 16/20\n",
            "220/220 [==============================] - 1s 3ms/step - loss: 4.1476 - accuracy: 0.0529 - val_loss: 4.1720 - val_accuracy: 0.0479\n",
            "Epoch 17/20\n",
            "220/220 [==============================] - 1s 3ms/step - loss: 4.1476 - accuracy: 0.0529 - val_loss: 4.1720 - val_accuracy: 0.0479\n",
            "Epoch 18/20\n",
            "220/220 [==============================] - 1s 3ms/step - loss: 4.1476 - accuracy: 0.0529 - val_loss: 4.1720 - val_accuracy: 0.0479\n",
            "Epoch 19/20\n",
            "220/220 [==============================] - 1s 4ms/step - loss: 4.1476 - accuracy: 0.0529 - val_loss: 4.1720 - val_accuracy: 0.0479\n",
            "Epoch 20/20\n",
            "220/220 [==============================] - 1s 5ms/step - loss: 4.1476 - accuracy: 0.0529 - val_loss: 4.1720 - val_accuracy: 0.0479\n"
          ]
        }
      ]
    },
    {
      "cell_type": "code",
      "source": [
        "logistic_model = tf.keras.Sequential([                                                               \n",
        "   keras.layers.Dense(7, activation = 'sigmoid')                                 \n",
        "])\n",
        "logistic_model.compile(optimizer='adam', loss='binary_crossentropy', metrics=['accuracy'])\n",
        "log=logistic_model.fit(train_data, train_label, epochs=40, validation_data=(validation_data, validation_label))"
      ],
      "metadata": {
        "colab": {
          "base_uri": "https://localhost:8080/"
        },
        "id": "11KBo-WAEb7Z",
        "outputId": "0df511fc-e772-402b-a3ae-d92af9fa9e54"
      },
      "execution_count": null,
      "outputs": [
        {
          "output_type": "stream",
          "name": "stdout",
          "text": [
            "Epoch 1/40\n",
            "220/220 [==============================] - 1s 4ms/step - loss: 10.6427 - accuracy: 0.5812 - val_loss: 23.8239 - val_accuracy: 0.0373\n",
            "Epoch 2/40\n",
            "220/220 [==============================] - 1s 4ms/step - loss: 8.0970 - accuracy: 0.5961 - val_loss: 12.2540 - val_accuracy: 0.6025\n",
            "Epoch 3/40\n",
            "220/220 [==============================] - 2s 7ms/step - loss: 8.4221 - accuracy: 0.5910 - val_loss: 6.0554 - val_accuracy: 0.6298\n",
            "Epoch 4/40\n",
            "220/220 [==============================] - 1s 7ms/step - loss: 7.5911 - accuracy: 0.6033 - val_loss: 4.7637 - val_accuracy: 0.6691\n",
            "Epoch 5/40\n",
            "220/220 [==============================] - 1s 6ms/step - loss: 7.9716 - accuracy: 0.6031 - val_loss: 6.6773 - val_accuracy: 0.6731\n",
            "Epoch 6/40\n",
            "220/220 [==============================] - 1s 5ms/step - loss: 6.6324 - accuracy: 0.6140 - val_loss: 16.6722 - val_accuracy: 0.1818\n",
            "Epoch 7/40\n",
            "220/220 [==============================] - 1s 4ms/step - loss: 6.9333 - accuracy: 0.6160 - val_loss: 15.7381 - val_accuracy: 0.6152\n",
            "Epoch 8/40\n",
            "220/220 [==============================] - 1s 3ms/step - loss: 7.8517 - accuracy: 0.6300 - val_loss: 11.5881 - val_accuracy: 0.2743\n",
            "Epoch 9/40\n",
            "220/220 [==============================] - 1s 3ms/step - loss: 7.8915 - accuracy: 0.6113 - val_loss: 11.1664 - val_accuracy: 0.6698\n",
            "Epoch 10/40\n",
            "220/220 [==============================] - 1s 3ms/step - loss: 7.3682 - accuracy: 0.6150 - val_loss: 6.4734 - val_accuracy: 0.6831\n",
            "Epoch 11/40\n",
            "220/220 [==============================] - 1s 3ms/step - loss: 6.7515 - accuracy: 0.6148 - val_loss: 7.6448 - val_accuracy: 0.6778\n",
            "Epoch 12/40\n",
            "220/220 [==============================] - 1s 3ms/step - loss: 6.7936 - accuracy: 0.6214 - val_loss: 6.1131 - val_accuracy: 0.6838\n",
            "Epoch 13/40\n",
            "220/220 [==============================] - 1s 3ms/step - loss: 7.0848 - accuracy: 0.6151 - val_loss: 14.4008 - val_accuracy: 0.6558\n",
            "Epoch 14/40\n",
            "220/220 [==============================] - 1s 3ms/step - loss: 7.3009 - accuracy: 0.6178 - val_loss: 6.7998 - val_accuracy: 0.6731\n",
            "Epoch 15/40\n",
            "220/220 [==============================] - 1s 3ms/step - loss: 7.0926 - accuracy: 0.6238 - val_loss: 10.2594 - val_accuracy: 0.3688\n",
            "Epoch 16/40\n",
            "220/220 [==============================] - 1s 3ms/step - loss: 8.0727 - accuracy: 0.6116 - val_loss: 14.6047 - val_accuracy: 0.4501\n",
            "Epoch 17/40\n",
            "220/220 [==============================] - 1s 3ms/step - loss: 5.8069 - accuracy: 0.6271 - val_loss: 11.0680 - val_accuracy: 0.6678\n",
            "Epoch 18/40\n",
            "220/220 [==============================] - 1s 3ms/step - loss: 5.9376 - accuracy: 0.6321 - val_loss: 15.6041 - val_accuracy: 0.1205\n",
            "Epoch 19/40\n",
            "220/220 [==============================] - 1s 3ms/step - loss: 6.8480 - accuracy: 0.6234 - val_loss: 4.8785 - val_accuracy: 0.5932\n",
            "Epoch 20/40\n",
            "220/220 [==============================] - 1s 3ms/step - loss: 6.1268 - accuracy: 0.6357 - val_loss: 8.0665 - val_accuracy: 0.5346\n",
            "Epoch 21/40\n",
            "220/220 [==============================] - 1s 3ms/step - loss: 7.5243 - accuracy: 0.6217 - val_loss: 10.5246 - val_accuracy: 0.4627\n",
            "Epoch 22/40\n",
            "220/220 [==============================] - 1s 3ms/step - loss: 6.7256 - accuracy: 0.6267 - val_loss: 6.4881 - val_accuracy: 0.6072\n",
            "Epoch 23/40\n",
            "220/220 [==============================] - 1s 3ms/step - loss: 7.4866 - accuracy: 0.6398 - val_loss: 3.1667 - val_accuracy: 0.6924\n",
            "Epoch 24/40\n",
            "220/220 [==============================] - 1s 3ms/step - loss: 8.2234 - accuracy: 0.6311 - val_loss: 12.1910 - val_accuracy: 0.5885\n",
            "Epoch 25/40\n",
            "220/220 [==============================] - 1s 3ms/step - loss: 6.7005 - accuracy: 0.6258 - val_loss: 4.1873 - val_accuracy: 0.6112\n",
            "Epoch 26/40\n",
            "220/220 [==============================] - 1s 3ms/step - loss: 6.7880 - accuracy: 0.6347 - val_loss: 8.0139 - val_accuracy: 0.6591\n",
            "Epoch 27/40\n",
            "220/220 [==============================] - 1s 3ms/step - loss: 7.3632 - accuracy: 0.6352 - val_loss: 7.3592 - val_accuracy: 0.6851\n",
            "Epoch 28/40\n",
            "220/220 [==============================] - 1s 3ms/step - loss: 6.3280 - accuracy: 0.6308 - val_loss: 7.8597 - val_accuracy: 0.6724\n",
            "Epoch 29/40\n",
            "220/220 [==============================] - 1s 3ms/step - loss: 5.4676 - accuracy: 0.6431 - val_loss: 14.4778 - val_accuracy: 0.2517\n",
            "Epoch 30/40\n",
            "220/220 [==============================] - 1s 3ms/step - loss: 6.2756 - accuracy: 0.6231 - val_loss: 6.2630 - val_accuracy: 0.6758\n",
            "Epoch 31/40\n",
            "220/220 [==============================] - 1s 3ms/step - loss: 6.5033 - accuracy: 0.6397 - val_loss: 5.7301 - val_accuracy: 0.6911\n",
            "Epoch 32/40\n",
            "220/220 [==============================] - 1s 3ms/step - loss: 6.1760 - accuracy: 0.6387 - val_loss: 6.1611 - val_accuracy: 0.6784\n",
            "Epoch 33/40\n",
            "220/220 [==============================] - 1s 3ms/step - loss: 6.6025 - accuracy: 0.6437 - val_loss: 8.1149 - val_accuracy: 0.6758\n",
            "Epoch 34/40\n",
            "220/220 [==============================] - 1s 4ms/step - loss: 5.9904 - accuracy: 0.6408 - val_loss: 7.9318 - val_accuracy: 0.6698\n",
            "Epoch 35/40\n",
            "220/220 [==============================] - 1s 3ms/step - loss: 7.1512 - accuracy: 0.6285 - val_loss: 11.9208 - val_accuracy: 0.6771\n",
            "Epoch 36/40\n",
            "220/220 [==============================] - 1s 3ms/step - loss: 7.0797 - accuracy: 0.6431 - val_loss: 14.2311 - val_accuracy: 0.6731\n",
            "Epoch 37/40\n",
            "220/220 [==============================] - 1s 3ms/step - loss: 6.7338 - accuracy: 0.6334 - val_loss: 13.7567 - val_accuracy: 0.6704\n",
            "Epoch 38/40\n",
            "220/220 [==============================] - 1s 3ms/step - loss: 6.0010 - accuracy: 0.6553 - val_loss: 9.4758 - val_accuracy: 0.6791\n",
            "Epoch 39/40\n",
            "220/220 [==============================] - 1s 3ms/step - loss: 6.5207 - accuracy: 0.6327 - val_loss: 5.0132 - val_accuracy: 0.6891\n",
            "Epoch 40/40\n",
            "220/220 [==============================] - 1s 3ms/step - loss: 6.0170 - accuracy: 0.6409 - val_loss: 12.4574 - val_accuracy: 0.6758\n"
          ]
        }
      ]
    }
  ]
}