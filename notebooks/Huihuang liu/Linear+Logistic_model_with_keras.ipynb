{
  "nbformat": 4,
  "nbformat_minor": 0,
  "metadata": {
    "colab": {
      "name": "Linear+Logistic_model_with_keras.ipynb",
      "provenance": []
    },
    "kernelspec": {
      "name": "python3",
      "display_name": "Python 3"
    },
    "language_info": {
      "name": "python"
    }
  },
  "cells": [
    {
      "cell_type": "code",
      "execution_count": 1,
      "metadata": {
        "colab": {
          "base_uri": "https://localhost:8080/"
        },
        "id": "uduQq45A90bX",
        "outputId": "9c444892-695a-42c3-ca39-e0dc43f719ce"
      },
      "outputs": [
        {
          "output_type": "stream",
          "name": "stdout",
          "text": [
            "/content\n"
          ]
        }
      ],
      "source": [
        "!pwd"
      ]
    },
    {
      "cell_type": "code",
      "source": [
        "import os\n",
        "os.environ['KAGGLE_CONFIG_DIR'] = \"/content\""
      ],
      "metadata": {
        "id": "SjdCx3hp91Re"
      },
      "execution_count": 2,
      "outputs": []
    },
    {
      "cell_type": "code",
      "source": [
        "import numpy as np \n",
        "import pandas as pd\n",
        "import tensorflow as tf\n",
        "from tensorflow import keras\n",
        "from tensorflow.keras import backend as K\n",
        "from tensorflow.keras.layers import Dense, Activation,Dropout,Conv2D, MaxPooling2D,BatchNormalization, Flatten\n",
        "from tensorflow.keras.optimizers import Adam, Adamax\n",
        "from tensorflow.keras.metrics import categorical_crossentropy\n",
        "from tensorflow.keras import regularizers\n",
        "from tensorflow.keras.preprocessing.image import ImageDataGenerator\n",
        "from tensorflow.keras.models import Model, load_model, Sequential\n",
        "import matplotlib.pyplot as plt\n",
        "from sklearn.model_selection import train_test_split\n",
        "from matplotlib.pyplot import imshow\n",
        "import pandas as pd"
      ],
      "metadata": {
        "id": "QylZOzK_92hB"
      },
      "execution_count": 6,
      "outputs": []
    },
    {
      "cell_type": "code",
      "source": [
        "from google.colab import drive\n",
        "drive.mount(\"/content/gdrive\", force_remount=True)"
      ],
      "metadata": {
        "colab": {
          "base_uri": "https://localhost:8080/"
        },
        "id": "e3rGatIM93mX",
        "outputId": "d97fa169-abdd-48e6-c573-39fa511f479f"
      },
      "execution_count": 3,
      "outputs": [
        {
          "output_type": "stream",
          "name": "stdout",
          "text": [
            "Mounted at /content/gdrive\n"
          ]
        }
      ]
    },
    {
      "cell_type": "code",
      "source": [
        "%cd /content/gdrive/MyDrive/Folder/"
      ],
      "metadata": {
        "colab": {
          "base_uri": "https://localhost:8080/"
        },
        "id": "ymem015b95OX",
        "outputId": "d281bcbd-7935-40ca-e83e-26189a75496f"
      },
      "execution_count": 8,
      "outputs": [
        {
          "output_type": "stream",
          "name": "stdout",
          "text": [
            "/content/gdrive/MyDrive/Folder\n"
          ]
        }
      ]
    },
    {
      "cell_type": "code",
      "source": [
        "df = pd.read_csv('/content/gdrive/MyDrive/Folder/data/hmnist_28_28_RGB.csv')\n",
        "print(df['label'].value_counts())"
      ],
      "metadata": {
        "colab": {
          "base_uri": "https://localhost:8080/"
        },
        "id": "_9pm7cucD32z",
        "outputId": "2b441cd6-c6b7-4fb8-bb79-20b988691579"
      },
      "execution_count": 11,
      "outputs": [
        {
          "output_type": "stream",
          "name": "stdout",
          "text": [
            "4    6705\n",
            "6    1113\n",
            "2    1099\n",
            "1     514\n",
            "0     327\n",
            "5     142\n",
            "3     115\n",
            "Name: label, dtype: int64\n"
          ]
        }
      ]
    },
    {
      "cell_type": "code",
      "source": [
        "from sklearn.model_selection import train_test_split\n",
        "\n",
        "tain_size=0.7\n",
        "valid_size = 0.1\n",
        "test_size = 0.2\n",
        "valid_test_split = valid_size / test_size\n",
        "\n",
        "train_df, valid_test_df = train_test_split(df, train_size=tain_size, shuffle=True, random_state=42)\n",
        "valid_df, test_df = train_test_split(valid_test_df, train_size=valid_test_split, shuffle=True, random_state=42)\n",
        "\n",
        "print(' train_df length: ', len(train_df), '  test_df length: ', len(test_df), '  valid_df length: ', len(valid_df))\n",
        "print (train_df['label'].value_counts())"
      ],
      "metadata": {
        "colab": {
          "base_uri": "https://localhost:8080/"
        },
        "id": "xPwOzedeEEAW",
        "outputId": "13e2cd6d-afe0-4b9c-a6ca-6128aadd39a6"
      },
      "execution_count": 13,
      "outputs": [
        {
          "output_type": "stream",
          "name": "stdout",
          "text": [
            " train_df length:  7010   test_df length:  1503   valid_df length:  1502\n",
            "4    4708\n",
            "6     766\n",
            "2     749\n",
            "1     371\n",
            "0     231\n",
            "5     109\n",
            "3      76\n",
            "Name: label, dtype: int64\n"
          ]
        }
      ]
    },
    {
      "cell_type": "code",
      "source": [
        "train_data = train_df.iloc[:, :-1]\n",
        "train_label = pd.get_dummies(train_df['label'])\n",
        "validation_data = valid_df.iloc[:, :-1]\n",
        "validation_label = pd.get_dummies(valid_df['label'])"
      ],
      "metadata": {
        "id": "MjTewyiLEI7x"
      },
      "execution_count": 14,
      "outputs": []
    },
    {
      "cell_type": "code",
      "source": [
        "linear_model = tf.keras.Sequential([                                                                   \n",
        "   keras.layers.Dense(7, activation = 'ReLU')                                 \n",
        "])\n",
        "linear_model.compile(optimizer='adam', loss='binary_crossentropy', metrics=['accuracy'])\n",
        "linear_model.fit(train_data, train_label, epochs=10, validation_data=(validation_data, validation_label))"
      ],
      "metadata": {
        "colab": {
          "base_uri": "https://localhost:8080/"
        },
        "id": "W_EHb8CBEZvs",
        "outputId": "8007c187-a695-455e-a0a4-149a9c522d6b"
      },
      "execution_count": 15,
      "outputs": [
        {
          "output_type": "stream",
          "name": "stdout",
          "text": [
            "Epoch 1/10\n",
            "220/220 [==============================] - 3s 7ms/step - loss: 3.6121 - accuracy: 0.6037 - val_loss: 3.4797 - val_accuracy: 0.6704\n",
            "Epoch 2/10\n",
            "220/220 [==============================] - 1s 4ms/step - loss: 3.4737 - accuracy: 0.6716 - val_loss: 3.4797 - val_accuracy: 0.6704\n",
            "Epoch 3/10\n",
            "220/220 [==============================] - 1s 4ms/step - loss: 3.4737 - accuracy: 0.6716 - val_loss: 3.4797 - val_accuracy: 0.6704\n",
            "Epoch 4/10\n",
            "220/220 [==============================] - 1s 3ms/step - loss: 3.4737 - accuracy: 0.6716 - val_loss: 3.4797 - val_accuracy: 0.6704\n",
            "Epoch 5/10\n",
            "220/220 [==============================] - 1s 4ms/step - loss: 3.4737 - accuracy: 0.6716 - val_loss: 3.4797 - val_accuracy: 0.6704\n",
            "Epoch 6/10\n",
            "220/220 [==============================] - 1s 4ms/step - loss: 3.4737 - accuracy: 0.6716 - val_loss: 3.4797 - val_accuracy: 0.6704\n",
            "Epoch 7/10\n",
            "220/220 [==============================] - 1s 4ms/step - loss: 3.4737 - accuracy: 0.6716 - val_loss: 3.4797 - val_accuracy: 0.6704\n",
            "Epoch 8/10\n",
            "220/220 [==============================] - 1s 2ms/step - loss: 3.4737 - accuracy: 0.6716 - val_loss: 3.4797 - val_accuracy: 0.6704\n",
            "Epoch 9/10\n",
            "220/220 [==============================] - 1s 2ms/step - loss: 3.4737 - accuracy: 0.6716 - val_loss: 3.4797 - val_accuracy: 0.6704\n",
            "Epoch 10/10\n",
            "220/220 [==============================] - 1s 2ms/step - loss: 3.4737 - accuracy: 0.6716 - val_loss: 3.4797 - val_accuracy: 0.6704\n"
          ]
        },
        {
          "output_type": "execute_result",
          "data": {
            "text/plain": [
              "<keras.callbacks.History at 0x7f28944bb150>"
            ]
          },
          "metadata": {},
          "execution_count": 15
        }
      ]
    },
    {
      "cell_type": "code",
      "source": [
        "logistic_model = tf.keras.Sequential([                                                               \n",
        "   keras.layers.Dense(7, activation = 'sigmoid')                                 \n",
        "])\n",
        "logistic_model.compile(optimizer='adam', loss='binary_crossentropy', metrics=['accuracy'])\n",
        "log=logistic_model.fit(train_data, train_label, epochs=40, validation_data=(validation_data, validation_label))"
      ],
      "metadata": {
        "colab": {
          "base_uri": "https://localhost:8080/"
        },
        "id": "11KBo-WAEb7Z",
        "outputId": "6e38a4a8-ace2-4edf-d827-b430b9c1e985"
      },
      "execution_count": 18,
      "outputs": [
        {
          "output_type": "stream",
          "name": "stdout",
          "text": [
            "Epoch 1/40\n",
            "220/220 [==============================] - 1s 3ms/step - loss: 11.4423 - accuracy: 0.5809 - val_loss: 11.3832 - val_accuracy: 0.6698\n",
            "Epoch 2/40\n",
            "220/220 [==============================] - 1s 3ms/step - loss: 8.5707 - accuracy: 0.5937 - val_loss: 7.5679 - val_accuracy: 0.6758\n",
            "Epoch 3/40\n",
            "220/220 [==============================] - 1s 3ms/step - loss: 8.7380 - accuracy: 0.6044 - val_loss: 10.3407 - val_accuracy: 0.6079\n",
            "Epoch 4/40\n",
            "220/220 [==============================] - 1s 2ms/step - loss: 7.6709 - accuracy: 0.6041 - val_loss: 25.3925 - val_accuracy: 0.1172\n",
            "Epoch 5/40\n",
            "220/220 [==============================] - 1s 2ms/step - loss: 7.3885 - accuracy: 0.6103 - val_loss: 10.5748 - val_accuracy: 0.5792\n",
            "Epoch 6/40\n",
            "220/220 [==============================] - 1s 2ms/step - loss: 7.4285 - accuracy: 0.6141 - val_loss: 24.6545 - val_accuracy: 0.0399\n",
            "Epoch 7/40\n",
            "220/220 [==============================] - 1s 2ms/step - loss: 7.7212 - accuracy: 0.6088 - val_loss: 10.9406 - val_accuracy: 0.6738\n",
            "Epoch 8/40\n",
            "220/220 [==============================] - 1s 3ms/step - loss: 6.8409 - accuracy: 0.6155 - val_loss: 10.8955 - val_accuracy: 0.2104\n",
            "Epoch 9/40\n",
            "220/220 [==============================] - 1s 3ms/step - loss: 7.4052 - accuracy: 0.6110 - val_loss: 12.6234 - val_accuracy: 0.6711\n",
            "Epoch 10/40\n",
            "220/220 [==============================] - 1s 2ms/step - loss: 7.5531 - accuracy: 0.6077 - val_loss: 9.5371 - val_accuracy: 0.4075\n",
            "Epoch 11/40\n",
            "220/220 [==============================] - 1s 3ms/step - loss: 7.4800 - accuracy: 0.6153 - val_loss: 12.5865 - val_accuracy: 0.5885\n",
            "Epoch 12/40\n",
            "220/220 [==============================] - 1s 3ms/step - loss: 6.9516 - accuracy: 0.6268 - val_loss: 15.1365 - val_accuracy: 0.1425\n",
            "Epoch 13/40\n",
            "220/220 [==============================] - 1s 2ms/step - loss: 7.5105 - accuracy: 0.6211 - val_loss: 7.6861 - val_accuracy: 0.6405\n",
            "Epoch 14/40\n",
            "220/220 [==============================] - 1s 2ms/step - loss: 6.2665 - accuracy: 0.6290 - val_loss: 4.7693 - val_accuracy: 0.5692\n",
            "Epoch 15/40\n",
            "220/220 [==============================] - 1s 3ms/step - loss: 7.3564 - accuracy: 0.6150 - val_loss: 15.1076 - val_accuracy: 0.6664\n",
            "Epoch 16/40\n",
            "220/220 [==============================] - 1s 2ms/step - loss: 6.0118 - accuracy: 0.6301 - val_loss: 6.6053 - val_accuracy: 0.6704\n",
            "Epoch 17/40\n",
            "220/220 [==============================] - 1s 2ms/step - loss: 5.8153 - accuracy: 0.6424 - val_loss: 7.8677 - val_accuracy: 0.6818\n",
            "Epoch 18/40\n",
            "220/220 [==============================] - 1s 2ms/step - loss: 7.1729 - accuracy: 0.6292 - val_loss: 15.4564 - val_accuracy: 0.0726\n",
            "Epoch 19/40\n",
            "220/220 [==============================] - 1s 2ms/step - loss: 5.8822 - accuracy: 0.6341 - val_loss: 8.6635 - val_accuracy: 0.6691\n",
            "Epoch 20/40\n",
            "220/220 [==============================] - 1s 2ms/step - loss: 6.4523 - accuracy: 0.6264 - val_loss: 16.7889 - val_accuracy: 0.6704\n",
            "Epoch 21/40\n",
            "220/220 [==============================] - 1s 3ms/step - loss: 8.4958 - accuracy: 0.6197 - val_loss: 7.8919 - val_accuracy: 0.6698\n",
            "Epoch 22/40\n",
            "220/220 [==============================] - 1s 2ms/step - loss: 6.9362 - accuracy: 0.6240 - val_loss: 5.6305 - val_accuracy: 0.6718\n",
            "Epoch 23/40\n",
            "220/220 [==============================] - 1s 2ms/step - loss: 6.5613 - accuracy: 0.6274 - val_loss: 10.5987 - val_accuracy: 0.4674\n",
            "Epoch 24/40\n",
            "220/220 [==============================] - 1s 2ms/step - loss: 5.8996 - accuracy: 0.6368 - val_loss: 9.2748 - val_accuracy: 0.5346\n",
            "Epoch 25/40\n",
            "220/220 [==============================] - 1s 2ms/step - loss: 6.6906 - accuracy: 0.6361 - val_loss: 10.3202 - val_accuracy: 0.3855\n",
            "Epoch 26/40\n",
            "220/220 [==============================] - 1s 3ms/step - loss: 6.9957 - accuracy: 0.6330 - val_loss: 11.7278 - val_accuracy: 0.6698\n",
            "Epoch 27/40\n",
            "220/220 [==============================] - 1s 2ms/step - loss: 6.4253 - accuracy: 0.6304 - val_loss: 11.4775 - val_accuracy: 0.5033\n",
            "Epoch 28/40\n",
            "220/220 [==============================] - 1s 2ms/step - loss: 6.9353 - accuracy: 0.6203 - val_loss: 5.5961 - val_accuracy: 0.6292\n",
            "Epoch 29/40\n",
            "220/220 [==============================] - 1s 3ms/step - loss: 7.2559 - accuracy: 0.6431 - val_loss: 17.7746 - val_accuracy: 0.4574\n",
            "Epoch 30/40\n",
            "220/220 [==============================] - 1s 2ms/step - loss: 5.8752 - accuracy: 0.6439 - val_loss: 8.2969 - val_accuracy: 0.6731\n",
            "Epoch 31/40\n",
            "220/220 [==============================] - 1s 3ms/step - loss: 6.5028 - accuracy: 0.6401 - val_loss: 8.8839 - val_accuracy: 0.6205\n",
            "Epoch 32/40\n",
            "220/220 [==============================] - 1s 2ms/step - loss: 6.7999 - accuracy: 0.6281 - val_loss: 7.5377 - val_accuracy: 0.6365\n",
            "Epoch 33/40\n",
            "220/220 [==============================] - 1s 2ms/step - loss: 6.5642 - accuracy: 0.6355 - val_loss: 15.9092 - val_accuracy: 0.3342\n",
            "Epoch 34/40\n",
            "220/220 [==============================] - 1s 2ms/step - loss: 6.1684 - accuracy: 0.6381 - val_loss: 9.1304 - val_accuracy: 0.5752\n",
            "Epoch 35/40\n",
            "220/220 [==============================] - 1s 2ms/step - loss: 6.5835 - accuracy: 0.6358 - val_loss: 11.6308 - val_accuracy: 0.6724\n",
            "Epoch 36/40\n",
            "220/220 [==============================] - 1s 2ms/step - loss: 7.3550 - accuracy: 0.6368 - val_loss: 6.1054 - val_accuracy: 0.6305\n",
            "Epoch 37/40\n",
            "220/220 [==============================] - 1s 3ms/step - loss: 6.4616 - accuracy: 0.6367 - val_loss: 7.2699 - val_accuracy: 0.6025\n",
            "Epoch 38/40\n",
            "220/220 [==============================] - 1s 2ms/step - loss: 5.9270 - accuracy: 0.6437 - val_loss: 12.4959 - val_accuracy: 0.5613\n",
            "Epoch 39/40\n",
            "220/220 [==============================] - 1s 3ms/step - loss: 5.8270 - accuracy: 0.6395 - val_loss: 17.9796 - val_accuracy: 0.0752\n",
            "Epoch 40/40\n",
            "220/220 [==============================] - 1s 2ms/step - loss: 6.3245 - accuracy: 0.6506 - val_loss: 15.7437 - val_accuracy: 0.1471\n"
          ]
        }
      ]
    },
    {
      "cell_type": "code",
      "source": [
        ""
      ],
      "metadata": {
        "id": "-PKNI2S-GNgR"
      },
      "execution_count": null,
      "outputs": []
    }
  ]
}