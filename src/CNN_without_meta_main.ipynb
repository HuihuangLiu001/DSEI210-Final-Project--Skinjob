{
  "nbformat": 4,
  "nbformat_minor": 0,
  "metadata": {
    "colab": {
      "name": "CNN_without_meta_main.ipynb",
      "provenance": [],
      "collapsed_sections": [],
      "machine_shape": "hm"
    },
    "kernelspec": {
      "name": "python3",
      "display_name": "Python 3"
    },
    "language_info": {
      "name": "python"
    },
    "accelerator": "GPU"
  },
  "cells": [
    {
      "cell_type": "code",
      "source": [
        "!pwd\n",
        "import os\n",
        "os.environ['KAGGLE_CONFIG_DIR'] = \"/content\""
      ],
      "metadata": {
        "id": "Xbn9UU0UhWwd",
        "colab": {
          "base_uri": "https://localhost:8080/"
        },
        "outputId": "e36eee10-b7ff-4ce7-b99b-967b29cd8b50"
      },
      "execution_count": null,
      "outputs": [
        {
          "output_type": "stream",
          "name": "stdout",
          "text": [
            "/content\n"
          ]
        }
      ]
    },
    {
      "cell_type": "code",
      "source": [
        "!kaggle datasets download -d surajghuwalewala/ham1000-segmentation-and-classification\n",
        "!unzip /content/ham1000-segmentation-and-classification.zip"
      ],
      "metadata": {
        "id": "_TpI8ifahW2z"
      },
      "execution_count": null,
      "outputs": []
    },
    {
      "cell_type": "code",
      "execution_count": null,
      "metadata": {
        "colab": {
          "base_uri": "https://localhost:8080/"
        },
        "id": "MUcW2QjaqDJh",
        "outputId": "f37a3f2f-5cb6-4c2c-d71e-0ad902fe7353"
      },
      "outputs": [
        {
          "output_type": "stream",
          "name": "stdout",
          "text": [
            "Looking in indexes: https://pypi.org/simple, https://us-python.pkg.dev/colab-wheels/public/simple/\n",
            "Collecting git+https://github.com/tensorflow/docs\n",
            "  Cloning https://github.com/tensorflow/docs to /tmp/pip-req-build-_2kq6ddl\n",
            "  Running command git clone -q https://github.com/tensorflow/docs /tmp/pip-req-build-_2kq6ddl\n",
            "Requirement already satisfied: astor in /usr/local/lib/python3.7/dist-packages (from tensorflow-docs==0.0.0.dev0) (0.8.1)\n",
            "Requirement already satisfied: absl-py in /usr/local/lib/python3.7/dist-packages (from tensorflow-docs==0.0.0.dev0) (1.0.0)\n",
            "Requirement already satisfied: jinja2 in /usr/local/lib/python3.7/dist-packages (from tensorflow-docs==0.0.0.dev0) (2.11.3)\n",
            "Requirement already satisfied: protobuf>=3.14 in /usr/local/lib/python3.7/dist-packages (from tensorflow-docs==0.0.0.dev0) (3.17.3)\n",
            "Requirement already satisfied: pyyaml in /usr/local/lib/python3.7/dist-packages (from tensorflow-docs==0.0.0.dev0) (3.13)\n",
            "Requirement already satisfied: six>=1.9 in /usr/local/lib/python3.7/dist-packages (from protobuf>=3.14->tensorflow-docs==0.0.0.dev0) (1.15.0)\n",
            "Requirement already satisfied: MarkupSafe>=0.23 in /usr/local/lib/python3.7/dist-packages (from jinja2->tensorflow-docs==0.0.0.dev0) (2.0.1)\n",
            "Building wheels for collected packages: tensorflow-docs\n",
            "  Building wheel for tensorflow-docs (setup.py) ... \u001b[?25l\u001b[?25hdone\n",
            "  Created wheel for tensorflow-docs: filename=tensorflow_docs-0.0.0.dev0-py3-none-any.whl size=179891 sha256=64d3147c4f5ea2a5ab52718aadb755c8d9d72bc06a7edabc52e26e65b82751ed\n",
            "  Stored in directory: /tmp/pip-ephem-wheel-cache-tv73elyn/wheels/cc/c4/d8/5341e93b6376c5c929c49469fce21155eb69cef1a4da4ce32c\n",
            "Successfully built tensorflow-docs\n",
            "Installing collected packages: tensorflow-docs\n",
            "Successfully installed tensorflow-docs-0.0.0.dev0\n"
          ]
        }
      ],
      "source": [
        "!pip install git+https://github.com/tensorflow/docs"
      ]
    },
    {
      "cell_type": "code",
      "source": [
        "!pip install -q -U keras-tuner"
      ],
      "metadata": {
        "colab": {
          "base_uri": "https://localhost:8080/"
        },
        "id": "Zfu9FoLOVpuL",
        "outputId": "1318dbaa-f331-4ddf-949f-d8f810ad7389"
      },
      "execution_count": null,
      "outputs": [
        {
          "output_type": "stream",
          "name": "stdout",
          "text": [
            "\u001b[?25l\r\u001b[K     |██▌                             | 10 kB 28.4 MB/s eta 0:00:01\r\u001b[K     |█████                           | 20 kB 28.0 MB/s eta 0:00:01\r\u001b[K     |███████▍                        | 30 kB 20.0 MB/s eta 0:00:01\r\u001b[K     |█████████▉                      | 40 kB 16.6 MB/s eta 0:00:01\r\u001b[K     |████████████▎                   | 51 kB 7.1 MB/s eta 0:00:01\r\u001b[K     |██████████████▊                 | 61 kB 8.3 MB/s eta 0:00:01\r\u001b[K     |█████████████████▏              | 71 kB 8.8 MB/s eta 0:00:01\r\u001b[K     |███████████████████▋            | 81 kB 8.9 MB/s eta 0:00:01\r\u001b[K     |██████████████████████          | 92 kB 9.8 MB/s eta 0:00:01\r\u001b[K     |████████████████████████▌       | 102 kB 8.2 MB/s eta 0:00:01\r\u001b[K     |███████████████████████████     | 112 kB 8.2 MB/s eta 0:00:01\r\u001b[K     |█████████████████████████████▍  | 122 kB 8.2 MB/s eta 0:00:01\r\u001b[K     |███████████████████████████████▉| 133 kB 8.2 MB/s eta 0:00:01\r\u001b[K     |████████████████████████████████| 133 kB 8.2 MB/s \n",
            "\u001b[?25h"
          ]
        }
      ]
    },
    {
      "cell_type": "code",
      "source": [
        "import numpy as np \n",
        "import pandas as pd\n",
        "import tensorflow as tf\n",
        "\n",
        "from PIL import Image\n",
        "from tensorflow import keras\n",
        "import tensorflow_docs as tfdocs\n",
        "import tensorflow_docs.modeling\n",
        "import tensorflow_docs.plots\n",
        "from tensorflow.keras import regularizers\n",
        "from tensorflow.keras.preprocessing.image import ImageDataGenerator\n",
        "from keras.utils.np_utils import to_categorical\n",
        "import matplotlib.pyplot as plt\n",
        "from sklearn.model_selection import train_test_split\n",
        "from sklearn.metrics import confusion_matrix, classification_report\n",
        "import seaborn as sns\n",
        "from matplotlib.pyplot import imshow"
      ],
      "metadata": {
        "id": "2OIZJX75q5ky"
      },
      "execution_count": null,
      "outputs": []
    },
    {
      "cell_type": "code",
      "source": [
        "import data_helper as dh\n",
        "import model_build_helper as mbh"
      ],
      "metadata": {
        "id": "W4jZ6ofRUqwj"
      },
      "execution_count": null,
      "outputs": []
    },
    {
      "cell_type": "code",
      "source": [
        "df_o = pd.read_csv('https://raw.githubusercontent.com/albert6051/DSEI210-Final-Project--Skinjob/main/data/raw/HAM10000_metadata.csv')\n",
        "image_path = r'../content/images/'"
      ],
      "metadata": {
        "id": "t2bIJaXBxOVM"
      },
      "execution_count": null,
      "outputs": []
    },
    {
      "cell_type": "code",
      "source": [
        "h = 240\n",
        "w = 240\n",
        "aug_targets = ['mel', 'bcc']\n",
        "aug_count = 0\n",
        "aug_size = 0\n",
        "\n",
        "train_set, test_set, class_weight, labels = dh.prep_pipeline1(df_o, image_path, 1500, h, w, aug_targets, aug_count, aug_size)"
      ],
      "metadata": {
        "id": "CL1itcmyM-Se"
      },
      "execution_count": null,
      "outputs": []
    },
    {
      "cell_type": "code",
      "source": [
        "X_train = train_set[0]\n",
        "y_train = train_set[2]\n",
        "\n",
        "X_test = test_set[0]\n",
        "y_test = test_set[2]"
      ],
      "metadata": {
        "id": "JyJPdn-LNLek"
      },
      "execution_count": null,
      "outputs": []
    },
    {
      "cell_type": "code",
      "source": [
        "print(X_train.shape, X_test.shape, y_train.shape, y_test.shape)"
      ],
      "metadata": {
        "colab": {
          "base_uri": "https://localhost:8080/"
        },
        "id": "ISR6jhMLOlbJ",
        "outputId": "3689f865-56cf-455a-d374-a669ad19ab00"
      },
      "execution_count": null,
      "outputs": [
        {
          "output_type": "stream",
          "name": "stdout",
          "text": [
            "(3367, 240, 240, 3) (1443, 240, 240, 3) (3367, 7) (1443, 7)\n"
          ]
        }
      ]
    },
    {
      "cell_type": "code",
      "source": [
        "histories = {}\n",
        "\n",
        "channels = 3\n",
        "img_shape = (h, w, channels)\n",
        "\n",
        "def get_callbacks():\n",
        "  return [\n",
        "    tf.keras.callbacks.EarlyStopping(monitor='val_loss', patience=10, verbose=1, mode='auto', restore_best_weights=True),\n",
        "    tf.keras.callbacks.ReduceLROnPlateau(monitor='val_loss', factor=0.1, patience=5, verbose=1, mode='auto')      \n",
        "  ]"
      ],
      "metadata": {
        "id": "y_w8tVTfrAp0"
      },
      "execution_count": null,
      "outputs": []
    },
    {
      "cell_type": "code",
      "source": [
        "model = mbh.model_builder(img_shape, 288, 0.001)"
      ],
      "metadata": {
        "id": "e6CCdu_Uwivh",
        "colab": {
          "base_uri": "https://localhost:8080/"
        },
        "outputId": "bd5459af-9307-427d-f2bf-3279da6c095c"
      },
      "execution_count": null,
      "outputs": [
        {
          "output_type": "stream",
          "name": "stdout",
          "text": [
            "Downloading data from https://storage.googleapis.com/keras-applications/efficientnetb1_notop.h5\n",
            "27025408/27018416 [==============================] - 0s 0us/step\n",
            "27033600/27018416 [==============================] - 0s 0us/step\n"
          ]
        }
      ]
    },
    {
      "cell_type": "code",
      "source": [
        "history = model.fit(X_train,\n",
        "                    y_train, \n",
        "                    epochs=100, \n",
        "                    validation_split=0.2, \n",
        "                    callbacks=get_callbacks(),\n",
        "                    class_weight=class_weight)"
      ],
      "metadata": {
        "colab": {
          "base_uri": "https://localhost:8080/"
        },
        "id": "6wLlCxZiyuVa",
        "outputId": "30cad6f7-b9f8-4ced-a693-908ed22bc4c1"
      },
      "execution_count": null,
      "outputs": [
        {
          "output_type": "stream",
          "name": "stdout",
          "text": [
            "Epoch 1/100\n",
            "85/85 [==============================] - 63s 425ms/step - loss: 13.2193 - accuracy: 0.3520 - val_loss: 11.2468 - val_accuracy: 0.3680 - lr: 0.0010\n",
            "Epoch 2/100\n",
            "85/85 [==============================] - 32s 382ms/step - loss: 10.7491 - accuracy: 0.5848 - val_loss: 10.3513 - val_accuracy: 0.4006 - lr: 0.0010\n",
            "Epoch 3/100\n",
            "85/85 [==============================] - 32s 382ms/step - loss: 9.6770 - accuracy: 0.6821 - val_loss: 9.5160 - val_accuracy: 0.5104 - lr: 0.0010\n",
            "Epoch 4/100\n",
            "85/85 [==============================] - 32s 382ms/step - loss: 8.9297 - accuracy: 0.7482 - val_loss: 8.8319 - val_accuracy: 0.5786 - lr: 0.0010\n",
            "Epoch 5/100\n",
            "85/85 [==============================] - 32s 378ms/step - loss: 8.2531 - accuracy: 0.7854 - val_loss: 8.2620 - val_accuracy: 0.6053 - lr: 0.0010\n",
            "Epoch 6/100\n",
            "85/85 [==============================] - 32s 382ms/step - loss: 7.6750 - accuracy: 0.8281 - val_loss: 7.7644 - val_accuracy: 0.6617 - lr: 0.0010\n",
            "Epoch 7/100\n",
            "85/85 [==============================] - 32s 381ms/step - loss: 7.2040 - accuracy: 0.8541 - val_loss: 7.3098 - val_accuracy: 0.7077 - lr: 0.0010\n",
            "Epoch 8/100\n",
            "85/85 [==============================] - 33s 385ms/step - loss: 6.7197 - accuracy: 0.8838 - val_loss: 6.9862 - val_accuracy: 0.6973 - lr: 0.0010\n",
            "Epoch 9/100\n",
            "85/85 [==============================] - 33s 386ms/step - loss: 6.2911 - accuracy: 0.9035 - val_loss: 6.5936 - val_accuracy: 0.7033 - lr: 0.0010\n",
            "Epoch 10/100\n",
            "85/85 [==============================] - 33s 385ms/step - loss: 5.9022 - accuracy: 0.9142 - val_loss: 6.2447 - val_accuracy: 0.7300 - lr: 0.0010\n",
            "Epoch 11/100\n",
            "85/85 [==============================] - 32s 379ms/step - loss: 5.4716 - accuracy: 0.9372 - val_loss: 5.9201 - val_accuracy: 0.7389 - lr: 0.0010\n",
            "Epoch 12/100\n",
            "85/85 [==============================] - 33s 384ms/step - loss: 5.1105 - accuracy: 0.9384 - val_loss: 5.5528 - val_accuracy: 0.7389 - lr: 0.0010\n",
            "Epoch 13/100\n",
            "85/85 [==============================] - 33s 383ms/step - loss: 4.7821 - accuracy: 0.9439 - val_loss: 5.2287 - val_accuracy: 0.7344 - lr: 0.0010\n",
            "Epoch 14/100\n",
            "85/85 [==============================] - 32s 381ms/step - loss: 4.4374 - accuracy: 0.9499 - val_loss: 4.9279 - val_accuracy: 0.7240 - lr: 0.0010\n",
            "Epoch 15/100\n",
            "85/85 [==============================] - 32s 382ms/step - loss: 4.1186 - accuracy: 0.9621 - val_loss: 4.6462 - val_accuracy: 0.7300 - lr: 0.0010\n",
            "Epoch 16/100\n",
            "85/85 [==============================] - 32s 382ms/step - loss: 3.7926 - accuracy: 0.9666 - val_loss: 4.3878 - val_accuracy: 0.7300 - lr: 0.0010\n",
            "Epoch 17/100\n",
            "85/85 [==============================] - 32s 381ms/step - loss: 3.4674 - accuracy: 0.9785 - val_loss: 4.1176 - val_accuracy: 0.7300 - lr: 0.0010\n",
            "Epoch 18/100\n",
            "85/85 [==============================] - 32s 381ms/step - loss: 3.1927 - accuracy: 0.9762 - val_loss: 3.8554 - val_accuracy: 0.7433 - lr: 0.0010\n",
            "Epoch 19/100\n",
            "85/85 [==============================] - 32s 382ms/step - loss: 2.9160 - accuracy: 0.9785 - val_loss: 3.6224 - val_accuracy: 0.7478 - lr: 0.0010\n",
            "Epoch 20/100\n",
            "85/85 [==============================] - 32s 381ms/step - loss: 2.6978 - accuracy: 0.9733 - val_loss: 3.3212 - val_accuracy: 0.7344 - lr: 0.0010\n",
            "Epoch 21/100\n",
            "85/85 [==============================] - 32s 381ms/step - loss: 2.4854 - accuracy: 0.9766 - val_loss: 3.0798 - val_accuracy: 0.7537 - lr: 0.0010\n",
            "Epoch 22/100\n",
            "85/85 [==============================] - 32s 378ms/step - loss: 2.2892 - accuracy: 0.9729 - val_loss: 2.9170 - val_accuracy: 0.7537 - lr: 0.0010\n",
            "Epoch 23/100\n",
            "85/85 [==============================] - 32s 381ms/step - loss: 2.0579 - accuracy: 0.9885 - val_loss: 2.7432 - val_accuracy: 0.7582 - lr: 0.0010\n",
            "Epoch 24/100\n",
            "85/85 [==============================] - 32s 382ms/step - loss: 1.8925 - accuracy: 0.9844 - val_loss: 2.6017 - val_accuracy: 0.7582 - lr: 0.0010\n",
            "Epoch 25/100\n",
            "85/85 [==============================] - 32s 376ms/step - loss: 1.7346 - accuracy: 0.9874 - val_loss: 2.4528 - val_accuracy: 0.7567 - lr: 0.0010\n",
            "Epoch 26/100\n",
            "85/85 [==============================] - 32s 380ms/step - loss: 1.6023 - accuracy: 0.9859 - val_loss: 2.2829 - val_accuracy: 0.7626 - lr: 0.0010\n",
            "Epoch 27/100\n",
            "85/85 [==============================] - 32s 377ms/step - loss: 1.4680 - accuracy: 0.9859 - val_loss: 2.2456 - val_accuracy: 0.7507 - lr: 0.0010\n",
            "Epoch 28/100\n",
            "85/85 [==============================] - 32s 379ms/step - loss: 1.3399 - accuracy: 0.9848 - val_loss: 2.1064 - val_accuracy: 0.7300 - lr: 0.0010\n",
            "Epoch 29/100\n",
            "85/85 [==============================] - 32s 381ms/step - loss: 1.2202 - accuracy: 0.9877 - val_loss: 2.0075 - val_accuracy: 0.7418 - lr: 0.0010\n",
            "Epoch 30/100\n",
            "85/85 [==============================] - 32s 380ms/step - loss: 1.1119 - accuracy: 0.9896 - val_loss: 1.8553 - val_accuracy: 0.7671 - lr: 0.0010\n",
            "Epoch 31/100\n",
            "85/85 [==============================] - 32s 381ms/step - loss: 1.0240 - accuracy: 0.9874 - val_loss: 1.8296 - val_accuracy: 0.7463 - lr: 0.0010\n",
            "Epoch 32/100\n",
            "85/85 [==============================] - 32s 381ms/step - loss: 0.9280 - accuracy: 0.9911 - val_loss: 1.7146 - val_accuracy: 0.7404 - lr: 0.0010\n",
            "Epoch 33/100\n",
            "85/85 [==============================] - 32s 381ms/step - loss: 0.8536 - accuracy: 0.9877 - val_loss: 1.5946 - val_accuracy: 0.7596 - lr: 0.0010\n",
            "Epoch 34/100\n",
            "85/85 [==============================] - 32s 382ms/step - loss: 0.7834 - accuracy: 0.9881 - val_loss: 1.5685 - val_accuracy: 0.7522 - lr: 0.0010\n",
            "Epoch 35/100\n",
            "85/85 [==============================] - 32s 381ms/step - loss: 0.7214 - accuracy: 0.9922 - val_loss: 1.5232 - val_accuracy: 0.7359 - lr: 0.0010\n",
            "Epoch 36/100\n",
            "85/85 [==============================] - 32s 378ms/step - loss: 0.6638 - accuracy: 0.9926 - val_loss: 1.4498 - val_accuracy: 0.7596 - lr: 0.0010\n",
            "Epoch 37/100\n",
            "85/85 [==============================] - 32s 381ms/step - loss: 0.6066 - accuracy: 0.9918 - val_loss: 1.3946 - val_accuracy: 0.7493 - lr: 0.0010\n",
            "Epoch 38/100\n",
            "85/85 [==============================] - 32s 382ms/step - loss: 0.5568 - accuracy: 0.9911 - val_loss: 1.3818 - val_accuracy: 0.7493 - lr: 0.0010\n",
            "Epoch 39/100\n",
            "85/85 [==============================] - 32s 381ms/step - loss: 0.5110 - accuracy: 0.9922 - val_loss: 1.3204 - val_accuracy: 0.7582 - lr: 0.0010\n",
            "Epoch 40/100\n",
            "85/85 [==============================] - 32s 381ms/step - loss: 0.4731 - accuracy: 0.9929 - val_loss: 1.2726 - val_accuracy: 0.7567 - lr: 0.0010\n",
            "Epoch 41/100\n",
            "85/85 [==============================] - 32s 381ms/step - loss: 0.4324 - accuracy: 0.9933 - val_loss: 1.2271 - val_accuracy: 0.7641 - lr: 0.0010\n",
            "Epoch 42/100\n",
            "85/85 [==============================] - 33s 383ms/step - loss: 0.4062 - accuracy: 0.9926 - val_loss: 1.2053 - val_accuracy: 0.7626 - lr: 0.0010\n",
            "Epoch 43/100\n",
            "85/85 [==============================] - 32s 380ms/step - loss: 0.3675 - accuracy: 0.9952 - val_loss: 1.1927 - val_accuracy: 0.7567 - lr: 0.0010\n",
            "Epoch 44/100\n",
            "85/85 [==============================] - 32s 380ms/step - loss: 0.3493 - accuracy: 0.9922 - val_loss: 1.2084 - val_accuracy: 0.7507 - lr: 0.0010\n",
            "Epoch 45/100\n",
            "85/85 [==============================] - 32s 381ms/step - loss: 0.3289 - accuracy: 0.9915 - val_loss: 1.1474 - val_accuracy: 0.7596 - lr: 0.0010\n",
            "Epoch 46/100\n",
            "85/85 [==============================] - 33s 383ms/step - loss: 0.3148 - accuracy: 0.9918 - val_loss: 1.1333 - val_accuracy: 0.7522 - lr: 0.0010\n",
            "Epoch 47/100\n",
            "85/85 [==============================] - 32s 380ms/step - loss: 0.2923 - accuracy: 0.9918 - val_loss: 1.1174 - val_accuracy: 0.7329 - lr: 0.0010\n",
            "Epoch 48/100\n",
            "85/85 [==============================] - 32s 379ms/step - loss: 0.2643 - accuracy: 0.9952 - val_loss: 1.0669 - val_accuracy: 0.7567 - lr: 0.0010\n",
            "Epoch 49/100\n",
            "85/85 [==============================] - 33s 383ms/step - loss: 0.2483 - accuracy: 0.9933 - val_loss: 1.0296 - val_accuracy: 0.7715 - lr: 0.0010\n",
            "Epoch 50/100\n",
            "85/85 [==============================] - 32s 380ms/step - loss: 0.2406 - accuracy: 0.9929 - val_loss: 1.0820 - val_accuracy: 0.7596 - lr: 0.0010\n",
            "Epoch 51/100\n",
            "85/85 [==============================] - 32s 382ms/step - loss: 0.2417 - accuracy: 0.9889 - val_loss: 1.0522 - val_accuracy: 0.7626 - lr: 0.0010\n",
            "Epoch 52/100\n",
            "85/85 [==============================] - 32s 378ms/step - loss: 0.2318 - accuracy: 0.9922 - val_loss: 1.0701 - val_accuracy: 0.7745 - lr: 0.0010\n",
            "Epoch 53/100\n",
            "85/85 [==============================] - 32s 382ms/step - loss: 0.2084 - accuracy: 0.9948 - val_loss: 1.0165 - val_accuracy: 0.7685 - lr: 0.0010\n",
            "Epoch 54/100\n",
            "85/85 [==============================] - 32s 379ms/step - loss: 0.1876 - accuracy: 0.9963 - val_loss: 0.9927 - val_accuracy: 0.7656 - lr: 0.0010\n",
            "Epoch 55/100\n",
            "85/85 [==============================] - 32s 382ms/step - loss: 0.1811 - accuracy: 0.9978 - val_loss: 0.9900 - val_accuracy: 0.7611 - lr: 0.0010\n",
            "Epoch 56/100\n",
            "85/85 [==============================] - 32s 382ms/step - loss: 0.1783 - accuracy: 0.9929 - val_loss: 0.9848 - val_accuracy: 0.7522 - lr: 0.0010\n",
            "Epoch 57/100\n",
            "85/85 [==============================] - 32s 378ms/step - loss: 0.1684 - accuracy: 0.9955 - val_loss: 0.9705 - val_accuracy: 0.7700 - lr: 0.0010\n",
            "Epoch 58/100\n",
            "85/85 [==============================] - 32s 377ms/step - loss: 0.1639 - accuracy: 0.9944 - val_loss: 0.9752 - val_accuracy: 0.7507 - lr: 0.0010\n",
            "Epoch 59/100\n",
            "85/85 [==============================] - 32s 380ms/step - loss: 0.1446 - accuracy: 0.9974 - val_loss: 1.0041 - val_accuracy: 0.7626 - lr: 0.0010\n",
            "Epoch 60/100\n",
            "85/85 [==============================] - 32s 380ms/step - loss: 0.1415 - accuracy: 0.9944 - val_loss: 1.0353 - val_accuracy: 0.7478 - lr: 0.0010\n",
            "Epoch 61/100\n",
            "85/85 [==============================] - 32s 380ms/step - loss: 0.1576 - accuracy: 0.9907 - val_loss: 0.9860 - val_accuracy: 0.7478 - lr: 0.0010\n",
            "Epoch 62/100\n",
            "85/85 [==============================] - 32s 382ms/step - loss: 0.1393 - accuracy: 0.9944 - val_loss: 0.9618 - val_accuracy: 0.7611 - lr: 0.0010\n",
            "Epoch 63/100\n",
            "85/85 [==============================] - 32s 381ms/step - loss: 0.1326 - accuracy: 0.9933 - val_loss: 0.9252 - val_accuracy: 0.7582 - lr: 0.0010\n",
            "Epoch 64/100\n",
            "85/85 [==============================] - 32s 378ms/step - loss: 0.1321 - accuracy: 0.9937 - val_loss: 0.9594 - val_accuracy: 0.7685 - lr: 0.0010\n",
            "Epoch 65/100\n",
            "85/85 [==============================] - 32s 381ms/step - loss: 0.1245 - accuracy: 0.9918 - val_loss: 0.9386 - val_accuracy: 0.7715 - lr: 0.0010\n",
            "Epoch 66/100\n",
            "85/85 [==============================] - 32s 382ms/step - loss: 0.1062 - accuracy: 0.9963 - val_loss: 0.8676 - val_accuracy: 0.7774 - lr: 0.0010\n",
            "Epoch 67/100\n",
            "85/85 [==============================] - 32s 375ms/step - loss: 0.1001 - accuracy: 0.9959 - val_loss: 0.8807 - val_accuracy: 0.7760 - lr: 0.0010\n",
            "Epoch 68/100\n",
            "85/85 [==============================] - 32s 377ms/step - loss: 0.1072 - accuracy: 0.9952 - val_loss: 0.9120 - val_accuracy: 0.7641 - lr: 0.0010\n",
            "Epoch 69/100\n",
            "85/85 [==============================] - 32s 378ms/step - loss: 0.0927 - accuracy: 0.9963 - val_loss: 1.0184 - val_accuracy: 0.7404 - lr: 0.0010\n",
            "Epoch 70/100\n",
            "85/85 [==============================] - 32s 377ms/step - loss: 0.0834 - accuracy: 0.9981 - val_loss: 0.9409 - val_accuracy: 0.7611 - lr: 0.0010\n",
            "Epoch 71/100\n",
            "85/85 [==============================] - ETA: 0s - loss: 0.0871 - accuracy: 0.9944\n",
            "Epoch 71: ReduceLROnPlateau reducing learning rate to 0.00010000000474974513.\n",
            "85/85 [==============================] - 32s 380ms/step - loss: 0.0871 - accuracy: 0.9944 - val_loss: 0.9137 - val_accuracy: 0.7641 - lr: 0.0010\n",
            "Epoch 72/100\n",
            "85/85 [==============================] - 32s 380ms/step - loss: 0.0777 - accuracy: 0.9978 - val_loss: 0.8936 - val_accuracy: 0.7641 - lr: 1.0000e-04\n",
            "Epoch 73/100\n",
            "85/85 [==============================] - 32s 381ms/step - loss: 0.0804 - accuracy: 0.9974 - val_loss: 0.8860 - val_accuracy: 0.7685 - lr: 1.0000e-04\n",
            "Epoch 74/100\n",
            "85/85 [==============================] - 32s 380ms/step - loss: 0.0782 - accuracy: 0.9978 - val_loss: 0.8747 - val_accuracy: 0.7700 - lr: 1.0000e-04\n",
            "Epoch 75/100\n",
            "85/85 [==============================] - 32s 382ms/step - loss: 0.0730 - accuracy: 0.9981 - val_loss: 0.8663 - val_accuracy: 0.7774 - lr: 1.0000e-04\n",
            "Epoch 76/100\n",
            "85/85 [==============================] - 32s 381ms/step - loss: 0.0740 - accuracy: 0.9985 - val_loss: 0.8565 - val_accuracy: 0.7745 - lr: 1.0000e-04\n",
            "Epoch 77/100\n",
            "85/85 [==============================] - 32s 380ms/step - loss: 0.0732 - accuracy: 0.9978 - val_loss: 0.8545 - val_accuracy: 0.7760 - lr: 1.0000e-04\n",
            "Epoch 78/100\n",
            "85/85 [==============================] - 32s 380ms/step - loss: 0.0734 - accuracy: 0.9981 - val_loss: 0.8557 - val_accuracy: 0.7730 - lr: 1.0000e-04\n",
            "Epoch 79/100\n",
            "85/85 [==============================] - 32s 380ms/step - loss: 0.0693 - accuracy: 0.9989 - val_loss: 0.8562 - val_accuracy: 0.7760 - lr: 1.0000e-04\n",
            "Epoch 80/100\n",
            "85/85 [==============================] - 32s 382ms/step - loss: 0.0665 - accuracy: 0.9989 - val_loss: 0.8479 - val_accuracy: 0.7730 - lr: 1.0000e-04\n",
            "Epoch 81/100\n",
            "85/85 [==============================] - 32s 378ms/step - loss: 0.0675 - accuracy: 0.9981 - val_loss: 0.8422 - val_accuracy: 0.7715 - lr: 1.0000e-04\n",
            "Epoch 82/100\n",
            "85/85 [==============================] - 32s 376ms/step - loss: 0.0779 - accuracy: 0.9985 - val_loss: 0.8479 - val_accuracy: 0.7656 - lr: 1.0000e-04\n",
            "Epoch 83/100\n",
            "85/85 [==============================] - 32s 381ms/step - loss: 0.0732 - accuracy: 0.9959 - val_loss: 0.8450 - val_accuracy: 0.7700 - lr: 1.0000e-04\n",
            "Epoch 84/100\n",
            "85/85 [==============================] - 32s 382ms/step - loss: 0.0684 - accuracy: 0.9970 - val_loss: 0.8365 - val_accuracy: 0.7715 - lr: 1.0000e-04\n",
            "Epoch 85/100\n",
            "85/85 [==============================] - 32s 380ms/step - loss: 0.0640 - accuracy: 0.9985 - val_loss: 0.8328 - val_accuracy: 0.7715 - lr: 1.0000e-04\n",
            "Epoch 86/100\n",
            "85/85 [==============================] - 32s 380ms/step - loss: 0.0663 - accuracy: 0.9985 - val_loss: 0.8342 - val_accuracy: 0.7671 - lr: 1.0000e-04\n",
            "Epoch 87/100\n",
            "85/85 [==============================] - 32s 377ms/step - loss: 0.0641 - accuracy: 0.9981 - val_loss: 0.8311 - val_accuracy: 0.7700 - lr: 1.0000e-04\n",
            "Epoch 88/100\n",
            "85/85 [==============================] - 32s 378ms/step - loss: 0.0655 - accuracy: 0.9985 - val_loss: 0.8364 - val_accuracy: 0.7685 - lr: 1.0000e-04\n",
            "Epoch 89/100\n",
            "85/85 [==============================] - 32s 380ms/step - loss: 0.0669 - accuracy: 0.9978 - val_loss: 0.8292 - val_accuracy: 0.7760 - lr: 1.0000e-04\n",
            "Epoch 90/100\n",
            "85/85 [==============================] - 32s 380ms/step - loss: 0.0634 - accuracy: 0.9985 - val_loss: 0.8249 - val_accuracy: 0.7760 - lr: 1.0000e-04\n",
            "Epoch 91/100\n",
            "85/85 [==============================] - 32s 380ms/step - loss: 0.0624 - accuracy: 0.9989 - val_loss: 0.8250 - val_accuracy: 0.7715 - lr: 1.0000e-04\n",
            "Epoch 92/100\n",
            "85/85 [==============================] - 32s 380ms/step - loss: 0.0612 - accuracy: 0.9978 - val_loss: 0.8210 - val_accuracy: 0.7700 - lr: 1.0000e-04\n",
            "Epoch 93/100\n",
            "85/85 [==============================] - 32s 380ms/step - loss: 0.0607 - accuracy: 0.9989 - val_loss: 0.8264 - val_accuracy: 0.7745 - lr: 1.0000e-04\n",
            "Epoch 94/100\n",
            "85/85 [==============================] - 32s 381ms/step - loss: 0.0601 - accuracy: 0.9989 - val_loss: 0.8127 - val_accuracy: 0.7760 - lr: 1.0000e-04\n",
            "Epoch 95/100\n",
            "85/85 [==============================] - 32s 380ms/step - loss: 0.0619 - accuracy: 0.9985 - val_loss: 0.8121 - val_accuracy: 0.7730 - lr: 1.0000e-04\n",
            "Epoch 96/100\n",
            "85/85 [==============================] - 32s 381ms/step - loss: 0.0653 - accuracy: 0.9974 - val_loss: 0.8119 - val_accuracy: 0.7715 - lr: 1.0000e-04\n",
            "Epoch 97/100\n",
            "85/85 [==============================] - 32s 378ms/step - loss: 0.0589 - accuracy: 0.9993 - val_loss: 0.8168 - val_accuracy: 0.7760 - lr: 1.0000e-04\n",
            "Epoch 98/100\n",
            "85/85 [==============================] - 32s 377ms/step - loss: 0.0546 - accuracy: 0.9981 - val_loss: 0.8236 - val_accuracy: 0.7745 - lr: 1.0000e-04\n",
            "Epoch 99/100\n",
            "85/85 [==============================] - 32s 377ms/step - loss: 0.0606 - accuracy: 0.9978 - val_loss: 0.8242 - val_accuracy: 0.7760 - lr: 1.0000e-04\n",
            "Epoch 100/100\n",
            "85/85 [==============================] - 32s 377ms/step - loss: 0.0617 - accuracy: 0.9970 - val_loss: 0.8160 - val_accuracy: 0.7715 - lr: 1.0000e-04\n"
          ]
        }
      ]
    },
    {
      "cell_type": "code",
      "source": [
        "model.save('/content/')"
      ],
      "metadata": {
        "colab": {
          "base_uri": "https://localhost:8080/"
        },
        "id": "fOGSewMSw54-",
        "outputId": "bad50a91-f0f9-4452-c473-add36ed94903"
      },
      "execution_count": null,
      "outputs": [
        {
          "output_type": "stream",
          "name": "stdout",
          "text": [
            "INFO:tensorflow:Assets written to: /content/assets\n"
          ]
        }
      ]
    },
    {
      "cell_type": "code",
      "source": [
        "histories['EfficientNetB1'] = history"
      ],
      "metadata": {
        "id": "q4aGJNPA0lmm"
      },
      "execution_count": null,
      "outputs": []
    },
    {
      "cell_type": "code",
      "source": [
        "plt.figure(figsize=(45,15))\n",
        "plt.subplot(2,4,1)\n",
        "plotter = tfdocs.plots.HistoryPlotter(metric = 'accuracy', smoothing_std=10)\n",
        "plotter.plot(histories)\n",
        "plt.title(\"Learning Curve - Accuracy\") \n",
        "plt.ylim([0, 1])\n",
        "plt.subplot(2,4,2)\n",
        "plotter = tfdocs.plots.HistoryPlotter(metric = 'loss', smoothing_std=10)\n",
        "plotter.plot(histories)\n",
        "plt.title(\"Learning Curve - Loss\") \n",
        "plt.ylim([0, 20])"
      ],
      "metadata": {
        "colab": {
          "base_uri": "https://localhost:8080/",
          "height": 467
        },
        "id": "_s6Yv2-c2ZCs",
        "outputId": "f60af398-7ad0-4016-8549-f5789b5af17d"
      },
      "execution_count": null,
      "outputs": [
        {
          "output_type": "execute_result",
          "data": {
            "text/plain": [
              "(0.0, 20.0)"
            ]
          },
          "metadata": {},
          "execution_count": 16
        },
        {
          "output_type": "display_data",
          "data": {
            "text/plain": [
              "<Figure size 3240x1080 with 2 Axes>"
            ],
            "image/png": "[encoded data removed]"
          },
          "metadata": {
            "needs_background": "light"
          }
        }
      ]
    },
    {
      "cell_type": "code",
      "source": [
        "pred=model.predict(X_test)\n",
        "y_pred=[]\n",
        "for p in pred:\n",
        "  pred_index=np.argmax(p)\n",
        "  y_pred.append(pred_index)\n",
        "y_ture=[]\n",
        "for p in y_test:\n",
        "  pred_index=np.argmax(p)\n",
        "  y_ture.append(pred_index)\n",
        "y_true = np.array(y_ture)\n",
        "y_pred = np.array(y_pred)"
      ],
      "metadata": {
        "id": "nnQPXQEeUIb6"
      },
      "execution_count": null,
      "outputs": []
    },
    {
      "cell_type": "code",
      "source": [
        "cm = confusion_matrix(y_true, y_pred)\n",
        "sns.heatmap(cm, annot=True, vmin=0, fmt='g', cmap='Blues', cbar=False)\n",
        "plt.xticks(np.arange(7)+0.5, labels, rotation= 90)\n",
        "plt.yticks(np.arange(7)+0.5, labels, rotation=0)\n",
        "plt.xlabel(\"Predicted\")\n",
        "plt.ylabel(\"Actual\")\n",
        "plt.title(\"Confusion Matrix\")"
      ],
      "metadata": {
        "id": "WSwN2rcHUYtS",
        "colab": {
          "base_uri": "https://localhost:8080/",
          "height": 330
        },
        "outputId": "e931f42a-be71-4039-c29d-eecab2daf9e9"
      },
      "execution_count": null,
      "outputs": [
        {
          "output_type": "execute_result",
          "data": {
            "text/plain": [
              "Text(0.5, 1.0, 'Confusion Matrix')"
            ]
          },
          "metadata": {},
          "execution_count": 18
        },
        {
          "output_type": "display_data",
          "data": {
            "text/plain": [
              "<Figure size 432x288 with 1 Axes>"
            ],
            "image/png": "[encoded data removed]"
          },
          "metadata": {
            "needs_background": "light"
          }
        }
      ]
    },
    {
      "cell_type": "code",
      "source": [
        "clr = classification_report(y_true, y_pred, target_names=labels)\n",
        "print(\"Classification Report:\")\n",
        "print(\"=====================================================\")\n",
        "print(clr)"
      ],
      "metadata": {
        "id": "kTr4sRdld1uf",
        "colab": {
          "base_uri": "https://localhost:8080/"
        },
        "outputId": "578c3545-8986-4e48-b7d0-0ad971eba177"
      },
      "execution_count": null,
      "outputs": [
        {
          "output_type": "stream",
          "name": "stdout",
          "text": [
            "Classification Report:\n",
            "=====================================================\n",
            "              precision    recall  f1-score   support\n",
            "\n",
            "       akiec       0.63      0.81      0.71       102\n",
            "         bcc       0.80      0.77      0.79       169\n",
            "         bkl       0.79      0.74      0.77       340\n",
            "          df       0.59      0.74      0.66        31\n",
            "         mel       0.67      0.69      0.68       299\n",
            "          nv       0.86      0.83      0.85       454\n",
            "        vasc       0.81      0.81      0.81        48\n",
            "\n",
            "    accuracy                           0.77      1443\n",
            "   macro avg       0.74      0.77      0.75      1443\n",
            "weighted avg       0.78      0.77      0.77      1443\n",
            "\n"
          ]
        }
      ]
    },
    {
      "cell_type": "code",
      "source": [
        "model.evaluate(X_test, y_test)"
      ],
      "metadata": {
        "colab": {
          "base_uri": "https://localhost:8080/"
        },
        "id": "eBQEFHXfUcM9",
        "outputId": "6ed2abb9-4a80-49f8-bec5-2fad1fbead11"
      },
      "execution_count": null,
      "outputs": [
        {
          "output_type": "stream",
          "name": "stdout",
          "text": [
            "46/46 [==============================] - 3s 64ms/step - loss: 0.9681 - accuracy: 0.7692\n"
          ]
        },
        {
          "output_type": "execute_result",
          "data": {
            "text/plain": [
              "[0.9681063890457153, 0.7692307829856873]"
            ]
          },
          "metadata": {},
          "execution_count": 20
        }
      ]
    },
    {
      "cell_type": "code",
      "source": [
        "from google.colab import files\n",
        "files.download('/content/saved_model.pb') "
      ],
      "metadata": {
        "id": "c54HXISvsIkK",
        "colab": {
          "base_uri": "https://localhost:8080/",
          "height": 17
        },
        "outputId": "9362d133-d742-42f7-c679-7bafa44cfd89"
      },
      "execution_count": null,
      "outputs": [
        {
          "output_type": "display_data",
          "data": {
            "text/plain": [
              "<IPython.core.display.Javascript object>"
            ],
            "application/javascript": [
              "\n",
              "    async function download(id, filename, size) {\n",
              "      if (!google.colab.kernel.accessAllowed) {\n",
              "        return;\n",
              "      }\n",
              "      const div = document.createElement('div');\n",
              "      const label = document.createElement('label');\n",
              "      label.textContent = `Downloading \"${filename}\": `;\n",
              "      div.appendChild(label);\n",
              "      const progress = document.createElement('progress');\n",
              "      progress.max = size;\n",
              "      div.appendChild(progress);\n",
              "      document.body.appendChild(div);\n",
              "\n",
              "      const buffers = [];\n",
              "      let downloaded = 0;\n",
              "\n",
              "      const channel = await google.colab.kernel.comms.open(id);\n",
              "      // Send a message to notify the kernel that we're ready.\n",
              "      channel.send({})\n",
              "\n",
              "      for await (const message of channel.messages) {\n",
              "        // Send a message to notify the kernel that we're ready.\n",
              "        channel.send({})\n",
              "        if (message.buffers) {\n",
              "          for (const buffer of message.buffers) {\n",
              "            buffers.push(buffer);\n",
              "            downloaded += buffer.byteLength;\n",
              "            progress.value = downloaded;\n",
              "          }\n",
              "        }\n",
              "      }\n",
              "      const blob = new Blob(buffers, {type: 'application/binary'});\n",
              "      const a = document.createElement('a');\n",
              "      a.href = window.URL.createObjectURL(blob);\n",
              "      a.download = filename;\n",
              "      div.appendChild(a);\n",
              "      a.click();\n",
              "      div.remove();\n",
              "    }\n",
              "  "
            ]
          },
          "metadata": {}
        },
        {
          "output_type": "display_data",
          "data": {
            "text/plain": [
              "<IPython.core.display.Javascript object>"
            ],
            "application/javascript": [
              "download(\"download_a6cd47fd-f788-4a8f-87f2-114918845569\", \"saved_model.pb\", 8578417)"
            ]
          },
          "metadata": {}
        }
      ]
    }
  ]
}