{
  "nbformat": 4,
  "nbformat_minor": 0,
  "metadata": {
    "colab": {
      "name": "CNN_main.ipynb",
      "provenance": [],
      "collapsed_sections": [],
      "machine_shape": "hm"
    },
    "kernelspec": {
      "name": "python3",
      "display_name": "Python 3"
    },
    "language_info": {
      "name": "python"
    },
    "accelerator": "GPU"
  },
  "cells": [
    {
      "cell_type": "code",
      "source": [
        "!pwd\n",
        "import os\n",
        "os.environ['KAGGLE_CONFIG_DIR'] = \"/content\""
      ],
      "metadata": {
        "id": "Xbn9UU0UhWwd",
        "colab": {
          "base_uri": "https://localhost:8080/"
        },
        "outputId": "5bd32e8f-8c9f-43fd-fa43-ccd3435bce00"
      },
      "execution_count": 1,
      "outputs": [
        {
          "output_type": "stream",
          "name": "stdout",
          "text": [
            "/content\n"
          ]
        }
      ]
    },
    {
      "cell_type": "code",
      "source": [
        "!kaggle datasets download -d surajghuwalewala/ham1000-segmentation-and-classification\n",
        "!unzip /content/ham1000-segmentation-and-classification.zip"
      ],
      "metadata": {
        "id": "_TpI8ifahW2z"
      },
      "execution_count": null,
      "outputs": []
    },
    {
      "cell_type": "code",
      "execution_count": 3,
      "metadata": {
        "colab": {
          "base_uri": "https://localhost:8080/"
        },
        "id": "MUcW2QjaqDJh",
        "outputId": "1235867a-68e6-49e1-c0fa-3d42b794f246"
      },
      "outputs": [
        {
          "output_type": "stream",
          "name": "stdout",
          "text": [
            "Looking in indexes: https://pypi.org/simple, https://us-python.pkg.dev/colab-wheels/public/simple/\n",
            "Collecting git+https://github.com/tensorflow/docs\n",
            "  Cloning https://github.com/tensorflow/docs to /tmp/pip-req-build-1bdu37eq\n",
            "  Running command git clone -q https://github.com/tensorflow/docs /tmp/pip-req-build-1bdu37eq\n",
            "Requirement already satisfied: astor in /usr/local/lib/python3.7/dist-packages (from tensorflow-docs==0.0.0.dev0) (0.8.1)\n",
            "Requirement already satisfied: absl-py in /usr/local/lib/python3.7/dist-packages (from tensorflow-docs==0.0.0.dev0) (1.0.0)\n",
            "Requirement already satisfied: jinja2 in /usr/local/lib/python3.7/dist-packages (from tensorflow-docs==0.0.0.dev0) (2.11.3)\n",
            "Requirement already satisfied: protobuf>=3.14 in /usr/local/lib/python3.7/dist-packages (from tensorflow-docs==0.0.0.dev0) (3.17.3)\n",
            "Requirement already satisfied: pyyaml in /usr/local/lib/python3.7/dist-packages (from tensorflow-docs==0.0.0.dev0) (3.13)\n",
            "Requirement already satisfied: six>=1.9 in /usr/local/lib/python3.7/dist-packages (from protobuf>=3.14->tensorflow-docs==0.0.0.dev0) (1.15.0)\n",
            "Requirement already satisfied: MarkupSafe>=0.23 in /usr/local/lib/python3.7/dist-packages (from jinja2->tensorflow-docs==0.0.0.dev0) (2.0.1)\n",
            "Building wheels for collected packages: tensorflow-docs\n",
            "  Building wheel for tensorflow-docs (setup.py) ... \u001b[?25l\u001b[?25hdone\n",
            "  Created wheel for tensorflow-docs: filename=tensorflow_docs-0.0.0.dev0-py3-none-any.whl size=179891 sha256=141f00d876ef2baa37177c5aa04cad3e981f823415c485d2773def20c8c4d143\n",
            "  Stored in directory: /tmp/pip-ephem-wheel-cache-8t10q72k/wheels/cc/c4/d8/5341e93b6376c5c929c49469fce21155eb69cef1a4da4ce32c\n",
            "Successfully built tensorflow-docs\n",
            "Installing collected packages: tensorflow-docs\n",
            "Successfully installed tensorflow-docs-0.0.0.dev0\n"
          ]
        }
      ],
      "source": [
        "!pip install git+https://github.com/tensorflow/docs"
      ]
    },
    {
      "cell_type": "code",
      "source": [
        "!pip install -q -U keras-tuner"
      ],
      "metadata": {
        "colab": {
          "base_uri": "https://localhost:8080/"
        },
        "id": "Zfu9FoLOVpuL",
        "outputId": "3e20ebf2-4fec-4b12-be8a-b15f475d065f"
      },
      "execution_count": 4,
      "outputs": [
        {
          "output_type": "stream",
          "name": "stdout",
          "text": [
            "\u001b[?25l\r\u001b[K     |██▌                             | 10 kB 29.7 MB/s eta 0:00:01\r\u001b[K     |█████                           | 20 kB 21.1 MB/s eta 0:00:01\r\u001b[K     |███████▍                        | 30 kB 10.7 MB/s eta 0:00:01\r\u001b[K     |█████████▉                      | 40 kB 4.4 MB/s eta 0:00:01\r\u001b[K     |████████████▎                   | 51 kB 4.3 MB/s eta 0:00:01\r\u001b[K     |██████████████▊                 | 61 kB 5.1 MB/s eta 0:00:01\r\u001b[K     |█████████████████▏              | 71 kB 5.5 MB/s eta 0:00:01\r\u001b[K     |███████████████████▋            | 81 kB 5.4 MB/s eta 0:00:01\r\u001b[K     |██████████████████████          | 92 kB 6.1 MB/s eta 0:00:01\r\u001b[K     |████████████████████████▌       | 102 kB 5.1 MB/s eta 0:00:01\r\u001b[K     |███████████████████████████     | 112 kB 5.1 MB/s eta 0:00:01\r\u001b[K     |█████████████████████████████▍  | 122 kB 5.1 MB/s eta 0:00:01\r\u001b[K     |███████████████████████████████▉| 133 kB 5.1 MB/s eta 0:00:01\r\u001b[K     |████████████████████████████████| 133 kB 5.1 MB/s \n",
            "\u001b[?25h"
          ]
        }
      ]
    },
    {
      "cell_type": "code",
      "source": [
        "import numpy as np \n",
        "import pandas as pd\n",
        "import tensorflow as tf\n",
        "\n",
        "from PIL import Image\n",
        "from tensorflow import keras\n",
        "import tensorflow_docs as tfdocs\n",
        "import tensorflow_docs.modeling\n",
        "import tensorflow_docs.plots\n",
        "from tensorflow.keras import regularizers\n",
        "from tensorflow.keras.preprocessing.image import ImageDataGenerator\n",
        "from keras.utils.np_utils import to_categorical\n",
        "import matplotlib.pyplot as plt\n",
        "from sklearn.model_selection import train_test_split\n",
        "from sklearn.metrics import confusion_matrix, classification_report\n",
        "import seaborn as sns\n",
        "from matplotlib.pyplot import imshow"
      ],
      "metadata": {
        "id": "2OIZJX75q5ky"
      },
      "execution_count": 5,
      "outputs": []
    },
    {
      "cell_type": "code",
      "source": [
        "import data_helper as dh\n",
        "import model_build_helper as mbh"
      ],
      "metadata": {
        "id": "W4jZ6ofRUqwj"
      },
      "execution_count": 6,
      "outputs": []
    },
    {
      "cell_type": "code",
      "source": [
        "df_o = pd.read_csv('../content/drive/MyDrive/DSE_I2100/data/HAM10000_metadata.csv')\n",
        "image_path = r'../content/images/'"
      ],
      "metadata": {
        "id": "t2bIJaXBxOVM"
      },
      "execution_count": 8,
      "outputs": []
    },
    {
      "cell_type": "code",
      "source": [
        "h = 240\n",
        "w = 240\n",
        "aug_targets = ['mel', 'bcc']\n",
        "aug_count = 0\n",
        "aug_size = 0\n",
        "\n",
        "train_set, test_set, class_weight, labels = dh.prep_pipeline1(df_o, image_path, 1500, h, w, aug_targets, aug_count, aug_size)"
      ],
      "metadata": {
        "id": "CL1itcmyM-Se"
      },
      "execution_count": 9,
      "outputs": []
    },
    {
      "cell_type": "code",
      "source": [
        "X_train1 = train_set[0]\n",
        "X_train2 = train_set[1]\n",
        "y_train = train_set[2]\n",
        "\n",
        "X_test1 = test_set[0]\n",
        "X_test2 = test_set[1]\n",
        "y_test = test_set[2]"
      ],
      "metadata": {
        "id": "JyJPdn-LNLek"
      },
      "execution_count": 10,
      "outputs": []
    },
    {
      "cell_type": "code",
      "source": [
        "print(X_train1.shape, X_test1.shape, X_train2.shape, X_test2.shape, y_train.shape, y_test.shape)"
      ],
      "metadata": {
        "colab": {
          "base_uri": "https://localhost:8080/"
        },
        "id": "ISR6jhMLOlbJ",
        "outputId": "055ed4ac-564a-41b4-86ef-9595d0fa258a"
      },
      "execution_count": 11,
      "outputs": [
        {
          "output_type": "stream",
          "name": "stdout",
          "text": [
            "(3367, 240, 240, 3) (1443, 240, 240, 3) (3367, 20) (1443, 20) (3367, 7) (1443, 7)\n"
          ]
        }
      ]
    },
    {
      "cell_type": "code",
      "source": [
        "histories = {}\n",
        "\n",
        "channels = 3\n",
        "img_shape = (h, w, channels)\n",
        "\n",
        "def get_callbacks():\n",
        "  return [\n",
        "    tf.keras.callbacks.EarlyStopping(monitor='val_loss', patience=10, verbose=1, mode='auto', restore_best_weights=True),\n",
        "    tf.keras.callbacks.ReduceLROnPlateau(monitor='val_loss', factor=0.1, patience=5, verbose=1, mode='auto')      \n",
        "  ]"
      ],
      "metadata": {
        "id": "y_w8tVTfrAp0"
      },
      "execution_count": 12,
      "outputs": []
    },
    {
      "cell_type": "code",
      "source": [
        "model = mbh.model_builder_c(img_shape, 288, 0.001)"
      ],
      "metadata": {
        "id": "e6CCdu_Uwivh",
        "colab": {
          "base_uri": "https://localhost:8080/"
        },
        "outputId": "3277e694-b49b-4a3b-dab8-2aea33d9b4b6"
      },
      "execution_count": 13,
      "outputs": [
        {
          "output_type": "stream",
          "name": "stdout",
          "text": [
            "Downloading data from https://storage.googleapis.com/keras-applications/efficientnetb1_notop.h5\n",
            "27025408/27018416 [==============================] - 0s 0us/step\n",
            "27033600/27018416 [==============================] - 0s 0us/step\n"
          ]
        }
      ]
    },
    {
      "cell_type": "code",
      "source": [
        "history = model.fit([X_train1, X_train2],\n",
        "                    y_train, \n",
        "                    epochs=100, \n",
        "                    validation_split=0.2, \n",
        "                    callbacks=get_callbacks(),\n",
        "                    class_weight=class_weight)"
      ],
      "metadata": {
        "colab": {
          "base_uri": "https://localhost:8080/"
        },
        "id": "6wLlCxZiyuVa",
        "outputId": "85abf6de-6203-49ec-d6e7-8b6e6e2bb9c8"
      },
      "execution_count": 14,
      "outputs": [
        {
          "output_type": "stream",
          "name": "stdout",
          "text": [
            "Epoch 1/100\n",
            "85/85 [==============================] - 71s 542ms/step - loss: 10.3391 - accuracy: 0.3023 - val_loss: 5.1467 - val_accuracy: 0.3487 - lr: 0.0010\n",
            "Epoch 2/100\n",
            "85/85 [==============================] - 43s 504ms/step - loss: 5.5887 - accuracy: 0.5511 - val_loss: 4.6248 - val_accuracy: 0.4510 - lr: 0.0010\n",
            "Epoch 3/100\n",
            "85/85 [==============================] - 44s 512ms/step - loss: 4.6388 - accuracy: 0.6357 - val_loss: 4.0286 - val_accuracy: 0.5668 - lr: 0.0010\n",
            "Epoch 4/100\n",
            "85/85 [==============================] - 43s 507ms/step - loss: 3.9655 - accuracy: 0.7130 - val_loss: 3.7319 - val_accuracy: 0.6187 - lr: 0.0010\n",
            "Epoch 5/100\n",
            "85/85 [==============================] - 43s 509ms/step - loss: 3.6428 - accuracy: 0.7672 - val_loss: 3.5117 - val_accuracy: 0.6573 - lr: 0.0010\n",
            "Epoch 6/100\n",
            "85/85 [==============================] - 43s 510ms/step - loss: 3.3847 - accuracy: 0.8021 - val_loss: 3.3073 - val_accuracy: 0.6855 - lr: 0.0010\n",
            "Epoch 7/100\n",
            "85/85 [==============================] - 43s 508ms/step - loss: 3.1302 - accuracy: 0.8266 - val_loss: 3.2360 - val_accuracy: 0.6884 - lr: 0.0010\n",
            "Epoch 8/100\n",
            "85/85 [==============================] - 43s 509ms/step - loss: 2.9283 - accuracy: 0.8537 - val_loss: 3.1824 - val_accuracy: 0.6914 - lr: 0.0010\n",
            "Epoch 9/100\n",
            "85/85 [==============================] - 43s 510ms/step - loss: 2.7734 - accuracy: 0.8749 - val_loss: 3.0728 - val_accuracy: 0.7151 - lr: 0.0010\n",
            "Epoch 10/100\n",
            "85/85 [==============================] - 43s 508ms/step - loss: 2.5813 - accuracy: 0.9027 - val_loss: 3.0059 - val_accuracy: 0.7240 - lr: 0.0010\n",
            "Epoch 11/100\n",
            "85/85 [==============================] - 43s 509ms/step - loss: 2.4455 - accuracy: 0.9120 - val_loss: 2.9305 - val_accuracy: 0.7240 - lr: 0.0010\n",
            "Epoch 12/100\n",
            "85/85 [==============================] - 43s 508ms/step - loss: 2.3266 - accuracy: 0.9291 - val_loss: 2.8976 - val_accuracy: 0.7404 - lr: 0.0010\n",
            "Epoch 13/100\n",
            "85/85 [==============================] - 43s 508ms/step - loss: 2.2205 - accuracy: 0.9410 - val_loss: 2.8858 - val_accuracy: 0.7344 - lr: 0.0010\n",
            "Epoch 14/100\n",
            "85/85 [==============================] - 43s 507ms/step - loss: 2.1328 - accuracy: 0.9469 - val_loss: 2.7985 - val_accuracy: 0.7329 - lr: 0.0010\n",
            "Epoch 15/100\n",
            "85/85 [==============================] - 43s 507ms/step - loss: 1.9886 - accuracy: 0.9632 - val_loss: 2.7292 - val_accuracy: 0.7329 - lr: 0.0010\n",
            "Epoch 16/100\n",
            "85/85 [==============================] - 43s 509ms/step - loss: 1.9167 - accuracy: 0.9625 - val_loss: 2.6966 - val_accuracy: 0.7270 - lr: 0.0010\n",
            "Epoch 17/100\n",
            "85/85 [==============================] - 43s 507ms/step - loss: 1.8708 - accuracy: 0.9558 - val_loss: 2.6502 - val_accuracy: 0.7285 - lr: 0.0010\n",
            "Epoch 18/100\n",
            "85/85 [==============================] - 43s 507ms/step - loss: 1.7590 - accuracy: 0.9670 - val_loss: 2.6030 - val_accuracy: 0.7507 - lr: 0.0010\n",
            "Epoch 19/100\n",
            "85/85 [==============================] - 43s 506ms/step - loss: 1.7163 - accuracy: 0.9640 - val_loss: 2.6615 - val_accuracy: 0.7196 - lr: 0.0010\n",
            "Epoch 20/100\n",
            "85/85 [==============================] - 43s 509ms/step - loss: 1.6636 - accuracy: 0.9632 - val_loss: 2.5342 - val_accuracy: 0.7255 - lr: 0.0010\n",
            "Epoch 21/100\n",
            "85/85 [==============================] - 43s 508ms/step - loss: 1.6343 - accuracy: 0.9688 - val_loss: 2.4603 - val_accuracy: 0.7389 - lr: 0.0010\n",
            "Epoch 22/100\n",
            "85/85 [==============================] - 43s 507ms/step - loss: 1.5714 - accuracy: 0.9670 - val_loss: 2.3805 - val_accuracy: 0.7418 - lr: 0.0010\n",
            "Epoch 23/100\n",
            "85/85 [==============================] - 43s 508ms/step - loss: 1.4273 - accuracy: 0.9755 - val_loss: 2.2681 - val_accuracy: 0.7656 - lr: 0.0010\n",
            "Epoch 24/100\n",
            "85/85 [==============================] - 43s 509ms/step - loss: 1.3654 - accuracy: 0.9762 - val_loss: 2.2502 - val_accuracy: 0.7507 - lr: 0.0010\n",
            "Epoch 25/100\n",
            "85/85 [==============================] - 43s 508ms/step - loss: 1.3236 - accuracy: 0.9796 - val_loss: 2.2378 - val_accuracy: 0.7329 - lr: 0.0010\n",
            "Epoch 26/100\n",
            "85/85 [==============================] - 43s 508ms/step - loss: 1.2562 - accuracy: 0.9822 - val_loss: 2.1687 - val_accuracy: 0.7507 - lr: 0.0010\n",
            "Epoch 27/100\n",
            "85/85 [==============================] - 43s 507ms/step - loss: 1.1842 - accuracy: 0.9851 - val_loss: 2.1812 - val_accuracy: 0.7344 - lr: 0.0010\n",
            "Epoch 28/100\n",
            "85/85 [==============================] - 43s 509ms/step - loss: 1.1638 - accuracy: 0.9859 - val_loss: 2.1242 - val_accuracy: 0.7537 - lr: 0.0010\n",
            "Epoch 29/100\n",
            "85/85 [==============================] - 43s 505ms/step - loss: 1.1631 - accuracy: 0.9796 - val_loss: 2.0972 - val_accuracy: 0.7359 - lr: 0.0010\n",
            "Epoch 30/100\n",
            "85/85 [==============================] - 43s 507ms/step - loss: 1.1193 - accuracy: 0.9803 - val_loss: 2.0746 - val_accuracy: 0.7270 - lr: 0.0010\n",
            "Epoch 31/100\n",
            "85/85 [==============================] - 43s 509ms/step - loss: 1.0003 - accuracy: 0.9829 - val_loss: 1.9877 - val_accuracy: 0.7596 - lr: 0.0010\n",
            "Epoch 32/100\n",
            "85/85 [==============================] - 43s 509ms/step - loss: 1.0184 - accuracy: 0.9811 - val_loss: 1.9579 - val_accuracy: 0.7433 - lr: 0.0010\n",
            "Epoch 33/100\n",
            "85/85 [==============================] - 43s 508ms/step - loss: 0.9282 - accuracy: 0.9866 - val_loss: 1.9111 - val_accuracy: 0.7463 - lr: 0.0010\n",
            "Epoch 34/100\n",
            "85/85 [==============================] - 43s 506ms/step - loss: 0.8999 - accuracy: 0.9855 - val_loss: 1.8867 - val_accuracy: 0.7626 - lr: 0.0010\n",
            "Epoch 35/100\n",
            "85/85 [==============================] - 43s 507ms/step - loss: 0.8542 - accuracy: 0.9907 - val_loss: 1.8858 - val_accuracy: 0.7389 - lr: 0.0010\n",
            "Epoch 36/100\n",
            "85/85 [==============================] - 43s 504ms/step - loss: 0.8398 - accuracy: 0.9866 - val_loss: 1.8006 - val_accuracy: 0.7626 - lr: 0.0010\n",
            "Epoch 37/100\n",
            "85/85 [==============================] - 43s 505ms/step - loss: 0.7940 - accuracy: 0.9903 - val_loss: 1.7708 - val_accuracy: 0.7641 - lr: 0.0010\n",
            "Epoch 38/100\n",
            "85/85 [==============================] - 43s 506ms/step - loss: 0.7609 - accuracy: 0.9889 - val_loss: 1.8719 - val_accuracy: 0.7344 - lr: 0.0010\n",
            "Epoch 39/100\n",
            "85/85 [==============================] - 43s 504ms/step - loss: 0.7398 - accuracy: 0.9889 - val_loss: 1.6894 - val_accuracy: 0.7582 - lr: 0.0010\n",
            "Epoch 40/100\n",
            "85/85 [==============================] - 43s 507ms/step - loss: 0.7379 - accuracy: 0.9822 - val_loss: 1.7079 - val_accuracy: 0.7567 - lr: 0.0010\n",
            "Epoch 41/100\n",
            "85/85 [==============================] - 43s 506ms/step - loss: 0.6787 - accuracy: 0.9892 - val_loss: 1.7250 - val_accuracy: 0.7552 - lr: 0.0010\n",
            "Epoch 42/100\n",
            "85/85 [==============================] - 43s 505ms/step - loss: 0.6628 - accuracy: 0.9896 - val_loss: 1.6691 - val_accuracy: 0.7567 - lr: 0.0010\n",
            "Epoch 43/100\n",
            "85/85 [==============================] - 43s 507ms/step - loss: 0.6431 - accuracy: 0.9851 - val_loss: 1.6487 - val_accuracy: 0.7567 - lr: 0.0010\n",
            "Epoch 44/100\n",
            "85/85 [==============================] - 43s 508ms/step - loss: 0.5989 - accuracy: 0.9907 - val_loss: 1.6061 - val_accuracy: 0.7671 - lr: 0.0010\n",
            "Epoch 45/100\n",
            "85/85 [==============================] - 43s 507ms/step - loss: 0.5918 - accuracy: 0.9870 - val_loss: 1.6424 - val_accuracy: 0.7433 - lr: 0.0010\n",
            "Epoch 46/100\n",
            "85/85 [==============================] - 43s 509ms/step - loss: 0.5549 - accuracy: 0.9903 - val_loss: 1.5968 - val_accuracy: 0.7478 - lr: 0.0010\n",
            "Epoch 47/100\n",
            "85/85 [==============================] - 43s 507ms/step - loss: 0.5282 - accuracy: 0.9903 - val_loss: 1.5796 - val_accuracy: 0.7611 - lr: 0.0010\n",
            "Epoch 48/100\n",
            "85/85 [==============================] - 43s 507ms/step - loss: 0.5752 - accuracy: 0.9848 - val_loss: 1.6853 - val_accuracy: 0.7329 - lr: 0.0010\n",
            "Epoch 49/100\n",
            "85/85 [==============================] - 43s 507ms/step - loss: 0.5044 - accuracy: 0.9866 - val_loss: 1.6650 - val_accuracy: 0.7285 - lr: 0.0010\n",
            "Epoch 50/100\n",
            "85/85 [==============================] - 43s 508ms/step - loss: 0.4679 - accuracy: 0.9918 - val_loss: 1.5881 - val_accuracy: 0.7374 - lr: 0.0010\n",
            "Epoch 51/100\n",
            "85/85 [==============================] - 43s 508ms/step - loss: 0.4742 - accuracy: 0.9885 - val_loss: 1.5206 - val_accuracy: 0.7493 - lr: 0.0010\n",
            "Epoch 52/100\n",
            "85/85 [==============================] - 43s 506ms/step - loss: 0.4458 - accuracy: 0.9918 - val_loss: 1.4801 - val_accuracy: 0.7596 - lr: 0.0010\n",
            "Epoch 53/100\n",
            "85/85 [==============================] - 43s 505ms/step - loss: 0.4250 - accuracy: 0.9915 - val_loss: 1.5168 - val_accuracy: 0.7567 - lr: 0.0010\n",
            "Epoch 54/100\n",
            "85/85 [==============================] - 43s 507ms/step - loss: 0.4389 - accuracy: 0.9896 - val_loss: 1.4848 - val_accuracy: 0.7448 - lr: 0.0010\n",
            "Epoch 55/100\n",
            "85/85 [==============================] - 43s 507ms/step - loss: 0.4110 - accuracy: 0.9877 - val_loss: 1.4226 - val_accuracy: 0.7611 - lr: 0.0010\n",
            "Epoch 56/100\n",
            "85/85 [==============================] - 43s 505ms/step - loss: 0.4026 - accuracy: 0.9863 - val_loss: 1.3493 - val_accuracy: 0.7730 - lr: 0.0010\n",
            "Epoch 57/100\n",
            "85/85 [==============================] - 43s 509ms/step - loss: 0.3762 - accuracy: 0.9929 - val_loss: 1.3394 - val_accuracy: 0.7552 - lr: 0.0010\n",
            "Epoch 58/100\n",
            "85/85 [==============================] - 43s 506ms/step - loss: 0.3760 - accuracy: 0.9896 - val_loss: 1.3659 - val_accuracy: 0.7507 - lr: 0.0010\n",
            "Epoch 59/100\n",
            "85/85 [==============================] - 43s 508ms/step - loss: 0.3824 - accuracy: 0.9892 - val_loss: 1.3760 - val_accuracy: 0.7463 - lr: 0.0010\n",
            "Epoch 60/100\n",
            "85/85 [==============================] - 43s 509ms/step - loss: 0.3331 - accuracy: 0.9929 - val_loss: 1.3355 - val_accuracy: 0.7567 - lr: 0.0010\n",
            "Epoch 61/100\n",
            "85/85 [==============================] - 43s 505ms/step - loss: 0.3289 - accuracy: 0.9929 - val_loss: 1.4506 - val_accuracy: 0.7418 - lr: 0.0010\n",
            "Epoch 62/100\n",
            "85/85 [==============================] - 43s 509ms/step - loss: 0.3621 - accuracy: 0.9885 - val_loss: 1.3300 - val_accuracy: 0.7656 - lr: 0.0010\n",
            "Epoch 63/100\n",
            "85/85 [==============================] - 43s 510ms/step - loss: 0.3012 - accuracy: 0.9915 - val_loss: 1.3206 - val_accuracy: 0.7700 - lr: 0.0010\n",
            "Epoch 64/100\n",
            "85/85 [==============================] - 43s 504ms/step - loss: 0.2949 - accuracy: 0.9915 - val_loss: 1.3975 - val_accuracy: 0.7626 - lr: 0.0010\n",
            "Epoch 65/100\n",
            "85/85 [==============================] - 43s 509ms/step - loss: 0.2804 - accuracy: 0.9937 - val_loss: 1.2453 - val_accuracy: 0.7864 - lr: 0.0010\n",
            "Epoch 66/100\n",
            "85/85 [==============================] - 43s 507ms/step - loss: 0.2677 - accuracy: 0.9937 - val_loss: 1.3806 - val_accuracy: 0.7567 - lr: 0.0010\n",
            "Epoch 67/100\n",
            "85/85 [==============================] - 43s 507ms/step - loss: 0.2885 - accuracy: 0.9896 - val_loss: 1.3087 - val_accuracy: 0.7522 - lr: 0.0010\n",
            "Epoch 68/100\n",
            "85/85 [==============================] - 43s 506ms/step - loss: 0.2781 - accuracy: 0.9918 - val_loss: 1.3700 - val_accuracy: 0.7448 - lr: 0.0010\n",
            "Epoch 69/100\n",
            "85/85 [==============================] - 43s 510ms/step - loss: 0.2675 - accuracy: 0.9941 - val_loss: 1.2367 - val_accuracy: 0.7596 - lr: 0.0010\n",
            "Epoch 70/100\n",
            "85/85 [==============================] - 43s 507ms/step - loss: 0.2453 - accuracy: 0.9929 - val_loss: 1.2129 - val_accuracy: 0.7685 - lr: 0.0010\n",
            "Epoch 71/100\n",
            "85/85 [==============================] - 43s 504ms/step - loss: 0.2336 - accuracy: 0.9922 - val_loss: 1.2189 - val_accuracy: 0.7596 - lr: 0.0010\n",
            "Epoch 72/100\n",
            "85/85 [==============================] - 43s 507ms/step - loss: 0.2385 - accuracy: 0.9922 - val_loss: 1.3509 - val_accuracy: 0.7478 - lr: 0.0010\n",
            "Epoch 73/100\n",
            "85/85 [==============================] - 43s 507ms/step - loss: 0.2385 - accuracy: 0.9911 - val_loss: 1.3584 - val_accuracy: 0.7552 - lr: 0.0010\n",
            "Epoch 74/100\n",
            "85/85 [==============================] - 43s 505ms/step - loss: 0.2167 - accuracy: 0.9937 - val_loss: 1.2369 - val_accuracy: 0.7656 - lr: 0.0010\n",
            "Epoch 75/100\n",
            "85/85 [==============================] - ETA: 0s - loss: 0.2237 - accuracy: 0.9929\n",
            "Epoch 75: ReduceLROnPlateau reducing learning rate to 0.00010000000474974513.\n",
            "85/85 [==============================] - 43s 507ms/step - loss: 0.2237 - accuracy: 0.9929 - val_loss: 1.3627 - val_accuracy: 0.7537 - lr: 0.0010\n",
            "Epoch 76/100\n",
            "85/85 [==============================] - 43s 506ms/step - loss: 0.2151 - accuracy: 0.9933 - val_loss: 1.3445 - val_accuracy: 0.7611 - lr: 1.0000e-04\n",
            "Epoch 77/100\n",
            "85/85 [==============================] - 43s 508ms/step - loss: 0.1971 - accuracy: 0.9941 - val_loss: 1.3391 - val_accuracy: 0.7537 - lr: 1.0000e-04\n",
            "Epoch 78/100\n",
            "85/85 [==============================] - 43s 510ms/step - loss: 0.1970 - accuracy: 0.9963 - val_loss: 1.3500 - val_accuracy: 0.7507 - lr: 1.0000e-04\n",
            "Epoch 79/100\n",
            "85/85 [==============================] - 43s 508ms/step - loss: 0.2023 - accuracy: 0.9955 - val_loss: 1.3447 - val_accuracy: 0.7611 - lr: 1.0000e-04\n",
            "Epoch 80/100\n",
            "85/85 [==============================] - ETA: 0s - loss: 0.1954 - accuracy: 0.9948Restoring model weights from the end of the best epoch: 70.\n",
            "\n",
            "Epoch 80: ReduceLROnPlateau reducing learning rate to 1.0000000474974514e-05.\n",
            "85/85 [==============================] - 43s 509ms/step - loss: 0.1954 - accuracy: 0.9948 - val_loss: 1.3246 - val_accuracy: 0.7596 - lr: 1.0000e-04\n",
            "Epoch 80: early stopping\n"
          ]
        }
      ]
    },
    {
      "cell_type": "code",
      "source": [
        "model.save('/content/')"
      ],
      "metadata": {
        "colab": {
          "base_uri": "https://localhost:8080/"
        },
        "id": "fOGSewMSw54-",
        "outputId": "82502b7d-9aee-4c76-d8b5-fbb768fb6189"
      },
      "execution_count": 15,
      "outputs": [
        {
          "output_type": "stream",
          "name": "stdout",
          "text": [
            "INFO:tensorflow:Assets written to: /content/assets\n"
          ]
        }
      ]
    },
    {
      "cell_type": "code",
      "source": [
        "histories['EfficientNetB1'] = history"
      ],
      "metadata": {
        "id": "q4aGJNPA0lmm"
      },
      "execution_count": 16,
      "outputs": []
    },
    {
      "cell_type": "code",
      "source": [
        "plt.figure(figsize=(45,15))\n",
        "plt.subplot(2,4,1)\n",
        "plotter = tfdocs.plots.HistoryPlotter(metric = 'accuracy', smoothing_std=10)\n",
        "plotter.plot(histories)\n",
        "plt.title(\"Learning Curve - Accuracy\") \n",
        "plt.ylim([0, 1])\n",
        "plt.subplot(2,4,2)\n",
        "plotter = tfdocs.plots.HistoryPlotter(metric = 'loss', smoothing_std=10)\n",
        "plotter.plot(histories)\n",
        "plt.title(\"Learning Curve - Loss\") \n",
        "plt.ylim([0, 20])"
      ],
      "metadata": {
        "colab": {
          "base_uri": "https://localhost:8080/",
          "height": 467
        },
        "id": "_s6Yv2-c2ZCs",
        "outputId": "6448d076-3cbb-4f7c-874e-473995dbefaa"
      },
      "execution_count": 17,
      "outputs": [
        {
          "output_type": "execute_result",
          "data": {
            "text/plain": [
              "(0.0, 20.0)"
            ]
          },
          "metadata": {},
          "execution_count": 17
        },
        {
          "output_type": "display_data",
          "data": {
            "text/plain": [
              "<Figure size 3240x1080 with 2 Axes>"
            ],
            "image/png": "[encoded data removed]"
          },
          "metadata": {
            "needs_background": "light"
          }
        }
      ]
    },
    {
      "cell_type": "code",
      "source": [
        "pred=model.predict([X_test1, X_test2])\n",
        "y_pred=[]\n",
        "for p in pred:\n",
        "  pred_index=np.argmax(p)\n",
        "  y_pred.append(pred_index)\n",
        "y_ture=[]\n",
        "for p in y_test:\n",
        "  pred_index=np.argmax(p)\n",
        "  y_ture.append(pred_index)\n",
        "y_true = np.array(y_ture)\n",
        "y_pred = np.array(y_pred)"
      ],
      "metadata": {
        "id": "nnQPXQEeUIb6"
      },
      "execution_count": 18,
      "outputs": []
    },
    {
      "cell_type": "code",
      "source": [
        "cm = confusion_matrix(y_true, y_pred)\n",
        "sns.heatmap(cm, annot=True, vmin=0, fmt='g', cmap='Blues', cbar=False)\n",
        "plt.xticks(np.arange(7)+0.5, labels, rotation= 90)\n",
        "plt.yticks(np.arange(7)+0.5, labels, rotation=0)\n",
        "plt.xlabel(\"Predicted\")\n",
        "plt.ylabel(\"Actual\")\n",
        "plt.title(\"Confusion Matrix\")"
      ],
      "metadata": {
        "id": "WSwN2rcHUYtS",
        "colab": {
          "base_uri": "https://localhost:8080/",
          "height": 330
        },
        "outputId": "08292624-7986-4fb8-99a9-6c0301ef98f5"
      },
      "execution_count": 19,
      "outputs": [
        {
          "output_type": "execute_result",
          "data": {
            "text/plain": [
              "Text(0.5, 1.0, 'Confusion Matrix')"
            ]
          },
          "metadata": {},
          "execution_count": 19
        },
        {
          "output_type": "display_data",
          "data": {
            "text/plain": [
              "<Figure size 432x288 with 1 Axes>"
            ],
            "image/png": "[encoded data removed]"
          },
          "metadata": {
            "needs_background": "light"
          }
        }
      ]
    },
    {
      "cell_type": "code",
      "source": [
        "clr = classification_report(y_true, y_pred, target_names=labels)\n",
        "print(\"Classification Report:\")\n",
        "print(\"=====================================================\")\n",
        "print(clr)"
      ],
      "metadata": {
        "id": "kTr4sRdld1uf",
        "colab": {
          "base_uri": "https://localhost:8080/"
        },
        "outputId": "57f144d8-df86-439b-f2a6-2a44b478e93d"
      },
      "execution_count": 20,
      "outputs": [
        {
          "output_type": "stream",
          "name": "stdout",
          "text": [
            "Classification Report:\n",
            "=====================================================\n",
            "              precision    recall  f1-score   support\n",
            "\n",
            "       akiec       0.68      0.73      0.70       102\n",
            "         bcc       0.83      0.75      0.79       169\n",
            "         bkl       0.79      0.75      0.77       340\n",
            "          df       0.49      0.74      0.59        31\n",
            "         mel       0.71      0.72      0.71       299\n",
            "          nv       0.84      0.85      0.85       454\n",
            "        vasc       0.81      0.88      0.84        48\n",
            "\n",
            "    accuracy                           0.78      1443\n",
            "   macro avg       0.74      0.77      0.75      1443\n",
            "weighted avg       0.78      0.78      0.78      1443\n",
            "\n"
          ]
        }
      ]
    },
    {
      "cell_type": "code",
      "source": [
        "model.evaluate([X_test1, X_test2], y_test)"
      ],
      "metadata": {
        "colab": {
          "base_uri": "https://localhost:8080/"
        },
        "id": "eBQEFHXfUcM9",
        "outputId": "42846690-41fb-49a2-c8d3-696c83f5ab90"
      },
      "execution_count": 21,
      "outputs": [
        {
          "output_type": "stream",
          "name": "stdout",
          "text": [
            "46/46 [==============================] - 5s 97ms/step - loss: 1.2806 - accuracy: 0.7775\n"
          ]
        },
        {
          "output_type": "execute_result",
          "data": {
            "text/plain": [
              "[1.2806307077407837, 0.777546763420105]"
            ]
          },
          "metadata": {},
          "execution_count": 21
        }
      ]
    },
    {
      "cell_type": "code",
      "source": [
        "from google.colab import files\n",
        "files.download('/content/variables/variables.data-00000-of-00001') "
      ],
      "metadata": {
        "id": "c54HXISvsIkK",
        "colab": {
          "base_uri": "https://localhost:8080/",
          "height": 17
        },
        "outputId": "28df0a15-a66f-4b97-e5e9-879f13b1bd53"
      },
      "execution_count": 23,
      "outputs": [
        {
          "output_type": "display_data",
          "data": {
            "text/plain": [
              "<IPython.core.display.Javascript object>"
            ],
            "application/javascript": [
              "\n",
              "    async function download(id, filename, size) {\n",
              "      if (!google.colab.kernel.accessAllowed) {\n",
              "        return;\n",
              "      }\n",
              "      const div = document.createElement('div');\n",
              "      const label = document.createElement('label');\n",
              "      label.textContent = `Downloading \"${filename}\": `;\n",
              "      div.appendChild(label);\n",
              "      const progress = document.createElement('progress');\n",
              "      progress.max = size;\n",
              "      div.appendChild(progress);\n",
              "      document.body.appendChild(div);\n",
              "\n",
              "      const buffers = [];\n",
              "      let downloaded = 0;\n",
              "\n",
              "      const channel = await google.colab.kernel.comms.open(id);\n",
              "      // Send a message to notify the kernel that we're ready.\n",
              "      channel.send({})\n",
              "\n",
              "      for await (const message of channel.messages) {\n",
              "        // Send a message to notify the kernel that we're ready.\n",
              "        channel.send({})\n",
              "        if (message.buffers) {\n",
              "          for (const buffer of message.buffers) {\n",
              "            buffers.push(buffer);\n",
              "            downloaded += buffer.byteLength;\n",
              "            progress.value = downloaded;\n",
              "          }\n",
              "        }\n",
              "      }\n",
              "      const blob = new Blob(buffers, {type: 'application/binary'});\n",
              "      const a = document.createElement('a');\n",
              "      a.href = window.URL.createObjectURL(blob);\n",
              "      a.download = filename;\n",
              "      div.appendChild(a);\n",
              "      a.click();\n",
              "      div.remove();\n",
              "    }\n",
              "  "
            ]
          },
          "metadata": {}
        },
        {
          "output_type": "display_data",
          "data": {
            "text/plain": [
              "<IPython.core.display.Javascript object>"
            ],
            "application/javascript": [
              "download(\"download_99c29d62-4362-42dd-bf39-d17cecdaad90\", \"variables.data-00000-of-00001\", 83686956)"
            ]
          },
          "metadata": {}
        }
      ]
    }
  ]
}